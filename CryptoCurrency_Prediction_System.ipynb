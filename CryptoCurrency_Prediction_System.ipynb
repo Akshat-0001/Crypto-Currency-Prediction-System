{
  "nbformat": 4,
  "nbformat_minor": 0,
  "metadata": {
    "colab": {
      "provenance": [],
      "authorship_tag": "ABX9TyPY2bNaXs9r128Mi7yuix1F",
      "include_colab_link": true
    },
    "kernelspec": {
      "name": "python3",
      "display_name": "Python 3"
    },
    "language_info": {
      "name": "python"
    }
  },
  "cells": [
    {
      "cell_type": "markdown",
      "metadata": {
        "id": "view-in-github",
        "colab_type": "text"
      },
      "source": [
        "<a href=\"https://colab.research.google.com/github/Akshat-0001/Crypto-Currency-Prediction-System/blob/main/CryptoCurrency_Prediction_System.ipynb\" target=\"_parent\"><img src=\"https://colab.research.google.com/assets/colab-badge.svg\" alt=\"Open In Colab\"/></a>"
      ]
    },
    {
      "cell_type": "code",
      "execution_count": null,
      "metadata": {
        "colab": {
          "base_uri": "https://localhost:8080/"
        },
        "id": "r0UUPKJhVuug",
        "outputId": "251759b6-a16c-4ee1-f4c5-af7c3b819262"
      },
      "outputs": [
        {
          "output_type": "stream",
          "name": "stdout",
          "text": [
            "        Date          Open          High           Low         Close  \\\n",
            "0 2022-12-28  16716.400391  16768.169922  16497.556641  16552.572266   \n",
            "1 2022-12-29  16552.322266  16651.755859  16508.683594  16642.341797   \n",
            "2 2022-12-30  16641.330078  16643.427734  16408.474609  16602.585938   \n",
            "3 2022-12-31  16603.673828  16628.986328  16517.519531  16547.496094   \n",
            "4 2023-01-01  16547.914062  16630.439453  16521.234375  16625.080078   \n",
            "\n",
            "      Adj Close       Volume  \n",
            "0  16552.572266  17005713920  \n",
            "1  16642.341797  14472237479  \n",
            "2  16602.585938  15929162910  \n",
            "3  16547.496094  11239186456  \n",
            "4  16625.080078   9244361700  \n"
          ]
        }
      ],
      "source": [
        "import pandas as pd\n",
        "import yfinance as yf\n",
        "import datetime\n",
        "from datetime import date, timedelta\n",
        "today = date.today()\n",
        "\n",
        "d1 = today.strftime(\"%Y-%m-%d\")\n",
        "end_date = d1\n",
        "d2 = date.today() - timedelta(days=15)\n",
        "d2 = d2.strftime(\"%Y-%m-%d\")\n",
        "start_date = d2\n",
        "\n",
        "data = yf.download('BTC-USD', \n",
        "                      start=start_date, \n",
        "                      end=end_date, \n",
        "                      progress=False)\n",
        "data[\"Date\"] = data.index\n",
        "data = data[[\"Date\", \"Open\", \"High\", \"Low\", \"Close\", \"Adj Close\", \"Volume\"]]\n",
        "data.reset_index(drop=True, inplace=True)\n",
        "print(data.head())"
      ]
    },
    {
      "cell_type": "code",
      "source": [
        "data.shape"
      ],
      "metadata": {
        "colab": {
          "base_uri": "https://localhost:8080/"
        },
        "id": "P_d6mR8nWQ2j",
        "outputId": "a59672f3-e817-444b-af15-7a7913280c50"
      },
      "execution_count": null,
      "outputs": [
        {
          "output_type": "execute_result",
          "data": {
            "text/plain": [
              "(15, 7)"
            ]
          },
          "metadata": {},
          "execution_count": 2
        }
      ]
    },
    {
      "cell_type": "code",
      "source": [
        "import plotly.graph_objects as go\n",
        "figure = go.Figure(data=[go.Candlestick(x=data[\"Date\"],\n",
        "                                        open=data[\"Open\"], \n",
        "                                        high=data[\"High\"],\n",
        "                                        low=data[\"Low\"], \n",
        "                                        close=data[\"Close\"])])\n",
        "figure.update_layout(title = \"Bitcoin Price Analysis\", \n",
        "                     xaxis_rangeslider_visible=False)\n",
        "figure.show()"
      ],
      "metadata": {
        "colab": {
          "base_uri": "https://localhost:8080/",
          "height": 542
        },
        "id": "Gz9h8Ro-WQ9P",
        "outputId": "3973f886-8dcb-4994-c7e3-26b36d514990"
      },
      "execution_count": null,
      "outputs": [
        {
          "output_type": "display_data",
          "data": {
            "text/html": [
              "<html>\n",
              "<head><meta charset=\"utf-8\" /></head>\n",
              "<body>\n",
              "    <div>            <script src=\"https://cdnjs.cloudflare.com/ajax/libs/mathjax/2.7.5/MathJax.js?config=TeX-AMS-MML_SVG\"></script><script type=\"text/javascript\">if (window.MathJax) {MathJax.Hub.Config({SVG: {font: \"STIX-Web\"}});}</script>                <script type=\"text/javascript\">window.PlotlyConfig = {MathJaxConfig: 'local'};</script>\n",
              "        <script src=\"https://cdn.plot.ly/plotly-2.8.3.min.js\"></script>                <div id=\"5e1b0ed7-0b6d-44b7-abf0-5b60af27207a\" class=\"plotly-graph-div\" style=\"height:525px; width:100%;\"></div>            <script type=\"text/javascript\">                                    window.PLOTLYENV=window.PLOTLYENV || {};                                    if (document.getElementById(\"5e1b0ed7-0b6d-44b7-abf0-5b60af27207a\")) {                    Plotly.newPlot(                        \"5e1b0ed7-0b6d-44b7-abf0-5b60af27207a\",                        [{\"close\":[16552.572265625,16642.341796875,16602.5859375,16547.49609375,16625.080078125,16688.470703125,16679.857421875,16863.23828125,16836.736328125,16951.96875,16955.078125,17091.14453125,17196.5546875,17446.29296875,17934.896484375],\"high\":[16768.169921875,16651.755859375,16643.427734375,16628.986328125,16630.439453125,16759.34375,16760.447265625,16964.5859375,16884.021484375,16991.994140625,16975.017578125,17091.14453125,17389.95703125,17484.720703125,17934.896484375],\"low\":[16497.556640625,16508.68359375,16408.474609375,16517.51953125,16521.234375,16572.228515625,16622.37109375,16667.763671875,16790.283203125,16716.421875,16914.19140625,16924.05078125,17093.9921875,17162.990234375,17337.994140625],\"open\":[16716.400390625,16552.322265625,16641.330078125,16603.673828125,16547.9140625,16625.509765625,16688.84765625,16680.205078125,16863.47265625,16836.47265625,16952.1171875,16954.146484375,17093.9921875,17192.94921875,17446.359375],\"x\":[\"2022-12-28T00:00:00\",\"2022-12-29T00:00:00\",\"2022-12-30T00:00:00\",\"2022-12-31T00:00:00\",\"2023-01-01T00:00:00\",\"2023-01-02T00:00:00\",\"2023-01-03T00:00:00\",\"2023-01-04T00:00:00\",\"2023-01-05T00:00:00\",\"2023-01-06T00:00:00\",\"2023-01-07T00:00:00\",\"2023-01-08T00:00:00\",\"2023-01-09T00:00:00\",\"2023-01-10T00:00:00\",\"2023-01-11T00:00:00\"],\"type\":\"candlestick\"}],                        {\"template\":{\"data\":{\"bar\":[{\"error_x\":{\"color\":\"#2a3f5f\"},\"error_y\":{\"color\":\"#2a3f5f\"},\"marker\":{\"line\":{\"color\":\"#E5ECF6\",\"width\":0.5},\"pattern\":{\"fillmode\":\"overlay\",\"size\":10,\"solidity\":0.2}},\"type\":\"bar\"}],\"barpolar\":[{\"marker\":{\"line\":{\"color\":\"#E5ECF6\",\"width\":0.5},\"pattern\":{\"fillmode\":\"overlay\",\"size\":10,\"solidity\":0.2}},\"type\":\"barpolar\"}],\"carpet\":[{\"aaxis\":{\"endlinecolor\":\"#2a3f5f\",\"gridcolor\":\"white\",\"linecolor\":\"white\",\"minorgridcolor\":\"white\",\"startlinecolor\":\"#2a3f5f\"},\"baxis\":{\"endlinecolor\":\"#2a3f5f\",\"gridcolor\":\"white\",\"linecolor\":\"white\",\"minorgridcolor\":\"white\",\"startlinecolor\":\"#2a3f5f\"},\"type\":\"carpet\"}],\"choropleth\":[{\"colorbar\":{\"outlinewidth\":0,\"ticks\":\"\"},\"type\":\"choropleth\"}],\"contour\":[{\"colorbar\":{\"outlinewidth\":0,\"ticks\":\"\"},\"colorscale\":[[0.0,\"#0d0887\"],[0.1111111111111111,\"#46039f\"],[0.2222222222222222,\"#7201a8\"],[0.3333333333333333,\"#9c179e\"],[0.4444444444444444,\"#bd3786\"],[0.5555555555555556,\"#d8576b\"],[0.6666666666666666,\"#ed7953\"],[0.7777777777777778,\"#fb9f3a\"],[0.8888888888888888,\"#fdca26\"],[1.0,\"#f0f921\"]],\"type\":\"contour\"}],\"contourcarpet\":[{\"colorbar\":{\"outlinewidth\":0,\"ticks\":\"\"},\"type\":\"contourcarpet\"}],\"heatmap\":[{\"colorbar\":{\"outlinewidth\":0,\"ticks\":\"\"},\"colorscale\":[[0.0,\"#0d0887\"],[0.1111111111111111,\"#46039f\"],[0.2222222222222222,\"#7201a8\"],[0.3333333333333333,\"#9c179e\"],[0.4444444444444444,\"#bd3786\"],[0.5555555555555556,\"#d8576b\"],[0.6666666666666666,\"#ed7953\"],[0.7777777777777778,\"#fb9f3a\"],[0.8888888888888888,\"#fdca26\"],[1.0,\"#f0f921\"]],\"type\":\"heatmap\"}],\"heatmapgl\":[{\"colorbar\":{\"outlinewidth\":0,\"ticks\":\"\"},\"colorscale\":[[0.0,\"#0d0887\"],[0.1111111111111111,\"#46039f\"],[0.2222222222222222,\"#7201a8\"],[0.3333333333333333,\"#9c179e\"],[0.4444444444444444,\"#bd3786\"],[0.5555555555555556,\"#d8576b\"],[0.6666666666666666,\"#ed7953\"],[0.7777777777777778,\"#fb9f3a\"],[0.8888888888888888,\"#fdca26\"],[1.0,\"#f0f921\"]],\"type\":\"heatmapgl\"}],\"histogram\":[{\"marker\":{\"pattern\":{\"fillmode\":\"overlay\",\"size\":10,\"solidity\":0.2}},\"type\":\"histogram\"}],\"histogram2d\":[{\"colorbar\":{\"outlinewidth\":0,\"ticks\":\"\"},\"colorscale\":[[0.0,\"#0d0887\"],[0.1111111111111111,\"#46039f\"],[0.2222222222222222,\"#7201a8\"],[0.3333333333333333,\"#9c179e\"],[0.4444444444444444,\"#bd3786\"],[0.5555555555555556,\"#d8576b\"],[0.6666666666666666,\"#ed7953\"],[0.7777777777777778,\"#fb9f3a\"],[0.8888888888888888,\"#fdca26\"],[1.0,\"#f0f921\"]],\"type\":\"histogram2d\"}],\"histogram2dcontour\":[{\"colorbar\":{\"outlinewidth\":0,\"ticks\":\"\"},\"colorscale\":[[0.0,\"#0d0887\"],[0.1111111111111111,\"#46039f\"],[0.2222222222222222,\"#7201a8\"],[0.3333333333333333,\"#9c179e\"],[0.4444444444444444,\"#bd3786\"],[0.5555555555555556,\"#d8576b\"],[0.6666666666666666,\"#ed7953\"],[0.7777777777777778,\"#fb9f3a\"],[0.8888888888888888,\"#fdca26\"],[1.0,\"#f0f921\"]],\"type\":\"histogram2dcontour\"}],\"mesh3d\":[{\"colorbar\":{\"outlinewidth\":0,\"ticks\":\"\"},\"type\":\"mesh3d\"}],\"parcoords\":[{\"line\":{\"colorbar\":{\"outlinewidth\":0,\"ticks\":\"\"}},\"type\":\"parcoords\"}],\"pie\":[{\"automargin\":true,\"type\":\"pie\"}],\"scatter\":[{\"marker\":{\"colorbar\":{\"outlinewidth\":0,\"ticks\":\"\"}},\"type\":\"scatter\"}],\"scatter3d\":[{\"line\":{\"colorbar\":{\"outlinewidth\":0,\"ticks\":\"\"}},\"marker\":{\"colorbar\":{\"outlinewidth\":0,\"ticks\":\"\"}},\"type\":\"scatter3d\"}],\"scattercarpet\":[{\"marker\":{\"colorbar\":{\"outlinewidth\":0,\"ticks\":\"\"}},\"type\":\"scattercarpet\"}],\"scattergeo\":[{\"marker\":{\"colorbar\":{\"outlinewidth\":0,\"ticks\":\"\"}},\"type\":\"scattergeo\"}],\"scattergl\":[{\"marker\":{\"colorbar\":{\"outlinewidth\":0,\"ticks\":\"\"}},\"type\":\"scattergl\"}],\"scattermapbox\":[{\"marker\":{\"colorbar\":{\"outlinewidth\":0,\"ticks\":\"\"}},\"type\":\"scattermapbox\"}],\"scatterpolar\":[{\"marker\":{\"colorbar\":{\"outlinewidth\":0,\"ticks\":\"\"}},\"type\":\"scatterpolar\"}],\"scatterpolargl\":[{\"marker\":{\"colorbar\":{\"outlinewidth\":0,\"ticks\":\"\"}},\"type\":\"scatterpolargl\"}],\"scatterternary\":[{\"marker\":{\"colorbar\":{\"outlinewidth\":0,\"ticks\":\"\"}},\"type\":\"scatterternary\"}],\"surface\":[{\"colorbar\":{\"outlinewidth\":0,\"ticks\":\"\"},\"colorscale\":[[0.0,\"#0d0887\"],[0.1111111111111111,\"#46039f\"],[0.2222222222222222,\"#7201a8\"],[0.3333333333333333,\"#9c179e\"],[0.4444444444444444,\"#bd3786\"],[0.5555555555555556,\"#d8576b\"],[0.6666666666666666,\"#ed7953\"],[0.7777777777777778,\"#fb9f3a\"],[0.8888888888888888,\"#fdca26\"],[1.0,\"#f0f921\"]],\"type\":\"surface\"}],\"table\":[{\"cells\":{\"fill\":{\"color\":\"#EBF0F8\"},\"line\":{\"color\":\"white\"}},\"header\":{\"fill\":{\"color\":\"#C8D4E3\"},\"line\":{\"color\":\"white\"}},\"type\":\"table\"}]},\"layout\":{\"annotationdefaults\":{\"arrowcolor\":\"#2a3f5f\",\"arrowhead\":0,\"arrowwidth\":1},\"autotypenumbers\":\"strict\",\"coloraxis\":{\"colorbar\":{\"outlinewidth\":0,\"ticks\":\"\"}},\"colorscale\":{\"diverging\":[[0,\"#8e0152\"],[0.1,\"#c51b7d\"],[0.2,\"#de77ae\"],[0.3,\"#f1b6da\"],[0.4,\"#fde0ef\"],[0.5,\"#f7f7f7\"],[0.6,\"#e6f5d0\"],[0.7,\"#b8e186\"],[0.8,\"#7fbc41\"],[0.9,\"#4d9221\"],[1,\"#276419\"]],\"sequential\":[[0.0,\"#0d0887\"],[0.1111111111111111,\"#46039f\"],[0.2222222222222222,\"#7201a8\"],[0.3333333333333333,\"#9c179e\"],[0.4444444444444444,\"#bd3786\"],[0.5555555555555556,\"#d8576b\"],[0.6666666666666666,\"#ed7953\"],[0.7777777777777778,\"#fb9f3a\"],[0.8888888888888888,\"#fdca26\"],[1.0,\"#f0f921\"]],\"sequentialminus\":[[0.0,\"#0d0887\"],[0.1111111111111111,\"#46039f\"],[0.2222222222222222,\"#7201a8\"],[0.3333333333333333,\"#9c179e\"],[0.4444444444444444,\"#bd3786\"],[0.5555555555555556,\"#d8576b\"],[0.6666666666666666,\"#ed7953\"],[0.7777777777777778,\"#fb9f3a\"],[0.8888888888888888,\"#fdca26\"],[1.0,\"#f0f921\"]]},\"colorway\":[\"#636efa\",\"#EF553B\",\"#00cc96\",\"#ab63fa\",\"#FFA15A\",\"#19d3f3\",\"#FF6692\",\"#B6E880\",\"#FF97FF\",\"#FECB52\"],\"font\":{\"color\":\"#2a3f5f\"},\"geo\":{\"bgcolor\":\"white\",\"lakecolor\":\"white\",\"landcolor\":\"#E5ECF6\",\"showlakes\":true,\"showland\":true,\"subunitcolor\":\"white\"},\"hoverlabel\":{\"align\":\"left\"},\"hovermode\":\"closest\",\"mapbox\":{\"style\":\"light\"},\"paper_bgcolor\":\"white\",\"plot_bgcolor\":\"#E5ECF6\",\"polar\":{\"angularaxis\":{\"gridcolor\":\"white\",\"linecolor\":\"white\",\"ticks\":\"\"},\"bgcolor\":\"#E5ECF6\",\"radialaxis\":{\"gridcolor\":\"white\",\"linecolor\":\"white\",\"ticks\":\"\"}},\"scene\":{\"xaxis\":{\"backgroundcolor\":\"#E5ECF6\",\"gridcolor\":\"white\",\"gridwidth\":2,\"linecolor\":\"white\",\"showbackground\":true,\"ticks\":\"\",\"zerolinecolor\":\"white\"},\"yaxis\":{\"backgroundcolor\":\"#E5ECF6\",\"gridcolor\":\"white\",\"gridwidth\":2,\"linecolor\":\"white\",\"showbackground\":true,\"ticks\":\"\",\"zerolinecolor\":\"white\"},\"zaxis\":{\"backgroundcolor\":\"#E5ECF6\",\"gridcolor\":\"white\",\"gridwidth\":2,\"linecolor\":\"white\",\"showbackground\":true,\"ticks\":\"\",\"zerolinecolor\":\"white\"}},\"shapedefaults\":{\"line\":{\"color\":\"#2a3f5f\"}},\"ternary\":{\"aaxis\":{\"gridcolor\":\"white\",\"linecolor\":\"white\",\"ticks\":\"\"},\"baxis\":{\"gridcolor\":\"white\",\"linecolor\":\"white\",\"ticks\":\"\"},\"bgcolor\":\"#E5ECF6\",\"caxis\":{\"gridcolor\":\"white\",\"linecolor\":\"white\",\"ticks\":\"\"}},\"title\":{\"x\":0.05},\"xaxis\":{\"automargin\":true,\"gridcolor\":\"white\",\"linecolor\":\"white\",\"ticks\":\"\",\"title\":{\"standoff\":15},\"zerolinecolor\":\"white\",\"zerolinewidth\":2},\"yaxis\":{\"automargin\":true,\"gridcolor\":\"white\",\"linecolor\":\"white\",\"ticks\":\"\",\"title\":{\"standoff\":15},\"zerolinecolor\":\"white\",\"zerolinewidth\":2}}},\"xaxis\":{\"rangeslider\":{\"visible\":false}},\"title\":{\"text\":\"Bitcoin Price Analysis\"}},                        {\"responsive\": true}                    ).then(function(){\n",
              "                            \n",
              "var gd = document.getElementById('5e1b0ed7-0b6d-44b7-abf0-5b60af27207a');\n",
              "var x = new MutationObserver(function (mutations, observer) {{\n",
              "        var display = window.getComputedStyle(gd).display;\n",
              "        if (!display || display === 'none') {{\n",
              "            console.log([gd, 'removed!']);\n",
              "            Plotly.purge(gd);\n",
              "            observer.disconnect();\n",
              "        }}\n",
              "}});\n",
              "\n",
              "// Listen for the removal of the full notebook cells\n",
              "var notebookContainer = gd.closest('#notebook-container');\n",
              "if (notebookContainer) {{\n",
              "    x.observe(notebookContainer, {childList: true});\n",
              "}}\n",
              "\n",
              "// Listen for the clearing of the current output cell\n",
              "var outputEl = gd.closest('.output');\n",
              "if (outputEl) {{\n",
              "    x.observe(outputEl, {childList: true});\n",
              "}}\n",
              "\n",
              "                        })                };                            </script>        </div>\n",
              "</body>\n",
              "</html>"
            ]
          },
          "metadata": {}
        }
      ]
    },
    {
      "cell_type": "code",
      "source": [
        "correlation = data.corr()\n",
        "print(correlation[\"Close\"].sort_values(ascending=False))"
      ],
      "metadata": {
        "colab": {
          "base_uri": "https://localhost:8080/"
        },
        "id": "1x3bdNw2WRAQ",
        "outputId": "64eea4fb-c37b-40eb-c4dc-21b92c4697de"
      },
      "execution_count": null,
      "outputs": [
        {
          "output_type": "stream",
          "name": "stdout",
          "text": [
            "Close        1.000000\n",
            "Adj Close    1.000000\n",
            "High         0.985414\n",
            "Open         0.958887\n",
            "Low          0.955583\n",
            "Volume       0.352109\n",
            "Name: Close, dtype: float64\n"
          ]
        }
      ]
    },
    {
      "cell_type": "code",
      "source": [
        "!pip install autots\n",
        "from autots import AutoTS\n",
        "model = AutoTS(forecast_length=1, frequency='infer', ensemble='simple')\n",
        "model = model.fit(data, date_col='Date', value_col='Close', id_col=None)\n",
        "prediction = model.predict()\n",
        "forecast = prediction.forecast\n",
        "print(forecast)"
      ],
      "metadata": {
        "colab": {
          "base_uri": "https://localhost:8080/"
        },
        "id": "Aq_PurHkWRCy",
        "outputId": "198f0bb8-9a27-4e14-db49-ca51ad2fb7b2"
      },
      "execution_count": null,
      "outputs": [
        {
          "output_type": "stream",
          "name": "stdout",
          "text": [
            "Looking in indexes: https://pypi.org/simple, https://us-python.pkg.dev/colab-wheels/public/simple/\n",
            "Requirement already satisfied: autots in /usr/local/lib/python3.8/dist-packages (0.5.3)\n",
            "Requirement already satisfied: numpy>=1.14.6 in /usr/local/lib/python3.8/dist-packages (from autots) (1.21.6)\n",
            "Requirement already satisfied: scikit-learn>=0.20.* in /usr/local/lib/python3.8/dist-packages (from autots) (1.0.2)\n",
            "Requirement already satisfied: pandas>=0.25.* in /usr/local/lib/python3.8/dist-packages (from autots) (1.3.5)\n",
            "Requirement already satisfied: statsmodels>=0.10.* in /usr/local/lib/python3.8/dist-packages (from autots) (0.12.2)\n",
            "Requirement already satisfied: python-dateutil>=2.7.3 in /usr/local/lib/python3.8/dist-packages (from pandas>=0.25.*->autots) (2.8.2)\n",
            "Requirement already satisfied: pytz>=2017.3 in /usr/local/lib/python3.8/dist-packages (from pandas>=0.25.*->autots) (2022.7)\n",
            "Requirement already satisfied: joblib>=0.11 in /usr/local/lib/python3.8/dist-packages (from scikit-learn>=0.20.*->autots) (1.2.0)\n",
            "Requirement already satisfied: scipy>=1.1.0 in /usr/local/lib/python3.8/dist-packages (from scikit-learn>=0.20.*->autots) (1.7.3)\n",
            "Requirement already satisfied: threadpoolctl>=2.0.0 in /usr/local/lib/python3.8/dist-packages (from scikit-learn>=0.20.*->autots) (3.1.0)\n",
            "Requirement already satisfied: patsy>=0.5 in /usr/local/lib/python3.8/dist-packages (from statsmodels>=0.10.*->autots) (0.5.3)\n",
            "Requirement already satisfied: six in /usr/local/lib/python3.8/dist-packages (from patsy>=0.5->statsmodels>=0.10.*->autots) (1.15.0)\n",
            "Inferred frequency is: D\n",
            "Model Number: 1 with model ARIMA in generation 0 of 10\n",
            "Model Number: 2 with model ARIMA in generation 0 of 10\n",
            "Model Number: 3 with model ARIMA in generation 0 of 10\n",
            "Model Number: 4 with model AverageValueNaive in generation 0 of 10\n",
            "Model Number: 5 with model AverageValueNaive in generation 0 of 10\n",
            "Model Number: 6 with model AverageValueNaive in generation 0 of 10\n",
            "Model Number: 7 with model DatepartRegression in generation 0 of 10\n",
            "Model Number: 8 with model DatepartRegression in generation 0 of 10\n",
            "Model Number: 9 with model DatepartRegression in generation 0 of 10\n"
          ]
        },
        {
          "output_type": "stream",
          "name": "stderr",
          "text": [
            "/usr/local/lib/python3.8/dist-packages/sklearn/svm/_base.py:1206: ConvergenceWarning:\n",
            "\n",
            "Liblinear failed to converge, increase the number of iterations.\n",
            "\n"
          ]
        },
        {
          "output_type": "stream",
          "name": "stdout",
          "text": [
            "Model Number: 10 with model DatepartRegression in generation 0 of 10\n",
            "Epoch 1/50\n",
            "1/1 [==============================] - 5s 5s/step - loss: 0.3480\n",
            "Epoch 2/50\n",
            "1/1 [==============================] - 0s 8ms/step - loss: 0.3367\n",
            "Epoch 3/50\n",
            "1/1 [==============================] - 0s 9ms/step - loss: 0.3344\n",
            "Epoch 4/50\n",
            "1/1 [==============================] - 0s 11ms/step - loss: 0.3361\n",
            "Epoch 5/50\n",
            "1/1 [==============================] - 0s 12ms/step - loss: 0.3340\n",
            "Epoch 6/50\n",
            "1/1 [==============================] - 0s 11ms/step - loss: 0.3334\n",
            "Epoch 7/50\n",
            "1/1 [==============================] - 0s 12ms/step - loss: 0.3224\n",
            "Epoch 8/50\n",
            "1/1 [==============================] - 0s 9ms/step - loss: 0.3164\n",
            "Epoch 9/50\n",
            "1/1 [==============================] - 0s 10ms/step - loss: 0.3147\n",
            "Epoch 10/50\n",
            "1/1 [==============================] - 0s 11ms/step - loss: 0.3230\n",
            "Epoch 11/50\n",
            "1/1 [==============================] - 0s 7ms/step - loss: 0.3162\n",
            "Epoch 12/50\n",
            "1/1 [==============================] - 0s 9ms/step - loss: 0.3143\n",
            "Epoch 13/50\n",
            "1/1 [==============================] - 0s 15ms/step - loss: 0.3115\n",
            "Epoch 14/50\n",
            "1/1 [==============================] - 0s 9ms/step - loss: 0.3000\n",
            "Epoch 15/50\n",
            "1/1 [==============================] - 0s 8ms/step - loss: 0.3032\n",
            "Epoch 16/50\n",
            "1/1 [==============================] - 0s 11ms/step - loss: 0.3032\n",
            "Epoch 17/50\n",
            "1/1 [==============================] - 0s 13ms/step - loss: 0.2962\n",
            "Epoch 18/50\n",
            "1/1 [==============================] - 0s 10ms/step - loss: 0.3008\n",
            "Epoch 19/50\n",
            "1/1 [==============================] - 0s 12ms/step - loss: 0.2863\n",
            "Epoch 20/50\n",
            "1/1 [==============================] - 0s 10ms/step - loss: 0.2792\n",
            "Epoch 21/50\n",
            "1/1 [==============================] - 0s 10ms/step - loss: 0.2903\n",
            "Epoch 22/50\n",
            "1/1 [==============================] - 0s 13ms/step - loss: 0.2873\n",
            "Epoch 23/50\n",
            "1/1 [==============================] - 0s 13ms/step - loss: 0.2673\n",
            "Epoch 24/50\n",
            "1/1 [==============================] - 0s 13ms/step - loss: 0.2788\n",
            "Epoch 25/50\n",
            "1/1 [==============================] - 0s 10ms/step - loss: 0.2571\n",
            "Epoch 26/50\n",
            "1/1 [==============================] - 0s 13ms/step - loss: 0.2666\n",
            "Epoch 27/50\n",
            "1/1 [==============================] - 0s 11ms/step - loss: 0.2643\n",
            "Epoch 28/50\n",
            "1/1 [==============================] - 0s 20ms/step - loss: 0.2653\n",
            "Epoch 29/50\n",
            "1/1 [==============================] - 0s 9ms/step - loss: 0.2570\n",
            "Epoch 30/50\n",
            "1/1 [==============================] - 0s 12ms/step - loss: 0.2804\n",
            "Epoch 31/50\n",
            "1/1 [==============================] - 0s 11ms/step - loss: 0.2666\n",
            "Epoch 32/50\n",
            "1/1 [==============================] - 0s 11ms/step - loss: 0.2589\n",
            "Epoch 33/50\n",
            "1/1 [==============================] - 0s 9ms/step - loss: 0.2389\n",
            "Epoch 34/50\n",
            "1/1 [==============================] - 0s 9ms/step - loss: 0.2407\n",
            "Epoch 35/50\n",
            "1/1 [==============================] - 0s 14ms/step - loss: 0.2374\n",
            "Epoch 36/50\n",
            "1/1 [==============================] - 0s 11ms/step - loss: 0.2441\n",
            "Epoch 37/50\n",
            "1/1 [==============================] - 0s 11ms/step - loss: 0.2644\n",
            "Epoch 38/50\n",
            "1/1 [==============================] - 0s 11ms/step - loss: 0.2241\n",
            "Epoch 39/50\n",
            "1/1 [==============================] - 0s 10ms/step - loss: 0.2490\n",
            "Epoch 40/50\n",
            "1/1 [==============================] - 0s 9ms/step - loss: 0.2282\n",
            "Epoch 41/50\n",
            "1/1 [==============================] - 0s 11ms/step - loss: 0.2229\n",
            "Epoch 42/50\n",
            "1/1 [==============================] - 0s 10ms/step - loss: 0.2310\n",
            "Epoch 43/50\n",
            "1/1 [==============================] - 0s 20ms/step - loss: 0.2589\n",
            "Epoch 44/50\n",
            "1/1 [==============================] - 0s 13ms/step - loss: 0.2592\n",
            "Epoch 45/50\n",
            "1/1 [==============================] - 0s 14ms/step - loss: 0.2369\n",
            "Epoch 46/50\n",
            "1/1 [==============================] - 0s 13ms/step - loss: 0.2281\n",
            "Epoch 47/50\n",
            "1/1 [==============================] - 0s 11ms/step - loss: 0.2244\n",
            "Epoch 48/50\n",
            "1/1 [==============================] - 0s 12ms/step - loss: 0.2176\n",
            "Epoch 49/50\n",
            "1/1 [==============================] - 0s 19ms/step - loss: 0.2404\n",
            "Epoch 50/50\n",
            "1/1 [==============================] - 0s 13ms/step - loss: 0.1957\n",
            "1/1 [==============================] - 1s 858ms/step\n",
            "Model Number: 11 with model ETS in generation 0 of 10\n",
            "Model Number: 12 with model ETS in generation 0 of 10\n",
            "Model Number: 13 with model GLM in generation 0 of 10\n",
            "Template Eval Error: PerfectSeparationError('Perfect separation detected, results not available') in model 13: GLM\n",
            "Model Number: 14 with model GLM in generation 0 of 10\n",
            "Model Number: 15 with model GLS in generation 0 of 10\n",
            "Model Number: 16 with model GLS in generation 0 of 10\n",
            "Model Number: 17 with model GluonTS in generation 0 of 10\n",
            "Template Eval Error: ImportError('GluonTS installation not found or installed version is incompatible with AutoTS.') in model 17: GluonTS\n",
            "Model Number: 18 with model GluonTS in generation 0 of 10\n",
            "Template Eval Error: ImportError('GluonTS installation not found or installed version is incompatible with AutoTS.') in model 18: GluonTS\n",
            "Model Number: 19 with model GluonTS in generation 0 of 10\n",
            "Template Eval Error: ImportError('GluonTS installation not found or installed version is incompatible with AutoTS.') in model 19: GluonTS\n",
            "Model Number: 20 with model GluonTS in generation 0 of 10\n",
            "Template Eval Error: ImportError('GluonTS installation not found or installed version is incompatible with AutoTS.') in model 20: GluonTS\n",
            "Model Number: 21 with model GluonTS in generation 0 of 10\n",
            "Template Eval Error: ImportError('GluonTS installation not found or installed version is incompatible with AutoTS.') in model 21: GluonTS\n",
            "Model Number: 22 with model LastValueNaive in generation 0 of 10\n",
            "Model Number: 23 with model LastValueNaive in generation 0 of 10\n",
            "Template Eval Error: Exception('Transformer SinTrend failed on fit') in model 23: LastValueNaive\n",
            "Model Number: 24 with model LastValueNaive in generation 0 of 10\n"
          ]
        },
        {
          "output_type": "stream",
          "name": "stderr",
          "text": [
            "/usr/local/lib/python3.8/dist-packages/sklearn/preprocessing/_data.py:3253: RuntimeWarning:\n",
            "\n",
            "divide by zero encountered in log\n",
            "\n"
          ]
        },
        {
          "output_type": "stream",
          "name": "stdout",
          "text": [
            "Model Number: 25 with model LastValueNaive in generation 0 of 10\n",
            "Model Number: 26 with model SeasonalNaive in generation 0 of 10\n",
            "Template Eval Error: Exception('Transformer SinTrend failed on fit') in model 26: SeasonalNaive\n",
            "Model Number: 27 with model SeasonalNaive in generation 0 of 10\n",
            "Model Number: 28 with model SeasonalNaive in generation 0 of 10\n",
            "Model Number: 29 with model UnobservedComponents in generation 0 of 10\n",
            "Model Number: 30 with model UnobservedComponents in generation 0 of 10\n",
            "Model Number: 31 with model UnobservedComponents in generation 0 of 10\n",
            "Model Number: 32 with model VAR in generation 0 of 10\n",
            "Template Eval Error: ValueError('Only gave one variable to VAR') in model 32: VAR\n",
            "Model Number: 33 with model VAR in generation 0 of 10\n",
            "Template Eval Error: ValueError('Only gave one variable to VAR') in model 33: VAR\n",
            "Model Number: 34 with model VECM in generation 0 of 10\n",
            "Template Eval Error: ValueError('Only gave one variable to VECM') in model 34: VECM\n",
            "Model Number: 35 with model VECM in generation 0 of 10\n",
            "Template Eval Error: ValueError('Only gave one variable to VECM') in model 35: VECM\n",
            "Model Number: 36 with model WindowRegression in generation 0 of 10\n",
            "Model Number: 37 with model ConstantNaive in generation 0 of 10\n"
          ]
        },
        {
          "output_type": "stream",
          "name": "stderr",
          "text": [
            "/usr/local/lib/python3.8/dist-packages/sklearn/preprocessing/_data.py:3253: RuntimeWarning:\n",
            "\n",
            "divide by zero encountered in log\n",
            "\n",
            "/usr/local/lib/python3.8/dist-packages/sklearn/preprocessing/_data.py:3196: RuntimeWarning:\n",
            "\n",
            "divide by zero encountered in power\n",
            "\n",
            "/usr/local/lib/python3.8/dist-packages/sklearn/preprocessing/_data.py:3196: RuntimeWarning:\n",
            "\n",
            "divide by zero encountered in power\n",
            "\n",
            "/usr/local/lib/python3.8/dist-packages/sklearn/preprocessing/_data.py:3196: RuntimeWarning:\n",
            "\n",
            "divide by zero encountered in power\n",
            "\n",
            "INFO:prophet:Disabling yearly seasonality. Run prophet with yearly_seasonality=True to override this.\n",
            "INFO:prophet:Disabling weekly seasonality. Run prophet with weekly_seasonality=True to override this.\n",
            "INFO:prophet:Disabling daily seasonality. Run prophet with daily_seasonality=True to override this.\n"
          ]
        },
        {
          "output_type": "stream",
          "name": "stdout",
          "text": [
            "Model Number: 38 with model FBProphet in generation 0 of 10\n"
          ]
        },
        {
          "output_type": "stream",
          "name": "stderr",
          "text": [
            "INFO:prophet:n_changepoints greater than number of observations. Using 5.\n"
          ]
        },
        {
          "output_type": "stream",
          "name": "stdout",
          "text": [
            "Model Number: 39 with model GluonTS in generation 0 of 10\n",
            "Template Eval Error: ImportError('GluonTS installation not found or installed version is incompatible with AutoTS.') in model 39: GluonTS\n",
            "Model Number: 40 with model MultivariateRegression in generation 0 of 10\n"
          ]
        },
        {
          "output_type": "stream",
          "name": "stderr",
          "text": [
            "[Parallel(n_jobs=-2)]: Using backend SequentialBackend with 1 concurrent workers.\n",
            "[Parallel(n_jobs=-2)]: Done 200 out of 200 | elapsed:    0.1s finished\n",
            "[Parallel(n_jobs=1)]: Using backend SequentialBackend with 1 concurrent workers.\n",
            "[Parallel(n_jobs=1)]: Done 200 out of 200 | elapsed:    0.0s finished\n"
          ]
        },
        {
          "output_type": "stream",
          "name": "stdout",
          "text": [
            "Model Number: 41 with model MultivariateRegression in generation 0 of 10\n",
            "Template Eval Error: ValueError(\"regression_type='User' but not future_regressor supplied.\") in model 41: MultivariateRegression\n",
            "Model Number: 42 with model DatepartRegression in generation 0 of 10\n",
            "Template Eval Error: ValueError(\"regression_type='User' but no future_regressor passed\") in model 42: DatepartRegression\n",
            "Model Number: 43 with model SeasonalNaive in generation 0 of 10\n",
            "Model Number: 44 with model DatepartRegression in generation 0 of 10\n",
            "Model Number: 45 with model UnobservedComponents in generation 0 of 10\n",
            "Model Number: 46 with model UnobservedComponents in generation 0 of 10\n",
            "Model Number: 47 with model ETS in generation 0 of 10\n",
            "ETS failed on Close with ValueError('could not broadcast input array from shape (14,) into shape (28,)')\n",
            "Model Number: 48 with model VECM in generation 0 of 10\n",
            "Template Eval Error: ValueError('Only gave one variable to VECM') in model 48: VECM\n",
            "Model Number: 49 with model ARDL in generation 0 of 10\n",
            "Template Eval Error: ImportError(\"cannot import name 'ARDL' from 'statsmodels.tsa.api' (/usr/local/lib/python3.8/dist-packages/statsmodels/tsa/api.py)\") in model 49: ARDL\n",
            "Model Number: 50 with model MultivariateMotif in generation 0 of 10\n",
            "Template Eval Error: ValueError('The number of observations (5) is too small; the covariance matrix is singular. For observations with 10 dimensions, at least 11 observations are required.') in model 50: MultivariateMotif\n",
            "Model Number: 51 with model MultivariateMotif in generation 0 of 10\n",
            "Template Eval Error: ValueError('kth(=10) out of bounds (4)') in model 51: MultivariateMotif\n",
            "Model Number: 52 with model UnivariateMotif in generation 0 of 10\n",
            "Template Eval Error: ValueError('window shape cannot be larger than input array shape') in model 52: UnivariateMotif\n",
            "Model Number: 53 with model UnivariateMotif in generation 0 of 10\n",
            "Template Eval Error: ValueError('window shape cannot be larger than input array shape') in model 53: UnivariateMotif\n",
            "Model Number: 54 with model SectionalMotif in generation 0 of 10\n",
            "Template Eval Error: ValueError('kth(=20) out of bounds (4)') in model 54: SectionalMotif\n",
            "Model Number: 55 with model SectionalMotif in generation 0 of 10\n",
            "Template Eval Error: ValueError('kth(=10) out of bounds (9)') in model 55: SectionalMotif\n",
            "Model Number: 56 with model MultivariateRegression in generation 0 of 10\n"
          ]
        },
        {
          "output_type": "stream",
          "name": "stderr",
          "text": [
            "INFO:prophet:Disabling yearly seasonality. Run prophet with yearly_seasonality=True to override this.\n",
            "INFO:prophet:Disabling weekly seasonality. Run prophet with weekly_seasonality=True to override this.\n",
            "INFO:prophet:Disabling daily seasonality. Run prophet with daily_seasonality=True to override this.\n"
          ]
        },
        {
          "output_type": "stream",
          "name": "stdout",
          "text": [
            "Model Number: 57 with model FBProphet in generation 0 of 10\n"
          ]
        },
        {
          "output_type": "stream",
          "name": "stderr",
          "text": [
            "INFO:prophet:n_changepoints greater than number of observations. Using 5.\n",
            "DEBUG:cmdstanpy:input tempfile: /tmp/tmpl9abl34v/0b02fzs5.json\n",
            "DEBUG:cmdstanpy:input tempfile: /tmp/tmpl9abl34v/s5zc9c47.json\n",
            "DEBUG:cmdstanpy:idx 0\n",
            "DEBUG:cmdstanpy:running CmdStan, num_threads: None\n",
            "DEBUG:cmdstanpy:CmdStan args: ['/usr/local/lib/python3.8/dist-packages/prophet/stan_model/prophet_model.bin', 'random', 'seed=40189', 'data', 'file=/tmp/tmpl9abl34v/0b02fzs5.json', 'init=/tmp/tmpl9abl34v/s5zc9c47.json', 'output', 'file=/tmp/tmpl9abl34v/prophet_model2hh30k7r/prophet_model-20230112201144.csv', 'method=optimize', 'algorithm=newton', 'iter=10000']\n",
            "20:11:44 - cmdstanpy - INFO - Chain [1] start processing\n",
            "INFO:cmdstanpy:Chain [1] start processing\n",
            "20:11:49 - cmdstanpy - INFO - Chain [1] done processing\n",
            "INFO:cmdstanpy:Chain [1] done processing\n"
          ]
        },
        {
          "output_type": "stream",
          "name": "stdout",
          "text": [
            "Model Number: 58 with model SeasonalNaive in generation 0 of 10\n",
            "Model Number: 59 with model DatepartRegression in generation 0 of 10\n",
            "Model Number: 60 with model NVAR in generation 0 of 10\n",
            "Model Number: 61 with model Theta in generation 0 of 10\n"
          ]
        },
        {
          "output_type": "stream",
          "name": "stderr",
          "text": [
            "[Parallel(n_jobs=-2)]: Using backend SequentialBackend with 1 concurrent workers.\n",
            "[Parallel(n_jobs=-2)]: Done 100 out of 100 | elapsed:    0.1s finished\n",
            "[Parallel(n_jobs=1)]: Using backend SequentialBackend with 1 concurrent workers.\n",
            "[Parallel(n_jobs=1)]: Done 100 out of 100 | elapsed:    0.0s finished\n"
          ]
        },
        {
          "output_type": "stream",
          "name": "stdout",
          "text": [
            "Model Number: 62 with model UnivariateRegression in generation 0 of 10\n",
            "Template Eval Error: ValueError(\"Input contains NaN, infinity or a value too large for dtype('float32').\") in model 62: UnivariateRegression\n",
            "Model Number: 63 with model ARCH in generation 0 of 10\n",
            "Template Eval Error: ImportError('`arch` package must be installed from pip') in model 63: ARCH\n",
            "Model Number: 64 with model ConstantNaive in generation 0 of 10\n",
            "Model Number: 65 with model LastValueNaive in generation 0 of 10\n",
            "Model Number: 66 with model AverageValueNaive in generation 0 of 10\n",
            "Model Number: 67 with model GLS in generation 0 of 10\n",
            "Model Number: 68 with model SeasonalNaive in generation 0 of 10\n"
          ]
        },
        {
          "output_type": "stream",
          "name": "stderr",
          "text": [
            "INFO:prophet:Disabling yearly seasonality. Run prophet with yearly_seasonality=True to override this.\n",
            "INFO:prophet:Disabling weekly seasonality. Run prophet with weekly_seasonality=True to override this.\n",
            "INFO:prophet:Disabling daily seasonality. Run prophet with daily_seasonality=True to override this.\n"
          ]
        },
        {
          "output_type": "stream",
          "name": "stdout",
          "text": [
            "Model Number: 69 with model GLM in generation 0 of 10\n",
            "Template Eval Error: ValueError('regression_type=user and no future_regressor passed') in model 69: GLM\n",
            "Model Number: 70 with model ETS in generation 0 of 10\n",
            "Template Eval Error: Exception('Transformer Detrend failed on fit') in model 70: ETS\n",
            "Model Number: 71 with model FBProphet in generation 0 of 10\n"
          ]
        },
        {
          "output_type": "stream",
          "name": "stderr",
          "text": [
            "INFO:prophet:n_changepoints greater than number of observations. Using 11.\n",
            "DEBUG:cmdstanpy:input tempfile: /tmp/tmpl9abl34v/m38pktxm.json\n",
            "DEBUG:cmdstanpy:input tempfile: /tmp/tmpl9abl34v/3haaof3m.json\n",
            "DEBUG:cmdstanpy:idx 0\n",
            "DEBUG:cmdstanpy:running CmdStan, num_threads: None\n",
            "DEBUG:cmdstanpy:CmdStan args: ['/usr/local/lib/python3.8/dist-packages/prophet/stan_model/prophet_model.bin', 'random', 'seed=73215', 'data', 'file=/tmp/tmpl9abl34v/m38pktxm.json', 'init=/tmp/tmpl9abl34v/3haaof3m.json', 'output', 'file=/tmp/tmpl9abl34v/prophet_modela6163l2r/prophet_model-20230112201150.csv', 'method=optimize', 'algorithm=newton', 'iter=10000']\n",
            "20:11:50 - cmdstanpy - INFO - Chain [1] start processing\n",
            "INFO:cmdstanpy:Chain [1] start processing\n",
            "20:11:50 - cmdstanpy - INFO - Chain [1] done processing\n",
            "INFO:cmdstanpy:Chain [1] done processing\n"
          ]
        },
        {
          "output_type": "stream",
          "name": "stdout",
          "text": [
            "Model Number: 72 with model GluonTS in generation 0 of 10\n",
            "Template Eval Error: ImportError('GluonTS installation not found or installed version is incompatible with AutoTS.') in model 72: GluonTS\n",
            "Model Number: 73 with model UnobservedComponents in generation 0 of 10\n",
            "Model Number: 74 with model VAR in generation 0 of 10\n",
            "No anomalies detected.\n",
            "Template Eval Error: ValueError('Only gave one variable to VAR') in model 74: VAR\n",
            "Model Number: 75 with model VECM in generation 0 of 10\n",
            "Template Eval Error: ValueError('Only gave one variable to VECM') in model 75: VECM\n",
            "Model Number: 76 with model ARIMA in generation 0 of 10\n",
            "Model Number: 77 with model WindowRegression in generation 0 of 10\n",
            "Model Number: 78 with model DatepartRegression in generation 0 of 10\n",
            "Template Eval Error: ValueError(\"regression_type='User' but no future_regressor passed\") in model 78: DatepartRegression\n",
            "Model Number: 79 with model UnivariateRegression in generation 0 of 10\n",
            "Template Eval Error: ValueError(\"Input contains NaN, infinity or a value too large for dtype('float32').\") in model 79: UnivariateRegression\n",
            "Model Number: 80 with model MultivariateRegression in generation 0 of 10\n",
            "Template Eval Error: ValueError('`min_samples` may not be larger than number of samples: n_samples = 13.') in model 80: MultivariateRegression\n",
            "Model Number: 81 with model UnivariateMotif in generation 0 of 10\n",
            "No anomalies detected.\n",
            "Model Number: 82 with model MultivariateMotif in generation 0 of 10\n",
            "Template Eval Error: ValueError('window shape cannot be larger than input array shape') in model 82: MultivariateMotif\n",
            "Model Number: 83 with model SectionalMotif in generation 0 of 10\n",
            "Template Eval Error: ValueError('kth(=10) out of bounds (7)') in model 83: SectionalMotif\n",
            "Model Number: 84 with model NVAR in generation 0 of 10\n",
            "Model Number: 85 with model Theta in generation 0 of 10\n",
            "Model Number: 86 with model ARDL in generation 0 of 10\n",
            "Template Eval Error: ImportError(\"cannot import name 'ARDL' from 'statsmodels.tsa.api' (/usr/local/lib/python3.8/dist-packages/statsmodels/tsa/api.py)\") in model 86: ARDL\n",
            "Model Number: 87 with model ARCH in generation 0 of 10\n",
            "Template Eval Error: ImportError('`arch` package must be installed from pip') in model 87: ARCH\n",
            "Model Number: 88 with model MetricMotif in generation 0 of 10\n",
            "Template Eval Error: ValueError('kth(=9) out of bounds (4)') in model 88: MetricMotif\n",
            "Model Number: 89 with model MultivariateMotif in generation 0 of 10\n",
            "Template Eval Error: ValueError('window shape cannot be larger than input array shape') in model 89: MultivariateMotif\n",
            "Model Number: 90 with model VAR in generation 0 of 10\n",
            "No anomalies detected.\n",
            "Template Eval Error: ValueError('Only gave one variable to VAR') in model 90: VAR\n",
            "Model Number: 91 with model DatepartRegression in generation 0 of 10\n",
            "Template Eval Error: ValueError('Model DatepartRegression returned NaN for one or more series. fail_on_forecast_nan=True') in model 91: DatepartRegression\n",
            "Model Number: 92 with model VAR in generation 0 of 10\n",
            "Template Eval Error: ValueError('Only gave one variable to VAR') in model 92: VAR\n",
            "Model Number: 93 with model UnivariateMotif in generation 0 of 10\n",
            "Template Eval Error: ValueError('window shape cannot be larger than input array shape') in model 93: UnivariateMotif\n",
            "Model Number: 94 with model UnivariateRegression in generation 0 of 10\n",
            "Template Eval Error: ValueError(\"Input contains NaN, infinity or a value too large for dtype('float64').\") in model 94: UnivariateRegression\n",
            "Model Number: 95 with model AverageValueNaive in generation 0 of 10\n",
            "Model Number: 96 with model VAR in generation 0 of 10\n",
            "Template Eval Error: ValueError('Only gave one variable to VAR') in model 96: VAR\n",
            "Model Number: 97 with model DatepartRegression in generation 0 of 10\n",
            "Template Eval Error: ValueError(\"regression_type='User' but no future_regressor passed\") in model 97: DatepartRegression\n",
            "Model Number: 98 with model MetricMotif in generation 0 of 10\n",
            "Template Eval Error: Exception('Transformer ScipyFilter failed on fit') in model 98: MetricMotif\n",
            "Model Number: 99 with model VAR in generation 0 of 10\n",
            "Template Eval Error: ValueError('Only gave one variable to VAR') in model 99: VAR\n",
            "Model Number: 100 with model GLM in generation 0 of 10\n"
          ]
        },
        {
          "output_type": "stream",
          "name": "stderr",
          "text": [
            "/usr/local/lib/python3.8/dist-packages/sklearn/neighbors/_regression.py:470: UserWarning:\n",
            "\n",
            "One or more samples have no neighbors within specified radius; predicting NaN.\n",
            "\n",
            "/usr/local/lib/python3.8/dist-packages/sklearn/preprocessing/_data.py:3253: RuntimeWarning:\n",
            "\n",
            "divide by zero encountered in log\n",
            "\n",
            "/usr/local/lib/python3.8/dist-packages/sklearn/preprocessing/_data.py:3253: RuntimeWarning:\n",
            "\n",
            "divide by zero encountered in log\n",
            "\n"
          ]
        },
        {
          "output_type": "stream",
          "name": "stdout",
          "text": [
            "Model Number: 101 with model ARCH in generation 0 of 10\n",
            "Template Eval Error: ImportError('`arch` package must be installed from pip') in model 101: ARCH\n",
            "Model Number: 102 with model VAR in generation 0 of 10\n",
            "Template Eval Error: ValueError('Only gave one variable to VAR') in model 102: VAR\n",
            "Model Number: 103 with model SeasonalNaive in generation 0 of 10\n",
            "Model Number: 104 with model UnobservedComponents in generation 0 of 10\n",
            "Template Eval Error: ValueError(\"regression_type='User' but no future_regressor supplied\") in model 104: UnobservedComponents\n",
            "Model Number: 105 with model ConstantNaive in generation 0 of 10\n",
            "Model Number: 106 with model ETS in generation 0 of 10\n",
            "ETS error ValueError('endog must be strictly positive when usingmultiplicative trend or seasonal components.')\n",
            "ETS failed on Close with ValueError('endog must be strictly positive when usingmultiplicative trend or seasonal components.')\n",
            "Model Number: 107 with model ConstantNaive in generation 0 of 10\n",
            "Model Number: 108 with model VAR in generation 0 of 10\n",
            "Template Eval Error: ValueError('Only gave one variable to VAR') in model 108: VAR\n",
            "Model Number: 109 with model ARDL in generation 0 of 10\n",
            "Template Eval Error: ImportError(\"cannot import name 'ARDL' from 'statsmodels.tsa.api' (/usr/local/lib/python3.8/dist-packages/statsmodels/tsa/api.py)\") in model 109: ARDL\n",
            "Model Number: 110 with model AverageValueNaive in generation 0 of 10\n",
            "Template Eval Error: Exception('Transformer Detrend failed on fit') in model 110: AverageValueNaive\n",
            "Model Number: 111 with model NVAR in generation 0 of 10\n",
            "Model Number: 112 with model FBProphet in generation 0 of 10\n"
          ]
        },
        {
          "output_type": "stream",
          "name": "stderr",
          "text": [
            "INFO:prophet:Disabling yearly seasonality. Run prophet with yearly_seasonality=True to override this.\n",
            "INFO:prophet:Disabling weekly seasonality. Run prophet with weekly_seasonality=True to override this.\n",
            "INFO:prophet:Disabling daily seasonality. Run prophet with daily_seasonality=True to override this.\n",
            "INFO:prophet:n_changepoints greater than number of observations. Using 10.\n",
            "DEBUG:cmdstanpy:input tempfile: /tmp/tmpl9abl34v/mm78g2_v.json\n",
            "DEBUG:cmdstanpy:input tempfile: /tmp/tmpl9abl34v/bs98zo0_.json\n",
            "DEBUG:cmdstanpy:idx 0\n",
            "DEBUG:cmdstanpy:running CmdStan, num_threads: None\n",
            "DEBUG:cmdstanpy:CmdStan args: ['/usr/local/lib/python3.8/dist-packages/prophet/stan_model/prophet_model.bin', 'random', 'seed=95081', 'data', 'file=/tmp/tmpl9abl34v/mm78g2_v.json', 'init=/tmp/tmpl9abl34v/bs98zo0_.json', 'output', 'file=/tmp/tmpl9abl34v/prophet_modelnnw5r54q/prophet_model-20230112201153.csv', 'method=optimize', 'algorithm=newton', 'iter=10000']\n",
            "20:11:53 - cmdstanpy - INFO - Chain [1] start processing\n",
            "INFO:cmdstanpy:Chain [1] start processing\n",
            "20:11:54 - cmdstanpy - INFO - Chain [1] done processing\n",
            "INFO:cmdstanpy:Chain [1] done processing\n"
          ]
        },
        {
          "output_type": "stream",
          "name": "stdout",
          "text": [
            "Model Number: 113 with model SeasonalNaive in generation 0 of 10\n",
            "Model Number: 114 with model ETS in generation 0 of 10\n",
            "ETS failed on Close with ValueError('could not broadcast input array from shape (14,) into shape (31,)')\n",
            "Model Number: 115 with model VAR in generation 0 of 10\n",
            "Template Eval Error: ValueError('Only gave one variable to VAR') in model 115: VAR\n",
            "Model Number: 116 with model MultivariateMotif in generation 0 of 10\n",
            "Template Eval Error: ValueError('window shape cannot be larger than input array shape') in model 116: MultivariateMotif\n",
            "Model Number: 117 with model GLM in generation 0 of 10\n",
            "Template Eval Error: Exception('Transformer ScipyFilter failed on fit') in model 117: GLM\n",
            "Model Number: 118 with model VECM in generation 0 of 10\n",
            "Template Eval Error: ValueError('Only gave one variable to VECM') in model 118: VECM\n",
            "Model Number: 119 with model LastValueNaive in generation 0 of 10\n",
            "Model Number: 120 with model ARCH in generation 0 of 10\n",
            "Template Eval Error: ImportError('`arch` package must be installed from pip') in model 120: ARCH\n",
            "Model Number: 121 with model MultivariateMotif in generation 0 of 10\n",
            "Template Eval Error: ValueError('kth(=5) out of bounds (4)') in model 121: MultivariateMotif\n",
            "Model Number: 122 with model ETS in generation 0 of 10\n",
            "Template Eval Error: Exception('Transformer ScipyFilter failed on fit') in model 122: ETS\n",
            "Model Number: 123 with model Theta in generation 0 of 10\n",
            "Model Number: 124 with model MultivariateMotif in generation 0 of 10\n"
          ]
        },
        {
          "output_type": "stream",
          "name": "stderr",
          "text": [
            "/usr/local/lib/python3.8/dist-packages/autots/tools/window_functions.py:478: RuntimeWarning:\n",
            "\n",
            "invalid value encountered in true_divide\n",
            "\n"
          ]
        },
        {
          "output_type": "stream",
          "name": "stdout",
          "text": [
            "Template Eval Error: Exception('Transformer Detrend failed on fit') in model 124: MultivariateMotif\n",
            "Model Number: 125 with model UnivariateMotif in generation 0 of 10\n",
            "Template Eval Error: ValueError('window shape cannot be larger than input array shape') in model 125: UnivariateMotif\n",
            "Model Number: 126 with model GLM in generation 0 of 10\n",
            "Model Number: 127 with model ARIMA in generation 0 of 10\n",
            "Template Eval Error: ValueError(\"regression_type='User' but future_regressor not supplied\") in model 127: ARIMA\n",
            "Model Number: 128 with model VAR in generation 0 of 10\n",
            "Template Eval Error: ValueError('Only gave one variable to VAR') in model 128: VAR\n",
            "Model Number: 129 with model Theta in generation 0 of 10\n",
            "Model Number: 130 with model SeasonalNaive in generation 0 of 10\n"
          ]
        },
        {
          "output_type": "stream",
          "name": "stderr",
          "text": [
            "/usr/local/lib/python3.8/dist-packages/autots/tools/window_functions.py:478: RuntimeWarning:\n",
            "\n",
            "invalid value encountered in true_divide\n",
            "\n",
            "/usr/local/lib/python3.8/dist-packages/numpy/lib/nanfunctions.py:1374: RuntimeWarning:\n",
            "\n",
            "All-NaN slice encountered\n",
            "\n"
          ]
        },
        {
          "output_type": "stream",
          "name": "stdout",
          "text": [
            "Model Number: 131 with model SeasonalNaive in generation 0 of 10\n",
            "Model Number: 132 with model ARCH in generation 0 of 10\n",
            "Template Eval Error: ImportError('`arch` package must be installed from pip') in model 132: ARCH\n",
            "Model Number: 133 with model VECM in generation 0 of 10\n",
            "Template Eval Error: Exception('Transformer SinTrend failed on fit') in model 133: VECM\n",
            "Model Number: 134 with model VAR in generation 0 of 10\n",
            "Template Eval Error: Exception('Transformer LocalLinearTrend failed on fit') in model 134: VAR\n",
            "Model Number: 135 with model MetricMotif in generation 0 of 10\n",
            "Template Eval Error: Exception('Transformer AlignLastValue failed on fit') in model 135: MetricMotif\n",
            "Model Number: 136 with model VECM in generation 0 of 10\n",
            "Template Eval Error: ValueError('Only gave one variable to VECM') in model 136: VECM\n",
            "Model Number: 137 with model ETS in generation 0 of 10\n",
            "ETS error ValueError('endog must be strictly positive when usingmultiplicative trend or seasonal components.')\n",
            "ETS failed on Close with ValueError('endog must be strictly positive when usingmultiplicative trend or seasonal components.')\n",
            "Model Number: 138 with model SeasonalNaive in generation 0 of 10\n",
            "Template Eval Error: Exception('Transformer LocalLinearTrend failed on fit') in model 138: SeasonalNaive\n",
            "Model Number: 139 with model NVAR in generation 0 of 10\n",
            "Model Number: 140 with model SeasonalNaive in generation 0 of 10\n",
            "Model Number: 141 with model UnobservedComponents in generation 0 of 10\n"
          ]
        },
        {
          "output_type": "stream",
          "name": "stderr",
          "text": [
            "/usr/local/lib/python3.8/dist-packages/sklearn/preprocessing/_data.py:3253: RuntimeWarning:\n",
            "\n",
            "divide by zero encountered in log\n",
            "\n"
          ]
        },
        {
          "output_type": "stream",
          "name": "stdout",
          "text": [
            "Model Number: 142 with model LastValueNaive in generation 0 of 10\n",
            "Model Number: 143 with model VAR in generation 0 of 10\n",
            "Template Eval Error: ValueError('Only gave one variable to VAR') in model 143: VAR\n",
            "Model Number: 144 with model UnivariateMotif in generation 0 of 10\n",
            "Template Eval Error: ValueError('window shape cannot be larger than input array shape') in model 144: UnivariateMotif\n",
            "Model Number: 145 with model NVAR in generation 0 of 10\n",
            "Model Number: 146 with model VAR in generation 0 of 10\n",
            "Template Eval Error: ValueError('Only gave one variable to VAR') in model 146: VAR\n",
            "Model Number: 147 with model GLS in generation 0 of 10\n",
            "Model Number: 148 with model Theta in generation 0 of 10\n",
            "Model Number: 149 with model UnivariateMotif in generation 0 of 10\n",
            "Template Eval Error: ValueError('kth(=10) out of bounds (4)') in model 149: UnivariateMotif\n",
            "Model Number: 150 with model UnivariateMotif in generation 0 of 10\n",
            "Model Number: 151 with model MetricMotif in generation 0 of 10\n",
            "Template Eval Error: Exception('Transformer STLFilter failed on fit') in model 151: MetricMotif\n",
            "Model Number: 152 with model SectionalMotif in generation 0 of 10\n",
            "Template Eval Error: ValueError(\"regression_type=='User' but no future_regressor supplied\") in model 152: SectionalMotif\n",
            "Model Number: 153 with model ARCH in generation 0 of 10\n",
            "Template Eval Error: ImportError('`arch` package must be installed from pip') in model 153: ARCH\n",
            "Model Number: 154 with model ARDL in generation 0 of 10\n",
            "Template Eval Error: ValueError(\"regression_type='User' but future_regressor not supplied\") in model 154: ARDL\n",
            "Model Number: 155 with model SeasonalNaive in generation 0 of 10\n",
            "Model Number: 156 with model MultivariateMotif in generation 0 of 10\n",
            "Template Eval Error: ValueError('kth(=10) out of bounds (4)') in model 156: MultivariateMotif\n",
            "Model Number: 157 with model ARCH in generation 0 of 10\n",
            "Template Eval Error: ImportError('`arch` package must be installed from pip') in model 157: ARCH\n",
            "Model Number: 158 with model MetricMotif in generation 0 of 10\n",
            "Template Eval Error: ValueError('kth(=9) out of bounds (9)') in model 158: MetricMotif\n",
            "Model Number: 159 with model UnivariateMotif in generation 0 of 10\n",
            "Template Eval Error: ValueError('window shape cannot be larger than input array shape') in model 159: UnivariateMotif\n",
            "Model Number: 160 with model MultivariateMotif in generation 0 of 10\n",
            "Model Number: 161 with model UnivariateMotif in generation 0 of 10\n",
            "Template Eval Error: ValueError('kth(=10) out of bounds (4)') in model 161: UnivariateMotif\n",
            "Model Number: 162 with model VECM in generation 0 of 10\n",
            "Template Eval Error: ValueError('Only gave one variable to VECM') in model 162: VECM\n"
          ]
        },
        {
          "output_type": "stream",
          "name": "stderr",
          "text": [
            "/usr/local/lib/python3.8/dist-packages/autots/tools/window_functions.py:478: RuntimeWarning:\n",
            "\n",
            "invalid value encountered in true_divide\n",
            "\n",
            "/usr/local/lib/python3.8/dist-packages/sklearn/preprocessing/_data.py:3253: RuntimeWarning:\n",
            "\n",
            "divide by zero encountered in log\n",
            "\n"
          ]
        },
        {
          "output_type": "stream",
          "name": "stdout",
          "text": [
            "Model Number: 163 with model MultivariateMotif in generation 0 of 10\n",
            "Template Eval Error: ValueError('kth(=15) out of bounds (4)') in model 163: MultivariateMotif\n",
            "Model Number: 164 with model UnivariateMotif in generation 0 of 10\n",
            "Template Eval Error: ValueError('kth(=5) out of bounds (4)') in model 164: UnivariateMotif\n",
            "Model Number: 165 with model ARIMA in generation 0 of 10\n",
            "Template Eval Error: ValueError(\"regression_type='User' but future_regressor not supplied\") in model 165: ARIMA\n",
            "Model Number: 166 with model AverageValueNaive in generation 0 of 10\n",
            "Model Number: 167 with model MultivariateMotif in generation 0 of 10\n",
            "Template Eval Error: Exception('Transformer ScipyFilter failed on fit') in model 167: MultivariateMotif\n",
            "Model Number: 168 with model Theta in generation 0 of 10\n",
            "Model Number: 169 with model GLM in generation 0 of 10\n",
            "Model Number: 170 with model UnivariateMotif in generation 0 of 10\n",
            "Template Eval Error: Exception('Transformer Detrend failed on fit') in model 170: UnivariateMotif\n",
            "Model Number: 171 with model ARDL in generation 0 of 10\n",
            "Template Eval Error: ValueError(\"regression_type='User' but future_regressor not supplied\") in model 171: ARDL\n",
            "Model Number: 172 with model ARCH in generation 0 of 10\n",
            "Template Eval Error: Exception('Transformer Detrend failed on fit') in model 172: ARCH\n",
            "Model Number: 173 with model GLM in generation 0 of 10\n",
            "No anomalies detected.\n",
            "Model Number: 174 with model ARDL in generation 0 of 10\n",
            "Template Eval Error: ValueError(\"regression_type='User' but future_regressor not supplied\") in model 174: ARDL\n",
            "Model Number: 175 with model GluonTS in generation 0 of 10\n",
            "Template Eval Error: ImportError('GluonTS installation not found or installed version is incompatible with AutoTS.') in model 175: GluonTS\n",
            "Model Number: 176 with model ARIMA in generation 0 of 10\n",
            "Template Eval Error: Exception('Transformer Detrend failed on fit') in model 176: ARIMA\n",
            "Model Number: 177 with model ARIMA in generation 0 of 10\n",
            "Model Number: 178 with model ConstantNaive in generation 0 of 10\n",
            "Model Number: 179 with model GLM in generation 0 of 10\n",
            "Model Number: 180 with model UnobservedComponents in generation 0 of 10\n"
          ]
        },
        {
          "output_type": "stream",
          "name": "stderr",
          "text": [
            "/usr/local/lib/python3.8/dist-packages/statsmodels/genmod/families/links.py:188: RuntimeWarning:\n",
            "\n",
            "overflow encountered in exp\n",
            "\n"
          ]
        },
        {
          "output_type": "stream",
          "name": "stdout",
          "text": [
            "Model Number: 181 with model SeasonalNaive in generation 0 of 10\n",
            "Model Number: 182 with model LastValueNaive in generation 0 of 10\n",
            "Model Number: 183 with model DatepartRegression in generation 0 of 10\n",
            "Template Eval Error: Exception('Transformer Detrend failed on fit') in model 183: DatepartRegression\n",
            "Model Number: 184 with model ARIMA in generation 0 of 10\n",
            "Template Eval Error: Exception('Transformer Detrend failed on fit') in model 184: ARIMA\n",
            "Model Number: 185 with model MultivariateRegression in generation 0 of 10\n",
            "Model Number: 186 with model AverageValueNaive in generation 0 of 10\n",
            "Model Number: 187 with model ETS in generation 0 of 10\n",
            "Model Number: 188 with model ETS in generation 0 of 10\n",
            "ETS failed on Close with ValueError('could not broadcast input array from shape (14,) into shape (364,)')\n",
            "New Generation: 1 of 10\n",
            "Model Number: 189 with model ETS in generation 1 of 10\n",
            "ETS error ValueError('endog must be strictly positive when usingmultiplicative trend or seasonal components.')\n",
            "ETS failed on Close with ValueError('endog must be strictly positive when usingmultiplicative trend or seasonal components.')\n",
            "Model Number: 190 with model ETS in generation 1 of 10\n",
            "ETS failed on Close with ValueError('could not broadcast input array from shape (14,) into shape (364,)')\n",
            "Model Number: 191 with model UnivariateMotif in generation 1 of 10\n",
            "Template Eval Error: ValueError('window shape cannot be larger than input array shape') in model 191: UnivariateMotif\n",
            "Model Number: 192 with model ARIMA in generation 1 of 10\n",
            "Model Number: 193 with model UnobservedComponents in generation 1 of 10\n",
            "Model Number: 194 with model UnobservedComponents in generation 1 of 10\n",
            "Model Number: 195 with model MultivariateRegression in generation 1 of 10\n",
            "Model Number: 196 with model LastValueNaive in generation 1 of 10\n",
            "Model Number: 197 with model GLS in generation 1 of 10\n",
            "Model Number: 198 with model Theta in generation 1 of 10\n",
            "Model Number: 199 with model ETS in generation 1 of 10\n",
            "Model Number: 200 with model UnobservedComponents in generation 1 of 10\n",
            "Model Number: 201 with model Theta in generation 1 of 10\n",
            "Model Number: 202 with model MultivariateRegression in generation 1 of 10\n",
            "Model Number: 203 with model UnobservedComponents in generation 1 of 10\n",
            "Model Number: 204 with model GLM in generation 1 of 10\n",
            "Template Eval Error: PerfectSeparationError('Perfect separation detected, results not available') in model 204: GLM\n",
            "Model Number: 205 with model UnobservedComponents in generation 1 of 10\n",
            "Model Number: 206 with model ConstantNaive in generation 1 of 10\n",
            "Template Eval Error: ValueError(\"Model returned NaN due to a preprocessing transformer {'fillna': 'ffill', 'transformations': {'0': 'PowerTransformer', '1': 'StandardScaler', '2': 'RollingMeanTransformer'}, 'transformation_params': {'0': {}, '1': {}, '2': {'fixed': True, 'window': 4}}}. fail_on_forecast_nan=True\") in model 206: ConstantNaive\n",
            "Model Number: 207 with model UnivariateMotif in generation 1 of 10\n",
            "Model Number: 208 with model GLM in generation 1 of 10\n",
            "Model Number: 209 with model DatepartRegression in generation 1 of 10\n"
          ]
        },
        {
          "output_type": "stream",
          "name": "stderr",
          "text": [
            "/usr/local/lib/python3.8/dist-packages/sklearn/preprocessing/_data.py:3253: RuntimeWarning:\n",
            "\n",
            "divide by zero encountered in log\n",
            "\n",
            "[Parallel(n_jobs=-2)]: Using backend SequentialBackend with 1 concurrent workers.\n"
          ]
        },
        {
          "output_type": "stream",
          "name": "stdout",
          "text": [
            "Model Number: 210 with model WindowRegression in generation 1 of 10\n",
            "Model Number: 211 with model Theta in generation 1 of 10\n"
          ]
        },
        {
          "output_type": "stream",
          "name": "stderr",
          "text": [
            "[Parallel(n_jobs=-2)]: Done 100 out of 100 | elapsed:    0.1s finished\n",
            "[Parallel(n_jobs=1)]: Using backend SequentialBackend with 1 concurrent workers.\n",
            "[Parallel(n_jobs=1)]: Done 100 out of 100 | elapsed:    0.0s finished\n"
          ]
        },
        {
          "output_type": "stream",
          "name": "stdout",
          "text": [
            "Model Number: 212 with model GLS in generation 1 of 10\n",
            "Model Number: 213 with model Theta in generation 1 of 10\n",
            "Model Number: 214 with model LastValueNaive in generation 1 of 10\n",
            "Model Number: 215 with model LastValueNaive in generation 1 of 10\n",
            "Model Number: 216 with model SeasonalNaive in generation 1 of 10\n",
            "Model Number: 217 with model GLM in generation 1 of 10\n",
            "No anomalies detected.\n",
            "Model Number: 218 with model Theta in generation 1 of 10\n",
            "Model Number: 219 with model GLM in generation 1 of 10\n",
            "No anomalies detected.\n",
            "Model Number: 220 with model ETS in generation 1 of 10\n",
            "Model Number: 221 with model DatepartRegression in generation 1 of 10\n",
            "Model Number: 222 with model ETS in generation 1 of 10\n",
            "ETS error ValueError('endog must be strictly positive when usingmultiplicative trend or seasonal components.')\n",
            "ETS failed on Close with ValueError('endog must be strictly positive when usingmultiplicative trend or seasonal components.')\n",
            "Model Number: 223 with model FBProphet in generation 1 of 10\n"
          ]
        },
        {
          "output_type": "stream",
          "name": "stderr",
          "text": [
            "INFO:prophet:Disabling yearly seasonality. Run prophet with yearly_seasonality=True to override this.\n",
            "INFO:prophet:Disabling weekly seasonality. Run prophet with weekly_seasonality=True to override this.\n",
            "INFO:prophet:Disabling daily seasonality. Run prophet with daily_seasonality=True to override this.\n",
            "INFO:prophet:n_changepoints greater than number of observations. Using 10.\n",
            "DEBUG:cmdstanpy:input tempfile: /tmp/tmpl9abl34v/g7ypv_ab.json\n",
            "DEBUG:cmdstanpy:input tempfile: /tmp/tmpl9abl34v/94huqxyy.json\n",
            "DEBUG:cmdstanpy:idx 0\n",
            "DEBUG:cmdstanpy:running CmdStan, num_threads: None\n",
            "DEBUG:cmdstanpy:CmdStan args: ['/usr/local/lib/python3.8/dist-packages/prophet/stan_model/prophet_model.bin', 'random', 'seed=94600', 'data', 'file=/tmp/tmpl9abl34v/g7ypv_ab.json', 'init=/tmp/tmpl9abl34v/94huqxyy.json', 'output', 'file=/tmp/tmpl9abl34v/prophet_modelz7znjpp7/prophet_model-20230112201200.csv', 'method=optimize', 'algorithm=newton', 'iter=10000']\n",
            "20:12:00 - cmdstanpy - INFO - Chain [1] start processing\n",
            "INFO:cmdstanpy:Chain [1] start processing\n",
            "20:12:00 - cmdstanpy - INFO - Chain [1] done processing\n",
            "INFO:cmdstanpy:Chain [1] done processing\n"
          ]
        },
        {
          "output_type": "stream",
          "name": "stdout",
          "text": [
            "Model Number: 224 with model UnobservedComponents in generation 1 of 10\n",
            "Model Number: 225 with model WindowRegression in generation 1 of 10\n",
            "Template Eval Error: ValueError(\"regression_type='User' but no future_regressor passed\") in model 225: WindowRegression\n",
            "Model Number: 226 with model LastValueNaive in generation 1 of 10\n",
            "Model Number: 227 with model DatepartRegression in generation 1 of 10\n",
            "Model Number: 228 with model NVAR in generation 1 of 10\n",
            "Model Number: 229 with model GLM in generation 1 of 10\n",
            "Model Number: 230 with model DatepartRegression in generation 1 of 10\n",
            "Model Number: 231 with model Theta in generation 1 of 10\n"
          ]
        },
        {
          "output_type": "stream",
          "name": "stderr",
          "text": [
            "/usr/local/lib/python3.8/dist-packages/sklearn/svm/_base.py:1206: ConvergenceWarning:\n",
            "\n",
            "Liblinear failed to converge, increase the number of iterations.\n",
            "\n"
          ]
        },
        {
          "output_type": "stream",
          "name": "stdout",
          "text": [
            "Model Number: 232 with model UnobservedComponents in generation 1 of 10\n",
            "Model Number: 233 with model AverageValueNaive in generation 1 of 10\n",
            "Model Number: 234 with model DatepartRegression in generation 1 of 10\n",
            "Model Number: 235 with model GLS in generation 1 of 10\n",
            "Model Number: 236 with model ETS in generation 1 of 10\n",
            "Model Number: 237 with model LastValueNaive in generation 1 of 10"
          ]
        },
        {
          "output_type": "stream",
          "name": "stderr",
          "text": [
            "[Parallel(n_jobs=-2)]: Using backend SequentialBackend with 1 concurrent workers.\n",
            "[Parallel(n_jobs=-2)]: Done 100 out of 100 | elapsed:    0.1s finished\n",
            "[Parallel(n_jobs=1)]: Using backend SequentialBackend with 1 concurrent workers.\n",
            "[Parallel(n_jobs=1)]: Done 100 out of 100 | elapsed:    0.0s finished\n"
          ]
        },
        {
          "output_type": "stream",
          "name": "stdout",
          "text": [
            "\n",
            "Model Number: 238 with model GLS in generation 1 of 10\n",
            "Model Number: 239 with model AverageValueNaive in generation 1 of 10\n",
            "Model Number: 240 with model MultivariateMotif in generation 1 of 10\n",
            "Template Eval Error: ValueError('kth(=15) out of bounds (4)') in model 240: MultivariateMotif\n",
            "Model Number: 241 with model DatepartRegression in generation 1 of 10\n",
            "Epoch 1/50\n",
            "1/1 [==============================] - 7s 7s/step - loss: nan - val_loss: nan\n",
            "Epoch 2/50\n",
            "1/1 [==============================] - 1s 595ms/step - loss: nan - val_loss: nan\n",
            "Epoch 3/50\n",
            "1/1 [==============================] - 1s 590ms/step - loss: nan - val_loss: nan\n",
            "Epoch 4/50\n",
            "1/1 [==============================] - 1s 537ms/step - loss: nan - val_loss: nan\n",
            "Epoch 5/50\n",
            "1/1 [==============================] - 1s 561ms/step - loss: nan - val_loss: nan\n",
            "Epoch 6/50\n",
            "1/1 [==============================] - 1s 558ms/step - loss: nan - val_loss: nan\n",
            "Epoch 7/50\n",
            "1/1 [==============================] - 1s 572ms/step - loss: nan - val_loss: nan\n",
            "Epoch 8/50\n",
            "1/1 [==============================] - 1s 550ms/step - loss: nan - val_loss: nan\n",
            "Epoch 9/50\n",
            "1/1 [==============================] - 1s 549ms/step - loss: nan - val_loss: nan\n",
            "Epoch 10/50\n",
            "1/1 [==============================] - 1s 545ms/step - loss: nan - val_loss: nan\n",
            "1/1 [==============================] - 0s 370ms/step\n",
            "Template Eval Error: ValueError('Model DatepartRegression returned NaN for one or more series. fail_on_forecast_nan=True') in model 241: DatepartRegression\n",
            "Model Number: 242 with model AverageValueNaive in generation 1 of 10\n",
            "Model Number: 243 with model Theta in generation 1 of 10\n",
            "Model Number: 244 with model LastValueNaive in generation 1 of 10\n"
          ]
        },
        {
          "output_type": "stream",
          "name": "stderr",
          "text": [
            "INFO:prophet:Disabling yearly seasonality. Run prophet with yearly_seasonality=True to override this.\n",
            "INFO:prophet:Disabling weekly seasonality. Run prophet with weekly_seasonality=True to override this.\n"
          ]
        },
        {
          "output_type": "stream",
          "name": "stdout",
          "text": [
            "Model Number: 245 with model FBProphet in generation 1 of 10\n"
          ]
        },
        {
          "output_type": "stream",
          "name": "stderr",
          "text": [
            "INFO:prophet:Disabling daily seasonality. Run prophet with daily_seasonality=True to override this.\n",
            "INFO:prophet:n_changepoints greater than number of observations. Using 10.\n",
            "DEBUG:cmdstanpy:input tempfile: /tmp/tmpl9abl34v/j2tzl7j5.json\n",
            "DEBUG:cmdstanpy:input tempfile: /tmp/tmpl9abl34v/0uh5osvy.json\n",
            "DEBUG:cmdstanpy:idx 0\n",
            "DEBUG:cmdstanpy:running CmdStan, num_threads: None\n",
            "DEBUG:cmdstanpy:CmdStan args: ['/usr/local/lib/python3.8/dist-packages/prophet/stan_model/prophet_model.bin', 'random', 'seed=44176', 'data', 'file=/tmp/tmpl9abl34v/j2tzl7j5.json', 'init=/tmp/tmpl9abl34v/0uh5osvy.json', 'output', 'file=/tmp/tmpl9abl34v/prophet_modelbrxz4x8r/prophet_model-20230112201214.csv', 'method=optimize', 'algorithm=newton', 'iter=10000']\n",
            "20:12:14 - cmdstanpy - INFO - Chain [1] start processing\n",
            "INFO:cmdstanpy:Chain [1] start processing\n",
            "20:12:14 - cmdstanpy - INFO - Chain [1] done processing\n",
            "INFO:cmdstanpy:Chain [1] done processing\n",
            "INFO:prophet:Disabling yearly seasonality. Run prophet with yearly_seasonality=True to override this.\n",
            "INFO:prophet:Disabling weekly seasonality. Run prophet with weekly_seasonality=True to override this.\n",
            "INFO:prophet:Disabling daily seasonality. Run prophet with daily_seasonality=True to override this.\n",
            "INFO:prophet:n_changepoints greater than number of observations. Using 10.\n",
            "DEBUG:cmdstanpy:input tempfile: /tmp/tmpl9abl34v/4fwgi7b5.json\n",
            "DEBUG:cmdstanpy:input tempfile: /tmp/tmpl9abl34v/xg7vvzyl.json\n",
            "DEBUG:cmdstanpy:idx 0\n",
            "DEBUG:cmdstanpy:running CmdStan, num_threads: None\n",
            "DEBUG:cmdstanpy:CmdStan args: ['/usr/local/lib/python3.8/dist-packages/prophet/stan_model/prophet_model.bin', 'random', 'seed=20794', 'data', 'file=/tmp/tmpl9abl34v/4fwgi7b5.json', 'init=/tmp/tmpl9abl34v/xg7vvzyl.json', 'output', 'file=/tmp/tmpl9abl34v/prophet_model15mk3e1f/prophet_model-20230112201215.csv', 'method=optimize', 'algorithm=newton', 'iter=10000']\n",
            "20:12:15 - cmdstanpy - INFO - Chain [1] start processing\n",
            "INFO:cmdstanpy:Chain [1] start processing\n",
            "20:12:15 - cmdstanpy - INFO - Chain [1] done processing\n",
            "INFO:cmdstanpy:Chain [1] done processing\n"
          ]
        },
        {
          "output_type": "stream",
          "name": "stdout",
          "text": [
            "Model Number: 246 with model FBProphet in generation 1 of 10\n",
            "Model Number: 247 with model UnobservedComponents in generation 1 of 10\n"
          ]
        },
        {
          "output_type": "stream",
          "name": "stderr",
          "text": [
            "INFO:prophet:Disabling yearly seasonality. Run prophet with yearly_seasonality=True to override this.\n",
            "INFO:prophet:Disabling weekly seasonality. Run prophet with weekly_seasonality=True to override this.\n",
            "INFO:prophet:Disabling daily seasonality. Run prophet with daily_seasonality=True to override this.\n",
            "DEBUG:cmdstanpy:input tempfile: /tmp/tmpl9abl34v/l4xzkz30.json\n",
            "DEBUG:cmdstanpy:input tempfile: /tmp/tmpl9abl34v/fft_ev79.json\n",
            "DEBUG:cmdstanpy:idx 0\n",
            "DEBUG:cmdstanpy:running CmdStan, num_threads: None\n",
            "DEBUG:cmdstanpy:CmdStan args: ['/usr/local/lib/python3.8/dist-packages/prophet/stan_model/prophet_model.bin', 'random', 'seed=56741', 'data', 'file=/tmp/tmpl9abl34v/l4xzkz30.json', 'init=/tmp/tmpl9abl34v/fft_ev79.json', 'output', 'file=/tmp/tmpl9abl34v/prophet_modeluvsj3uqj/prophet_model-20230112201216.csv', 'method=optimize', 'algorithm=newton', 'iter=10000']\n",
            "20:12:16 - cmdstanpy - INFO - Chain [1] start processing\n",
            "INFO:cmdstanpy:Chain [1] start processing\n"
          ]
        },
        {
          "output_type": "stream",
          "name": "stdout",
          "text": [
            "Model Number: 248 with model FBProphet in generation 1 of 10\n"
          ]
        },
        {
          "output_type": "stream",
          "name": "stderr",
          "text": [
            "20:12:16 - cmdstanpy - INFO - Chain [1] done processing\n",
            "INFO:cmdstanpy:Chain [1] done processing\n"
          ]
        },
        {
          "output_type": "stream",
          "name": "stdout",
          "text": [
            "Model Number: 249 with model ETS in generation 1 of 10\n",
            "Model Number: 250 with model SeasonalNaive in generation 1 of 10\n",
            "Model Number: 251 with model ARIMA in generation 1 of 10\n",
            "Model Number: 252 with model NVAR in generation 1 of 10\n",
            "Model Number: 253 with model ARIMA in generation 1 of 10\n",
            "Model Number: 254 with model NVAR in generation 1 of 10\n",
            "Model Number: 255 with model MultivariateRegression in generation 1 of 10\n",
            "Model Number: 256 with model ETS in generation 1 of 10\n",
            "Model Number: 257 with model GLS in generation 1 of 10\n",
            "Model Number: 258 with model SeasonalNaive in generation 1 of 10\n",
            "Model Number: 259 with model ARIMA in generation 1 of 10\n"
          ]
        },
        {
          "output_type": "stream",
          "name": "stderr",
          "text": [
            "/usr/local/lib/python3.8/dist-packages/sklearn/preprocessing/_data.py:3253: RuntimeWarning:\n",
            "\n",
            "divide by zero encountered in log\n",
            "\n",
            "/usr/local/lib/python3.8/dist-packages/autots/tools/probabilistic.py:67: RuntimeWarning:\n",
            "\n",
            "invalid value encountered in true_divide\n",
            "\n",
            "/usr/local/lib/python3.8/dist-packages/autots/tools/probabilistic.py:68: RuntimeWarning:\n",
            "\n",
            "divide by zero encountered in true_divide\n",
            "\n",
            "/usr/local/lib/python3.8/dist-packages/sklearn/preprocessing/_data.py:3196: RuntimeWarning:\n",
            "\n",
            "divide by zero encountered in power\n",
            "\n",
            "/usr/local/lib/python3.8/dist-packages/sklearn/preprocessing/_data.py:3196: RuntimeWarning:\n",
            "\n",
            "divide by zero encountered in power\n",
            "\n",
            "/usr/local/lib/python3.8/dist-packages/sklearn/preprocessing/_data.py:3196: RuntimeWarning:\n",
            "\n",
            "divide by zero encountered in power\n",
            "\n"
          ]
        },
        {
          "output_type": "stream",
          "name": "stdout",
          "text": [
            "Model Number: 260 with model LastValueNaive in generation 1 of 10\n",
            "Template Eval Error: Exception('Transformer BTCD failed on fit') in model 260: LastValueNaive\n",
            "Model Number: 261 with model ARIMA in generation 1 of 10\n",
            "Model Number: 262 with model Theta in generation 1 of 10\n",
            "Model Number: 263 with model UnobservedComponents in generation 1 of 10\n",
            "Model Number: 264 with model Theta in generation 1 of 10\n",
            "Model Number: 265 with model MultivariateRegression in generation 1 of 10\n",
            "Model Number: 266 with model ARIMA in generation 1 of 10\n",
            "Model Number: 267 with model DatepartRegression in generation 1 of 10\n",
            "Model Number: 268 with model NVAR in generation 1 of 10\n",
            "Template Eval Error: Exception('Transformer Cointegration failed on fit') in model 268: NVAR\n",
            "Model Number: 269 with model AverageValueNaive in generation 1 of 10\n",
            "No anomalies detected.\n",
            "Template Eval Error: Exception('Transformer HolidayTransformer failed on fit') in model 269: AverageValueNaive\n",
            "Model Number: 270 with model SeasonalNaive in generation 1 of 10\n",
            "Model Number: 271 with model AverageValueNaive in generation 1 of 10\n",
            "No anomalies detected.\n",
            "Template Eval Error: Exception('Transformer HolidayTransformer failed on fit') in model 271: AverageValueNaive\n",
            "Model Number: 272 with model FBProphet in generation 1 of 10\n",
            "Template Eval Error: Exception('Transformer ScipyFilter failed on fit') in model 272: FBProphet\n",
            "Model Number: 273 with model MultivariateRegression in generation 1 of 10\n",
            "Model Number: 274 with model SeasonalNaive in generation 1 of 10\n",
            "Model Number: 275 with model LastValueNaive in generation 1 of 10\n",
            "Model Number: 276 with model Theta in generation 1 of 10\n",
            "Model Number: 277 with model LastValueNaive in generation 1 of 10\n",
            "Model Number: 278 with model ARIMA in generation 1 of 10\n",
            "Model Number: 279 with model DatepartRegression in generation 1 of 10\n",
            "Template Eval Error: ValueError(\"regression_type='User' but no future_regressor passed\") in model 279: DatepartRegression\n",
            "Model Number: 280 with model ARIMA in generation 1 of 10\n",
            "Model Number: 281 with model Theta in generation 1 of 10\n",
            "Model Number: 282 with model GLM in generation 1 of 10\n",
            "Model Number: 283 with model NVAR in generation 1 of 10\n",
            "Template Eval Error: Exception('Transformer BTCD failed on fit') in model 283: NVAR\n",
            "Model Number: 284 with model SeasonalNaive in generation 1 of 10\n",
            "Model Number: 285 with model LastValueNaive in generation 1 of 10\n",
            "Model Number: 286 with model NVAR in generation 1 of 10\n",
            "Model Number: 287 with model DatepartRegression in generation 1 of 10\n",
            "Model Number: 288 with model UnobservedComponents in generation 1 of 10\n",
            "Template Eval Error: ValueError(\"'shape' elements cannot be negative\") in model 288: UnobservedComponents\n",
            "Model Number: 289 with model LastValueNaive in generation 1 of 10\n",
            "Model Number: 290 with model MultivariateRegression in generation 1 of 10\n",
            "Template Eval Error: ValueError(\"regression_type='User' but not future_regressor supplied.\") in model 290: MultivariateRegression\n",
            "Model Number: 291 with model NVAR in generation 1 of 10\n",
            "Model Number: 292 with model MultivariateMotif in generation 1 of 10\n",
            "Model Number: 293 with model Theta in generation 1 of 10\n"
          ]
        },
        {
          "output_type": "stream",
          "name": "stderr",
          "text": [
            "/usr/local/lib/python3.8/dist-packages/autots/tools/window_functions.py:478: RuntimeWarning:\n",
            "\n",
            "invalid value encountered in true_divide\n",
            "\n"
          ]
        },
        {
          "output_type": "stream",
          "name": "stdout",
          "text": [
            "Model Number: 294 with model FBProphet in generation 1 of 10\n"
          ]
        },
        {
          "output_type": "stream",
          "name": "stderr",
          "text": [
            "INFO:prophet:Disabling yearly seasonality. Run prophet with yearly_seasonality=True to override this.\n",
            "INFO:prophet:Disabling weekly seasonality. Run prophet with weekly_seasonality=True to override this.\n",
            "INFO:prophet:Disabling daily seasonality. Run prophet with daily_seasonality=True to override this.\n",
            "INFO:prophet:n_changepoints greater than number of observations. Using 4.\n",
            "DEBUG:cmdstanpy:input tempfile: /tmp/tmpl9abl34v/ihb8cbvf.json\n",
            "DEBUG:cmdstanpy:input tempfile: /tmp/tmpl9abl34v/oglnaa32.json\n",
            "DEBUG:cmdstanpy:idx 0\n",
            "DEBUG:cmdstanpy:running CmdStan, num_threads: None\n",
            "DEBUG:cmdstanpy:CmdStan args: ['/usr/local/lib/python3.8/dist-packages/prophet/stan_model/prophet_model.bin', 'random', 'seed=89696', 'data', 'file=/tmp/tmpl9abl34v/ihb8cbvf.json', 'init=/tmp/tmpl9abl34v/oglnaa32.json', 'output', 'file=/tmp/tmpl9abl34v/prophet_model8qg7f4hx/prophet_model-20230112201235.csv', 'method=optimize', 'algorithm=newton', 'iter=10000']\n",
            "20:12:35 - cmdstanpy - INFO - Chain [1] start processing\n",
            "INFO:cmdstanpy:Chain [1] start processing\n",
            "20:12:35 - cmdstanpy - INFO - Chain [1] done processing\n",
            "INFO:cmdstanpy:Chain [1] done processing\n"
          ]
        },
        {
          "output_type": "stream",
          "name": "stdout",
          "text": [
            "Model Number: 295 with model ARIMA in generation 1 of 10\n",
            "Model Number: 296 with model NVAR in generation 1 of 10\n",
            "Model Number: 297 with model NVAR in generation 1 of 10\n",
            "Model Number: 298 with model NVAR in generation 1 of 10\n",
            "Model Number: 299 with model DatepartRegression in generation 1 of 10\n",
            "Model Number: 300 with model ETS in generation 1 of 10\n",
            "Model Number: 301 with model MultivariateRegression in generation 1 of 10\n",
            "Model Number: 302 with model GLS in generation 1 of 10\n",
            "Model Number: 303 with model GLM in generation 1 of 10\n",
            "Model Number: 304 with model ConstantNaive in generation 1 of 10\n",
            "Model Number: 305 with model AverageValueNaive in generation 1 of 10\n",
            "Model Number: 306 with model DatepartRegression in generation 1 of 10\n"
          ]
        },
        {
          "output_type": "stream",
          "name": "stderr",
          "text": [
            "/usr/local/lib/python3.8/dist-packages/statsmodels/genmod/families/family.py:1227: RuntimeWarning:\n",
            "\n",
            "divide by zero encountered in true_divide\n",
            "\n",
            "[Parallel(n_jobs=-2)]: Using backend SequentialBackend with 1 concurrent workers.\n",
            "[Parallel(n_jobs=-2)]: Done 100 out of 100 | elapsed:    0.1s finished\n",
            "[Parallel(n_jobs=1)]: Using backend SequentialBackend with 1 concurrent workers.\n",
            "[Parallel(n_jobs=1)]: Done 100 out of 100 | elapsed:    0.0s finished\n"
          ]
        },
        {
          "output_type": "stream",
          "name": "stdout",
          "text": [
            "Model Number: 307 with model UnivariateMotif in generation 1 of 10\n",
            "Model Number: 308 with model AverageValueNaive in generation 1 of 10\n",
            "Model Number: 309 with model ARIMA in generation 1 of 10\n",
            "Model Number: 310 with model GLM in generation 1 of 10\n",
            "Template Eval Error: PerfectSeparationError('Perfect separation detected, results not available') in model 310: GLM\n",
            "Model Number: 311 with model GLM in generation 1 of 10\n",
            "Template Eval Error: PerfectSeparationError('Perfect separation detected, results not available') in model 311: GLM\n",
            "Model Number: 312 with model AverageValueNaive in generation 1 of 10\n",
            "Model Number: 313 with model ConstantNaive in generation 1 of 10\n",
            "New Generation: 2 of 10\n",
            "Model Number: 314 with model UnobservedComponents in generation 2 of 10\n",
            "Model Number: 315 with model Theta in generation 2 of 10\n",
            "Model Number: 316 with model MultivariateRegression in generation 2 of 10\n",
            "Model Number: 317 with model ETS in generation 2 of 10\n",
            "Template Eval Error: Exception('Transformer Detrend failed on fit') in model 317: ETS\n",
            "Model Number: 318 with model MultivariateRegression in generation 2 of 10\n",
            "Model Number: 319 with model Theta in generation 2 of 10\n"
          ]
        },
        {
          "output_type": "stream",
          "name": "stderr",
          "text": [
            "/usr/local/lib/python3.8/dist-packages/sklearn/preprocessing/_data.py:3253: RuntimeWarning:\n",
            "\n",
            "divide by zero encountered in log\n",
            "\n",
            "INFO:prophet:Disabling yearly seasonality. Run prophet with yearly_seasonality=True to override this.\n",
            "INFO:prophet:Disabling weekly seasonality. Run prophet with weekly_seasonality=True to override this.\n"
          ]
        },
        {
          "output_type": "stream",
          "name": "stdout",
          "text": [
            "Template Eval Error: ValueError(\"Model returned NaN due to a preprocessing transformer {'fillna': None, 'transformations': {'0': 'PowerTransformer', '1': 'HPFilter'}, 'transformation_params': {'0': {}, '1': {'part': 'cycle', 'lamb': 1600}}}. fail_on_forecast_nan=True\") in model 319: Theta\n",
            "Model Number: 320 with model FBProphet in generation 2 of 10\n"
          ]
        },
        {
          "output_type": "stream",
          "name": "stderr",
          "text": [
            "INFO:prophet:Disabling daily seasonality. Run prophet with daily_seasonality=True to override this.\n",
            "INFO:prophet:n_changepoints greater than number of observations. Using 10.\n",
            "DEBUG:cmdstanpy:input tempfile: /tmp/tmpl9abl34v/bson165t.json\n",
            "DEBUG:cmdstanpy:input tempfile: /tmp/tmpl9abl34v/m6r515v7.json\n",
            "DEBUG:cmdstanpy:idx 0\n",
            "DEBUG:cmdstanpy:running CmdStan, num_threads: None\n",
            "DEBUG:cmdstanpy:CmdStan args: ['/usr/local/lib/python3.8/dist-packages/prophet/stan_model/prophet_model.bin', 'random', 'seed=940', 'data', 'file=/tmp/tmpl9abl34v/bson165t.json', 'init=/tmp/tmpl9abl34v/m6r515v7.json', 'output', 'file=/tmp/tmpl9abl34v/prophet_model4uh2j_1d/prophet_model-20230112201239.csv', 'method=optimize', 'algorithm=newton', 'iter=10000']\n",
            "20:12:39 - cmdstanpy - INFO - Chain [1] start processing\n",
            "INFO:cmdstanpy:Chain [1] start processing\n",
            "20:12:39 - cmdstanpy - INFO - Chain [1] done processing\n",
            "INFO:cmdstanpy:Chain [1] done processing\n"
          ]
        },
        {
          "output_type": "stream",
          "name": "stdout",
          "text": [
            "Model Number: 321 with model ConstantNaive in generation 2 of 10\n",
            "Model Number: 322 with model UnivariateMotif in generation 2 of 10\n",
            "Model Number: 323 with model GLM in generation 2 of 10\n",
            "Template Eval Error: ValueError('NaN, inf or invalid value detected in weights, estimation infeasible.') in model 323: GLM\n",
            "Model Number: 324 with model NVAR in generation 2 of 10\n",
            "Model Number: 325 with model UnobservedComponents in generation 2 of 10\n",
            "Model Number: 326 with model Theta in generation 2 of 10\n"
          ]
        },
        {
          "output_type": "stream",
          "name": "stderr",
          "text": [
            "/usr/local/lib/python3.8/dist-packages/statsmodels/genmod/families/links.py:517: RuntimeWarning:\n",
            "\n",
            "overflow encountered in exp\n",
            "\n",
            "/usr/local/lib/python3.8/dist-packages/statsmodels/genmod/families/family.py:1227: RuntimeWarning:\n",
            "\n",
            "divide by zero encountered in true_divide\n",
            "\n",
            "/usr/local/lib/python3.8/dist-packages/statsmodels/genmod/families/family.py:1231: RuntimeWarning:\n",
            "\n",
            "divide by zero encountered in log\n",
            "\n",
            "/usr/local/lib/python3.8/dist-packages/statsmodels/genmod/families/family.py:134: RuntimeWarning:\n",
            "\n",
            "invalid value encountered in multiply\n",
            "\n",
            "/usr/local/lib/python3.8/dist-packages/statsmodels/genmod/generalized_linear_model.py:1198: RuntimeWarning:\n",
            "\n",
            "invalid value encountered in multiply\n",
            "\n"
          ]
        },
        {
          "output_type": "stream",
          "name": "stdout",
          "text": [
            "Model Number: 327 with model UnobservedComponents in generation 2 of 10\n",
            "Model Number: 328 with model UnobservedComponents in generation 2 of 10\n",
            "Model Number: 329 with model Theta in generation 2 of 10\n",
            "Model Number: 330 with model AverageValueNaive in generation 2 of 10\n",
            "Model Number: 331 with model NVAR in generation 2 of 10\n",
            "Model Number: 332 with model GLM in generation 2 of 10\n",
            "Template Eval Error: PerfectSeparationError('Perfect separation detected, results not available') in model 332: GLM\n",
            "Model Number: 333 with model ETS in generation 2 of 10\n",
            "Model Number: 334 with model LastValueNaive in generation 2 of 10\n",
            "Model Number: 335 with model NVAR in generation 2 of 10\n",
            "Model Number: 336 with model UnobservedComponents in generation 2 of 10\n",
            "Model Number: 337 with model AverageValueNaive in generation 2 of 10\n",
            "Model Number: 338 with model Theta in generation 2 of 10\n",
            "Model Number: 339 with model Theta in generation 2 of 10\n",
            "Model Number: 340 with model SeasonalNaive in generation 2 of 10\n",
            "Template Eval Error: Exception('Transformer DifferencedTransformer failed on inverse') in model 340: SeasonalNaive\n",
            "Model Number: 341 with model DatepartRegression in generation 2 of 10\n",
            "Model Number: 342 with model UnobservedComponents in generation 2 of 10\n",
            "Template Eval Error: ValueError(\"'shape' elements cannot be negative\") in model 342: UnobservedComponents\n",
            "Model Number: 343 with model ARIMA in generation 2 of 10\n"
          ]
        },
        {
          "output_type": "stream",
          "name": "stderr",
          "text": [
            "[Parallel(n_jobs=-2)]: Using backend SequentialBackend with 1 concurrent workers.\n",
            "[Parallel(n_jobs=-2)]: Done 100 out of 100 | elapsed:    0.1s finished\n",
            "[Parallel(n_jobs=1)]: Using backend SequentialBackend with 1 concurrent workers.\n",
            "[Parallel(n_jobs=1)]: Done 100 out of 100 | elapsed:    0.0s finished\n",
            "/usr/local/lib/python3.8/dist-packages/autots/tools/window_functions.py:478: RuntimeWarning:\n",
            "\n",
            "invalid value encountered in true_divide\n",
            "\n",
            "/usr/local/lib/python3.8/dist-packages/sklearn/preprocessing/_data.py:461: RuntimeWarning:\n",
            "\n",
            "All-NaN slice encountered\n",
            "\n",
            "/usr/local/lib/python3.8/dist-packages/sklearn/preprocessing/_data.py:462: RuntimeWarning:\n",
            "\n",
            "All-NaN slice encountered\n",
            "\n"
          ]
        },
        {
          "output_type": "stream",
          "name": "stdout",
          "text": [
            "Model Number: 344 with model WindowRegression in generation 2 of 10\n",
            "Template Eval Error: ValueError(\"regression_type='User' but no future_regressor passed\") in model 344: WindowRegression\n",
            "Model Number: 345 with model NVAR in generation 2 of 10\n",
            "Model Number: 346 with model ARIMA in generation 2 of 10\n",
            "Model Number: 347 with model NVAR in generation 2 of 10\n",
            "Model Number: 348 with model Theta in generation 2 of 10\n",
            "Model Number: 349 with model NVAR in generation 2 of 10\n",
            "Model Number: 350 with model LastValueNaive in generation 2 of 10\n",
            "Model Number: 351 with model FBProphet in generation 2 of 10\n"
          ]
        },
        {
          "output_type": "stream",
          "name": "stderr",
          "text": [
            "INFO:prophet:Disabling yearly seasonality. Run prophet with yearly_seasonality=True to override this.\n",
            "INFO:prophet:Disabling weekly seasonality. Run prophet with weekly_seasonality=True to override this.\n",
            "INFO:prophet:Disabling daily seasonality. Run prophet with daily_seasonality=True to override this.\n",
            "INFO:prophet:n_changepoints greater than number of observations. Using 10.\n",
            "DEBUG:cmdstanpy:input tempfile: /tmp/tmpl9abl34v/5oglmx1f.json\n",
            "DEBUG:cmdstanpy:input tempfile: /tmp/tmpl9abl34v/lk680tc9.json\n",
            "DEBUG:cmdstanpy:idx 0\n",
            "DEBUG:cmdstanpy:running CmdStan, num_threads: None\n",
            "DEBUG:cmdstanpy:CmdStan args: ['/usr/local/lib/python3.8/dist-packages/prophet/stan_model/prophet_model.bin', 'random', 'seed=74148', 'data', 'file=/tmp/tmpl9abl34v/5oglmx1f.json', 'init=/tmp/tmpl9abl34v/lk680tc9.json', 'output', 'file=/tmp/tmpl9abl34v/prophet_modelr4f5v2bw/prophet_model-20230112201249.csv', 'method=optimize', 'algorithm=newton', 'iter=10000']\n",
            "20:12:49 - cmdstanpy - INFO - Chain [1] start processing\n",
            "INFO:cmdstanpy:Chain [1] start processing\n",
            "20:12:49 - cmdstanpy - INFO - Chain [1] done processing\n",
            "INFO:cmdstanpy:Chain [1] done processing\n"
          ]
        },
        {
          "output_type": "stream",
          "name": "stdout",
          "text": [
            "Model Number: 352 with model ARIMA in generation 2 of 10\n",
            "Model Number: 353 with model SeasonalNaive in generation 2 of 10\n",
            "Model Number: 354 with model Theta in generation 2 of 10\n",
            "Model Number: 355 with model ETS in generation 2 of 10\n",
            "ETS error ValueError('endog must be strictly positive when usingmultiplicative trend or seasonal components.')\n",
            "ETS failed on Close with ValueError('endog must be strictly positive when usingmultiplicative trend or seasonal components.')\n",
            "Model Number: 356 with model GLM in generation 2 of 10\n",
            "Template Eval Error: Exception('Transformer ScipyFilter failed on fit') in model 356: GLM\n",
            "Model Number: 357 with model LastValueNaive in generation 2 of 10\n",
            "Model Number: 358 with model LastValueNaive in generation 2 of 10\n",
            "Model Number: 359 with model AverageValueNaive in generation 2 of 10\n",
            "Model Number: 360 with model Theta in generation 2 of 10\n",
            "Model Number: 361 with model WindowRegression in generation 2 of 10\n",
            "Model Number: 362 with model ARIMA in generation 2 of 10\n",
            "Model Number: 363 with model ARIMA in generation 2 of 10\n",
            "Model Number: 364 with model Theta in generation 2 of 10\n"
          ]
        },
        {
          "output_type": "stream",
          "name": "stderr",
          "text": [
            "INFO:prophet:Disabling yearly seasonality. Run prophet with yearly_seasonality=True to override this.\n",
            "INFO:prophet:Disabling weekly seasonality. Run prophet with weekly_seasonality=True to override this.\n",
            "INFO:prophet:Disabling daily seasonality. Run prophet with daily_seasonality=True to override this.\n",
            "INFO:prophet:n_changepoints greater than number of observations. Using 11.\n",
            "DEBUG:cmdstanpy:input tempfile: /tmp/tmpl9abl34v/sbeue8x8.json\n",
            "DEBUG:cmdstanpy:input tempfile: /tmp/tmpl9abl34v/j5sxvjik.json\n",
            "DEBUG:cmdstanpy:idx 0\n",
            "DEBUG:cmdstanpy:running CmdStan, num_threads: None\n",
            "DEBUG:cmdstanpy:CmdStan args: ['/usr/local/lib/python3.8/dist-packages/prophet/stan_model/prophet_model.bin', 'random', 'seed=91970', 'data', 'file=/tmp/tmpl9abl34v/sbeue8x8.json', 'init=/tmp/tmpl9abl34v/j5sxvjik.json', 'output', 'file=/tmp/tmpl9abl34v/prophet_modeljklzuftd/prophet_model-20230112201254.csv', 'method=optimize', 'algorithm=newton', 'iter=10000']\n",
            "20:12:54 - cmdstanpy - INFO - Chain [1] start processing\n",
            "INFO:cmdstanpy:Chain [1] start processing\n"
          ]
        },
        {
          "output_type": "stream",
          "name": "stdout",
          "text": [
            "Model Number: 365 with model FBProphet in generation 2 of 10\n"
          ]
        },
        {
          "output_type": "stream",
          "name": "stderr",
          "text": [
            "20:12:54 - cmdstanpy - INFO - Chain [1] done processing\n",
            "INFO:cmdstanpy:Chain [1] done processing\n"
          ]
        },
        {
          "output_type": "stream",
          "name": "stdout",
          "text": [
            "Model Number: 366 with model ARIMA in generation 2 of 10\n",
            "Model Number: 367 with model LastValueNaive in generation 2 of 10\n",
            "Model Number: 368 with model DatepartRegression in generation 2 of 10\n",
            "Model Number: 369 with model SeasonalNaive in generation 2 of 10\n",
            "Model Number: 370 with model GLS in generation 2 of 10\n",
            "Model Number: 371 with model ETS in generation 2 of 10\n",
            "ETS error ValueError('Can only dampen the trend component')\n",
            "ETS failed on Close with ValueError('Can only dampen the trend component')\n",
            "Model Number: 372 with model UnivariateMotif in generation 2 of 10\n",
            "Model Number: 373 with model DatepartRegression in generation 2 of 10\n",
            "Epoch 1/50\n",
            "1/1 [==============================] - 4s 4s/step - loss: 26.5141\n",
            "Epoch 2/50\n",
            "1/1 [==============================] - 0s 17ms/step - loss: 5.4431\n",
            "Epoch 3/50\n",
            "1/1 [==============================] - 0s 30ms/step - loss: 2.8176\n",
            "Epoch 4/50\n",
            "1/1 [==============================] - 0s 22ms/step - loss: 5.4286\n",
            "Epoch 5/50\n",
            "1/1 [==============================] - 0s 18ms/step - loss: 3.0652\n",
            "Epoch 6/50\n",
            "1/1 [==============================] - 0s 18ms/step - loss: 4.9972\n",
            "Epoch 7/50\n",
            "1/1 [==============================] - 0s 21ms/step - loss: 1.8852\n",
            "Epoch 8/50\n",
            "1/1 [==============================] - 0s 22ms/step - loss: 4.3152\n",
            "Epoch 9/50\n",
            "1/1 [==============================] - 0s 25ms/step - loss: 1.2821\n",
            "Epoch 10/50\n",
            "1/1 [==============================] - 0s 20ms/step - loss: 2.7088\n",
            "Epoch 11/50\n",
            "1/1 [==============================] - 0s 18ms/step - loss: 2.3163\n",
            "Epoch 12/50\n",
            "1/1 [==============================] - 0s 20ms/step - loss: 2.5878\n",
            "Epoch 13/50\n",
            "1/1 [==============================] - 0s 23ms/step - loss: 2.0984\n",
            "Epoch 14/50\n",
            "1/1 [==============================] - 0s 22ms/step - loss: 2.7726\n",
            "Epoch 15/50\n",
            "1/1 [==============================] - 0s 17ms/step - loss: 1.8436\n",
            "Epoch 16/50\n",
            "1/1 [==============================] - 0s 25ms/step - loss: 2.0351\n",
            "Epoch 17/50\n",
            "1/1 [==============================] - 0s 21ms/step - loss: 1.6760\n",
            "Epoch 18/50\n",
            "1/1 [==============================] - 0s 27ms/step - loss: 2.0674\n",
            "Epoch 19/50\n",
            "1/1 [==============================] - 0s 24ms/step - loss: 1.8053\n",
            "Epoch 20/50\n",
            "1/1 [==============================] - 0s 26ms/step - loss: 2.2412\n",
            "Epoch 21/50\n",
            "1/1 [==============================] - 0s 24ms/step - loss: 1.8635\n",
            "Epoch 22/50\n",
            "1/1 [==============================] - 0s 22ms/step - loss: 2.2425\n",
            "Epoch 23/50\n",
            "1/1 [==============================] - 0s 25ms/step - loss: 1.6454\n",
            "Epoch 24/50\n",
            "1/1 [==============================] - 0s 21ms/step - loss: 2.0198\n",
            "Epoch 25/50\n",
            "1/1 [==============================] - 0s 19ms/step - loss: 1.4266\n",
            "Epoch 26/50\n",
            "1/1 [==============================] - 0s 20ms/step - loss: 1.8203\n",
            "Epoch 27/50\n",
            "1/1 [==============================] - 0s 17ms/step - loss: 1.6769\n",
            "Epoch 28/50\n",
            "1/1 [==============================] - 0s 20ms/step - loss: 2.1847\n",
            "Epoch 29/50\n",
            "1/1 [==============================] - 0s 23ms/step - loss: 1.5428\n",
            "Epoch 30/50\n",
            "1/1 [==============================] - 0s 31ms/step - loss: 2.1607\n",
            "Epoch 31/50\n",
            "1/1 [==============================] - 0s 28ms/step - loss: 1.4494\n",
            "Epoch 32/50\n",
            "1/1 [==============================] - 0s 22ms/step - loss: 1.9364\n",
            "Epoch 33/50\n",
            "1/1 [==============================] - 0s 23ms/step - loss: 1.4904\n",
            "Epoch 34/50\n",
            "1/1 [==============================] - 0s 22ms/step - loss: 1.8939\n",
            "Epoch 35/50\n",
            "1/1 [==============================] - 0s 21ms/step - loss: 1.8128\n",
            "Epoch 36/50\n",
            "1/1 [==============================] - 0s 20ms/step - loss: 1.9046\n",
            "Epoch 37/50\n",
            "1/1 [==============================] - 0s 23ms/step - loss: 1.5854\n",
            "Epoch 38/50\n",
            "1/1 [==============================] - 0s 19ms/step - loss: 1.9396\n",
            "Epoch 39/50\n",
            "1/1 [==============================] - 0s 19ms/step - loss: 1.4750\n",
            "Epoch 40/50\n",
            "1/1 [==============================] - 0s 21ms/step - loss: 1.9455\n",
            "Epoch 41/50\n",
            "1/1 [==============================] - 0s 20ms/step - loss: 1.4001\n",
            "Epoch 42/50\n",
            "1/1 [==============================] - 0s 21ms/step - loss: 1.9732\n",
            "Epoch 43/50\n",
            "1/1 [==============================] - 0s 25ms/step - loss: 1.0879\n",
            "Epoch 44/50\n",
            "1/1 [==============================] - 0s 21ms/step - loss: 1.7494\n",
            "Epoch 45/50\n",
            "1/1 [==============================] - 0s 21ms/step - loss: 1.3506\n",
            "Epoch 46/50\n",
            "1/1 [==============================] - 0s 28ms/step - loss: 2.1080\n",
            "Epoch 47/50\n",
            "1/1 [==============================] - 0s 32ms/step - loss: 1.2441\n",
            "Epoch 48/50\n",
            "1/1 [==============================] - 0s 20ms/step - loss: 2.0833\n",
            "Epoch 49/50\n",
            "1/1 [==============================] - 0s 20ms/step - loss: 1.1765\n",
            "Epoch 50/50\n",
            "1/1 [==============================] - 0s 24ms/step - loss: 2.0751\n",
            "1/1 [==============================] - 1s 702ms/step\n",
            "Model Number: 374 with model UnobservedComponents in generation 2 of 10\n",
            "Model Number: 375 with model GLS in generation 2 of 10\n",
            "Model Number: 376 with model ETS in generation 2 of 10\n"
          ]
        },
        {
          "output_type": "stream",
          "name": "stderr",
          "text": [
            "INFO:prophet:Disabling yearly seasonality. Run prophet with yearly_seasonality=True to override this.\n",
            "INFO:prophet:Disabling weekly seasonality. Run prophet with weekly_seasonality=True to override this.\n",
            "INFO:prophet:Disabling daily seasonality. Run prophet with daily_seasonality=True to override this.\n"
          ]
        },
        {
          "output_type": "stream",
          "name": "stdout",
          "text": [
            "Model Number: 377 with model FBProphet in generation 2 of 10\n"
          ]
        },
        {
          "output_type": "stream",
          "name": "stderr",
          "text": [
            "INFO:prophet:n_changepoints greater than number of observations. Using 10.\n",
            "DEBUG:cmdstanpy:input tempfile: /tmp/tmpl9abl34v/ygxgwn_7.json\n",
            "DEBUG:cmdstanpy:input tempfile: /tmp/tmpl9abl34v/1mwmw4kb.json\n",
            "DEBUG:cmdstanpy:idx 0\n",
            "DEBUG:cmdstanpy:running CmdStan, num_threads: None\n",
            "DEBUG:cmdstanpy:CmdStan args: ['/usr/local/lib/python3.8/dist-packages/prophet/stan_model/prophet_model.bin', 'random', 'seed=35838', 'data', 'file=/tmp/tmpl9abl34v/ygxgwn_7.json', 'init=/tmp/tmpl9abl34v/1mwmw4kb.json', 'output', 'file=/tmp/tmpl9abl34v/prophet_modelh0qmplna/prophet_model-20230112201305.csv', 'method=optimize', 'algorithm=newton', 'iter=10000']\n",
            "20:13:05 - cmdstanpy - INFO - Chain [1] start processing\n",
            "INFO:cmdstanpy:Chain [1] start processing\n",
            "20:13:05 - cmdstanpy - INFO - Chain [1] done processing\n",
            "INFO:cmdstanpy:Chain [1] done processing\n"
          ]
        },
        {
          "output_type": "stream",
          "name": "stdout",
          "text": [
            "Model Number: 378 with model Theta in generation 2 of 10\n",
            "Model Number: 379 with model UnobservedComponents in generation 2 of 10\n",
            "Template Eval Error: Exception('Transformer Detrend failed on fit') in model 379: UnobservedComponents\n",
            "Model Number: 380 with model ARIMA in generation 2 of 10\n",
            "Model Number: 381 with model Theta in generation 2 of 10\n",
            "Model Number: 382 with model ETS in generation 2 of 10\n",
            "Model Number: 383 with model DatepartRegression in generation 2 of 10\n",
            "Template Eval Error: Exception('Transformer Cointegration failed on fit') in model 383: DatepartRegression\n",
            "Model Number: 384 with model ARIMA in generation 2 of 10\n",
            "Model Number: 385 with model ARIMA in generation 2 of 10\n",
            "Template Eval Error: Exception('Transformer Detrend failed on fit') in model 385: ARIMA\n",
            "Model Number: 386 with model DatepartRegression in generation 2 of 10\n",
            "Model Number: 387 with model MultivariateRegression in generation 2 of 10\n",
            "Model Number: 388 with model LastValueNaive in generation 2 of 10\n"
          ]
        },
        {
          "output_type": "stream",
          "name": "stderr",
          "text": [
            "[Parallel(n_jobs=-2)]: Using backend SequentialBackend with 1 concurrent workers.\n",
            "[Parallel(n_jobs=-2)]: Done 100 out of 100 | elapsed:    0.1s finished\n",
            "[Parallel(n_jobs=1)]: Using backend SequentialBackend with 1 concurrent workers.\n",
            "[Parallel(n_jobs=1)]: Done 100 out of 100 | elapsed:    0.0s finished\n"
          ]
        },
        {
          "output_type": "stream",
          "name": "stdout",
          "text": [
            "Model Number: 389 with model UnobservedComponents in generation 2 of 10\n",
            "Model Number: 390 with model ARIMA in generation 2 of 10\n",
            "Model Number: 391 with model LastValueNaive in generation 2 of 10\n"
          ]
        },
        {
          "output_type": "stream",
          "name": "stderr",
          "text": [
            "INFO:prophet:Disabling yearly seasonality. Run prophet with yearly_seasonality=True to override this.\n",
            "INFO:prophet:Disabling weekly seasonality. Run prophet with weekly_seasonality=True to override this.\n",
            "INFO:prophet:Disabling daily seasonality. Run prophet with daily_seasonality=True to override this.\n",
            "INFO:prophet:n_changepoints greater than number of observations. Using 5.\n",
            "DEBUG:cmdstanpy:input tempfile: /tmp/tmpl9abl34v/sdxr486c.json\n",
            "DEBUG:cmdstanpy:input tempfile: /tmp/tmpl9abl34v/f0ha6umw.json\n",
            "DEBUG:cmdstanpy:idx 0\n",
            "DEBUG:cmdstanpy:running CmdStan, num_threads: None\n",
            "DEBUG:cmdstanpy:CmdStan args: ['/usr/local/lib/python3.8/dist-packages/prophet/stan_model/prophet_model.bin', 'random', 'seed=10597', 'data', 'file=/tmp/tmpl9abl34v/sdxr486c.json', 'init=/tmp/tmpl9abl34v/f0ha6umw.json', 'output', 'file=/tmp/tmpl9abl34v/prophet_model53u_4m_5/prophet_model-20230112201308.csv', 'method=optimize', 'algorithm=newton', 'iter=10000']\n",
            "20:13:08 - cmdstanpy - INFO - Chain [1] start processing\n",
            "INFO:cmdstanpy:Chain [1] start processing\n",
            "20:13:08 - cmdstanpy - INFO - Chain [1] done processing\n",
            "INFO:cmdstanpy:Chain [1] done processing\n"
          ]
        },
        {
          "output_type": "stream",
          "name": "stdout",
          "text": [
            "Model Number: 392 with model FBProphet in generation 2 of 10\n",
            "Model Number: 393 with model LastValueNaive in generation 2 of 10\n",
            "Model Number: 394 with model UnobservedComponents in generation 2 of 10\n",
            "Model Number: 395 with model Theta in generation 2 of 10\n",
            "Template Eval Error: ValueError('x must have 2 complete cycles requires 14 observations. x only has 7 observation(s)') in model 395: Theta\n",
            "Model Number: 396 with model Theta in generation 2 of 10\n",
            "Model Number: 397 with model Theta in generation 2 of 10\n",
            "Template Eval Error: ValueError('x must have 2 complete cycles requires 14 observations. x only has 7 observation(s)') in model 397: Theta\n",
            "Model Number: 398 with model UnivariateMotif in generation 2 of 10\n",
            "Template Eval Error: Exception('Transformer LocalLinearTrend failed on fit') in model 398: UnivariateMotif\n",
            "Model Number: 399 with model ETS in generation 2 of 10\n",
            "Model Number: 400 with model FBProphet in generation 2 of 10\n",
            "Template Eval Error: ValueError(\"regression_type='User' but no future_regressor passed\") in model 400: FBProphet\n",
            "Model Number: 401 with model ARIMA in generation 2 of 10\n",
            "Model Number: 402 with model MultivariateMotif in generation 2 of 10\n",
            "Model Number: 403 with model ARIMA in generation 2 of 10\n",
            "Model Number: 404 with model GLM in generation 2 of 10\n",
            "Model Number: 405 with model GLS in generation 2 of 10\n",
            "Model Number: 406 with model GLM in generation 2 of 10\n",
            "Template Eval Error: PerfectSeparationError('Perfect separation detected, results not available') in model 406: GLM\n",
            "Model Number: 407 with model UnobservedComponents in generation 2 of 10\n",
            "Model Number: 408 with model MultivariateRegression in generation 2 of 10\n"
          ]
        },
        {
          "output_type": "stream",
          "name": "stderr",
          "text": [
            "/usr/local/lib/python3.8/dist-packages/statsmodels/genmod/families/links.py:188: RuntimeWarning:\n",
            "\n",
            "overflow encountered in exp\n",
            "\n"
          ]
        },
        {
          "output_type": "stream",
          "name": "stdout",
          "text": [
            "Model Number: 409 with model GLS in generation 2 of 10\n",
            "Model Number: 410 with model DatepartRegression in generation 2 of 10\n",
            "Model Number: 411 with model FBProphet in generation 2 of 10\n",
            "Template Eval Error: ValueError(\"regression_type='User' but no future_regressor passed\") in model 411: FBProphet\n",
            "Model Number: 412 with model AverageValueNaive in generation 2 of 10\n",
            "Model Number: 413 with model UnobservedComponents in generation 2 of 10\n",
            "Model Number: 414 with model UnobservedComponents in generation 2 of 10\n",
            "Template Eval Error: Exception('Transformer ScipyFilter failed on fit') in model 414: UnobservedComponents\n",
            "Model Number: 415 with model SeasonalNaive in generation 2 of 10\n",
            "Model Number: 416 with model FBProphet in generation 2 of 10\n"
          ]
        },
        {
          "output_type": "stream",
          "name": "stderr",
          "text": [
            "INFO:prophet:Disabling yearly seasonality. Run prophet with yearly_seasonality=True to override this.\n",
            "INFO:prophet:Disabling weekly seasonality. Run prophet with weekly_seasonality=True to override this.\n",
            "INFO:prophet:Disabling daily seasonality. Run prophet with daily_seasonality=True to override this.\n",
            "DEBUG:cmdstanpy:input tempfile: /tmp/tmpl9abl34v/0f_tuhuo.json\n",
            "DEBUG:cmdstanpy:input tempfile: /tmp/tmpl9abl34v/xtcxscfw.json\n",
            "DEBUG:cmdstanpy:idx 0\n",
            "DEBUG:cmdstanpy:running CmdStan, num_threads: None\n",
            "DEBUG:cmdstanpy:CmdStan args: ['/usr/local/lib/python3.8/dist-packages/prophet/stan_model/prophet_model.bin', 'random', 'seed=96498', 'data', 'file=/tmp/tmpl9abl34v/0f_tuhuo.json', 'init=/tmp/tmpl9abl34v/xtcxscfw.json', 'output', 'file=/tmp/tmpl9abl34v/prophet_modelalz_5cj6/prophet_model-20230112201311.csv', 'method=optimize', 'algorithm=newton', 'iter=10000']\n",
            "20:13:11 - cmdstanpy - INFO - Chain [1] start processing\n",
            "INFO:cmdstanpy:Chain [1] start processing\n",
            "20:13:11 - cmdstanpy - INFO - Chain [1] done processing\n",
            "INFO:cmdstanpy:Chain [1] done processing\n"
          ]
        },
        {
          "output_type": "stream",
          "name": "stdout",
          "text": [
            "Model Number: 417 with model DatepartRegression in generation 2 of 10\n",
            "Template Eval Error: Exception('Transformer BTCD failed on fit') in model 417: DatepartRegression\n",
            "Model Number: 418 with model MultivariateMotif in generation 2 of 10\n",
            "Template Eval Error: ValueError('kth(=100) out of bounds (2)') in model 418: MultivariateMotif\n",
            "Model Number: 419 with model ETS in generation 2 of 10\n",
            "ETS error ValueError('endog must be strictly positive when usingmultiplicative trend or seasonal components.')\n",
            "ETS failed on Close with ValueError('endog must be strictly positive when usingmultiplicative trend or seasonal components.')\n",
            "Model Number: 420 with model NVAR in generation 2 of 10\n",
            "Model Number: 421 with model NVAR in generation 2 of 10\n"
          ]
        },
        {
          "output_type": "stream",
          "name": "stderr",
          "text": [
            "/usr/local/lib/python3.8/dist-packages/sklearn/preprocessing/_data.py:3253: RuntimeWarning:\n",
            "\n",
            "divide by zero encountered in log\n",
            "\n",
            "/usr/local/lib/python3.8/dist-packages/sklearn/preprocessing/_data.py:3196: RuntimeWarning:\n",
            "\n",
            "divide by zero encountered in power\n",
            "\n",
            "/usr/local/lib/python3.8/dist-packages/sklearn/preprocessing/_data.py:3196: RuntimeWarning:\n",
            "\n",
            "divide by zero encountered in power\n",
            "\n",
            "/usr/local/lib/python3.8/dist-packages/sklearn/preprocessing/_data.py:3196: RuntimeWarning:\n",
            "\n",
            "divide by zero encountered in power\n",
            "\n"
          ]
        },
        {
          "output_type": "stream",
          "name": "stdout",
          "text": [
            "Model Number: 422 with model LastValueNaive in generation 2 of 10\n",
            "Model Number: 423 with model NVAR in generation 2 of 10\n",
            "Model Number: 424 with model MultivariateRegression in generation 2 of 10\n"
          ]
        },
        {
          "output_type": "stream",
          "name": "stderr",
          "text": [
            "/usr/local/lib/python3.8/dist-packages/sklearn/preprocessing/_data.py:3253: RuntimeWarning:\n",
            "\n",
            "divide by zero encountered in log\n",
            "\n",
            "[Parallel(n_jobs=-2)]: Using backend SequentialBackend with 1 concurrent workers.\n"
          ]
        },
        {
          "output_type": "stream",
          "name": "stdout",
          "text": [
            "Model Number: 425 with model GLM in generation 2 of 10\n",
            "Template Eval Error: ValueError(\"Model returned NaN due to a preprocessing transformer {'fillna': 'ffill', 'transformations': {'0': 'PowerTransformer', '1': 'MaxAbsScaler'}, 'transformation_params': {'0': {}, '1': {}}}. fail_on_forecast_nan=True\") in model 425: GLM\n",
            "Model Number: 426 with model FBProphet in generation 2 of 10\n",
            "Template Eval Error: ValueError(\"regression_type='User' but no future_regressor passed\") in model 426: FBProphet\n",
            "Model Number: 427 with model GLM in generation 2 of 10\n",
            "Template Eval Error: ValueError('The first guess on the deviance function returned a nan.  This could be a boundary  problem and should be reported.') in model 427: GLM\n",
            "Model Number: 428 with model LastValueNaive in generation 2 of 10\n"
          ]
        },
        {
          "output_type": "stream",
          "name": "stderr",
          "text": [
            "[Parallel(n_jobs=-2)]: Done 200 out of 200 | elapsed:    0.1s finished\n",
            "[Parallel(n_jobs=1)]: Using backend SequentialBackend with 1 concurrent workers.\n",
            "[Parallel(n_jobs=1)]: Done 200 out of 200 | elapsed:    0.0s finished\n",
            "/usr/local/lib/python3.8/dist-packages/autots/tools/probabilistic.py:67: RuntimeWarning:\n",
            "\n",
            "invalid value encountered in true_divide\n",
            "\n",
            "/usr/local/lib/python3.8/dist-packages/autots/tools/probabilistic.py:68: RuntimeWarning:\n",
            "\n",
            "divide by zero encountered in true_divide\n",
            "\n",
            "/usr/local/lib/python3.8/dist-packages/sklearn/preprocessing/_data.py:3196: RuntimeWarning:\n",
            "\n",
            "divide by zero encountered in power\n",
            "\n",
            "/usr/local/lib/python3.8/dist-packages/sklearn/preprocessing/_data.py:3196: RuntimeWarning:\n",
            "\n",
            "divide by zero encountered in power\n",
            "\n",
            "/usr/local/lib/python3.8/dist-packages/sklearn/preprocessing/_data.py:3196: RuntimeWarning:\n",
            "\n",
            "divide by zero encountered in power\n",
            "\n",
            "/usr/local/lib/python3.8/dist-packages/sklearn/preprocessing/_data.py:3253: RuntimeWarning:\n",
            "\n",
            "divide by zero encountered in log\n",
            "\n",
            "/usr/local/lib/python3.8/dist-packages/statsmodels/genmod/families/family.py:1231: RuntimeWarning:\n",
            "\n",
            "invalid value encountered in log\n",
            "\n",
            "[Parallel(n_jobs=-2)]: Using backend SequentialBackend with 1 concurrent workers.\n"
          ]
        },
        {
          "output_type": "stream",
          "name": "stdout",
          "text": [
            "Model Number: 429 with model DatepartRegression in generation 2 of 10\n"
          ]
        },
        {
          "output_type": "stream",
          "name": "stderr",
          "text": [
            "[Parallel(n_jobs=-2)]: Done 100 out of 100 | elapsed:    0.1s finished\n",
            "[Parallel(n_jobs=1)]: Using backend SequentialBackend with 1 concurrent workers.\n",
            "[Parallel(n_jobs=1)]: Done 100 out of 100 | elapsed:    0.0s finished\n",
            "INFO:prophet:Disabling yearly seasonality. Run prophet with yearly_seasonality=True to override this.\n",
            "INFO:prophet:Disabling weekly seasonality. Run prophet with weekly_seasonality=True to override this.\n",
            "INFO:prophet:Disabling daily seasonality. Run prophet with daily_seasonality=True to override this.\n"
          ]
        },
        {
          "output_type": "stream",
          "name": "stdout",
          "text": [
            "Model Number: 430 with model FBProphet in generation 2 of 10\n"
          ]
        },
        {
          "output_type": "stream",
          "name": "stderr",
          "text": [
            "DEBUG:cmdstanpy:input tempfile: /tmp/tmpl9abl34v/9u9a9_id.json\n",
            "DEBUG:cmdstanpy:input tempfile: /tmp/tmpl9abl34v/js5o6fel.json\n",
            "DEBUG:cmdstanpy:idx 0\n",
            "DEBUG:cmdstanpy:running CmdStan, num_threads: None\n",
            "DEBUG:cmdstanpy:CmdStan args: ['/usr/local/lib/python3.8/dist-packages/prophet/stan_model/prophet_model.bin', 'random', 'seed=15557', 'data', 'file=/tmp/tmpl9abl34v/9u9a9_id.json', 'init=/tmp/tmpl9abl34v/js5o6fel.json', 'output', 'file=/tmp/tmpl9abl34v/prophet_modelb2p84ahq/prophet_model-20230112201313.csv', 'method=optimize', 'algorithm=newton', 'iter=10000']\n",
            "20:13:13 - cmdstanpy - INFO - Chain [1] start processing\n",
            "INFO:cmdstanpy:Chain [1] start processing\n",
            "20:13:13 - cmdstanpy - INFO - Chain [1] done processing\n",
            "INFO:cmdstanpy:Chain [1] done processing\n"
          ]
        },
        {
          "output_type": "stream",
          "name": "stdout",
          "text": [
            "Model Number: 431 with model UnivariateMotif in generation 2 of 10\n"
          ]
        },
        {
          "output_type": "stream",
          "name": "stderr",
          "text": [
            "INFO:prophet:Disabling yearly seasonality. Run prophet with yearly_seasonality=True to override this.\n",
            "INFO:prophet:Disabling weekly seasonality. Run prophet with weekly_seasonality=True to override this.\n",
            "INFO:prophet:Disabling daily seasonality. Run prophet with daily_seasonality=True to override this.\n",
            "INFO:prophet:n_changepoints greater than number of observations. Using 11.\n",
            "DEBUG:cmdstanpy:input tempfile: /tmp/tmpl9abl34v/k9z_1z1x.json\n",
            "DEBUG:cmdstanpy:input tempfile: /tmp/tmpl9abl34v/bwoacw4s.json\n",
            "DEBUG:cmdstanpy:idx 0\n",
            "DEBUG:cmdstanpy:running CmdStan, num_threads: None\n",
            "DEBUG:cmdstanpy:CmdStan args: ['/usr/local/lib/python3.8/dist-packages/prophet/stan_model/prophet_model.bin', 'random', 'seed=17338', 'data', 'file=/tmp/tmpl9abl34v/k9z_1z1x.json', 'init=/tmp/tmpl9abl34v/bwoacw4s.json', 'output', 'file=/tmp/tmpl9abl34v/prophet_modelhcjogj0f/prophet_model-20230112201314.csv', 'method=optimize', 'algorithm=newton', 'iter=10000']\n",
            "20:13:14 - cmdstanpy - INFO - Chain [1] start processing\n",
            "INFO:cmdstanpy:Chain [1] start processing\n",
            "20:13:14 - cmdstanpy - INFO - Chain [1] done processing\n",
            "INFO:cmdstanpy:Chain [1] done processing\n"
          ]
        },
        {
          "output_type": "stream",
          "name": "stdout",
          "text": [
            "Model Number: 432 with model FBProphet in generation 2 of 10\n",
            "Model Number: 433 with model WindowRegression in generation 2 of 10\n",
            "Model Number: 434 with model DatepartRegression in generation 2 of 10\n"
          ]
        },
        {
          "output_type": "stream",
          "name": "stderr",
          "text": [
            "[Parallel(n_jobs=-2)]: Using backend SequentialBackend with 1 concurrent workers.\n",
            "[Parallel(n_jobs=-2)]: Done 100 out of 100 | elapsed:    0.1s finished\n",
            "[Parallel(n_jobs=1)]: Using backend SequentialBackend with 1 concurrent workers.\n",
            "[Parallel(n_jobs=1)]: Done 100 out of 100 | elapsed:    0.0s finished\n",
            "[Parallel(n_jobs=-2)]: Using backend SequentialBackend with 1 concurrent workers.\n",
            "[Parallel(n_jobs=-2)]: Done 100 out of 100 | elapsed:    0.1s finished\n",
            "[Parallel(n_jobs=1)]: Using backend SequentialBackend with 1 concurrent workers.\n",
            "[Parallel(n_jobs=1)]: Done 100 out of 100 | elapsed:    0.0s finished\n"
          ]
        },
        {
          "output_type": "stream",
          "name": "stdout",
          "text": [
            "Model Number: 435 with model NVAR in generation 2 of 10\n",
            "Model Number: 436 with model AverageValueNaive in generation 2 of 10\n",
            "Model Number: 437 with model AverageValueNaive in generation 2 of 10\n"
          ]
        },
        {
          "output_type": "stream",
          "name": "stderr",
          "text": [
            "/usr/local/lib/python3.8/dist-packages/autots/tools/probabilistic.py:67: RuntimeWarning:\n",
            "\n",
            "invalid value encountered in true_divide\n",
            "\n",
            "/usr/local/lib/python3.8/dist-packages/autots/tools/probabilistic.py:68: RuntimeWarning:\n",
            "\n",
            "divide by zero encountered in true_divide\n",
            "\n"
          ]
        },
        {
          "output_type": "stream",
          "name": "stdout",
          "text": [
            "Model Number: 438 with model ARIMA in generation 2 of 10\n",
            "New Generation: 3 of 10\n",
            "Model Number: 439 with model ARIMA in generation 3 of 10\n",
            "Model Number: 440 with model ARIMA in generation 3 of 10\n",
            "Template Eval Error: Exception('Transformer Detrend failed on fit') in model 440: ARIMA\n",
            "Model Number: 441 with model ETS in generation 3 of 10\n"
          ]
        },
        {
          "output_type": "stream",
          "name": "stderr",
          "text": [
            "INFO:prophet:Disabling yearly seasonality. Run prophet with yearly_seasonality=True to override this.\n",
            "INFO:prophet:Disabling weekly seasonality. Run prophet with weekly_seasonality=True to override this.\n",
            "INFO:prophet:Disabling daily seasonality. Run prophet with daily_seasonality=True to override this.\n",
            "INFO:prophet:n_changepoints greater than number of observations. Using 5.\n",
            "DEBUG:cmdstanpy:input tempfile: /tmp/tmpl9abl34v/f6rva56t.json\n",
            "DEBUG:cmdstanpy:input tempfile: /tmp/tmpl9abl34v/f306n_3s.json\n",
            "DEBUG:cmdstanpy:idx 0\n",
            "DEBUG:cmdstanpy:running CmdStan, num_threads: None\n",
            "DEBUG:cmdstanpy:CmdStan args: ['/usr/local/lib/python3.8/dist-packages/prophet/stan_model/prophet_model.bin', 'random', 'seed=84967', 'data', 'file=/tmp/tmpl9abl34v/f6rva56t.json', 'init=/tmp/tmpl9abl34v/f306n_3s.json', 'output', 'file=/tmp/tmpl9abl34v/prophet_model916dffaq/prophet_model-20230112201316.csv', 'method=optimize', 'algorithm=newton', 'iter=10000']\n",
            "20:13:16 - cmdstanpy - INFO - Chain [1] start processing\n",
            "INFO:cmdstanpy:Chain [1] start processing\n"
          ]
        },
        {
          "output_type": "stream",
          "name": "stdout",
          "text": [
            "Model Number: 442 with model FBProphet in generation 3 of 10\n"
          ]
        },
        {
          "output_type": "stream",
          "name": "stderr",
          "text": [
            "20:13:17 - cmdstanpy - INFO - Chain [1] done processing\n",
            "INFO:cmdstanpy:Chain [1] done processing\n"
          ]
        },
        {
          "output_type": "stream",
          "name": "stdout",
          "text": [
            "Model Number: 443 with model LastValueNaive in generation 3 of 10\n",
            "Model Number: 444 with model ETS in generation 3 of 10\n",
            "Model Number: 445 with model ARIMA in generation 3 of 10\n",
            "Model Number: 446 with model LastValueNaive in generation 3 of 10\n",
            "Model Number: 447 with model DatepartRegression in generation 3 of 10\n",
            "Model Number: 448 with model Theta in generation 3 of 10\n"
          ]
        },
        {
          "output_type": "stream",
          "name": "stderr",
          "text": [
            "[Parallel(n_jobs=-2)]: Using backend SequentialBackend with 1 concurrent workers.\n",
            "[Parallel(n_jobs=-2)]: Done 100 out of 100 | elapsed:    0.1s finished\n",
            "[Parallel(n_jobs=1)]: Using backend SequentialBackend with 1 concurrent workers.\n",
            "[Parallel(n_jobs=1)]: Done 100 out of 100 | elapsed:    0.0s finished\n",
            "/usr/local/lib/python3.8/dist-packages/sklearn/preprocessing/_data.py:3253: RuntimeWarning:\n",
            "\n",
            "divide by zero encountered in log\n",
            "\n",
            "/usr/local/lib/python3.8/dist-packages/sklearn/decomposition/_pca.py:501: RuntimeWarning:\n",
            "\n",
            "invalid value encountered in true_divide\n",
            "\n"
          ]
        },
        {
          "output_type": "stream",
          "name": "stdout",
          "text": [
            "Model Number: 449 with model GLM in generation 3 of 10\n",
            "Template Eval Error: PerfectSeparationError('Perfect separation detected, results not available') in model 449: GLM\n",
            "Model Number: 450 with model MultivariateMotif in generation 3 of 10\n",
            "Template Eval Error: ValueError('kth(=5) out of bounds (4)') in model 450: MultivariateMotif\n",
            "Model Number: 451 with model Theta in generation 3 of 10\n"
          ]
        },
        {
          "output_type": "stream",
          "name": "stderr",
          "text": [
            "INFO:prophet:Disabling yearly seasonality. Run prophet with yearly_seasonality=True to override this.\n",
            "INFO:prophet:Disabling weekly seasonality. Run prophet with weekly_seasonality=True to override this.\n",
            "INFO:prophet:Disabling daily seasonality. Run prophet with daily_seasonality=True to override this.\n"
          ]
        },
        {
          "output_type": "stream",
          "name": "stdout",
          "text": [
            "Model Number: 452 with model WindowRegression in generation 3 of 10\n",
            "Template Eval Error: ValueError(\"regression_type='User' but no future_regressor passed\") in model 452: WindowRegression\n",
            "Model Number: 453 with model FBProphet in generation 3 of 10\n"
          ]
        },
        {
          "output_type": "stream",
          "name": "stderr",
          "text": [
            "INFO:prophet:n_changepoints greater than number of observations. Using 11.\n",
            "DEBUG:cmdstanpy:input tempfile: /tmp/tmpl9abl34v/bp67k5pi.json\n",
            "DEBUG:cmdstanpy:input tempfile: /tmp/tmpl9abl34v/z1zuqmqv.json\n",
            "DEBUG:cmdstanpy:idx 0\n",
            "DEBUG:cmdstanpy:running CmdStan, num_threads: None\n",
            "DEBUG:cmdstanpy:CmdStan args: ['/usr/local/lib/python3.8/dist-packages/prophet/stan_model/prophet_model.bin', 'random', 'seed=9382', 'data', 'file=/tmp/tmpl9abl34v/bp67k5pi.json', 'init=/tmp/tmpl9abl34v/z1zuqmqv.json', 'output', 'file=/tmp/tmpl9abl34v/prophet_modell__77ftb/prophet_model-20230112201323.csv', 'method=optimize', 'algorithm=newton', 'iter=10000']\n",
            "20:13:23 - cmdstanpy - INFO - Chain [1] start processing\n",
            "INFO:cmdstanpy:Chain [1] start processing\n",
            "20:13:23 - cmdstanpy - INFO - Chain [1] done processing\n",
            "INFO:cmdstanpy:Chain [1] done processing\n"
          ]
        },
        {
          "output_type": "stream",
          "name": "stdout",
          "text": [
            "Model Number: 454 with model Theta in generation 3 of 10\n",
            "Model Number: 455 with model DatepartRegression in generation 3 of 10\n",
            "Model Number: 456 with model Theta in generation 3 of 10\n",
            "Model Number: 457 with model GLM in generation 3 of 10\n",
            "No anomalies detected.\n"
          ]
        },
        {
          "output_type": "stream",
          "name": "stderr",
          "text": [
            "INFO:prophet:Disabling yearly seasonality. Run prophet with yearly_seasonality=True to override this.\n",
            "INFO:prophet:Disabling weekly seasonality. Run prophet with weekly_seasonality=True to override this.\n",
            "INFO:prophet:Disabling daily seasonality. Run prophet with daily_seasonality=True to override this.\n"
          ]
        },
        {
          "output_type": "stream",
          "name": "stdout",
          "text": [
            "Model Number: 458 with model FBProphet in generation 3 of 10\n",
            "No anomalies detected.\n"
          ]
        },
        {
          "output_type": "stream",
          "name": "stderr",
          "text": [
            "INFO:prophet:n_changepoints greater than number of observations. Using 10.\n",
            "DEBUG:cmdstanpy:input tempfile: /tmp/tmpl9abl34v/p3nqfcxp.json\n",
            "DEBUG:cmdstanpy:input tempfile: /tmp/tmpl9abl34v/vvjd33t1.json\n",
            "DEBUG:cmdstanpy:idx 0\n",
            "DEBUG:cmdstanpy:running CmdStan, num_threads: None\n",
            "DEBUG:cmdstanpy:CmdStan args: ['/usr/local/lib/python3.8/dist-packages/prophet/stan_model/prophet_model.bin', 'random', 'seed=22625', 'data', 'file=/tmp/tmpl9abl34v/p3nqfcxp.json', 'init=/tmp/tmpl9abl34v/vvjd33t1.json', 'output', 'file=/tmp/tmpl9abl34v/prophet_modelo5kzemvv/prophet_model-20230112201324.csv', 'method=optimize', 'algorithm=newton', 'iter=10000']\n",
            "20:13:24 - cmdstanpy - INFO - Chain [1] start processing\n",
            "INFO:cmdstanpy:Chain [1] start processing\n",
            "20:13:24 - cmdstanpy - INFO - Chain [1] done processing\n",
            "INFO:cmdstanpy:Chain [1] done processing\n"
          ]
        },
        {
          "output_type": "stream",
          "name": "stdout",
          "text": [
            "Model Number: 459 with model GLM in generation 3 of 10\n",
            "Template Eval Error: ValueError('NaN, inf or invalid value detected in weights, estimation infeasible.') in model 459: GLM\n",
            "Model Number: 460 with model NVAR in generation 3 of 10\n",
            "Model Number: 461 with model ETS in generation 3 of 10\n",
            "Model Number: 462 with model NVAR in generation 3 of 10\n",
            "Model Number: 463 with model GLS in generation 3 of 10\n",
            "Model Number: 464 with model LastValueNaive in generation 3 of 10\n"
          ]
        },
        {
          "output_type": "stream",
          "name": "stderr",
          "text": [
            "/usr/local/lib/python3.8/dist-packages/statsmodels/genmod/families/links.py:517: RuntimeWarning:\n",
            "\n",
            "overflow encountered in exp\n",
            "\n",
            "/usr/local/lib/python3.8/dist-packages/statsmodels/genmod/families/family.py:428: RuntimeWarning:\n",
            "\n",
            "divide by zero encountered in true_divide\n",
            "\n",
            "/usr/local/lib/python3.8/dist-packages/statsmodels/genmod/families/family.py:134: RuntimeWarning:\n",
            "\n",
            "invalid value encountered in multiply\n",
            "\n",
            "/usr/local/lib/python3.8/dist-packages/statsmodels/genmod/families/family.py:134: RuntimeWarning:\n",
            "\n",
            "divide by zero encountered in true_divide\n",
            "\n",
            "/usr/local/lib/python3.8/dist-packages/statsmodels/genmod/generalized_linear_model.py:1198: RuntimeWarning:\n",
            "\n",
            "invalid value encountered in multiply\n",
            "\n"
          ]
        },
        {
          "output_type": "stream",
          "name": "stdout",
          "text": [
            "Model Number: 465 with model ARIMA in generation 3 of 10\n",
            "Model Number: 466 with model UnivariateMotif in generation 3 of 10\n",
            "Model Number: 467 with model Theta in generation 3 of 10\n"
          ]
        },
        {
          "output_type": "stream",
          "name": "stderr",
          "text": [
            "INFO:prophet:Disabling yearly seasonality. Run prophet with yearly_seasonality=True to override this.\n",
            "INFO:prophet:Disabling weekly seasonality. Run prophet with weekly_seasonality=True to override this.\n",
            "INFO:prophet:Disabling daily seasonality. Run prophet with daily_seasonality=True to override this.\n",
            "DEBUG:cmdstanpy:input tempfile: /tmp/tmpl9abl34v/xfvnve2q.json\n",
            "DEBUG:cmdstanpy:input tempfile: /tmp/tmpl9abl34v/rprgm6pb.json\n",
            "DEBUG:cmdstanpy:idx 0\n",
            "DEBUG:cmdstanpy:running CmdStan, num_threads: None\n",
            "DEBUG:cmdstanpy:CmdStan args: ['/usr/local/lib/python3.8/dist-packages/prophet/stan_model/prophet_model.bin', 'random', 'seed=29739', 'data', 'file=/tmp/tmpl9abl34v/xfvnve2q.json', 'init=/tmp/tmpl9abl34v/rprgm6pb.json', 'output', 'file=/tmp/tmpl9abl34v/prophet_model007sxdc7/prophet_model-20230112201325.csv', 'method=optimize', 'algorithm=newton', 'iter=10000']\n",
            "20:13:25 - cmdstanpy - INFO - Chain [1] start processing\n",
            "INFO:cmdstanpy:Chain [1] start processing\n"
          ]
        },
        {
          "output_type": "stream",
          "name": "stdout",
          "text": [
            "Model Number: 468 with model FBProphet in generation 3 of 10\n"
          ]
        },
        {
          "output_type": "stream",
          "name": "stderr",
          "text": [
            "20:13:25 - cmdstanpy - INFO - Chain [1] done processing\n",
            "INFO:cmdstanpy:Chain [1] done processing\n"
          ]
        },
        {
          "output_type": "stream",
          "name": "stdout",
          "text": [
            "Model Number: 469 with model LastValueNaive in generation 3 of 10\n",
            "Model Number: 470 with model DatepartRegression in generation 3 of 10\n",
            "Model Number: 471 with model FBProphet in generation 3 of 10\n"
          ]
        },
        {
          "output_type": "stream",
          "name": "stderr",
          "text": [
            "[Parallel(n_jobs=-2)]: Using backend SequentialBackend with 1 concurrent workers.\n",
            "[Parallel(n_jobs=-2)]: Done 100 out of 100 | elapsed:    0.1s finished\n",
            "[Parallel(n_jobs=1)]: Using backend SequentialBackend with 1 concurrent workers.\n",
            "[Parallel(n_jobs=1)]: Done 100 out of 100 | elapsed:    0.0s finished\n",
            "INFO:prophet:Disabling yearly seasonality. Run prophet with yearly_seasonality=True to override this.\n",
            "INFO:prophet:Disabling weekly seasonality. Run prophet with weekly_seasonality=True to override this.\n",
            "INFO:prophet:Disabling daily seasonality. Run prophet with daily_seasonality=True to override this.\n",
            "DEBUG:cmdstanpy:input tempfile: /tmp/tmpl9abl34v/0hvbucyv.json\n",
            "DEBUG:cmdstanpy:input tempfile: /tmp/tmpl9abl34v/59_8ibb3.json\n",
            "DEBUG:cmdstanpy:idx 0\n",
            "DEBUG:cmdstanpy:running CmdStan, num_threads: None\n",
            "DEBUG:cmdstanpy:CmdStan args: ['/usr/local/lib/python3.8/dist-packages/prophet/stan_model/prophet_model.bin', 'random', 'seed=54881', 'data', 'file=/tmp/tmpl9abl34v/0hvbucyv.json', 'init=/tmp/tmpl9abl34v/59_8ibb3.json', 'output', 'file=/tmp/tmpl9abl34v/prophet_modeljo2b7cpt/prophet_model-20230112201326.csv', 'method=optimize', 'algorithm=newton', 'iter=10000']\n",
            "20:13:26 - cmdstanpy - INFO - Chain [1] start processing\n",
            "INFO:cmdstanpy:Chain [1] start processing\n",
            "20:13:26 - cmdstanpy - INFO - Chain [1] done processing\n",
            "INFO:cmdstanpy:Chain [1] done processing\n"
          ]
        },
        {
          "output_type": "stream",
          "name": "stdout",
          "text": [
            "Model Number: 472 with model UnobservedComponents in generation 3 of 10\n",
            "Model Number: 473 with model GLM in generation 3 of 10\n",
            "Template Eval Error: PerfectSeparationError('Perfect separation detected, results not available') in model 473: GLM\n",
            "Model Number: 474 with model Theta in generation 3 of 10\n",
            "Model Number: 475 with model ARIMA in generation 3 of 10\n",
            "Model Number: 476 with model AverageValueNaive in generation 3 of 10\n"
          ]
        },
        {
          "output_type": "stream",
          "name": "stderr",
          "text": [
            "INFO:prophet:Disabling yearly seasonality. Run prophet with yearly_seasonality=True to override this.\n",
            "INFO:prophet:Disabling weekly seasonality. Run prophet with weekly_seasonality=True to override this.\n",
            "INFO:prophet:Disabling daily seasonality. Run prophet with daily_seasonality=True to override this.\n",
            "INFO:prophet:n_changepoints greater than number of observations. Using 10.\n",
            "DEBUG:cmdstanpy:input tempfile: /tmp/tmpl9abl34v/rpdrv5jv.json\n",
            "DEBUG:cmdstanpy:input tempfile: /tmp/tmpl9abl34v/2adgixqb.json\n",
            "DEBUG:cmdstanpy:idx 0\n",
            "DEBUG:cmdstanpy:running CmdStan, num_threads: None\n",
            "DEBUG:cmdstanpy:CmdStan args: ['/usr/local/lib/python3.8/dist-packages/prophet/stan_model/prophet_model.bin', 'random', 'seed=44192', 'data', 'file=/tmp/tmpl9abl34v/rpdrv5jv.json', 'init=/tmp/tmpl9abl34v/2adgixqb.json', 'output', 'file=/tmp/tmpl9abl34v/prophet_modelz848_n30/prophet_model-20230112201329.csv', 'method=optimize', 'algorithm=newton', 'iter=10000']\n",
            "20:13:29 - cmdstanpy - INFO - Chain [1] start processing\n",
            "INFO:cmdstanpy:Chain [1] start processing\n"
          ]
        },
        {
          "output_type": "stream",
          "name": "stdout",
          "text": [
            "Model Number: 477 with model FBProphet in generation 3 of 10\n"
          ]
        },
        {
          "output_type": "stream",
          "name": "stderr",
          "text": [
            "20:13:29 - cmdstanpy - INFO - Chain [1] done processing\n",
            "INFO:cmdstanpy:Chain [1] done processing\n"
          ]
        },
        {
          "output_type": "stream",
          "name": "stdout",
          "text": [
            "Model Number: 478 with model NVAR in generation 3 of 10\n",
            "Model Number: 479 with model LastValueNaive in generation 3 of 10\n",
            "Model Number: 480 with model ARIMA in generation 3 of 10\n",
            "Model Number: 481 with model SeasonalNaive in generation 3 of 10\n",
            "Model Number: 482 with model AverageValueNaive in generation 3 of 10\n",
            "Model Number: 483 with model ETS in generation 3 of 10\n",
            "Model Number: 484 with model AverageValueNaive in generation 3 of 10\n",
            "Model Number: 485 with model UnobservedComponents in generation 3 of 10\n",
            "Model Number: 486 with model LastValueNaive in generation 3 of 10\n",
            "Model Number: 487 with model NVAR in generation 3 of 10\n",
            "Model Number: 488 with model ARIMA in generation 3 of 10\n",
            "Model Number: 489 with model ARIMA in generation 3 of 10\n",
            "Model Number: 490 with model NVAR in generation 3 of 10\n"
          ]
        },
        {
          "output_type": "stream",
          "name": "stderr",
          "text": [
            "INFO:prophet:Disabling yearly seasonality. Run prophet with yearly_seasonality=True to override this.\n",
            "INFO:prophet:Disabling weekly seasonality. Run prophet with weekly_seasonality=True to override this.\n",
            "INFO:prophet:Disabling daily seasonality. Run prophet with daily_seasonality=True to override this.\n",
            "INFO:prophet:n_changepoints greater than number of observations. Using 11.\n",
            "DEBUG:cmdstanpy:input tempfile: /tmp/tmpl9abl34v/jqpe1a21.json\n",
            "DEBUG:cmdstanpy:input tempfile: /tmp/tmpl9abl34v/y7ib9nc8.json\n",
            "DEBUG:cmdstanpy:idx 0\n",
            "DEBUG:cmdstanpy:running CmdStan, num_threads: None\n",
            "DEBUG:cmdstanpy:CmdStan args: ['/usr/local/lib/python3.8/dist-packages/prophet/stan_model/prophet_model.bin', 'random', 'seed=30714', 'data', 'file=/tmp/tmpl9abl34v/jqpe1a21.json', 'init=/tmp/tmpl9abl34v/y7ib9nc8.json', 'output', 'file=/tmp/tmpl9abl34v/prophet_model4bmtp1s8/prophet_model-20230112201335.csv', 'method=optimize', 'algorithm=newton', 'iter=10000']\n",
            "20:13:35 - cmdstanpy - INFO - Chain [1] start processing\n",
            "INFO:cmdstanpy:Chain [1] start processing\n",
            "20:13:35 - cmdstanpy - INFO - Chain [1] done processing\n",
            "INFO:cmdstanpy:Chain [1] done processing\n"
          ]
        },
        {
          "output_type": "stream",
          "name": "stdout",
          "text": [
            "Model Number: 491 with model FBProphet in generation 3 of 10\n",
            "Model Number: 492 with model DatepartRegression in generation 3 of 10\n",
            "Model Number: 493 with model ARIMA in generation 3 of 10\n"
          ]
        },
        {
          "output_type": "stream",
          "name": "stderr",
          "text": [
            "INFO:prophet:Disabling yearly seasonality. Run prophet with yearly_seasonality=True to override this.\n",
            "INFO:prophet:Disabling weekly seasonality. Run prophet with weekly_seasonality=True to override this.\n",
            "INFO:prophet:Disabling daily seasonality. Run prophet with daily_seasonality=True to override this.\n",
            "INFO:prophet:n_changepoints greater than number of observations. Using 10.\n"
          ]
        },
        {
          "output_type": "stream",
          "name": "stdout",
          "text": [
            "Model Number: 494 with model FBProphet in generation 3 of 10\n",
            "No anomalies detected.\n",
            "Model Number: 495 with model GLM in generation 3 of 10\n",
            "Model Number: 496 with model GLS in generation 3 of 10\n",
            "Template Eval Error: Exception('Transformer AlignLastValue failed on fit') in model 496: GLS\n",
            "Model Number: 497 with model Theta in generation 3 of 10\n",
            "Model Number: 498 with model UnobservedComponents in generation 3 of 10\n",
            "Model Number: 499 with model UnobservedComponents in generation 3 of 10\n"
          ]
        },
        {
          "output_type": "stream",
          "name": "stderr",
          "text": [
            "INFO:prophet:Disabling yearly seasonality. Run prophet with yearly_seasonality=True to override this.\n",
            "INFO:prophet:Disabling weekly seasonality. Run prophet with weekly_seasonality=True to override this.\n",
            "INFO:prophet:Disabling daily seasonality. Run prophet with daily_seasonality=True to override this.\n",
            "DEBUG:cmdstanpy:input tempfile: /tmp/tmpl9abl34v/bjsgjxm2.json\n",
            "DEBUG:cmdstanpy:input tempfile: /tmp/tmpl9abl34v/ien7amso.json\n",
            "DEBUG:cmdstanpy:idx 0\n",
            "DEBUG:cmdstanpy:running CmdStan, num_threads: None\n",
            "DEBUG:cmdstanpy:CmdStan args: ['/usr/local/lib/python3.8/dist-packages/prophet/stan_model/prophet_model.bin', 'random', 'seed=86514', 'data', 'file=/tmp/tmpl9abl34v/bjsgjxm2.json', 'init=/tmp/tmpl9abl34v/ien7amso.json', 'output', 'file=/tmp/tmpl9abl34v/prophet_model81n_z0an/prophet_model-20230112201338.csv', 'method=optimize', 'algorithm=newton', 'iter=10000']\n",
            "20:13:38 - cmdstanpy - INFO - Chain [1] start processing\n",
            "INFO:cmdstanpy:Chain [1] start processing\n"
          ]
        },
        {
          "output_type": "stream",
          "name": "stdout",
          "text": [
            "Model Number: 500 with model FBProphet in generation 3 of 10\n"
          ]
        },
        {
          "output_type": "stream",
          "name": "stderr",
          "text": [
            "20:13:38 - cmdstanpy - INFO - Chain [1] done processing\n",
            "INFO:cmdstanpy:Chain [1] done processing\n"
          ]
        },
        {
          "output_type": "stream",
          "name": "stdout",
          "text": [
            "Model Number: 501 with model DatepartRegression in generation 3 of 10\n",
            "Template Eval Error: ValueError(\"regression_type='User' but no future_regressor passed\") in model 501: DatepartRegression\n",
            "Model Number: 502 with model NVAR in generation 3 of 10\n",
            "Model Number: 503 with model NVAR in generation 3 of 10\n",
            "Model Number: 504 with model DatepartRegression in generation 3 of 10\n",
            "Model Number: 505 with model ARIMA in generation 3 of 10\n"
          ]
        },
        {
          "output_type": "stream",
          "name": "stderr",
          "text": [
            "[Parallel(n_jobs=-2)]: Using backend SequentialBackend with 1 concurrent workers.\n",
            "[Parallel(n_jobs=-2)]: Done 100 out of 100 | elapsed:    0.1s finished\n",
            "[Parallel(n_jobs=1)]: Using backend SequentialBackend with 1 concurrent workers.\n",
            "[Parallel(n_jobs=1)]: Done 100 out of 100 | elapsed:    0.0s finished\n"
          ]
        },
        {
          "output_type": "stream",
          "name": "stdout",
          "text": [
            "Model Number: 506 with model NVAR in generation 3 of 10\n",
            "Model Number: 507 with model GLS in generation 3 of 10\n",
            "Model Number: 508 with model ETS in generation 3 of 10\n",
            "Model Number: 509 with model GLM in generation 3 of 10\n",
            "Template Eval Error: Exception('Transformer Cointegration failed on fit') in model 509: GLM\n",
            "Model Number: 510 with model ETS in generation 3 of 10\n",
            "Model Number: 511 with model MultivariateRegression in generation 3 of 10\n",
            "Model Number: 512 with model GLS in generation 3 of 10\n",
            "Model Number: 513 with model MultivariateMotif in generation 3 of 10\n",
            "Template Eval Error: ValueError('kth(=10) out of bounds (4)') in model 513: MultivariateMotif\n",
            "Model Number: 514 with model ETS in generation 3 of 10\n",
            "Model Number: 515 with model ETS in generation 3 of 10\n",
            "ETS error ValueError('Can only dampen the trend component')\n",
            "ETS failed on Close with ValueError('Can only dampen the trend component')\n",
            "Model Number: 516 with model FBProphet in generation 3 of 10\n"
          ]
        },
        {
          "output_type": "stream",
          "name": "stderr",
          "text": [
            "INFO:prophet:Disabling yearly seasonality. Run prophet with yearly_seasonality=True to override this.\n",
            "INFO:prophet:Disabling weekly seasonality. Run prophet with weekly_seasonality=True to override this.\n",
            "INFO:prophet:Disabling daily seasonality. Run prophet with daily_seasonality=True to override this.\n",
            "INFO:prophet:n_changepoints greater than number of observations. Using 10.\n",
            "DEBUG:cmdstanpy:input tempfile: /tmp/tmpl9abl34v/2kf9q_po.json\n",
            "DEBUG:cmdstanpy:input tempfile: /tmp/tmpl9abl34v/ng39t1ai.json\n",
            "DEBUG:cmdstanpy:idx 0\n",
            "DEBUG:cmdstanpy:running CmdStan, num_threads: None\n",
            "DEBUG:cmdstanpy:CmdStan args: ['/usr/local/lib/python3.8/dist-packages/prophet/stan_model/prophet_model.bin', 'random', 'seed=85060', 'data', 'file=/tmp/tmpl9abl34v/2kf9q_po.json', 'init=/tmp/tmpl9abl34v/ng39t1ai.json', 'output', 'file=/tmp/tmpl9abl34v/prophet_model5fngpqzk/prophet_model-20230112201339.csv', 'method=optimize', 'algorithm=newton', 'iter=10000']\n",
            "20:13:39 - cmdstanpy - INFO - Chain [1] start processing\n",
            "INFO:cmdstanpy:Chain [1] start processing\n",
            "20:13:39 - cmdstanpy - INFO - Chain [1] done processing\n",
            "INFO:cmdstanpy:Chain [1] done processing\n"
          ]
        },
        {
          "output_type": "stream",
          "name": "stdout",
          "text": [
            "Model Number: 517 with model ETS in generation 3 of 10\n",
            "ETS error ValueError('endog must be strictly positive when usingmultiplicative trend or seasonal components.')\n",
            "ETS failed on Close with ValueError('endog must be strictly positive when usingmultiplicative trend or seasonal components.')\n",
            "Model Number: 518 with model ARIMA in generation 3 of 10\n",
            "Template Eval Error: Exception('Transformer Detrend failed on fit') in model 518: ARIMA\n",
            "Model Number: 519 with model LastValueNaive in generation 3 of 10\n",
            "Model Number: 520 with model Theta in generation 3 of 10\n",
            "Model Number: 521 with model WindowRegression in generation 3 of 10\n",
            "Model Number: 522 with model MultivariateRegression in generation 3 of 10\n",
            "No anomalies detected.\n",
            "Model Number: 523 with model DatepartRegression in generation 3 of 10\n",
            "Model Number: 524 with model MultivariateMotif in generation 3 of 10\n",
            "Template Eval Error: ValueError('kth(=10) out of bounds (4)') in model 524: MultivariateMotif\n",
            "Model Number: 525 with model LastValueNaive in generation 3 of 10\n",
            "Model Number: 526 with model UnivariateMotif in generation 3 of 10\n",
            "Model Number: 527 with model ARIMA in generation 3 of 10\n",
            "Model Number: 528 with model SeasonalNaive in generation 3 of 10\n",
            "Model Number: 529 with model GLM in generation 3 of 10\n",
            "Template Eval Error: Exception('Transformer Cointegration failed on fit') in model 529: GLM\n",
            "Model Number: 530 with model Theta in generation 3 of 10\n",
            "Model Number: 531 with model ETS in generation 3 of 10\n",
            "Model Number: 532 with model GLM in generation 3 of 10\n",
            "Template Eval Error: PerfectSeparationError('Perfect separation detected, results not available') in model 532: GLM\n",
            "Model Number: 533 with model UnivariateMotif in generation 3 of 10\n",
            "Model Number: 534 with model UnobservedComponents in generation 3 of 10\n",
            "Model Number: 535 with model LastValueNaive in generation 3 of 10\n",
            "Model Number: 536 with model UnobservedComponents in generation 3 of 10\n",
            "Template Eval Error: ValueError(\"regression_type='User' but no future_regressor supplied\") in model 536: UnobservedComponents\n",
            "Model Number: 537 with model UnobservedComponents in generation 3 of 10\n",
            "Model Number: 538 with model UnobservedComponents in generation 3 of 10\n",
            "Model Number: 539 with model AverageValueNaive in generation 3 of 10\n",
            "Template Eval Error: Exception('Transformer BTCD failed on fit') in model 539: AverageValueNaive\n",
            "Model Number: 540 with model GLM in generation 3 of 10\n",
            "Model Number: 541 with model Theta in generation 3 of 10\n",
            "Model Number: 542 with model SeasonalNaive in generation 3 of 10\n",
            "Model Number: 543 with model ETS in generation 3 of 10\n",
            "Model Number: 544 with model NVAR in generation 3 of 10\n",
            "Model Number: 545 with model ARIMA in generation 3 of 10\n"
          ]
        },
        {
          "output_type": "stream",
          "name": "stderr",
          "text": [
            "/usr/local/lib/python3.8/dist-packages/autots/tools/probabilistic.py:67: RuntimeWarning:\n",
            "\n",
            "invalid value encountered in true_divide\n",
            "\n",
            "/usr/local/lib/python3.8/dist-packages/autots/tools/probabilistic.py:68: RuntimeWarning:\n",
            "\n",
            "divide by zero encountered in true_divide\n",
            "\n"
          ]
        },
        {
          "output_type": "stream",
          "name": "stdout",
          "text": [
            "Model Number: 546 with model GLM in generation 3 of 10\n",
            "Template Eval Error: PerfectSeparationError('Perfect separation detected, results not available') in model 546: GLM\n",
            "Model Number: 547 with model AverageValueNaive in generation 3 of 10\n",
            "Model Number: 548 with model MultivariateRegression in generation 3 of 10\n",
            "Model Number: 549 with model GLS in generation 3 of 10\n"
          ]
        },
        {
          "output_type": "stream",
          "name": "stderr",
          "text": [
            "[Parallel(n_jobs=-2)]: Using backend SequentialBackend with 1 concurrent workers.\n",
            "[Parallel(n_jobs=-2)]: Done 200 out of 200 | elapsed:    0.1s finished\n",
            "[Parallel(n_jobs=1)]: Using backend SequentialBackend with 1 concurrent workers.\n",
            "[Parallel(n_jobs=1)]: Done 200 out of 200 | elapsed:    0.0s finished\n"
          ]
        },
        {
          "output_type": "stream",
          "name": "stdout",
          "text": [
            "Model Number: 550 with model GLS in generation 3 of 10\n",
            "Template Eval Error: Exception('Transformer ScipyFilter failed on fit') in model 550: GLS\n",
            "Model Number: 551 with model GLM in generation 3 of 10\n",
            "Template Eval Error: Exception('Transformer ScipyFilter failed on fit') in model 551: GLM\n",
            "Model Number: 552 with model SeasonalNaive in generation 3 of 10\n",
            "Model Number: 553 with model NVAR in generation 3 of 10\n",
            "Model Number: 554 with model UnivariateMotif in generation 3 of 10\n"
          ]
        },
        {
          "output_type": "stream",
          "name": "stderr",
          "text": [
            "INFO:prophet:Disabling yearly seasonality. Run prophet with yearly_seasonality=True to override this.\n",
            "INFO:prophet:Disabling weekly seasonality. Run prophet with weekly_seasonality=True to override this.\n",
            "INFO:prophet:Disabling daily seasonality. Run prophet with daily_seasonality=True to override this.\n",
            "INFO:prophet:n_changepoints greater than number of observations. Using 11.\n",
            "DEBUG:cmdstanpy:input tempfile: /tmp/tmpl9abl34v/izqojd57.json\n",
            "DEBUG:cmdstanpy:input tempfile: /tmp/tmpl9abl34v/6d0hf_bl.json\n",
            "DEBUG:cmdstanpy:idx 0\n"
          ]
        },
        {
          "output_type": "stream",
          "name": "stdout",
          "text": [
            "Model Number: 555 with model FBProphet in generation 3 of 10\n"
          ]
        },
        {
          "output_type": "stream",
          "name": "stderr",
          "text": [
            "DEBUG:cmdstanpy:running CmdStan, num_threads: None\n",
            "DEBUG:cmdstanpy:CmdStan args: ['/usr/local/lib/python3.8/dist-packages/prophet/stan_model/prophet_model.bin', 'random', 'seed=12633', 'data', 'file=/tmp/tmpl9abl34v/izqojd57.json', 'init=/tmp/tmpl9abl34v/6d0hf_bl.json', 'output', 'file=/tmp/tmpl9abl34v/prophet_modelin3wh2_3/prophet_model-20230112201347.csv', 'method=optimize', 'algorithm=newton', 'iter=10000']\n",
            "20:13:47 - cmdstanpy - INFO - Chain [1] start processing\n",
            "INFO:cmdstanpy:Chain [1] start processing\n",
            "20:13:47 - cmdstanpy - INFO - Chain [1] done processing\n",
            "INFO:cmdstanpy:Chain [1] done processing\n"
          ]
        },
        {
          "output_type": "stream",
          "name": "stdout",
          "text": [
            "Model Number: 556 with model UnobservedComponents in generation 3 of 10\n",
            "Model Number: 557 with model Theta in generation 3 of 10\n",
            "Model Number: 558 with model SeasonalNaive in generation 3 of 10\n",
            "Model Number: 559 with model UnivariateMotif in generation 3 of 10\n",
            "Model Number: 560 with model WindowRegression in generation 3 of 10\n",
            "Template Eval Error: Exception('Transformer Cointegration failed on fit') in model 560: WindowRegression\n",
            "Model Number: 561 with model Theta in generation 3 of 10\n",
            "Model Number: 562 with model LastValueNaive in generation 3 of 10\n",
            "Model Number: 563 with model WindowRegression in generation 3 of 10\n",
            "Template Eval Error: ValueError('Found array with 0 sample(s) (shape=(0, 0)) while a minimum of 1 is required.') in model 563: WindowRegression\n"
          ]
        },
        {
          "output_type": "stream",
          "name": "stderr",
          "text": [
            "/usr/local/lib/python3.8/dist-packages/sklearn/linear_model/_ridge.py:196: UserWarning:\n",
            "\n",
            "Singular matrix in solving dual problem. Using least-squares solution instead.\n",
            "\n"
          ]
        },
        {
          "output_type": "stream",
          "name": "stdout",
          "text": [
            "New Generation: 4 of 10\n",
            "Model Number: 564 with model UnobservedComponents in generation 4 of 10\n",
            "Model Number: 565 with model ARIMA in generation 4 of 10\n"
          ]
        },
        {
          "output_type": "stream",
          "name": "stderr",
          "text": [
            "/usr/local/lib/python3.8/dist-packages/statsmodels/genmod/families/family.py:1231: RuntimeWarning:\n",
            "\n",
            "divide by zero encountered in log\n",
            "\n",
            "/usr/local/lib/python3.8/dist-packages/statsmodels/genmod/families/family.py:1231: RuntimeWarning:\n",
            "\n",
            "invalid value encountered in multiply\n",
            "\n",
            "INFO:prophet:Disabling yearly seasonality. Run prophet with yearly_seasonality=True to override this.\n",
            "INFO:prophet:Disabling weekly seasonality. Run prophet with weekly_seasonality=True to override this.\n",
            "INFO:prophet:Disabling daily seasonality. Run prophet with daily_seasonality=True to override this.\n"
          ]
        },
        {
          "output_type": "stream",
          "name": "stdout",
          "text": [
            "Model Number: 566 with model GLM in generation 4 of 10\n",
            "Template Eval Error: ValueError('The first guess on the deviance function returned a nan.  This could be a boundary  problem and should be reported.') in model 566: GLM\n",
            "Model Number: 567 with model FBProphet in generation 4 of 10\n"
          ]
        },
        {
          "output_type": "stream",
          "name": "stderr",
          "text": [
            "DEBUG:cmdstanpy:input tempfile: /tmp/tmpl9abl34v/zv5b64pt.json\n",
            "DEBUG:cmdstanpy:input tempfile: /tmp/tmpl9abl34v/uve0dyxr.json\n",
            "DEBUG:cmdstanpy:idx 0\n",
            "DEBUG:cmdstanpy:running CmdStan, num_threads: None\n",
            "DEBUG:cmdstanpy:CmdStan args: ['/usr/local/lib/python3.8/dist-packages/prophet/stan_model/prophet_model.bin', 'random', 'seed=3640', 'data', 'file=/tmp/tmpl9abl34v/zv5b64pt.json', 'init=/tmp/tmpl9abl34v/uve0dyxr.json', 'output', 'file=/tmp/tmpl9abl34v/prophet_modelcg0jnhkl/prophet_model-20230112201349.csv', 'method=optimize', 'algorithm=newton', 'iter=10000']\n",
            "20:13:49 - cmdstanpy - INFO - Chain [1] start processing\n",
            "INFO:cmdstanpy:Chain [1] start processing\n",
            "20:13:49 - cmdstanpy - INFO - Chain [1] done processing\n",
            "INFO:cmdstanpy:Chain [1] done processing\n"
          ]
        },
        {
          "output_type": "stream",
          "name": "stdout",
          "text": [
            "Model Number: 568 with model WindowRegression in generation 4 of 10\n",
            "Model Number: 569 with model NVAR in generation 4 of 10\n",
            "Model Number: 570 with model NVAR in generation 4 of 10\n",
            "Model Number: 571 with model UnobservedComponents in generation 4 of 10\n",
            "Model Number: 572 with model Theta in generation 4 of 10\n",
            "Template Eval Error: Exception('Transformer Cointegration failed on fit') in model 572: Theta\n",
            "Model Number: 573 with model SeasonalNaive in generation 4 of 10\n",
            "Model Number: 574 with model Theta in generation 4 of 10\n",
            "Model Number: 575 with model ETS in generation 4 of 10\n",
            "ETS error ValueError('endog must be strictly positive when usingmultiplicative trend or seasonal components.')\n",
            "ETS failed on Close with ValueError('endog must be strictly positive when usingmultiplicative trend or seasonal components.')\n",
            "Model Number: 576 with model UnobservedComponents in generation 4 of 10\n",
            "Model Number: 577 with model Theta in generation 4 of 10\n",
            "Model Number: 578 with model AverageValueNaive in generation 4 of 10\n",
            "Model Number: 579 with model UnobservedComponents in generation 4 of 10\n"
          ]
        },
        {
          "output_type": "stream",
          "name": "stderr",
          "text": [
            "INFO:prophet:Disabling yearly seasonality. Run prophet with yearly_seasonality=True to override this.\n",
            "INFO:prophet:Disabling weekly seasonality. Run prophet with weekly_seasonality=True to override this.\n",
            "INFO:prophet:Disabling daily seasonality. Run prophet with daily_seasonality=True to override this.\n",
            "DEBUG:cmdstanpy:input tempfile: /tmp/tmpl9abl34v/lr7qosl9.json\n",
            "DEBUG:cmdstanpy:input tempfile: /tmp/tmpl9abl34v/_avqj188.json\n",
            "DEBUG:cmdstanpy:idx 0\n",
            "DEBUG:cmdstanpy:running CmdStan, num_threads: None\n",
            "DEBUG:cmdstanpy:CmdStan args: ['/usr/local/lib/python3.8/dist-packages/prophet/stan_model/prophet_model.bin', 'random', 'seed=97647', 'data', 'file=/tmp/tmpl9abl34v/lr7qosl9.json', 'init=/tmp/tmpl9abl34v/_avqj188.json', 'output', 'file=/tmp/tmpl9abl34v/prophet_modelqzhi_ysa/prophet_model-20230112201350.csv', 'method=optimize', 'algorithm=newton', 'iter=10000']\n",
            "20:13:50 - cmdstanpy - INFO - Chain [1] start processing\n",
            "INFO:cmdstanpy:Chain [1] start processing\n"
          ]
        },
        {
          "output_type": "stream",
          "name": "stdout",
          "text": [
            "Model Number: 580 with model FBProphet in generation 4 of 10\n"
          ]
        },
        {
          "output_type": "stream",
          "name": "stderr",
          "text": [
            "20:13:50 - cmdstanpy - INFO - Chain [1] done processing\n",
            "INFO:cmdstanpy:Chain [1] done processing\n"
          ]
        },
        {
          "output_type": "stream",
          "name": "stdout",
          "text": [
            "Model Number: 581 with model MultivariateRegression in generation 4 of 10\n",
            "No anomalies detected.\n"
          ]
        },
        {
          "output_type": "stream",
          "name": "stderr",
          "text": [
            "[Parallel(n_jobs=-2)]: Using backend SequentialBackend with 1 concurrent workers.\n",
            "[Parallel(n_jobs=-2)]: Done 200 out of 200 | elapsed:    0.1s finished\n",
            "[Parallel(n_jobs=1)]: Using backend SequentialBackend with 1 concurrent workers.\n",
            "[Parallel(n_jobs=1)]: Done 200 out of 200 | elapsed:    0.0s finished\n"
          ]
        },
        {
          "output_type": "stream",
          "name": "stdout",
          "text": [
            "Model Number: 582 with model DatepartRegression in generation 4 of 10\n",
            "Epoch 1/100\n",
            "1/1 [==============================] - 5s 5s/step - loss: 0.1075\n",
            "Epoch 2/100\n",
            "1/1 [==============================] - 0s 35ms/step - loss: 0.0639\n",
            "Epoch 3/100\n",
            "1/1 [==============================] - 0s 38ms/step - loss: 0.0589\n",
            "Epoch 4/100\n",
            "1/1 [==============================] - 0s 33ms/step - loss: 0.0519\n",
            "Epoch 5/100\n",
            "1/1 [==============================] - 0s 37ms/step - loss: 0.0525\n",
            "Epoch 6/100\n",
            "1/1 [==============================] - 0s 35ms/step - loss: 0.0522\n",
            "Epoch 7/100\n",
            "1/1 [==============================] - 0s 33ms/step - loss: 0.0463\n",
            "Epoch 8/100\n",
            "1/1 [==============================] - 0s 32ms/step - loss: 0.0466\n",
            "Epoch 9/100\n",
            "1/1 [==============================] - 0s 35ms/step - loss: 0.0462\n",
            "Epoch 10/100\n",
            "1/1 [==============================] - 0s 37ms/step - loss: 0.0454\n",
            "Epoch 11/100\n",
            "1/1 [==============================] - 0s 37ms/step - loss: 0.0402\n",
            "Epoch 12/100\n",
            "1/1 [==============================] - 0s 37ms/step - loss: 0.0475\n",
            "Epoch 13/100\n",
            "1/1 [==============================] - 0s 29ms/step - loss: 0.0496\n",
            "Epoch 14/100\n",
            "1/1 [==============================] - 0s 28ms/step - loss: 0.0519\n",
            "Epoch 15/100\n",
            "1/1 [==============================] - 0s 31ms/step - loss: 0.0449\n",
            "Epoch 16/100\n",
            "1/1 [==============================] - 0s 31ms/step - loss: 0.0465\n",
            "Epoch 17/100\n",
            "1/1 [==============================] - 0s 31ms/step - loss: 0.0444\n",
            "Epoch 18/100\n",
            "1/1 [==============================] - 0s 34ms/step - loss: 0.0434\n",
            "Epoch 19/100\n",
            "1/1 [==============================] - 0s 38ms/step - loss: 0.0470\n",
            "Epoch 20/100\n",
            "1/1 [==============================] - 0s 30ms/step - loss: 0.0400\n",
            "Epoch 21/100\n",
            "1/1 [==============================] - 0s 34ms/step - loss: 0.0426\n",
            "Epoch 22/100\n",
            "1/1 [==============================] - 0s 33ms/step - loss: 0.0413\n",
            "Epoch 23/100\n",
            "1/1 [==============================] - 0s 32ms/step - loss: 0.0429\n",
            "Epoch 24/100\n",
            "1/1 [==============================] - 0s 39ms/step - loss: 0.0426\n",
            "Epoch 25/100\n",
            "1/1 [==============================] - 0s 33ms/step - loss: 0.0430\n",
            "Epoch 26/100\n",
            "1/1 [==============================] - 0s 36ms/step - loss: 0.0377\n",
            "Epoch 27/100\n",
            "1/1 [==============================] - 0s 33ms/step - loss: 0.0350\n",
            "Epoch 28/100\n",
            "1/1 [==============================] - 0s 32ms/step - loss: 0.0351\n",
            "Epoch 29/100\n",
            "1/1 [==============================] - 0s 32ms/step - loss: 0.0351\n",
            "Epoch 30/100\n",
            "1/1 [==============================] - 0s 27ms/step - loss: 0.0364\n",
            "Epoch 31/100\n",
            "1/1 [==============================] - 0s 34ms/step - loss: 0.0403\n",
            "Epoch 32/100\n",
            "1/1 [==============================] - 0s 36ms/step - loss: 0.0416\n",
            "Epoch 33/100\n",
            "1/1 [==============================] - 0s 33ms/step - loss: 0.0392\n",
            "Epoch 34/100\n",
            "1/1 [==============================] - 0s 27ms/step - loss: 0.0335\n",
            "Epoch 35/100\n",
            "1/1 [==============================] - 0s 34ms/step - loss: 0.0333\n",
            "Epoch 36/100\n",
            "1/1 [==============================] - 0s 30ms/step - loss: 0.0305\n",
            "Epoch 37/100\n",
            "1/1 [==============================] - 0s 31ms/step - loss: 0.0312\n",
            "Epoch 38/100\n",
            "1/1 [==============================] - 0s 26ms/step - loss: 0.0310\n",
            "Epoch 39/100\n",
            "1/1 [==============================] - 0s 30ms/step - loss: 0.0306\n",
            "Epoch 40/100\n",
            "1/1 [==============================] - 0s 25ms/step - loss: 0.0325\n",
            "Epoch 41/100\n",
            "1/1 [==============================] - 0s 30ms/step - loss: 0.0411\n",
            "Epoch 42/100\n",
            "1/1 [==============================] - 0s 33ms/step - loss: 0.0442\n",
            "Epoch 43/100\n",
            "1/1 [==============================] - 0s 31ms/step - loss: 0.0374\n",
            "Epoch 44/100\n",
            "1/1 [==============================] - 0s 37ms/step - loss: 0.0350\n",
            "Epoch 45/100\n",
            "1/1 [==============================] - 0s 31ms/step - loss: 0.0304\n",
            "Epoch 46/100\n",
            "1/1 [==============================] - 0s 36ms/step - loss: 0.0312\n",
            "Epoch 47/100\n",
            "1/1 [==============================] - 0s 33ms/step - loss: 0.0264\n",
            "Epoch 48/100\n",
            "1/1 [==============================] - 0s 27ms/step - loss: 0.0299\n",
            "Epoch 49/100\n",
            "1/1 [==============================] - 0s 32ms/step - loss: 0.0294\n",
            "Epoch 50/100\n",
            "1/1 [==============================] - 0s 30ms/step - loss: 0.0311\n",
            "Epoch 51/100\n",
            "1/1 [==============================] - 0s 34ms/step - loss: 0.0340\n",
            "Epoch 52/100\n",
            "1/1 [==============================] - 0s 30ms/step - loss: 0.0421\n",
            "Epoch 53/100\n",
            "1/1 [==============================] - 0s 31ms/step - loss: 0.0394\n",
            "Epoch 54/100\n",
            "1/1 [==============================] - 0s 29ms/step - loss: 0.0319\n",
            "Epoch 55/100\n",
            "1/1 [==============================] - 0s 35ms/step - loss: 0.0296\n",
            "Epoch 56/100\n",
            "1/1 [==============================] - 0s 31ms/step - loss: 0.0296\n",
            "Epoch 57/100\n",
            "1/1 [==============================] - 0s 35ms/step - loss: 0.0308\n",
            "Epoch 58/100\n",
            "1/1 [==============================] - 0s 31ms/step - loss: 0.0277\n",
            "Epoch 59/100\n",
            "1/1 [==============================] - 0s 33ms/step - loss: 0.0286\n",
            "Epoch 60/100\n",
            "1/1 [==============================] - 0s 35ms/step - loss: 0.0304\n",
            "Epoch 61/100\n",
            "1/1 [==============================] - 0s 28ms/step - loss: 0.0307\n",
            "Epoch 62/100\n",
            "1/1 [==============================] - 0s 35ms/step - loss: 0.0351\n",
            "Epoch 63/100\n",
            "1/1 [==============================] - 0s 29ms/step - loss: 0.0333\n",
            "Epoch 64/100\n",
            "1/1 [==============================] - 0s 30ms/step - loss: 0.0301\n",
            "Epoch 65/100\n",
            "1/1 [==============================] - 0s 35ms/step - loss: 0.0321\n",
            "Epoch 66/100\n",
            "1/1 [==============================] - 0s 35ms/step - loss: 0.0303\n",
            "Epoch 67/100\n",
            "1/1 [==============================] - 0s 36ms/step - loss: 0.0283\n",
            "Epoch 68/100\n",
            "1/1 [==============================] - 0s 32ms/step - loss: 0.0286\n",
            "Epoch 69/100\n",
            "1/1 [==============================] - 0s 36ms/step - loss: 0.0284\n",
            "Epoch 70/100\n",
            "1/1 [==============================] - 0s 26ms/step - loss: 0.0286\n",
            "Epoch 71/100\n",
            "1/1 [==============================] - 0s 32ms/step - loss: 0.0285\n",
            "Epoch 72/100\n",
            "1/1 [==============================] - 0s 27ms/step - loss: 0.0261\n",
            "Epoch 73/100\n",
            "1/1 [==============================] - 0s 31ms/step - loss: 0.0303\n",
            "Epoch 74/100\n",
            "1/1 [==============================] - 0s 32ms/step - loss: 0.0336\n",
            "Epoch 75/100\n",
            "1/1 [==============================] - 0s 34ms/step - loss: 0.0392\n",
            "Epoch 76/100\n",
            "1/1 [==============================] - 0s 36ms/step - loss: 0.0328\n",
            "Epoch 77/100\n",
            "1/1 [==============================] - 0s 31ms/step - loss: 0.0284\n",
            "Epoch 78/100\n",
            "1/1 [==============================] - 0s 33ms/step - loss: 0.0273\n",
            "Epoch 79/100\n",
            "1/1 [==============================] - 0s 30ms/step - loss: 0.0289\n",
            "Epoch 80/100\n",
            "1/1 [==============================] - 0s 37ms/step - loss: 0.0267\n",
            "Epoch 81/100\n",
            "1/1 [==============================] - 0s 29ms/step - loss: 0.0289\n",
            "Epoch 82/100\n",
            "1/1 [==============================] - 0s 31ms/step - loss: 0.0297\n",
            "Epoch 83/100\n",
            "1/1 [==============================] - 0s 34ms/step - loss: 0.0279\n",
            "Epoch 84/100\n",
            "1/1 [==============================] - 0s 31ms/step - loss: 0.0290\n",
            "Epoch 85/100\n",
            "1/1 [==============================] - 0s 35ms/step - loss: 0.0284\n",
            "Epoch 86/100\n",
            "1/1 [==============================] - 0s 32ms/step - loss: 0.0336\n",
            "Epoch 87/100\n",
            "1/1 [==============================] - 0s 40ms/step - loss: 0.0338\n",
            "Epoch 88/100\n",
            "1/1 [==============================] - 0s 34ms/step - loss: 0.0304\n",
            "Epoch 89/100\n",
            "1/1 [==============================] - 0s 32ms/step - loss: 0.0258\n",
            "Epoch 90/100\n",
            "1/1 [==============================] - 0s 31ms/step - loss: 0.0297\n",
            "Epoch 91/100\n",
            "1/1 [==============================] - 0s 40ms/step - loss: 0.0279\n",
            "Epoch 92/100\n",
            "1/1 [==============================] - 0s 31ms/step - loss: 0.0301\n",
            "Epoch 93/100\n",
            "1/1 [==============================] - 0s 33ms/step - loss: 0.0297\n",
            "Epoch 94/100\n",
            "1/1 [==============================] - 0s 33ms/step - loss: 0.0291\n",
            "Epoch 95/100\n",
            "1/1 [==============================] - 0s 30ms/step - loss: 0.0279\n",
            "Epoch 96/100\n",
            "1/1 [==============================] - 0s 33ms/step - loss: 0.0296\n",
            "Epoch 97/100\n",
            "1/1 [==============================] - 0s 34ms/step - loss: 0.0274\n",
            "Epoch 98/100\n",
            "1/1 [==============================] - 0s 27ms/step - loss: 0.0294\n",
            "Epoch 99/100\n",
            "1/1 [==============================] - 0s 36ms/step - loss: 0.0279\n",
            "Epoch 100/100\n",
            "1/1 [==============================] - 0s 31ms/step - loss: 0.0304\n",
            "1/1 [==============================] - 1s 880ms/step\n",
            "Model Number: 583 with model GLM in generation 4 of 10\n",
            "Model Number: 584 with model ARIMA in generation 4 of 10\n"
          ]
        },
        {
          "output_type": "stream",
          "name": "stderr",
          "text": [
            "/usr/local/lib/python3.8/dist-packages/statsmodels/genmod/families/links.py:188: RuntimeWarning:\n",
            "\n",
            "overflow encountered in exp\n",
            "\n"
          ]
        },
        {
          "output_type": "stream",
          "name": "stdout",
          "text": [
            "Model Number: 585 with model Theta in generation 4 of 10\n",
            "Template Eval Error: Exception('Transformer Cointegration failed on fit') in model 585: Theta\n",
            "Model Number: 586 with model Theta in generation 4 of 10\n"
          ]
        },
        {
          "output_type": "stream",
          "name": "stderr",
          "text": [
            "INFO:prophet:Disabling yearly seasonality. Run prophet with yearly_seasonality=True to override this.\n",
            "INFO:prophet:Disabling weekly seasonality. Run prophet with weekly_seasonality=True to override this.\n",
            "INFO:prophet:Disabling daily seasonality. Run prophet with daily_seasonality=True to override this.\n",
            "INFO:prophet:n_changepoints greater than number of observations. Using 11.\n",
            "DEBUG:cmdstanpy:input tempfile: /tmp/tmpl9abl34v/qhlkb2u5.json\n",
            "DEBUG:cmdstanpy:input tempfile: /tmp/tmpl9abl34v/6h6uxmy9.json\n",
            "DEBUG:cmdstanpy:idx 0\n",
            "DEBUG:cmdstanpy:running CmdStan, num_threads: None\n",
            "DEBUG:cmdstanpy:CmdStan args: ['/usr/local/lib/python3.8/dist-packages/prophet/stan_model/prophet_model.bin', 'random', 'seed=65144', 'data', 'file=/tmp/tmpl9abl34v/qhlkb2u5.json', 'init=/tmp/tmpl9abl34v/6h6uxmy9.json', 'output', 'file=/tmp/tmpl9abl34v/prophet_modelsjcluz8c/prophet_model-20230112201407.csv', 'method=optimize', 'algorithm=newton', 'iter=10000']\n",
            "20:14:07 - cmdstanpy - INFO - Chain [1] start processing\n",
            "INFO:cmdstanpy:Chain [1] start processing\n",
            "20:14:07 - cmdstanpy - INFO - Chain [1] done processing\n",
            "INFO:cmdstanpy:Chain [1] done processing\n"
          ]
        },
        {
          "output_type": "stream",
          "name": "stdout",
          "text": [
            "Model Number: 587 with model FBProphet in generation 4 of 10\n",
            "Model Number: 588 with model ETS in generation 4 of 10\n",
            "ETS error ValueError('endog must be strictly positive when usingmultiplicative trend or seasonal components.')\n",
            "ETS failed on Close with ValueError('endog must be strictly positive when usingmultiplicative trend or seasonal components.')\n",
            "Model Number: 589 with model LastValueNaive in generation 4 of 10\n"
          ]
        },
        {
          "output_type": "stream",
          "name": "stderr",
          "text": [
            "INFO:prophet:Disabling yearly seasonality. Run prophet with yearly_seasonality=True to override this.\n",
            "INFO:prophet:Disabling weekly seasonality. Run prophet with weekly_seasonality=True to override this.\n",
            "INFO:prophet:Disabling daily seasonality. Run prophet with daily_seasonality=True to override this.\n",
            "INFO:prophet:n_changepoints greater than number of observations. Using 11.\n",
            "DEBUG:cmdstanpy:input tempfile: /tmp/tmpl9abl34v/rbauc19a.json\n",
            "DEBUG:cmdstanpy:input tempfile: /tmp/tmpl9abl34v/4li1gj44.json\n",
            "DEBUG:cmdstanpy:idx 0\n",
            "DEBUG:cmdstanpy:running CmdStan, num_threads: None\n",
            "DEBUG:cmdstanpy:CmdStan args: ['/usr/local/lib/python3.8/dist-packages/prophet/stan_model/prophet_model.bin', 'random', 'seed=95976', 'data', 'file=/tmp/tmpl9abl34v/rbauc19a.json', 'init=/tmp/tmpl9abl34v/4li1gj44.json', 'output', 'file=/tmp/tmpl9abl34v/prophet_modelxd6_v25z/prophet_model-20230112201408.csv', 'method=optimize', 'algorithm=newton', 'iter=10000']\n",
            "20:14:08 - cmdstanpy - INFO - Chain [1] start processing\n",
            "INFO:cmdstanpy:Chain [1] start processing\n"
          ]
        },
        {
          "output_type": "stream",
          "name": "stdout",
          "text": [
            "Model Number: 590 with model FBProphet in generation 4 of 10\n",
            "No anomalies detected.\n"
          ]
        },
        {
          "output_type": "stream",
          "name": "stderr",
          "text": [
            "20:14:08 - cmdstanpy - INFO - Chain [1] done processing\n",
            "INFO:cmdstanpy:Chain [1] done processing\n"
          ]
        },
        {
          "output_type": "stream",
          "name": "stdout",
          "text": [
            "Model Number: 591 with model UnivariateMotif in generation 4 of 10\n",
            "Model Number: 592 with model SeasonalNaive in generation 4 of 10\n",
            "Model Number: 593 with model GLS in generation 4 of 10\n",
            "Model Number: 594 with model MultivariateRegression in generation 4 of 10\n"
          ]
        },
        {
          "output_type": "stream",
          "name": "stderr",
          "text": [
            "[Parallel(n_jobs=-2)]: Using backend SequentialBackend with 1 concurrent workers.\n",
            "[Parallel(n_jobs=-2)]: Done 200 out of 200 | elapsed:    0.1s finished\n",
            "[Parallel(n_jobs=1)]: Using backend SequentialBackend with 1 concurrent workers.\n",
            "[Parallel(n_jobs=1)]: Done 200 out of 200 | elapsed:    0.0s finished\n"
          ]
        },
        {
          "output_type": "stream",
          "name": "stdout",
          "text": [
            "Model Number: 595 with model DatepartRegression in generation 4 of 10\n",
            "Model Number: 596 with model AverageValueNaive in generation 4 of 10\n",
            "Model Number: 597 with model ConstantNaive in generation 4 of 10\n",
            "Model Number: 598 with model SeasonalNaive in generation 4 of 10\n"
          ]
        },
        {
          "output_type": "stream",
          "name": "stderr",
          "text": [
            "INFO:prophet:Disabling yearly seasonality. Run prophet with yearly_seasonality=True to override this.\n",
            "INFO:prophet:Disabling weekly seasonality. Run prophet with weekly_seasonality=True to override this.\n",
            "INFO:prophet:Disabling daily seasonality. Run prophet with daily_seasonality=True to override this.\n",
            "INFO:prophet:n_changepoints greater than number of observations. Using 10.\n",
            "DEBUG:cmdstanpy:input tempfile: /tmp/tmpl9abl34v/if543tg_.json\n",
            "DEBUG:cmdstanpy:input tempfile: /tmp/tmpl9abl34v/_mfgcs1e.json\n",
            "DEBUG:cmdstanpy:idx 0\n",
            "DEBUG:cmdstanpy:running CmdStan, num_threads: None\n"
          ]
        },
        {
          "output_type": "stream",
          "name": "stdout",
          "text": [
            "Model Number: 599 with model FBProphet in generation 4 of 10\n",
            "No anomalies detected.\n"
          ]
        },
        {
          "output_type": "stream",
          "name": "stderr",
          "text": [
            "DEBUG:cmdstanpy:CmdStan args: ['/usr/local/lib/python3.8/dist-packages/prophet/stan_model/prophet_model.bin', 'random', 'seed=29298', 'data', 'file=/tmp/tmpl9abl34v/if543tg_.json', 'init=/tmp/tmpl9abl34v/_mfgcs1e.json', 'output', 'file=/tmp/tmpl9abl34v/prophet_modelxf_smxr_/prophet_model-20230112201409.csv', 'method=optimize', 'algorithm=newton', 'iter=10000']\n",
            "20:14:09 - cmdstanpy - INFO - Chain [1] start processing\n",
            "INFO:cmdstanpy:Chain [1] start processing\n",
            "20:14:09 - cmdstanpy - INFO - Chain [1] done processing\n",
            "INFO:cmdstanpy:Chain [1] done processing\n"
          ]
        },
        {
          "output_type": "stream",
          "name": "stdout",
          "text": [
            "Model Number: 600 with model MultivariateRegression in generation 4 of 10\n",
            "Model Number: 601 with model Theta in generation 4 of 10\n",
            "Template Eval Error: Exception('Transformer AlignLastValue failed on fit') in model 601: Theta\n",
            "Model Number: 602 with model GLM in generation 4 of 10\n",
            "Template Eval Error: PerfectSeparationError('Perfect separation detected, results not available') in model 602: GLM\n",
            "Model Number: 603 with model SeasonalNaive in generation 4 of 10\n",
            "Model Number: 604 with model ARIMA in generation 4 of 10\n"
          ]
        },
        {
          "output_type": "stream",
          "name": "stderr",
          "text": [
            "/usr/local/lib/python3.8/dist-packages/autots/tools/probabilistic.py:67: RuntimeWarning:\n",
            "\n",
            "invalid value encountered in true_divide\n",
            "\n",
            "/usr/local/lib/python3.8/dist-packages/autots/tools/probabilistic.py:68: RuntimeWarning:\n",
            "\n",
            "divide by zero encountered in true_divide\n",
            "\n"
          ]
        },
        {
          "output_type": "stream",
          "name": "stdout",
          "text": [
            "Model Number: 605 with model LastValueNaive in generation 4 of 10\n",
            "Model Number: 606 with model Theta in generation 4 of 10\n",
            "Model Number: 607 with model ETS in generation 4 of 10\n",
            "Model Number: 608 with model LastValueNaive in generation 4 of 10\n",
            "Model Number: 609 with model GLS in generation 4 of 10\n",
            "Model Number: 610 with model WindowRegression in generation 4 of 10\n",
            "Model Number: 611 with model FBProphet in generation 4 of 10\n",
            "Template Eval Error: ValueError(\"regression_type='User' but no future_regressor passed\") in model 611: FBProphet\n",
            "Model Number: 612 with model ARIMA in generation 4 of 10\n"
          ]
        },
        {
          "output_type": "stream",
          "name": "stderr",
          "text": [
            "[Parallel(n_jobs=-2)]: Using backend SequentialBackend with 1 concurrent workers.\n",
            "[Parallel(n_jobs=-2)]: Done 100 out of 100 | elapsed:    0.1s finished\n",
            "[Parallel(n_jobs=1)]: Using backend SequentialBackend with 1 concurrent workers.\n",
            "[Parallel(n_jobs=1)]: Done 100 out of 100 | elapsed:    0.0s finished\n"
          ]
        },
        {
          "output_type": "stream",
          "name": "stdout",
          "text": [
            "Model Number: 613 with model SeasonalNaive in generation 4 of 10\n",
            "Model Number: 614 with model DatepartRegression in generation 4 of 10\n",
            "Model Number: 615 with model MultivariateRegression in generation 4 of 10\n",
            "Model Number: 616 with model FBProphet in generation 4 of 10"
          ]
        },
        {
          "output_type": "stream",
          "name": "stderr",
          "text": [
            "[Parallel(n_jobs=-2)]: Using backend SequentialBackend with 1 concurrent workers.\n",
            "[Parallel(n_jobs=-2)]: Done 100 out of 100 | elapsed:    0.1s finished\n",
            "[Parallel(n_jobs=1)]: Using backend SequentialBackend with 1 concurrent workers.\n",
            "[Parallel(n_jobs=1)]: Done 100 out of 100 | elapsed:    0.0s finished\n",
            "INFO:prophet:Disabling yearly seasonality. Run prophet with yearly_seasonality=True to override this.\n",
            "INFO:prophet:Disabling weekly seasonality. Run prophet with weekly_seasonality=True to override this.\n",
            "INFO:prophet:Disabling daily seasonality. Run prophet with daily_seasonality=True to override this.\n",
            "DEBUG:cmdstanpy:input tempfile: /tmp/tmpl9abl34v/1ngl7x99.json\n"
          ]
        },
        {
          "output_type": "stream",
          "name": "stdout",
          "text": [
            "\n"
          ]
        },
        {
          "output_type": "stream",
          "name": "stderr",
          "text": [
            "DEBUG:cmdstanpy:input tempfile: /tmp/tmpl9abl34v/1wl7e9d6.json\n",
            "DEBUG:cmdstanpy:idx 0\n",
            "DEBUG:cmdstanpy:running CmdStan, num_threads: None\n",
            "DEBUG:cmdstanpy:CmdStan args: ['/usr/local/lib/python3.8/dist-packages/prophet/stan_model/prophet_model.bin', 'random', 'seed=75093', 'data', 'file=/tmp/tmpl9abl34v/1ngl7x99.json', 'init=/tmp/tmpl9abl34v/1wl7e9d6.json', 'output', 'file=/tmp/tmpl9abl34v/prophet_modelnh95jeth/prophet_model-20230112201412.csv', 'method=optimize', 'algorithm=newton', 'iter=10000']\n",
            "20:14:12 - cmdstanpy - INFO - Chain [1] start processing\n",
            "INFO:cmdstanpy:Chain [1] start processing\n",
            "20:14:12 - cmdstanpy - INFO - Chain [1] done processing\n",
            "INFO:cmdstanpy:Chain [1] done processing\n",
            "INFO:prophet:Disabling yearly seasonality. Run prophet with yearly_seasonality=True to override this.\n",
            "INFO:prophet:Disabling weekly seasonality. Run prophet with weekly_seasonality=True to override this.\n",
            "INFO:prophet:Disabling daily seasonality. Run prophet with daily_seasonality=True to override this.\n",
            "INFO:prophet:n_changepoints greater than number of observations. Using 4.\n",
            "DEBUG:cmdstanpy:input tempfile: /tmp/tmpl9abl34v/z24o2luh.json\n",
            "DEBUG:cmdstanpy:input tempfile: /tmp/tmpl9abl34v/vp_4jw5n.json\n",
            "DEBUG:cmdstanpy:idx 0\n",
            "DEBUG:cmdstanpy:running CmdStan, num_threads: None\n",
            "DEBUG:cmdstanpy:CmdStan args: ['/usr/local/lib/python3.8/dist-packages/prophet/stan_model/prophet_model.bin', 'random', 'seed=63259', 'data', 'file=/tmp/tmpl9abl34v/z24o2luh.json', 'init=/tmp/tmpl9abl34v/vp_4jw5n.json', 'output', 'file=/tmp/tmpl9abl34v/prophet_modelejeco2ha/prophet_model-20230112201413.csv', 'method=optimize', 'algorithm=newton', 'iter=10000']\n",
            "20:14:13 - cmdstanpy - INFO - Chain [1] start processing\n",
            "INFO:cmdstanpy:Chain [1] start processing\n",
            "20:14:13 - cmdstanpy - INFO - Chain [1] done processing\n",
            "INFO:cmdstanpy:Chain [1] done processing\n"
          ]
        },
        {
          "output_type": "stream",
          "name": "stdout",
          "text": [
            "Model Number: 617 with model FBProphet in generation 4 of 10\n",
            "Model Number: 618 with model GLS in generation 4 of 10\n",
            "Template Eval Error: Exception('Transformer Detrend failed on fit') in model 618: GLS\n",
            "Model Number: 619 with model Theta in generation 4 of 10\n",
            "Model Number: 620 with model GLM in generation 4 of 10\n",
            "Model Number: 621 with model UnivariateMotif in generation 4 of 10\n",
            "Template Eval Error: ValueError('kth(=5) out of bounds (4)') in model 621: UnivariateMotif\n",
            "Model Number: 622 with model NVAR in generation 4 of 10\n",
            "Model Number: 623 with model AverageValueNaive in generation 4 of 10\n",
            "Model Number: 624 with model GLM in generation 4 of 10\n",
            "Template Eval Error: PerfectSeparationError('Perfect separation detected, results not available') in model 624: GLM\n",
            "Model Number: 625 with model NVAR in generation 4 of 10\n",
            "Model Number: 626 with model ETS in generation 4 of 10\n",
            "ETS error ValueError('endog must be strictly positive when usingmultiplicative trend or seasonal components.')\n",
            "ETS failed on Close with ValueError('endog must be strictly positive when usingmultiplicative trend or seasonal components.')\n",
            "Model Number: 627 with model ARIMA in generation 4 of 10\n",
            "Model Number: 628 with model ARIMA in generation 4 of 10\n"
          ]
        },
        {
          "output_type": "stream",
          "name": "stderr",
          "text": [
            "INFO:prophet:Disabling yearly seasonality. Run prophet with yearly_seasonality=True to override this.\n",
            "INFO:prophet:Disabling weekly seasonality. Run prophet with weekly_seasonality=True to override this.\n",
            "INFO:prophet:Disabling daily seasonality. Run prophet with daily_seasonality=True to override this.\n",
            "INFO:prophet:n_changepoints greater than number of observations. Using 10.\n",
            "DEBUG:cmdstanpy:input tempfile: /tmp/tmpl9abl34v/i4r9s12j.json\n",
            "DEBUG:cmdstanpy:input tempfile: /tmp/tmpl9abl34v/72wuqkjc.json\n",
            "DEBUG:cmdstanpy:idx 0\n",
            "DEBUG:cmdstanpy:running CmdStan, num_threads: None\n",
            "DEBUG:cmdstanpy:CmdStan args: ['/usr/local/lib/python3.8/dist-packages/prophet/stan_model/prophet_model.bin', 'random', 'seed=84411', 'data', 'file=/tmp/tmpl9abl34v/i4r9s12j.json', 'init=/tmp/tmpl9abl34v/72wuqkjc.json', 'output', 'file=/tmp/tmpl9abl34v/prophet_modelnp_s2zaf/prophet_model-20230112201414.csv', 'method=optimize', 'algorithm=newton', 'iter=10000']\n",
            "20:14:14 - cmdstanpy - INFO - Chain [1] start processing\n",
            "INFO:cmdstanpy:Chain [1] start processing\n",
            "20:14:14 - cmdstanpy - INFO - Chain [1] done processing\n",
            "INFO:cmdstanpy:Chain [1] done processing\n"
          ]
        },
        {
          "output_type": "stream",
          "name": "stdout",
          "text": [
            "Model Number: 629 with model FBProphet in generation 4 of 10\n",
            "Model Number: 630 with model UnobservedComponents in generation 4 of 10\n",
            "Template Eval Error: LinAlgError('Schur decomposition solver error.') in model 630: UnobservedComponents\n",
            "Model Number: 631 with model UnobservedComponents in generation 4 of 10\n",
            "Model Number: 632 with model ARIMA in generation 4 of 10\n",
            "Model Number: 633 with model ARIMA in generation 4 of 10\n",
            "Model Number: 634 with model ETS in generation 4 of 10\n",
            "ETS error ValueError('endog must be strictly positive when usingmultiplicative trend or seasonal components.')\n",
            "ETS failed on Close with ValueError('endog must be strictly positive when usingmultiplicative trend or seasonal components.')\n",
            "Model Number: 635 with model GLS in generation 4 of 10\n",
            "Model Number: 636 with model LastValueNaive in generation 4 of 10\n",
            "Model Number: 637 with model GLM in generation 4 of 10\n",
            "Template Eval Error: ValueError('regression_type=user and no future_regressor passed') in model 637: GLM\n",
            "Model Number: 638 with model DatepartRegression in generation 4 of 10\n",
            "Epoch 1/100\n",
            "1/1 [==============================] - 6s 6s/step - loss: 3.7193 - val_loss: 2.6597\n",
            "Epoch 2/100\n",
            "1/1 [==============================] - 0s 67ms/step - loss: 2.9717 - val_loss: 2.4655\n",
            "Epoch 3/100\n",
            "1/1 [==============================] - 0s 64ms/step - loss: 3.7610 - val_loss: 2.3019\n",
            "Epoch 4/100\n",
            "1/1 [==============================] - 0s 61ms/step - loss: 3.5024 - val_loss: 2.1786\n",
            "Epoch 5/100\n",
            "1/1 [==============================] - 0s 65ms/step - loss: 3.7772 - val_loss: 2.0531\n",
            "Epoch 6/100\n",
            "1/1 [==============================] - 0s 70ms/step - loss: 1.5568 - val_loss: 1.9526\n",
            "Epoch 7/100\n",
            "1/1 [==============================] - 0s 71ms/step - loss: 2.1731 - val_loss: 1.8499\n",
            "Epoch 8/100\n",
            "1/1 [==============================] - 0s 68ms/step - loss: 3.0534 - val_loss: 1.7376\n",
            "Epoch 9/100\n",
            "1/1 [==============================] - 0s 63ms/step - loss: 0.9851 - val_loss: 1.6465\n",
            "Epoch 10/100\n",
            "1/1 [==============================] - 0s 64ms/step - loss: 2.2532 - val_loss: 1.5423\n",
            "Epoch 11/100\n",
            "1/1 [==============================] - 0s 93ms/step - loss: 1.1100 - val_loss: 1.4503\n",
            "Epoch 12/100\n",
            "1/1 [==============================] - 0s 83ms/step - loss: 1.4172 - val_loss: 1.3473\n",
            "Epoch 13/100\n",
            "1/1 [==============================] - 0s 80ms/step - loss: 2.1704 - val_loss: 1.2880\n",
            "Epoch 14/100\n",
            "1/1 [==============================] - 0s 62ms/step - loss: 1.3726 - val_loss: 1.2145\n",
            "Epoch 15/100\n",
            "1/1 [==============================] - 0s 67ms/step - loss: 2.2130 - val_loss: 1.1425\n",
            "Epoch 16/100\n",
            "1/1 [==============================] - 0s 65ms/step - loss: 1.2937 - val_loss: 1.0837\n",
            "Epoch 17/100\n",
            "1/1 [==============================] - 0s 58ms/step - loss: 1.5130 - val_loss: 1.0242\n",
            "Epoch 18/100\n",
            "1/1 [==============================] - 0s 70ms/step - loss: 1.8607 - val_loss: 0.9234\n",
            "Epoch 19/100\n",
            "1/1 [==============================] - 0s 65ms/step - loss: 1.1504 - val_loss: 0.8607\n",
            "Epoch 20/100\n",
            "1/1 [==============================] - 0s 64ms/step - loss: 1.3361 - val_loss: 0.7616\n",
            "Epoch 21/100\n",
            "1/1 [==============================] - 0s 65ms/step - loss: 1.0470 - val_loss: 0.7237\n",
            "Epoch 22/100\n",
            "1/1 [==============================] - 0s 81ms/step - loss: 1.3209 - val_loss: 0.6691\n",
            "Epoch 23/100\n",
            "1/1 [==============================] - 0s 64ms/step - loss: 1.3706 - val_loss: 0.5827\n",
            "Epoch 24/100\n",
            "1/1 [==============================] - 0s 64ms/step - loss: 1.5048 - val_loss: 0.5363\n",
            "Epoch 25/100\n",
            "1/1 [==============================] - 0s 59ms/step - loss: 1.0100 - val_loss: 0.4733\n",
            "Epoch 26/100\n",
            "1/1 [==============================] - 0s 57ms/step - loss: 0.7513 - val_loss: 0.4298\n",
            "Epoch 27/100\n",
            "1/1 [==============================] - 0s 61ms/step - loss: 1.1927 - val_loss: 0.4113\n",
            "Epoch 28/100\n",
            "1/1 [==============================] - 0s 59ms/step - loss: 0.4840 - val_loss: 0.3621\n",
            "Epoch 29/100\n",
            "1/1 [==============================] - 0s 71ms/step - loss: 0.7893 - val_loss: 0.3594\n",
            "Epoch 30/100\n",
            "1/1 [==============================] - 0s 63ms/step - loss: 1.1605 - val_loss: 0.3621\n",
            "Epoch 31/100\n",
            "1/1 [==============================] - 0s 63ms/step - loss: 0.3244 - val_loss: 0.3251\n",
            "Epoch 32/100\n",
            "1/1 [==============================] - 0s 77ms/step - loss: 0.7612 - val_loss: 0.3148\n",
            "Epoch 33/100\n",
            "1/1 [==============================] - 0s 62ms/step - loss: 1.3742 - val_loss: 0.3095\n",
            "Epoch 34/100\n",
            "1/1 [==============================] - 0s 61ms/step - loss: 0.5615 - val_loss: 0.2866\n",
            "Epoch 35/100\n",
            "1/1 [==============================] - 0s 72ms/step - loss: 1.1111 - val_loss: 0.2570\n",
            "Epoch 36/100\n",
            "1/1 [==============================] - 0s 54ms/step - loss: 0.8387 - val_loss: 0.2547\n",
            "Epoch 37/100\n",
            "1/1 [==============================] - 0s 51ms/step - loss: 0.3939 - val_loss: 0.2989\n",
            "Epoch 38/100\n",
            "1/1 [==============================] - 0s 63ms/step - loss: 0.8398 - val_loss: 0.2310\n",
            "Epoch 39/100\n",
            "1/1 [==============================] - 0s 60ms/step - loss: 1.2010 - val_loss: 0.2395\n",
            "Epoch 40/100\n",
            "1/1 [==============================] - 0s 64ms/step - loss: 0.8250 - val_loss: 0.1957\n",
            "Epoch 41/100\n",
            "1/1 [==============================] - 0s 66ms/step - loss: 0.7930 - val_loss: 0.1687\n",
            "Epoch 42/100\n",
            "1/1 [==============================] - 0s 72ms/step - loss: 1.0935 - val_loss: 0.1747\n",
            "Epoch 43/100\n",
            "1/1 [==============================] - 0s 70ms/step - loss: 0.7523 - val_loss: 0.2155\n",
            "Epoch 44/100\n",
            "1/1 [==============================] - 0s 67ms/step - loss: 1.4690 - val_loss: 0.2077\n",
            "Epoch 45/100\n",
            "1/1 [==============================] - 0s 67ms/step - loss: 1.4768 - val_loss: 0.1958\n",
            "Epoch 46/100\n",
            "1/1 [==============================] - 0s 61ms/step - loss: 0.4199 - val_loss: 0.2151\n",
            "Epoch 47/100\n",
            "1/1 [==============================] - 0s 58ms/step - loss: 0.7331 - val_loss: 0.2122\n",
            "Epoch 48/100\n",
            "1/1 [==============================] - 0s 61ms/step - loss: 0.9831 - val_loss: 0.1793\n",
            "Epoch 49/100\n",
            "1/1 [==============================] - 0s 57ms/step - loss: 0.6306 - val_loss: 0.2025\n",
            "Epoch 50/100\n",
            "1/1 [==============================] - 0s 66ms/step - loss: 0.9816 - val_loss: 0.2138\n",
            "Epoch 51/100\n",
            "1/1 [==============================] - 0s 68ms/step - loss: 0.8503 - val_loss: 0.2750\n",
            "1/1 [==============================] - 0s 359ms/step\n",
            "Template Eval Error: ValueError('Model DatepartRegression returned NaN for one or more series. fail_on_forecast_nan=True') in model 638: DatepartRegression\n",
            "Model Number: 639 with model GLM in generation 4 of 10\n",
            "Template Eval Error: PerfectSeparationError('Perfect separation detected, results not available') in model 639: GLM\n",
            "Model Number: 640 with model LastValueNaive in generation 4 of 10\n",
            "Model Number: 641 with model ConstantNaive in generation 4 of 10\n"
          ]
        },
        {
          "output_type": "stream",
          "name": "stderr",
          "text": [
            "INFO:prophet:Disabling yearly seasonality. Run prophet with yearly_seasonality=True to override this.\n",
            "INFO:prophet:Disabling weekly seasonality. Run prophet with weekly_seasonality=True to override this.\n",
            "INFO:prophet:Disabling daily seasonality. Run prophet with daily_seasonality=True to override this.\n"
          ]
        },
        {
          "output_type": "stream",
          "name": "stdout",
          "text": [
            "Model Number: 642 with model FBProphet in generation 4 of 10\n"
          ]
        },
        {
          "output_type": "stream",
          "name": "stderr",
          "text": [
            "INFO:prophet:n_changepoints greater than number of observations. Using 10.\n",
            "DEBUG:cmdstanpy:input tempfile: /tmp/tmpl9abl34v/95tbcoiy.json\n",
            "DEBUG:cmdstanpy:input tempfile: /tmp/tmpl9abl34v/imp6el2f.json\n",
            "DEBUG:cmdstanpy:idx 0\n",
            "DEBUG:cmdstanpy:running CmdStan, num_threads: None\n",
            "DEBUG:cmdstanpy:CmdStan args: ['/usr/local/lib/python3.8/dist-packages/prophet/stan_model/prophet_model.bin', 'random', 'seed=98333', 'data', 'file=/tmp/tmpl9abl34v/95tbcoiy.json', 'init=/tmp/tmpl9abl34v/imp6el2f.json', 'output', 'file=/tmp/tmpl9abl34v/prophet_modeluj11hddn/prophet_model-20230112201429.csv', 'method=optimize', 'algorithm=newton', 'iter=10000']\n",
            "20:14:29 - cmdstanpy - INFO - Chain [1] start processing\n",
            "INFO:cmdstanpy:Chain [1] start processing\n",
            "20:14:29 - cmdstanpy - INFO - Chain [1] done processing\n",
            "INFO:cmdstanpy:Chain [1] done processing\n"
          ]
        },
        {
          "output_type": "stream",
          "name": "stdout",
          "text": [
            "Model Number: 643 with model LastValueNaive in generation 4 of 10\n",
            "Model Number: 644 with model GLM in generation 4 of 10\n",
            "Model Number: 645 with model UnivariateMotif in generation 4 of 10\n",
            "Model Number: 646 with model NVAR in generation 4 of 10\n",
            "Model Number: 647 with model ARIMA in generation 4 of 10\n",
            "Model Number: 648 with model MultivariateRegression in generation 4 of 10\n"
          ]
        },
        {
          "output_type": "stream",
          "name": "stderr",
          "text": [
            "/usr/local/lib/python3.8/dist-packages/statsmodels/genmod/families/links.py:188: RuntimeWarning:\n",
            "\n",
            "overflow encountered in exp\n",
            "\n"
          ]
        },
        {
          "output_type": "stream",
          "name": "stdout",
          "text": [
            "Template Eval Error: LinAlgError('Matrix is not positive definite') in model 648: MultivariateRegression\n",
            "Model Number: 649 with model MultivariateRegression in generation 4 of 10\n",
            "Template Eval Error: Exception('Transformer BTCD failed on fit') in model 649: MultivariateRegression\n",
            "Model Number: 650 with model NVAR in generation 4 of 10\n",
            "Model Number: 651 with model UnobservedComponents in generation 4 of 10\n",
            "Model Number: 652 with model Theta in generation 4 of 10\n",
            "Model Number: 653 with model UnobservedComponents in generation 4 of 10\n",
            "Model Number: 654 with model ARIMA in generation 4 of 10\n",
            "Model Number: 655 with model MultivariateMotif in generation 4 of 10\n",
            "Template Eval Error: Exception('Transformer ScipyFilter failed on fit') in model 655: MultivariateMotif\n",
            "Model Number: 656 with model AverageValueNaive in generation 4 of 10\n",
            "Model Number: 657 with model GLM in generation 4 of 10\n",
            "Model Number: 658 with model GLS in generation 4 of 10\n",
            "Template Eval Error: Exception('Transformer Detrend failed on fit') in model 658: GLS\n",
            "Model Number: 659 with model NVAR in generation 4 of 10\n",
            "Model Number: 660 with model AverageValueNaive in generation 4 of 10\n",
            "Model Number: 661 with model GLS in generation 4 of 10\n",
            "Model Number: 662 with model NVAR in generation 4 of 10\n",
            "Model Number: 663 with model NVAR in generation 4 of 10\n",
            "Model Number: 664 with model FBProphet in generation 4 of 10\n"
          ]
        },
        {
          "output_type": "stream",
          "name": "stderr",
          "text": [
            "/usr/local/lib/python3.8/dist-packages/statsmodels/genmod/families/links.py:188: RuntimeWarning:\n",
            "\n",
            "overflow encountered in exp\n",
            "\n",
            "INFO:prophet:Disabling yearly seasonality. Run prophet with yearly_seasonality=True to override this.\n",
            "INFO:prophet:Disabling weekly seasonality. Run prophet with weekly_seasonality=True to override this.\n",
            "INFO:prophet:Disabling daily seasonality. Run prophet with daily_seasonality=True to override this.\n",
            "INFO:prophet:n_changepoints greater than number of observations. Using 11.\n",
            "DEBUG:cmdstanpy:input tempfile: /tmp/tmpl9abl34v/42as2hkv.json\n",
            "DEBUG:cmdstanpy:input tempfile: /tmp/tmpl9abl34v/8fpw86sk.json\n",
            "DEBUG:cmdstanpy:idx 0\n",
            "DEBUG:cmdstanpy:running CmdStan, num_threads: None\n",
            "DEBUG:cmdstanpy:CmdStan args: ['/usr/local/lib/python3.8/dist-packages/prophet/stan_model/prophet_model.bin', 'random', 'seed=13713', 'data', 'file=/tmp/tmpl9abl34v/42as2hkv.json', 'init=/tmp/tmpl9abl34v/8fpw86sk.json', 'output', 'file=/tmp/tmpl9abl34v/prophet_model95gow610/prophet_model-20230112201432.csv', 'method=optimize', 'algorithm=newton', 'iter=10000']\n",
            "20:14:32 - cmdstanpy - INFO - Chain [1] start processing\n",
            "INFO:cmdstanpy:Chain [1] start processing\n",
            "20:14:32 - cmdstanpy - INFO - Chain [1] done processing\n",
            "INFO:cmdstanpy:Chain [1] done processing\n"
          ]
        },
        {
          "output_type": "stream",
          "name": "stdout",
          "text": [
            "Model Number: 665 with model UnobservedComponents in generation 4 of 10\n",
            "Template Eval Error: ValueError('Model UnobservedComponents returned NaN for one or more series. fail_on_forecast_nan=True') in model 665: UnobservedComponents\n",
            "Model Number: 666 with model NVAR in generation 4 of 10\n",
            "Model Number: 667 with model DatepartRegression in generation 4 of 10\n",
            "Model Number: 668 with model SeasonalNaive in generation 4 of 10\n",
            "Model Number: 669 with model Theta in generation 4 of 10\n"
          ]
        },
        {
          "output_type": "stream",
          "name": "stderr",
          "text": [
            "[Parallel(n_jobs=-2)]: Using backend SequentialBackend with 1 concurrent workers.\n",
            "[Parallel(n_jobs=-2)]: Done 100 out of 100 | elapsed:    0.1s finished\n",
            "[Parallel(n_jobs=1)]: Using backend SequentialBackend with 1 concurrent workers.\n",
            "[Parallel(n_jobs=1)]: Done 100 out of 100 | elapsed:    0.0s finished\n"
          ]
        },
        {
          "output_type": "stream",
          "name": "stdout",
          "text": [
            "Model Number: 670 with model WindowRegression in generation 4 of 10\n"
          ]
        },
        {
          "output_type": "stream",
          "name": "stderr",
          "text": [
            "INFO:prophet:Disabling yearly seasonality. Run prophet with yearly_seasonality=True to override this.\n",
            "INFO:prophet:Disabling weekly seasonality. Run prophet with weekly_seasonality=True to override this.\n",
            "INFO:prophet:Disabling daily seasonality. Run prophet with daily_seasonality=True to override this.\n",
            "INFO:prophet:n_changepoints greater than number of observations. Using 11.\n",
            "DEBUG:cmdstanpy:input tempfile: /tmp/tmpl9abl34v/igf85j29.json\n",
            "DEBUG:cmdstanpy:input tempfile: /tmp/tmpl9abl34v/rnixjyw2.json\n",
            "DEBUG:cmdstanpy:idx 0\n",
            "DEBUG:cmdstanpy:running CmdStan, num_threads: None\n",
            "DEBUG:cmdstanpy:CmdStan args: ['/usr/local/lib/python3.8/dist-packages/prophet/stan_model/prophet_model.bin', 'random', 'seed=64481', 'data', 'file=/tmp/tmpl9abl34v/igf85j29.json', 'init=/tmp/tmpl9abl34v/rnixjyw2.json', 'output', 'file=/tmp/tmpl9abl34v/prophet_modell927hwcn/prophet_model-20230112201434.csv', 'method=optimize', 'algorithm=newton', 'iter=10000']\n",
            "20:14:34 - cmdstanpy - INFO - Chain [1] start processing\n",
            "INFO:cmdstanpy:Chain [1] start processing\n"
          ]
        },
        {
          "output_type": "stream",
          "name": "stdout",
          "text": [
            "Model Number: 671 with model FBProphet in generation 4 of 10\n"
          ]
        },
        {
          "output_type": "stream",
          "name": "stderr",
          "text": [
            "20:14:34 - cmdstanpy - INFO - Chain [1] done processing\n",
            "INFO:cmdstanpy:Chain [1] done processing\n"
          ]
        },
        {
          "output_type": "stream",
          "name": "stdout",
          "text": [
            "Model Number: 672 with model MultivariateMotif in generation 4 of 10\n",
            "Template Eval Error: ValueError('window shape cannot be larger than input array shape') in model 672: MultivariateMotif\n",
            "Model Number: 673 with model ETS in generation 4 of 10\n",
            "Model Number: 674 with model GLM in generation 4 of 10\n",
            "Model Number: 675 with model DatepartRegression in generation 4 of 10\n"
          ]
        },
        {
          "output_type": "stream",
          "name": "stderr",
          "text": [
            "/usr/local/lib/python3.8/dist-packages/statsmodels/genmod/families/links.py:188: RuntimeWarning:\n",
            "\n",
            "overflow encountered in exp\n",
            "\n",
            "[Parallel(n_jobs=-2)]: Using backend SequentialBackend with 1 concurrent workers.\n",
            "[Parallel(n_jobs=-2)]: Done 100 out of 100 | elapsed:    0.1s finished\n",
            "[Parallel(n_jobs=1)]: Using backend SequentialBackend with 1 concurrent workers.\n",
            "[Parallel(n_jobs=1)]: Done 100 out of 100 | elapsed:    0.0s finished\n"
          ]
        },
        {
          "output_type": "stream",
          "name": "stdout",
          "text": [
            "Model Number: 676 with model AverageValueNaive in generation 4 of 10\n",
            "Template Eval Error: ValueError('Model AverageValueNaive returned NaN for one or more series. fail_on_forecast_nan=True') in model 676: AverageValueNaive\n",
            "Model Number: 677 with model ConstantNaive in generation 4 of 10\n",
            "Model Number: 678 with model LastValueNaive in generation 4 of 10\n",
            "Model Number: 679 with model ConstantNaive in generation 4 of 10\n",
            "Model Number: 680 with model ETS in generation 4 of 10\n",
            "ETS error ValueError('endog must be strictly positive when usingmultiplicative trend or seasonal components.')\n",
            "ETS failed on Close with ValueError('endog must be strictly positive when usingmultiplicative trend or seasonal components.')\n",
            "Model Number: 681 with model LastValueNaive in generation 4 of 10\n",
            "Model Number: 682 with model ARIMA in generation 4 of 10"
          ]
        },
        {
          "output_type": "stream",
          "name": "stderr",
          "text": [
            "/usr/local/lib/python3.8/dist-packages/autots/tools/window_functions.py:478: RuntimeWarning:\n",
            "\n",
            "invalid value encountered in true_divide\n",
            "\n",
            "/usr/local/lib/python3.8/dist-packages/sklearn/utils/extmath.py:985: RuntimeWarning:\n",
            "\n",
            "invalid value encountered in true_divide\n",
            "\n",
            "/usr/local/lib/python3.8/dist-packages/sklearn/utils/extmath.py:990: RuntimeWarning:\n",
            "\n",
            "invalid value encountered in true_divide\n",
            "\n",
            "/usr/local/lib/python3.8/dist-packages/sklearn/utils/extmath.py:1020: RuntimeWarning:\n",
            "\n",
            "invalid value encountered in true_divide\n",
            "\n",
            "/usr/local/lib/python3.8/dist-packages/autots/tools/percentile.py:47: RuntimeWarning:\n",
            "\n",
            "All-NaN slice encountered\n",
            "\n",
            "/usr/local/lib/python3.8/dist-packages/sklearn/preprocessing/_data.py:3253: RuntimeWarning:\n",
            "\n",
            "divide by zero encountered in log\n",
            "\n",
            "/usr/local/lib/python3.8/dist-packages/sklearn/preprocessing/_data.py:3196: RuntimeWarning:\n",
            "\n",
            "divide by zero encountered in power\n",
            "\n",
            "/usr/local/lib/python3.8/dist-packages/sklearn/preprocessing/_data.py:3196: RuntimeWarning:\n",
            "\n",
            "divide by zero encountered in power\n",
            "\n",
            "/usr/local/lib/python3.8/dist-packages/sklearn/preprocessing/_data.py:3196: RuntimeWarning:\n",
            "\n",
            "divide by zero encountered in power\n",
            "\n"
          ]
        },
        {
          "output_type": "stream",
          "name": "stdout",
          "text": [
            "\n",
            "Model Number: 683 with model UnobservedComponents in generation 4 of 10\n",
            "Template Eval Error: ValueError(\"regression_type='User' but no future_regressor supplied\") in model 683: UnobservedComponents\n",
            "Model Number: 684 with model Theta in generation 4 of 10\n",
            "Model Number: 685 with model DatepartRegression in generation 4 of 10\n",
            "Model Number: 686 with model UnobservedComponents in generation 4 of 10\n",
            "Model Number: 687 with model WindowRegression in generation 4 of 10\n"
          ]
        },
        {
          "output_type": "stream",
          "name": "stderr",
          "text": [
            "[Parallel(n_jobs=-2)]: Using backend SequentialBackend with 1 concurrent workers.\n",
            "[Parallel(n_jobs=-2)]: Done 100 out of 100 | elapsed:    0.1s finished\n",
            "[Parallel(n_jobs=1)]: Using backend SequentialBackend with 1 concurrent workers.\n",
            "[Parallel(n_jobs=1)]: Done 100 out of 100 | elapsed:    0.0s finished\n",
            "/usr/local/lib/python3.8/dist-packages/sklearn/linear_model/_ridge.py:196: UserWarning:\n",
            "\n",
            "Singular matrix in solving dual problem. Using least-squares solution instead.\n",
            "\n"
          ]
        },
        {
          "output_type": "stream",
          "name": "stdout",
          "text": [
            "Template Eval Error: ValueError(\"regression_type='User' but no future_regressor passed\") in model 687: WindowRegression\n",
            "Model Number: 688 with model Theta in generation 4 of 10\n",
            "New Generation: 5 of 10\n",
            "Model Number: 689 with model GLM in generation 5 of 10\n",
            "Model Number: 690 with model GLS in generation 5 of 10\n",
            "Model Number: 691 with model GLS in generation 5 of 10\n",
            "Model Number: 692 with model NVAR in generation 5 of 10\n",
            "Model Number: 693 with model UnobservedComponents in generation 5 of 10\n",
            "Template Eval Error: Exception('Transformer ScipyFilter failed on fit') in model 693: UnobservedComponents\n",
            "Model Number: 694 with model SeasonalNaive in generation 5 of 10\n",
            "Model Number: 695 with model DatepartRegression in generation 5 of 10\n",
            "Model Number: 696 with model LastValueNaive in generation 5 of 10\n",
            "Model Number: 697 with model MultivariateRegression in generation 5 of 10\n"
          ]
        },
        {
          "output_type": "stream",
          "name": "stderr",
          "text": [
            "[Parallel(n_jobs=-2)]: Using backend SequentialBackend with 1 concurrent workers.\n",
            "[Parallel(n_jobs=-2)]: Done 100 out of 100 | elapsed:    0.1s finished\n",
            "[Parallel(n_jobs=1)]: Using backend SequentialBackend with 1 concurrent workers.\n",
            "[Parallel(n_jobs=1)]: Done 100 out of 100 | elapsed:    0.0s finished\n"
          ]
        },
        {
          "output_type": "stream",
          "name": "stdout",
          "text": [
            "Model Number: 698 with model ETS in generation 5 of 10\n"
          ]
        },
        {
          "output_type": "stream",
          "name": "stderr",
          "text": [
            "[Parallel(n_jobs=-2)]: Using backend SequentialBackend with 1 concurrent workers.\n",
            "[Parallel(n_jobs=-2)]: Done 200 out of 200 | elapsed:    0.1s finished\n",
            "[Parallel(n_jobs=1)]: Using backend SequentialBackend with 1 concurrent workers.\n",
            "[Parallel(n_jobs=1)]: Done 200 out of 200 | elapsed:    0.0s finished\n"
          ]
        },
        {
          "output_type": "stream",
          "name": "stdout",
          "text": [
            "Model Number: 699 with model DatepartRegression in generation 5 of 10\n",
            "Model Number: 700 with model ETS in generation 5 of 10\n",
            "ETS error ValueError('endog must be strictly positive when usingmultiplicative trend or seasonal components.')\n",
            "ETS failed on Close with ValueError('endog must be strictly positive when usingmultiplicative trend or seasonal components.')\n",
            "Model Number: 701 with model ARIMA in generation 5 of 10\n"
          ]
        },
        {
          "output_type": "stream",
          "name": "stderr",
          "text": [
            "[Parallel(n_jobs=-2)]: Using backend SequentialBackend with 1 concurrent workers.\n",
            "[Parallel(n_jobs=-2)]: Done 100 out of 100 | elapsed:    0.1s finished\n",
            "[Parallel(n_jobs=1)]: Using backend SequentialBackend with 1 concurrent workers.\n",
            "[Parallel(n_jobs=1)]: Done 100 out of 100 | elapsed:    0.0s finished\n",
            "/usr/local/lib/python3.8/dist-packages/autots/tools/probabilistic.py:67: RuntimeWarning:\n",
            "\n",
            "invalid value encountered in true_divide\n",
            "\n",
            "/usr/local/lib/python3.8/dist-packages/autots/tools/probabilistic.py:68: RuntimeWarning:\n",
            "\n",
            "divide by zero encountered in true_divide\n",
            "\n"
          ]
        },
        {
          "output_type": "stream",
          "name": "stdout",
          "text": [
            "Model Number: 702 with model NVAR in generation 5 of 10\n",
            "Model Number: 703 with model ConstantNaive in generation 5 of 10\n",
            "Template Eval Error: Exception('Transformer Cointegration failed on fit') in model 703: ConstantNaive\n",
            "Model Number: 704 with model NVAR in generation 5 of 10\n",
            "Model Number: 705 with model Theta in generation 5 of 10\n",
            "Model Number: 706 with model UnobservedComponents in generation 5 of 10\n",
            "Model Number: 707 with model UnobservedComponents in generation 5 of 10\n",
            "Model Number: 708 with model GLM in generation 5 of 10\n",
            "Model Number: 709 with model ARIMA in generation 5 of 10\n",
            "Model Number: 710 with model SeasonalNaive in generation 5 of 10\n",
            "Model Number: 711 with model UnobservedComponents in generation 5 of 10\n",
            "Template Eval Error: ValueError(\"regression_type='User' but no future_regressor supplied\") in model 711: UnobservedComponents\n",
            "Model Number: 712 with model LastValueNaive in generation 5 of 10\n",
            "No anomalies detected.\n",
            "Model Number: 713 with model UnobservedComponents in generation 5 of 10\n",
            "Model Number: 714 with model NVAR in generation 5 of 10\n",
            "Model Number: 715 with model GLS in generation 5 of 10\n",
            "Model Number: 716 with model UnobservedComponents in generation 5 of 10\n"
          ]
        },
        {
          "output_type": "stream",
          "name": "stderr",
          "text": [
            "/usr/local/lib/python3.8/dist-packages/sklearn/linear_model/_ridge.py:196: UserWarning:\n",
            "\n",
            "Singular matrix in solving dual problem. Using least-squares solution instead.\n",
            "\n"
          ]
        },
        {
          "output_type": "stream",
          "name": "stdout",
          "text": [
            "Model Number: 717 with model UnobservedComponents in generation 5 of 10\n",
            "Model Number: 718 with model NVAR in generation 5 of 10\n",
            "Model Number: 719 with model NVAR in generation 5 of 10\n",
            "Template Eval Error: Exception('Transformer SinTrend failed on fit') in model 719: NVAR\n",
            "Model Number: 720 with model WindowRegression in generation 5 of 10\n",
            "Model Number: 721 with model SeasonalNaive in generation 5 of 10\n",
            "Template Eval Error: ValueError('Model SeasonalNaive returned NaN for one or more series. fail_on_forecast_nan=True') in model 721: SeasonalNaive\n",
            "Model Number: 722 with model ETS in generation 5 of 10\n",
            "Model Number: 723 with model MultivariateRegression in generation 5 of 10\n",
            "Model Number: 724 with model DatepartRegression in generation 5 of 10\n"
          ]
        },
        {
          "output_type": "stream",
          "name": "stderr",
          "text": [
            "/usr/local/lib/python3.8/dist-packages/autots/tools/window_functions.py:478: RuntimeWarning:\n",
            "\n",
            "invalid value encountered in true_divide\n",
            "\n"
          ]
        },
        {
          "output_type": "stream",
          "name": "stdout",
          "text": [
            "Model Number: 725 with model DatepartRegression in generation 5 of 10\n",
            "Template Eval Error: ValueError(\"regression_type='User' but no future_regressor passed\") in model 725: DatepartRegression\n",
            "Model Number: 726 with model UnobservedComponents in generation 5 of 10\n",
            "Model Number: 727 with model GLM in generation 5 of 10\n",
            "Template Eval Error: ValueError('NaN, inf or invalid value detected in weights, estimation infeasible.') in model 727: GLM\n",
            "Model Number: 728 with model GLS in generation 5 of 10\n",
            "Model Number: 729 with model ETS in generation 5 of 10\n",
            "Model Number: 730 with model GLS in generation 5 of 10\n",
            "Model Number: 731 with model LastValueNaive in generation 5 of 10\n",
            "Model Number: 732 with model AverageValueNaive in generation 5 of 10\n"
          ]
        },
        {
          "output_type": "stream",
          "name": "stderr",
          "text": [
            "/usr/local/lib/python3.8/dist-packages/statsmodels/genmod/generalized_linear_model.py:798: RuntimeWarning:\n",
            "\n",
            "divide by zero encountered in double_scalars\n",
            "\n",
            "/usr/local/lib/python3.8/dist-packages/statsmodels/genmod/families/family.py:1444: RuntimeWarning:\n",
            "\n",
            "invalid value encountered in log\n",
            "\n",
            "/usr/local/lib/python3.8/dist-packages/statsmodels/genmod/families/family.py:1444: RuntimeWarning:\n",
            "\n",
            "divide by zero encountered in true_divide\n",
            "\n",
            "/usr/local/lib/python3.8/dist-packages/statsmodels/genmod/generalized_linear_model.py:798: RuntimeWarning:\n",
            "\n",
            "divide by zero encountered in true_divide\n",
            "\n",
            "/usr/local/lib/python3.8/dist-packages/statsmodels/genmod/families/family.py:134: RuntimeWarning:\n",
            "\n",
            "divide by zero encountered in true_divide\n",
            "\n"
          ]
        },
        {
          "output_type": "stream",
          "name": "stdout",
          "text": [
            "Model Number: 733 with model NVAR in generation 5 of 10\n",
            "Model Number: 734 with model UnobservedComponents in generation 5 of 10\n",
            "Template Eval Error: ValueError(\"regression_type='User' but no future_regressor supplied\") in model 734: UnobservedComponents\n",
            "Model Number: 735 with model FBProphet in generation 5 of 10\n"
          ]
        },
        {
          "output_type": "stream",
          "name": "stderr",
          "text": [
            "INFO:prophet:Disabling yearly seasonality. Run prophet with yearly_seasonality=True to override this.\n",
            "INFO:prophet:Disabling weekly seasonality. Run prophet with weekly_seasonality=True to override this.\n",
            "INFO:prophet:Disabling daily seasonality. Run prophet with daily_seasonality=True to override this.\n",
            "DEBUG:cmdstanpy:input tempfile: /tmp/tmpl9abl34v/7zwerc6p.json\n",
            "DEBUG:cmdstanpy:input tempfile: /tmp/tmpl9abl34v/9tpvzwqa.json\n",
            "DEBUG:cmdstanpy:idx 0\n",
            "DEBUG:cmdstanpy:running CmdStan, num_threads: None\n",
            "DEBUG:cmdstanpy:CmdStan args: ['/usr/local/lib/python3.8/dist-packages/prophet/stan_model/prophet_model.bin', 'random', 'seed=37889', 'data', 'file=/tmp/tmpl9abl34v/7zwerc6p.json', 'init=/tmp/tmpl9abl34v/9tpvzwqa.json', 'output', 'file=/tmp/tmpl9abl34v/prophet_modeliurern30/prophet_model-20230112201445.csv', 'method=optimize', 'algorithm=newton', 'iter=10000']\n",
            "20:14:45 - cmdstanpy - INFO - Chain [1] start processing\n",
            "INFO:cmdstanpy:Chain [1] start processing\n",
            "20:14:45 - cmdstanpy - INFO - Chain [1] done processing\n",
            "INFO:cmdstanpy:Chain [1] done processing\n"
          ]
        },
        {
          "output_type": "stream",
          "name": "stdout",
          "text": [
            "Model Number: 736 with model AverageValueNaive in generation 5 of 10\n",
            "Model Number: 737 with model ConstantNaive in generation 5 of 10\n",
            "Model Number: 738 with model GLM in generation 5 of 10\n",
            "Template Eval Error: PerfectSeparationError('Perfect separation detected, results not available') in model 738: GLM\n",
            "Model Number: 739 with model Theta in generation 5 of 10\n",
            "Model Number: 740 with model SeasonalNaive in generation 5 of 10\n",
            "Model Number: 741 with model Theta in generation 5 of 10\n"
          ]
        },
        {
          "output_type": "stream",
          "name": "stderr",
          "text": [
            "/usr/local/lib/python3.8/dist-packages/statsmodels/genmod/generalized_linear_model.py:798: RuntimeWarning:\n",
            "\n",
            "divide by zero encountered in double_scalars\n",
            "\n"
          ]
        },
        {
          "output_type": "stream",
          "name": "stdout",
          "text": [
            "Model Number: 742 with model LastValueNaive in generation 5 of 10\n",
            "Model Number: 743 with model DatepartRegression in generation 5 of 10\n",
            "Template Eval Error: Exception('Transformer Cointegration failed on fit') in model 743: DatepartRegression\n",
            "Model Number: 744 with model ETS in generation 5 of 10\n",
            "ETS error ValueError('endog must be strictly positive when usingmultiplicative trend or seasonal components.')\n",
            "ETS failed on Close with ValueError('endog must be strictly positive when usingmultiplicative trend or seasonal components.')\n",
            "Model Number: 745 with model ETS in generation 5 of 10\n",
            "Model Number: 746 with model ARIMA in generation 5 of 10\n",
            "Model Number: 747 with model SeasonalNaive in generation 5 of 10\n",
            "Template Eval Error: ValueError('Model SeasonalNaive returned NaN for one or more series. fail_on_forecast_nan=True') in model 747: SeasonalNaive\n",
            "Model Number: 748 with model FBProphet in generation 5 of 10\n"
          ]
        },
        {
          "output_type": "stream",
          "name": "stderr",
          "text": [
            "/usr/local/lib/python3.8/dist-packages/autots/tools/window_functions.py:478: RuntimeWarning:\n",
            "\n",
            "invalid value encountered in true_divide\n",
            "\n",
            "INFO:prophet:Disabling yearly seasonality. Run prophet with yearly_seasonality=True to override this.\n",
            "INFO:prophet:Disabling weekly seasonality. Run prophet with weekly_seasonality=True to override this.\n",
            "INFO:prophet:Disabling daily seasonality. Run prophet with daily_seasonality=True to override this.\n",
            "INFO:prophet:n_changepoints greater than number of observations. Using 11.\n",
            "DEBUG:cmdstanpy:input tempfile: /tmp/tmpl9abl34v/rabiiiwn.json\n",
            "DEBUG:cmdstanpy:input tempfile: /tmp/tmpl9abl34v/_pa94dg0.json\n",
            "DEBUG:cmdstanpy:idx 0\n",
            "DEBUG:cmdstanpy:running CmdStan, num_threads: None\n",
            "DEBUG:cmdstanpy:CmdStan args: ['/usr/local/lib/python3.8/dist-packages/prophet/stan_model/prophet_model.bin', 'random', 'seed=94467', 'data', 'file=/tmp/tmpl9abl34v/rabiiiwn.json', 'init=/tmp/tmpl9abl34v/_pa94dg0.json', 'output', 'file=/tmp/tmpl9abl34v/prophet_model8ykjidwg/prophet_model-20230112201446.csv', 'method=optimize', 'algorithm=newton', 'iter=10000']\n",
            "20:14:46 - cmdstanpy - INFO - Chain [1] start processing\n",
            "INFO:cmdstanpy:Chain [1] start processing\n",
            "20:14:46 - cmdstanpy - INFO - Chain [1] done processing\n",
            "INFO:cmdstanpy:Chain [1] done processing\n"
          ]
        },
        {
          "output_type": "stream",
          "name": "stdout",
          "text": [
            "Model Number: 749 with model GLM in generation 5 of 10\n",
            "No anomalies detected.\n",
            "Model Number: 750 with model ARIMA in generation 5 of 10\n"
          ]
        },
        {
          "output_type": "stream",
          "name": "stderr",
          "text": [
            "/usr/local/lib/python3.8/dist-packages/statsmodels/genmod/generalized_linear_model.py:798: RuntimeWarning:\n",
            "\n",
            "divide by zero encountered in double_scalars\n",
            "\n"
          ]
        },
        {
          "output_type": "stream",
          "name": "stdout",
          "text": [
            "Model Number: 751 with model Theta in generation 5 of 10\n",
            "Model Number: 752 with model UnobservedComponents in generation 5 of 10\n",
            "Model Number: 753 with model LastValueNaive in generation 5 of 10\n",
            "Model Number: 754 with model LastValueNaive in generation 5 of 10\n",
            "Model Number: 755 with model ARIMA in generation 5 of 10\n",
            "Model Number: 756 with model ARIMA in generation 5 of 10\n",
            "Model Number: 757 with model GLM in generation 5 of 10\n",
            "Model Number: 758 with model Theta in generation 5 of 10\n",
            "Model Number: 759 with model FBProphet in generation 5 of 10\n"
          ]
        },
        {
          "output_type": "stream",
          "name": "stderr",
          "text": [
            "/usr/local/lib/python3.8/dist-packages/statsmodels/genmod/families/links.py:188: RuntimeWarning:\n",
            "\n",
            "overflow encountered in exp\n",
            "\n",
            "/usr/local/lib/python3.8/dist-packages/sklearn/preprocessing/_data.py:3253: RuntimeWarning:\n",
            "\n",
            "divide by zero encountered in log\n",
            "\n",
            "/usr/local/lib/python3.8/dist-packages/sklearn/preprocessing/_data.py:3196: RuntimeWarning:\n",
            "\n",
            "divide by zero encountered in power\n",
            "\n",
            "INFO:prophet:Disabling yearly seasonality. Run prophet with yearly_seasonality=True to override this.\n",
            "INFO:prophet:Disabling weekly seasonality. Run prophet with weekly_seasonality=True to override this.\n",
            "INFO:prophet:Disabling daily seasonality. Run prophet with daily_seasonality=True to override this.\n",
            "INFO:prophet:n_changepoints greater than number of observations. Using 11.\n",
            "DEBUG:cmdstanpy:input tempfile: /tmp/tmpl9abl34v/r_dfn44g.json\n",
            "DEBUG:cmdstanpy:input tempfile: /tmp/tmpl9abl34v/ajgdqimy.json\n",
            "DEBUG:cmdstanpy:idx 0\n",
            "DEBUG:cmdstanpy:running CmdStan, num_threads: None\n",
            "DEBUG:cmdstanpy:CmdStan args: ['/usr/local/lib/python3.8/dist-packages/prophet/stan_model/prophet_model.bin', 'random', 'seed=44279', 'data', 'file=/tmp/tmpl9abl34v/r_dfn44g.json', 'init=/tmp/tmpl9abl34v/ajgdqimy.json', 'output', 'file=/tmp/tmpl9abl34v/prophet_modeldpezcbdi/prophet_model-20230112201450.csv', 'method=optimize', 'algorithm=newton', 'iter=10000']\n",
            "20:14:50 - cmdstanpy - INFO - Chain [1] start processing\n",
            "INFO:cmdstanpy:Chain [1] start processing\n",
            "20:14:50 - cmdstanpy - INFO - Chain [1] done processing\n",
            "INFO:cmdstanpy:Chain [1] done processing\n"
          ]
        },
        {
          "output_type": "stream",
          "name": "stdout",
          "text": [
            "Model Number: 760 with model MultivariateRegression in generation 5 of 10\n",
            "Model Number: 761 with model SeasonalNaive in generation 5 of 10\n"
          ]
        },
        {
          "output_type": "stream",
          "name": "stderr",
          "text": [
            "INFO:prophet:Disabling yearly seasonality. Run prophet with yearly_seasonality=True to override this.\n",
            "INFO:prophet:Disabling weekly seasonality. Run prophet with weekly_seasonality=True to override this.\n",
            "INFO:prophet:Disabling daily seasonality. Run prophet with daily_seasonality=True to override this.\n",
            "INFO:prophet:n_changepoints greater than number of observations. Using 4.\n",
            "DEBUG:cmdstanpy:input tempfile: /tmp/tmpl9abl34v/dazyltfm.json\n",
            "DEBUG:cmdstanpy:input tempfile: /tmp/tmpl9abl34v/8_miubvk.json\n",
            "DEBUG:cmdstanpy:idx 0\n",
            "DEBUG:cmdstanpy:running CmdStan, num_threads: None\n",
            "DEBUG:cmdstanpy:CmdStan args: ['/usr/local/lib/python3.8/dist-packages/prophet/stan_model/prophet_model.bin', 'random', 'seed=44726', 'data', 'file=/tmp/tmpl9abl34v/dazyltfm.json', 'init=/tmp/tmpl9abl34v/8_miubvk.json', 'output', 'file=/tmp/tmpl9abl34v/prophet_modelmdotwsax/prophet_model-20230112201451.csv', 'method=optimize', 'algorithm=newton', 'iter=10000']\n",
            "20:14:51 - cmdstanpy - INFO - Chain [1] start processing\n",
            "INFO:cmdstanpy:Chain [1] start processing\n",
            "20:14:51 - cmdstanpy - INFO - Chain [1] done processing\n",
            "INFO:cmdstanpy:Chain [1] done processing\n"
          ]
        },
        {
          "output_type": "stream",
          "name": "stdout",
          "text": [
            "Model Number: 762 with model FBProphet in generation 5 of 10\n",
            "Model Number: 763 with model NVAR in generation 5 of 10\n",
            "Model Number: 764 with model UnobservedComponents in generation 5 of 10\n",
            "Model Number: 765 with model Theta in generation 5 of 10\n",
            "Model Number: 766 with model ARIMA in generation 5 of 10\n",
            "Model Number: 767 with model ETS in generation 5 of 10\n",
            "ETS error ValueError('endog must be strictly positive when usingmultiplicative trend or seasonal components.')\n",
            "ETS failed on Close with ValueError('endog must be strictly positive when usingmultiplicative trend or seasonal components.')\n",
            "Model Number: 768 with model LastValueNaive in generation 5 of 10\n",
            "Model Number: 769 with model GLM in generation 5 of 10\n",
            "Template Eval Error: PerfectSeparationError('Perfect separation detected, results not available') in model 769: GLM\n",
            "Model Number: 770 with model ConstantNaive in generation 5 of 10\n",
            "Model Number: 771 with model Theta in generation 5 of 10\n",
            "Model Number: 772 with model WindowRegression in generation 5 of 10\n",
            "Template Eval Error: ValueError('Found array with 0 sample(s) (shape=(0, 0)) while a minimum of 1 is required.') in model 772: WindowRegression\n",
            "Model Number: 773 with model WindowRegression in generation 5 of 10\n",
            "Model Number: 774 with model ETS in generation 5 of 10\n",
            "Model Number: 775 with model ARIMA in generation 5 of 10\n",
            "Template Eval Error: ValueError(\"regression_type='User' but future_regressor not supplied\") in model 775: ARIMA\n",
            "Model Number: 776 with model DatepartRegression in generation 5 of 10\n",
            "Model Number: 777 with model ARIMA in generation 5 of 10\n",
            "Model Number: 778 with model UnobservedComponents in generation 5 of 10\n",
            "Model Number: 779 with model Theta in generation 5 of 10\n",
            "Model Number: 780 with model DatepartRegression in generation 5 of 10\n"
          ]
        },
        {
          "output_type": "stream",
          "name": "stderr",
          "text": [
            "INFO:prophet:Disabling yearly seasonality. Run prophet with yearly_seasonality=True to override this.\n",
            "INFO:prophet:Disabling weekly seasonality. Run prophet with weekly_seasonality=True to override this.\n",
            "INFO:prophet:Disabling daily seasonality. Run prophet with daily_seasonality=True to override this.\n",
            "DEBUG:cmdstanpy:input tempfile: /tmp/tmpl9abl34v/ovhvgtak.json\n",
            "DEBUG:cmdstanpy:input tempfile: /tmp/tmpl9abl34v/x_on8num.json\n",
            "DEBUG:cmdstanpy:idx 0\n"
          ]
        },
        {
          "output_type": "stream",
          "name": "stdout",
          "text": [
            "Model Number: 781 with model FBProphet in generation 5 of 10\n"
          ]
        },
        {
          "output_type": "stream",
          "name": "stderr",
          "text": [
            "DEBUG:cmdstanpy:running CmdStan, num_threads: None\n",
            "DEBUG:cmdstanpy:CmdStan args: ['/usr/local/lib/python3.8/dist-packages/prophet/stan_model/prophet_model.bin', 'random', 'seed=40280', 'data', 'file=/tmp/tmpl9abl34v/ovhvgtak.json', 'init=/tmp/tmpl9abl34v/x_on8num.json', 'output', 'file=/tmp/tmpl9abl34v/prophet_modelbc0j6jpp/prophet_model-20230112201453.csv', 'method=optimize', 'algorithm=newton', 'iter=10000']\n",
            "20:14:53 - cmdstanpy - INFO - Chain [1] start processing\n",
            "INFO:cmdstanpy:Chain [1] start processing\n",
            "20:14:53 - cmdstanpy - INFO - Chain [1] done processing\n",
            "INFO:cmdstanpy:Chain [1] done processing\n"
          ]
        },
        {
          "output_type": "stream",
          "name": "stdout",
          "text": [
            "Model Number: 782 with model WindowRegression in generation 5 of 10\n",
            "Template Eval Error: ValueError('Found array with 0 sample(s) (shape=(0, 0)) while a minimum of 1 is required.') in model 782: WindowRegression\n",
            "Model Number: 783 with model FBProphet in generation 5 of 10\n",
            "Template Eval Error: ValueError(\"regression_type='User' but no future_regressor passed\") in model 783: FBProphet\n",
            "Model Number: 784 with model ARIMA in generation 5 of 10\n"
          ]
        },
        {
          "output_type": "stream",
          "name": "stderr",
          "text": [
            "/usr/local/lib/python3.8/dist-packages/sklearn/neighbors/_regression.py:470: UserWarning:\n",
            "\n",
            "One or more samples have no neighbors within specified radius; predicting NaN.\n",
            "\n",
            "INFO:prophet:Disabling yearly seasonality. Run prophet with yearly_seasonality=True to override this.\n",
            "INFO:prophet:Disabling weekly seasonality. Run prophet with weekly_seasonality=True to override this.\n",
            "INFO:prophet:Disabling daily seasonality. Run prophet with daily_seasonality=True to override this.\n",
            "INFO:prophet:n_changepoints greater than number of observations. Using 10.\n",
            "DEBUG:cmdstanpy:input tempfile: /tmp/tmpl9abl34v/q11ud513.json\n",
            "DEBUG:cmdstanpy:input tempfile: /tmp/tmpl9abl34v/31alb9u5.json\n",
            "DEBUG:cmdstanpy:idx 0\n",
            "DEBUG:cmdstanpy:running CmdStan, num_threads: None\n",
            "DEBUG:cmdstanpy:CmdStan args: ['/usr/local/lib/python3.8/dist-packages/prophet/stan_model/prophet_model.bin', 'random', 'seed=10284', 'data', 'file=/tmp/tmpl9abl34v/q11ud513.json', 'init=/tmp/tmpl9abl34v/31alb9u5.json', 'output', 'file=/tmp/tmpl9abl34v/prophet_model2917hqv3/prophet_model-20230112201455.csv', 'method=optimize', 'algorithm=newton', 'iter=10000']\n",
            "20:14:55 - cmdstanpy - INFO - Chain [1] start processing\n",
            "INFO:cmdstanpy:Chain [1] start processing\n"
          ]
        },
        {
          "output_type": "stream",
          "name": "stdout",
          "text": [
            "Model Number: 785 with model DatepartRegression in generation 5 of 10\n",
            "Template Eval Error: ValueError('Model DatepartRegression returned NaN for one or more series. fail_on_forecast_nan=True') in model 785: DatepartRegression\n",
            "Model Number: 786 with model NVAR in generation 5 of 10\n",
            "Template Eval Error: Exception('Transformer Cointegration failed on fit') in model 786: NVAR\n",
            "Model Number: 787 with model MultivariateRegression in generation 5 of 10\n",
            "Template Eval Error: Exception('Transformer SinTrend failed on fit') in model 787: MultivariateRegression\n",
            "Model Number: 788 with model FBProphet in generation 5 of 10\n"
          ]
        },
        {
          "output_type": "stream",
          "name": "stderr",
          "text": [
            "20:14:55 - cmdstanpy - INFO - Chain [1] done processing\n",
            "INFO:cmdstanpy:Chain [1] done processing\n"
          ]
        },
        {
          "output_type": "stream",
          "name": "stdout",
          "text": [
            "New Generation: 6 of 10\n",
            "Model Number: 789 with model LastValueNaive in generation 6 of 10\n",
            "No anomalies detected.\n",
            "Model Number: 790 with model NVAR in generation 6 of 10\n",
            "Model Number: 791 with model ARIMA in generation 6 of 10\n",
            "Template Eval Error: ValueError('Model ARIMA returned NaN for one or more series. fail_on_forecast_nan=True') in model 791: ARIMA\n",
            "Model Number: 792 with model ARIMA in generation 6 of 10\n"
          ]
        },
        {
          "output_type": "stream",
          "name": "stderr",
          "text": [
            "/usr/local/lib/python3.8/dist-packages/sklearn/linear_model/_ridge.py:196: UserWarning:\n",
            "\n",
            "Singular matrix in solving dual problem. Using least-squares solution instead.\n",
            "\n"
          ]
        },
        {
          "output_type": "stream",
          "name": "stdout",
          "text": [
            "Model Number: 793 with model NVAR in generation 6 of 10\n",
            "Model Number: 794 with model SeasonalNaive in generation 6 of 10\n",
            "Model Number: 795 with model DatepartRegression in generation 6 of 10\n"
          ]
        },
        {
          "output_type": "stream",
          "name": "stderr",
          "text": [
            "[Parallel(n_jobs=-2)]: Using backend SequentialBackend with 1 concurrent workers.\n"
          ]
        },
        {
          "output_type": "stream",
          "name": "stdout",
          "text": [
            "Model Number: 796 with model MultivariateRegression in generation 6 of 10\n"
          ]
        },
        {
          "output_type": "stream",
          "name": "stderr",
          "text": [
            "[Parallel(n_jobs=-2)]: Done 1000 out of 1000 | elapsed:    0.5s finished\n",
            "[Parallel(n_jobs=1)]: Using backend SequentialBackend with 1 concurrent workers.\n",
            "[Parallel(n_jobs=1)]: Done 1000 out of 1000 | elapsed:    0.1s finished\n"
          ]
        },
        {
          "output_type": "stream",
          "name": "stdout",
          "text": [
            "Model Number: 797 with model Theta in generation 6 of 10\n",
            "Model Number: 798 with model SeasonalNaive in generation 6 of 10\n",
            "Model Number: 799 with model UnobservedComponents in generation 6 of 10\n",
            "Model Number: 800 with model GLS in generation 6 of 10\n",
            "Model Number: 801 with model UnobservedComponents in generation 6 of 10\n",
            "Model Number: 802 with model AverageValueNaive in generation 6 of 10\n",
            "Model Number: 803 with model GLM in generation 6 of 10\n",
            "Model Number: 804 with model MultivariateRegression in generation 6 of 10\n",
            "Model Number: 805 with model ARIMA in generation 6 of 10\n",
            "Model Number: 806 with model UnobservedComponents in generation 6 of 10\n"
          ]
        },
        {
          "output_type": "stream",
          "name": "stderr",
          "text": [
            "/usr/local/lib/python3.8/dist-packages/statsmodels/genmod/families/links.py:188: RuntimeWarning:\n",
            "\n",
            "overflow encountered in exp\n",
            "\n"
          ]
        },
        {
          "output_type": "stream",
          "name": "stdout",
          "text": [
            "Model Number: 807 with model ETS in generation 6 of 10\n",
            "Model Number: 808 with model Theta in generation 6 of 10\n",
            "Model Number: 809 with model ETS in generation 6 of 10\n",
            "ETS error ValueError('Can only dampen the trend component')\n",
            "ETS failed on Close with ValueError('Can only dampen the trend component')\n",
            "Model Number: 810 with model LastValueNaive in generation 6 of 10\n",
            "Model Number: 811 with model Theta in generation 6 of 10\n",
            "Model Number: 812 with model Theta in generation 6 of 10\n",
            "Model Number: 813 with model UnobservedComponents in generation 6 of 10\n",
            "Model Number: 814 with model ARIMA in generation 6 of 10\n",
            "Template Eval Error: Exception('Transformer AlignLastValue failed on fit') in model 814: ARIMA\n",
            "Model Number: 815 with model UnobservedComponents in generation 6 of 10\n"
          ]
        },
        {
          "output_type": "stream",
          "name": "stderr",
          "text": [
            "/usr/local/lib/python3.8/dist-packages/autots/tools/window_functions.py:478: RuntimeWarning:\n",
            "\n",
            "invalid value encountered in true_divide\n",
            "\n",
            "/usr/local/lib/python3.8/dist-packages/numpy/lib/nanfunctions.py:1374: RuntimeWarning:\n",
            "\n",
            "All-NaN slice encountered\n",
            "\n",
            "/usr/local/lib/python3.8/dist-packages/sklearn/base.py:493: FutureWarning:\n",
            "\n",
            "The feature names should match those that were passed during fit. Starting version 1.2, an error will be raised.\n",
            "Feature names seen at fit time, yet now missing:\n",
            "- seasonalitycommonfourier_20\n",
            "- seasonalitycommonfourier_21\n",
            "- seasonalitycommonfourier_22\n",
            "- seasonalitycommonfourier_23\n",
            "- seasonalitycommonfourier_24\n",
            "- ...\n",
            "\n",
            "\n",
            "INFO:prophet:Disabling yearly seasonality. Run prophet with yearly_seasonality=True to override this.\n",
            "INFO:prophet:Disabling weekly seasonality. Run prophet with weekly_seasonality=True to override this.\n"
          ]
        },
        {
          "output_type": "stream",
          "name": "stdout",
          "text": [
            "Model Number: 816 with model DatepartRegression in generation 6 of 10\n",
            "Template Eval Error: ValueError('X has 20 features, but MLPRegressor is expecting 26 features as input.') in model 816: DatepartRegression\n",
            "Model Number: 817 with model FBProphet in generation 6 of 10\n"
          ]
        },
        {
          "output_type": "stream",
          "name": "stderr",
          "text": [
            "INFO:prophet:Disabling daily seasonality. Run prophet with daily_seasonality=True to override this.\n",
            "INFO:prophet:n_changepoints greater than number of observations. Using 11.\n",
            "DEBUG:cmdstanpy:input tempfile: /tmp/tmpl9abl34v/369httsa.json\n",
            "DEBUG:cmdstanpy:input tempfile: /tmp/tmpl9abl34v/of4h05le.json\n",
            "DEBUG:cmdstanpy:idx 0\n",
            "DEBUG:cmdstanpy:running CmdStan, num_threads: None\n",
            "DEBUG:cmdstanpy:CmdStan args: ['/usr/local/lib/python3.8/dist-packages/prophet/stan_model/prophet_model.bin', 'random', 'seed=51298', 'data', 'file=/tmp/tmpl9abl34v/369httsa.json', 'init=/tmp/tmpl9abl34v/of4h05le.json', 'output', 'file=/tmp/tmpl9abl34v/prophet_modelk4qavn65/prophet_model-20230112201459.csv', 'method=optimize', 'algorithm=newton', 'iter=10000']\n",
            "20:14:59 - cmdstanpy - INFO - Chain [1] start processing\n",
            "INFO:cmdstanpy:Chain [1] start processing\n",
            "20:14:59 - cmdstanpy - INFO - Chain [1] done processing\n",
            "INFO:cmdstanpy:Chain [1] done processing\n"
          ]
        },
        {
          "output_type": "stream",
          "name": "stdout",
          "text": [
            "Model Number: 818 with model AverageValueNaive in generation 6 of 10\n",
            "Model Number: 819 with model ETS in generation 6 of 10\n",
            "Model Number: 820 with model GLM in generation 6 of 10\n",
            "Model Number: 821 with model AverageValueNaive in generation 6 of 10\n",
            "Model Number: 822 with model GLS in generation 6 of 10\n",
            "Model Number: 823 with model UnobservedComponents in generation 6 of 10\n",
            "Model Number: 824 with model GLM in generation 6 of 10\n",
            "Model Number: 825 with model MultivariateRegression in generation 6 of 10\n",
            "No anomalies detected.\n",
            "Template Eval Error: Exception('Transformer HolidayTransformer failed on fit') in model 825: MultivariateRegression\n"
          ]
        },
        {
          "output_type": "stream",
          "name": "stderr",
          "text": [
            "/usr/local/lib/python3.8/dist-packages/statsmodels/genmod/families/family.py:1227: RuntimeWarning:\n",
            "\n",
            "divide by zero encountered in true_divide\n",
            "\n"
          ]
        },
        {
          "output_type": "stream",
          "name": "stdout",
          "text": [
            "Model Number: 826 with model AverageValueNaive in generation 6 of 10\n",
            "Template Eval Error: Exception('Transformer Detrend failed on fit') in model 826: AverageValueNaive\n",
            "Model Number: 827 with model ETS in generation 6 of 10\n",
            "ETS error ValueError('endog must be strictly positive when usingmultiplicative trend or seasonal components.')\n",
            "ETS failed on Close with ValueError('endog must be strictly positive when usingmultiplicative trend or seasonal components.')\n",
            "Model Number: 828 with model DatepartRegression in generation 6 of 10\n",
            "Model Number: 829 with model FBProphet in generation 6 of 10\n",
            "Template Eval Error: Exception('Transformer Cointegration failed on fit') in model 829: FBProphet\n",
            "Model Number: 830 with model DatepartRegression in generation 6 of 10\n",
            "Model Number: 831 with model GLS in generation 6 of 10\n",
            "Model Number: 832 with model UnobservedComponents in generation 6 of 10\n"
          ]
        },
        {
          "output_type": "stream",
          "name": "stderr",
          "text": [
            "[Parallel(n_jobs=-2)]: Using backend SequentialBackend with 1 concurrent workers.\n",
            "[Parallel(n_jobs=-2)]: Done 100 out of 100 | elapsed:    0.1s finished\n",
            "[Parallel(n_jobs=1)]: Using backend SequentialBackend with 1 concurrent workers.\n",
            "[Parallel(n_jobs=1)]: Done 100 out of 100 | elapsed:    0.0s finished\n",
            "/usr/local/lib/python3.8/dist-packages/autots/tools/probabilistic.py:67: RuntimeWarning:\n",
            "\n",
            "invalid value encountered in true_divide\n",
            "\n",
            "/usr/local/lib/python3.8/dist-packages/autots/tools/probabilistic.py:68: RuntimeWarning:\n",
            "\n",
            "divide by zero encountered in true_divide\n",
            "\n"
          ]
        },
        {
          "output_type": "stream",
          "name": "stdout",
          "text": [
            "Model Number: 833 with model Theta in generation 6 of 10\n",
            "Model Number: 834 with model ARIMA in generation 6 of 10\n",
            "Template Eval Error: Exception('Transformer AlignLastValue failed on fit') in model 834: ARIMA\n",
            "Model Number: 835 with model Theta in generation 6 of 10\n",
            "Model Number: 836 with model ARIMA in generation 6 of 10\n"
          ]
        },
        {
          "output_type": "stream",
          "name": "stderr",
          "text": [
            "/usr/local/lib/python3.8/dist-packages/autots/tools/window_functions.py:478: RuntimeWarning:\n",
            "\n",
            "invalid value encountered in true_divide\n",
            "\n",
            "/usr/local/lib/python3.8/dist-packages/numpy/lib/nanfunctions.py:1374: RuntimeWarning:\n",
            "\n",
            "All-NaN slice encountered\n",
            "\n"
          ]
        },
        {
          "output_type": "stream",
          "name": "stdout",
          "text": [
            "Model Number: 837 with model MultivariateRegression in generation 6 of 10\n",
            "Template Eval Error: Exception('Transformer Cointegration failed on fit') in model 837: MultivariateRegression\n",
            "Model Number: 838 with model FBProphet in generation 6 of 10\n",
            "Template Eval Error: Exception('Transformer SinTrend failed on fit') in model 838: FBProphet\n",
            "Model Number: 839 with model Theta in generation 6 of 10\n",
            "Model Number: 840 with model ConstantNaive in generation 6 of 10\n",
            "Model Number: 841 with model WindowRegression in generation 6 of 10\n",
            "Model Number: 842 with model FBProphet in generation 6 of 10\n",
            "Template Eval Error: Exception('Transformer AnomalyRemoval failed on fit') in model 842: FBProphet\n",
            "Model Number: 843 with model WindowRegression in generation 6 of 10\n",
            "Model Number: 844 with model LastValueNaive in generation 6 of 10\n",
            "No anomalies detected.\n",
            "Model Number: 845 with model ARIMA in generation 6 of 10\n"
          ]
        },
        {
          "output_type": "stream",
          "name": "stderr",
          "text": [
            "/usr/local/lib/python3.8/dist-packages/sklearn/covariance/_robust_covariance.py:806: RuntimeWarning:\n",
            "\n",
            "divide by zero encountered in true_divide\n",
            "\n",
            "/usr/local/lib/python3.8/dist-packages/sklearn/covariance/_robust_covariance.py:806: RuntimeWarning:\n",
            "\n",
            "invalid value encountered in true_divide\n",
            "\n",
            "/usr/local/lib/python3.8/dist-packages/sklearn/covariance/_robust_covariance.py:848: RuntimeWarning:\n",
            "\n",
            "Mean of empty slice.\n",
            "\n",
            "/usr/local/lib/python3.8/dist-packages/numpy/core/_methods.py:181: RuntimeWarning:\n",
            "\n",
            "invalid value encountered in true_divide\n",
            "\n",
            "/usr/local/lib/python3.8/dist-packages/numpy/lib/function_base.py:380: RuntimeWarning:\n",
            "\n",
            "Mean of empty slice.\n",
            "\n",
            "/usr/local/lib/python3.8/dist-packages/sklearn/covariance/_empirical_covariance.py:93: RuntimeWarning:\n",
            "\n",
            "Degrees of freedom <= 0 for slice\n",
            "\n",
            "/usr/local/lib/python3.8/dist-packages/numpy/lib/function_base.py:2542: RuntimeWarning:\n",
            "\n",
            "divide by zero encountered in true_divide\n",
            "\n",
            "/usr/local/lib/python3.8/dist-packages/numpy/lib/function_base.py:2542: RuntimeWarning:\n",
            "\n",
            "invalid value encountered in multiply\n",
            "\n",
            "/usr/local/lib/python3.8/dist-packages/sklearn/linear_model/_ridge.py:196: UserWarning:\n",
            "\n",
            "Singular matrix in solving dual problem. Using least-squares solution instead.\n",
            "\n"
          ]
        },
        {
          "output_type": "stream",
          "name": "stdout",
          "text": [
            "Model Number: 846 with model LastValueNaive in generation 6 of 10\n",
            "Model Number: 847 with model UnivariateMotif in generation 6 of 10\n",
            "Model Number: 848 with model ConstantNaive in generation 6 of 10\n",
            "Model Number: 849 with model ConstantNaive in generation 6 of 10\n",
            "Model Number: 850 with model NVAR in generation 6 of 10\n",
            "Model Number: 851 with model MultivariateRegression in generation 6 of 10\n",
            "Model Number: 852 with model UnobservedComponents in generation 6 of 10\n",
            "Model Number: 853 with model ARIMA in generation 6 of 10\n",
            "Model Number: 854 with model UnivariateMotif in generation 6 of 10\n",
            "Model Number: 855 with model NVAR in generation 6 of 10\n",
            "Model Number: 856 with model UnobservedComponents in generation 6 of 10\n"
          ]
        },
        {
          "output_type": "stream",
          "name": "stderr",
          "text": [
            "INFO:prophet:Disabling yearly seasonality. Run prophet with yearly_seasonality=True to override this.\n",
            "INFO:prophet:Disabling weekly seasonality. Run prophet with weekly_seasonality=True to override this.\n",
            "INFO:prophet:Disabling daily seasonality. Run prophet with daily_seasonality=True to override this.\n"
          ]
        },
        {
          "output_type": "stream",
          "name": "stdout",
          "text": [
            "Model Number: 857 with model FBProphet in generation 6 of 10\n"
          ]
        },
        {
          "output_type": "stream",
          "name": "stderr",
          "text": [
            "DEBUG:cmdstanpy:input tempfile: /tmp/tmpl9abl34v/bvheet1b.json\n",
            "DEBUG:cmdstanpy:input tempfile: /tmp/tmpl9abl34v/3nfgyuii.json\n",
            "DEBUG:cmdstanpy:idx 0\n",
            "DEBUG:cmdstanpy:running CmdStan, num_threads: None\n",
            "DEBUG:cmdstanpy:CmdStan args: ['/usr/local/lib/python3.8/dist-packages/prophet/stan_model/prophet_model.bin', 'random', 'seed=23942', 'data', 'file=/tmp/tmpl9abl34v/bvheet1b.json', 'init=/tmp/tmpl9abl34v/3nfgyuii.json', 'output', 'file=/tmp/tmpl9abl34v/prophet_modelr7f9aqck/prophet_model-20230112201506.csv', 'method=optimize', 'algorithm=newton', 'iter=10000']\n",
            "20:15:06 - cmdstanpy - INFO - Chain [1] start processing\n",
            "INFO:cmdstanpy:Chain [1] start processing\n",
            "20:15:06 - cmdstanpy - INFO - Chain [1] done processing\n",
            "INFO:cmdstanpy:Chain [1] done processing\n"
          ]
        },
        {
          "output_type": "stream",
          "name": "stdout",
          "text": [
            "Model Number: 858 with model Theta in generation 6 of 10\n",
            "Model Number: 859 with model SeasonalNaive in generation 6 of 10\n",
            "Model Number: 860 with model ARIMA in generation 6 of 10\n",
            "Model Number: 861 with model ARIMA in generation 6 of 10\n",
            "Model Number: 862 with model LastValueNaive in generation 6 of 10\n",
            "Model Number: 863 with model GLM in generation 6 of 10\n",
            "Model Number: 864 with model DatepartRegression in generation 6 of 10\n",
            "Model Number: 865 with model GLS in generation 6 of 10\n",
            "Model Number: 866 with model SeasonalNaive in generation 6 of 10\n",
            "Model Number: 867 with model ETS in generation 6 of 10\n",
            "Model Number: 868 with model Theta in generation 6 of 10\n",
            "Model Number: 869 with model NVAR in generation 6 of 10\n",
            "Model Number: 870 with model GLS in generation 6 of 10\n",
            "Model Number: 871 with model WindowRegression in generation 6 of 10\n",
            "Model Number: 872 with model MultivariateMotif in generation 6 of 10\n",
            "Template Eval Error: ValueError(\"Model returned NaN due to a preprocessing transformer {'fillna': 'ffill', 'transformations': {'0': 'AlignLastValue', '1': 'ClipOutliers', '2': 'PowerTransformer'}, 'transformation_params': {'0': {'rows': 1, 'lag': 1, 'method': 'additive', 'strength': 1.0, 'first_value_only': False}, '1': {'method': 'clip', 'std_threshold': 3.5, 'fillna': None}, '2': {}}}. fail_on_forecast_nan=True\") in model 872: MultivariateMotif\n",
            "Model Number: 873 with model UnobservedComponents in generation 6 of 10\n",
            "Model Number: 874 with model WindowRegression in generation 6 of 10\n",
            "Model Number: 875 with model MultivariateRegression in generation 6 of 10\n",
            "Template Eval Error: LightGBMError('Check failed: label > 0 at /__w/1/s/python-package/compile/src/metric/regression_metric.hpp, line 268 .\\n') in model 875: MultivariateRegression\n",
            "Model Number: 876 with model GLM in generation 6 of 10\n"
          ]
        },
        {
          "output_type": "stream",
          "name": "stderr",
          "text": [
            "/usr/local/lib/python3.8/dist-packages/sklearn/preprocessing/_data.py:3253: RuntimeWarning:\n",
            "\n",
            "divide by zero encountered in log\n",
            "\n",
            "/usr/local/lib/python3.8/dist-packages/sklearn/preprocessing/_data.py:3196: RuntimeWarning:\n",
            "\n",
            "divide by zero encountered in power\n",
            "\n",
            "/usr/local/lib/python3.8/dist-packages/sklearn/preprocessing/_data.py:3196: RuntimeWarning:\n",
            "\n",
            "divide by zero encountered in power\n",
            "\n",
            "/usr/local/lib/python3.8/dist-packages/sklearn/preprocessing/_data.py:3196: RuntimeWarning:\n",
            "\n",
            "divide by zero encountered in power\n",
            "\n"
          ]
        },
        {
          "output_type": "stream",
          "name": "stdout",
          "text": [
            "Template Eval Error: ValueError('NaN, inf or invalid value detected in weights, estimation infeasible.') in model 876: GLM\n",
            "Model Number: 877 with model WindowRegression in generation 6 of 10\n",
            "Template Eval Error: ValueError('Found array with 0 sample(s) (shape=(0, 0)) while a minimum of 2 is required.') in model 877: WindowRegression\n",
            "Model Number: 878 with model FBProphet in generation 6 of 10\n",
            "Template Eval Error: Exception('Transformer AnomalyRemoval failed on fit') in model 878: FBProphet\n",
            "Model Number: 879 with model ETS in generation 6 of 10\n",
            "Model Number: 880 with model ARIMA in generation 6 of 10\n"
          ]
        },
        {
          "output_type": "stream",
          "name": "stderr",
          "text": [
            "/usr/local/lib/python3.8/dist-packages/statsmodels/genmod/families/family.py:428: RuntimeWarning:\n",
            "\n",
            "divide by zero encountered in true_divide\n",
            "\n",
            "/usr/local/lib/python3.8/dist-packages/statsmodels/genmod/families/family.py:134: RuntimeWarning:\n",
            "\n",
            "divide by zero encountered in true_divide\n",
            "\n",
            "/usr/local/lib/python3.8/dist-packages/sklearn/covariance/_robust_covariance.py:738: UserWarning:\n",
            "\n",
            "The covariance matrix associated to your dataset is not full rank\n",
            "\n"
          ]
        },
        {
          "output_type": "stream",
          "name": "stdout",
          "text": [
            "Model Number: 881 with model ETS in generation 6 of 10\n",
            "ETS error ValueError('endog must be strictly positive when usingmultiplicative trend or seasonal components.')\n",
            "ETS failed on Close with ValueError('endog must be strictly positive when usingmultiplicative trend or seasonal components.')\n",
            "Model Number: 882 with model FBProphet in generation 6 of 10\n",
            "Template Eval Error: Exception('Transformer SinTrend failed on fit') in model 882: FBProphet\n",
            "Model Number: 883 with model DatepartRegression in generation 6 of 10\n"
          ]
        },
        {
          "output_type": "stream",
          "name": "stderr",
          "text": [
            "[Parallel(n_jobs=-2)]: Using backend SequentialBackend with 1 concurrent workers.\n",
            "[Parallel(n_jobs=-2)]: Done 100 out of 100 | elapsed:    0.1s finished\n",
            "[Parallel(n_jobs=1)]: Using backend SequentialBackend with 1 concurrent workers.\n",
            "[Parallel(n_jobs=1)]: Done 100 out of 100 | elapsed:    0.0s finished\n",
            "/usr/local/lib/python3.8/dist-packages/statsmodels/genmod/families/family.py:428: RuntimeWarning:\n",
            "\n",
            "divide by zero encountered in true_divide\n",
            "\n",
            "/usr/local/lib/python3.8/dist-packages/statsmodels/genmod/families/family.py:134: RuntimeWarning:\n",
            "\n",
            "divide by zero encountered in true_divide\n",
            "\n"
          ]
        },
        {
          "output_type": "stream",
          "name": "stdout",
          "text": [
            "Model Number: 884 with model GLM in generation 6 of 10\n",
            "No anomalies detected.\n",
            "Template Eval Error: ValueError('NaN, inf or invalid value detected in weights, estimation infeasible.') in model 884: GLM\n",
            "Model Number: 885 with model SeasonalNaive in generation 6 of 10\n",
            "Template Eval Error: Exception('Transformer SinTrend failed on fit') in model 885: SeasonalNaive\n",
            "Model Number: 886 with model UnobservedComponents in generation 6 of 10\n",
            "Template Eval Error: ValueError(\"regression_type='User' but no future_regressor supplied\") in model 886: UnobservedComponents\n",
            "Model Number: 887 with model UnobservedComponents in generation 6 of 10\n",
            "Model Number: 888 with model AverageValueNaive in generation 6 of 10\n",
            "Template Eval Error: Exception('Transformer Cointegration failed on fit') in model 888: AverageValueNaive\n",
            "New Generation: 7 of 10\n",
            "Model Number: 889 with model MultivariateRegression in generation 7 of 10\n",
            "Model Number: 890 with model NVAR in generation 7 of 10\n",
            "Model Number: 891 with model NVAR in generation 7 of 10\n"
          ]
        },
        {
          "output_type": "stream",
          "name": "stderr",
          "text": [
            "INFO:prophet:Disabling yearly seasonality. Run prophet with yearly_seasonality=True to override this.\n",
            "INFO:prophet:Disabling weekly seasonality. Run prophet with weekly_seasonality=True to override this.\n",
            "INFO:prophet:Disabling daily seasonality. Run prophet with daily_seasonality=True to override this.\n",
            "INFO:prophet:n_changepoints greater than number of observations. Using 4.\n"
          ]
        },
        {
          "output_type": "stream",
          "name": "stdout",
          "text": [
            "Model Number: 892 with model FBProphet in generation 7 of 10\n",
            "Model Number: 893 with model ConstantNaive in generation 7 of 10\n",
            "Model Number: 894 with model ETS in generation 7 of 10\n",
            "Model Number: 895 with model LastValueNaive in generation 7 of 10\n",
            "Template Eval Error: Exception('Transformer Cointegration failed on fit') in model 895: LastValueNaive\n",
            "Model Number: 896 with model Theta in generation 7 of 10\n"
          ]
        },
        {
          "output_type": "stream",
          "name": "stderr",
          "text": [
            "/usr/local/lib/python3.8/dist-packages/sklearn/preprocessing/_data.py:3253: RuntimeWarning:\n",
            "\n",
            "divide by zero encountered in log\n",
            "\n"
          ]
        },
        {
          "output_type": "stream",
          "name": "stdout",
          "text": [
            "Model Number: 897 with model UnobservedComponents in generation 7 of 10\n",
            "Template Eval Error: ValueError(\"regression_type='User' but no future_regressor supplied\") in model 897: UnobservedComponents\n",
            "Model Number: 898 with model MultivariateRegression in generation 7 of 10\n",
            "Model Number: 899 with model Theta in generation 7 of 10\n",
            "Model Number: 900 with model LastValueNaive in generation 7 of 10\n",
            "Model Number: 901 with model AverageValueNaive in generation 7 of 10\n"
          ]
        },
        {
          "output_type": "stream",
          "name": "stderr",
          "text": [
            "/usr/local/lib/python3.8/dist-packages/sklearn/svm/_base.py:1206: ConvergenceWarning:\n",
            "\n",
            "Liblinear failed to converge, increase the number of iterations.\n",
            "\n",
            "INFO:prophet:Disabling yearly seasonality. Run prophet with yearly_seasonality=True to override this.\n"
          ]
        },
        {
          "output_type": "stream",
          "name": "stdout",
          "text": [
            "Model Number: 902 with model FBProphet in generation 7 of 10\n"
          ]
        },
        {
          "output_type": "stream",
          "name": "stderr",
          "text": [
            "INFO:prophet:Disabling weekly seasonality. Run prophet with weekly_seasonality=True to override this.\n",
            "INFO:prophet:Disabling daily seasonality. Run prophet with daily_seasonality=True to override this.\n",
            "INFO:prophet:n_changepoints greater than number of observations. Using 10.\n"
          ]
        },
        {
          "output_type": "stream",
          "name": "stdout",
          "text": [
            "Model Number: 903 with model GLM in generation 7 of 10\n",
            "Template Eval Error: Exception('Transformer BTCD failed on fit') in model 903: GLM\n",
            "Model Number: 904 with model SeasonalNaive in generation 7 of 10\n",
            "Model Number: 905 with model ETS in generation 7 of 10\n",
            "Model Number: 906 with model UnobservedComponents in generation 7 of 10\n",
            "Model Number: 907 with model ETS in generation 7 of 10\n",
            "Model Number: 908 with model WindowRegression in generation 7 of 10\n",
            "Model Number: 909 with model UnivariateMotif in generation 7 of 10\n",
            "Model Number: 910 with model GLS in generation 7 of 10\n",
            "Template Eval Error: Exception('Transformer AlignLastValue failed on fit') in model 910: GLS\n",
            "Model Number: 911 with model GLM in generation 7 of 10\n",
            "Model Number: 912 with model ARIMA in generation 7 of 10\n",
            "Template Eval Error: ValueError(\"regression_type='User' but future_regressor not supplied\") in model 912: ARIMA\n",
            "Model Number: 913 with model NVAR in generation 7 of 10\n",
            "Model Number: 914 with model NVAR in generation 7 of 10\n",
            "Template Eval Error: Exception('Transformer Detrend failed on fit') in model 914: NVAR\n",
            "Model Number: 915 with model Theta in generation 7 of 10\n",
            "Model Number: 916 with model LastValueNaive in generation 7 of 10\n",
            "Model Number: 917 with model NVAR in generation 7 of 10\n",
            "Model Number: 918 with model MultivariateRegression in generation 7 of 10\n",
            "Model Number: 919 with model LastValueNaive in generation 7 of 10\n",
            "Model Number: 920 with model DatepartRegression in generation 7 of 10\n",
            "Template Eval Error: ValueError(\"regression_type='User' but no future_regressor passed\") in model 920: DatepartRegression\n",
            "Model Number: 921 with model DatepartRegression in generation 7 of 10\n",
            "Model Number: 922 with model ConstantNaive in generation 7 of 10\n",
            "Model Number: 923 with model MultivariateRegression in generation 7 of 10\n",
            "Model Number: 924 with model WindowRegression in generation 7 of 10\n",
            "Template Eval Error: ValueError('Found array with 0 sample(s) (shape=(0, 0)) while a minimum of 2 is required.') in model 924: WindowRegression\n",
            "Model Number: 925 with model SeasonalNaive in generation 7 of 10\n",
            "Model Number: 926 with model UnobservedComponents in generation 7 of 10\n",
            "Model Number: 927 with model ARIMA in generation 7 of 10\n",
            "Model Number: 928 with model ARIMA in generation 7 of 10\n",
            "Model Number: 929 with model DatepartRegression in generation 7 of 10\n",
            "Model Number: 930 with model AverageValueNaive in generation 7 of 10\n",
            "Model Number: 931 with model ARIMA in generation 7 of 10\n"
          ]
        },
        {
          "output_type": "stream",
          "name": "stderr",
          "text": [
            "[Parallel(n_jobs=-2)]: Using backend SequentialBackend with 1 concurrent workers.\n",
            "[Parallel(n_jobs=-2)]: Done 100 out of 100 | elapsed:    0.1s finished\n",
            "[Parallel(n_jobs=1)]: Using backend SequentialBackend with 1 concurrent workers.\n",
            "[Parallel(n_jobs=1)]: Done 100 out of 100 | elapsed:    0.0s finished\n"
          ]
        },
        {
          "output_type": "stream",
          "name": "stdout",
          "text": [
            "Model Number: 932 with model ARIMA in generation 7 of 10\n",
            "Model Number: 933 with model GLM in generation 7 of 10\n",
            "Template Eval Error: ValueError('regression_type=user and no future_regressor passed') in model 933: GLM\n",
            "Model Number: 934 with model WindowRegression in generation 7 of 10\n",
            "Model Number: 935 with model UnobservedComponents in generation 7 of 10\n"
          ]
        },
        {
          "output_type": "stream",
          "name": "stderr",
          "text": [
            "INFO:prophet:Disabling yearly seasonality. Run prophet with yearly_seasonality=True to override this.\n",
            "INFO:prophet:Disabling weekly seasonality. Run prophet with weekly_seasonality=True to override this.\n",
            "INFO:prophet:Disabling daily seasonality. Run prophet with daily_seasonality=True to override this.\n",
            "INFO:prophet:n_changepoints greater than number of observations. Using 11.\n",
            "DEBUG:cmdstanpy:input tempfile: /tmp/tmpl9abl34v/__f6h81l.json\n",
            "DEBUG:cmdstanpy:input tempfile: /tmp/tmpl9abl34v/bodjf9p0.json\n",
            "DEBUG:cmdstanpy:idx 0\n",
            "DEBUG:cmdstanpy:running CmdStan, num_threads: None\n",
            "DEBUG:cmdstanpy:CmdStan args: ['/usr/local/lib/python3.8/dist-packages/prophet/stan_model/prophet_model.bin', 'random', 'seed=47185', 'data', 'file=/tmp/tmpl9abl34v/__f6h81l.json', 'init=/tmp/tmpl9abl34v/bodjf9p0.json', 'output', 'file=/tmp/tmpl9abl34v/prophet_model_hwd_adw/prophet_model-20230112201520.csv', 'method=optimize', 'algorithm=newton', 'iter=10000']\n",
            "20:15:20 - cmdstanpy - INFO - Chain [1] start processing\n",
            "INFO:cmdstanpy:Chain [1] start processing\n"
          ]
        },
        {
          "output_type": "stream",
          "name": "stdout",
          "text": [
            "Model Number: 936 with model FBProphet in generation 7 of 10\n"
          ]
        },
        {
          "output_type": "stream",
          "name": "stderr",
          "text": [
            "20:15:20 - cmdstanpy - INFO - Chain [1] done processing\n",
            "INFO:cmdstanpy:Chain [1] done processing\n"
          ]
        },
        {
          "output_type": "stream",
          "name": "stdout",
          "text": [
            "Model Number: 937 with model ETS in generation 7 of 10\n",
            "Model Number: 938 with model UnivariateMotif in generation 7 of 10\n",
            "Model Number: 939 with model DatepartRegression in generation 7 of 10\n",
            "Template Eval Error: ValueError(\"regression_type='User' but no future_regressor passed\") in model 939: DatepartRegression\n",
            "Model Number: 940 with model ARIMA in generation 7 of 10\n"
          ]
        },
        {
          "output_type": "stream",
          "name": "stderr",
          "text": [
            "/usr/local/lib/python3.8/dist-packages/autots/tools/probabilistic.py:67: RuntimeWarning:\n",
            "\n",
            "invalid value encountered in true_divide\n",
            "\n",
            "/usr/local/lib/python3.8/dist-packages/autots/tools/probabilistic.py:68: RuntimeWarning:\n",
            "\n",
            "divide by zero encountered in true_divide\n",
            "\n"
          ]
        },
        {
          "output_type": "stream",
          "name": "stdout",
          "text": [
            "Model Number: 941 with model UnivariateMotif in generation 7 of 10\n",
            "Model Number: 942 with model MultivariateRegression in generation 7 of 10\n"
          ]
        },
        {
          "output_type": "stream",
          "name": "stderr",
          "text": [
            "INFO:prophet:Disabling yearly seasonality. Run prophet with yearly_seasonality=True to override this.\n",
            "INFO:prophet:Disabling weekly seasonality. Run prophet with weekly_seasonality=True to override this.\n",
            "INFO:prophet:Disabling daily seasonality. Run prophet with daily_seasonality=True to override this.\n"
          ]
        },
        {
          "output_type": "stream",
          "name": "stdout",
          "text": [
            "Model Number: 943 with model FBProphet in generation 7 of 10\n"
          ]
        },
        {
          "output_type": "stream",
          "name": "stderr",
          "text": [
            "INFO:prophet:n_changepoints greater than number of observations. Using 10.\n",
            "DEBUG:cmdstanpy:input tempfile: /tmp/tmpl9abl34v/6svhtx7f.json\n",
            "DEBUG:cmdstanpy:input tempfile: /tmp/tmpl9abl34v/fhcqgb0a.json\n",
            "DEBUG:cmdstanpy:idx 0\n",
            "DEBUG:cmdstanpy:running CmdStan, num_threads: None\n",
            "DEBUG:cmdstanpy:CmdStan args: ['/usr/local/lib/python3.8/dist-packages/prophet/stan_model/prophet_model.bin', 'random', 'seed=86737', 'data', 'file=/tmp/tmpl9abl34v/6svhtx7f.json', 'init=/tmp/tmpl9abl34v/fhcqgb0a.json', 'output', 'file=/tmp/tmpl9abl34v/prophet_modelvran5zdm/prophet_model-20230112201523.csv', 'method=optimize', 'algorithm=newton', 'iter=10000']\n",
            "20:15:23 - cmdstanpy - INFO - Chain [1] start processing\n",
            "INFO:cmdstanpy:Chain [1] start processing\n",
            "20:15:23 - cmdstanpy - INFO - Chain [1] done processing\n",
            "INFO:cmdstanpy:Chain [1] done processing\n"
          ]
        },
        {
          "output_type": "stream",
          "name": "stdout",
          "text": [
            "Model Number: 944 with model GLS in generation 7 of 10\n",
            "Model Number: 945 with model ConstantNaive in generation 7 of 10\n",
            "Model Number: 946 with model GLM in generation 7 of 10\n",
            "Model Number: 947 with model AverageValueNaive in generation 7 of 10\n",
            "Model Number: 948 with model DatepartRegression in generation 7 of 10\n",
            "Model Number: 949 with model LastValueNaive in generation 7 of 10\n",
            "Model Number: 950 with model Theta in generation 7 of 10\n",
            "Model Number: 951 with model Theta in generation 7 of 10\n",
            "Model Number: 952 with model UnobservedComponents in generation 7 of 10\n",
            "Model Number: 953 with model ETS in generation 7 of 10\n",
            "ETS error ValueError('endog must be strictly positive when usingmultiplicative trend or seasonal components.')\n",
            "ETS failed on Close with ValueError('endog must be strictly positive when usingmultiplicative trend or seasonal components.')\n",
            "Model Number: 954 with model ARIMA in generation 7 of 10\n",
            "Model Number: 955 with model Theta in generation 7 of 10\n",
            "Model Number: 956 with model WindowRegression in generation 7 of 10\n",
            "Model Number: 957 with model AverageValueNaive in generation 7 of 10\n"
          ]
        },
        {
          "output_type": "stream",
          "name": "stderr",
          "text": [
            "INFO:prophet:Disabling yearly seasonality. Run prophet with yearly_seasonality=True to override this.\n",
            "INFO:prophet:Disabling weekly seasonality. Run prophet with weekly_seasonality=True to override this.\n",
            "INFO:prophet:Disabling daily seasonality. Run prophet with daily_seasonality=True to override this.\n"
          ]
        },
        {
          "output_type": "stream",
          "name": "stdout",
          "text": [
            "Template Eval Error: Exception('Transformer SinTrend failed on fit') in model 957: AverageValueNaive\n",
            "Model Number: 958 with model FBProphet in generation 7 of 10\n"
          ]
        },
        {
          "output_type": "stream",
          "name": "stderr",
          "text": [
            "INFO:prophet:n_changepoints greater than number of observations. Using 5.\n",
            "DEBUG:cmdstanpy:input tempfile: /tmp/tmpl9abl34v/zlh3bqjt.json\n",
            "DEBUG:cmdstanpy:input tempfile: /tmp/tmpl9abl34v/4qrbognz.json\n",
            "DEBUG:cmdstanpy:idx 0\n",
            "DEBUG:cmdstanpy:running CmdStan, num_threads: None\n",
            "DEBUG:cmdstanpy:CmdStan args: ['/usr/local/lib/python3.8/dist-packages/prophet/stan_model/prophet_model.bin', 'random', 'seed=26948', 'data', 'file=/tmp/tmpl9abl34v/zlh3bqjt.json', 'init=/tmp/tmpl9abl34v/4qrbognz.json', 'output', 'file=/tmp/tmpl9abl34v/prophet_modelq66rci_c/prophet_model-20230112201526.csv', 'method=optimize', 'algorithm=newton', 'iter=10000']\n",
            "20:15:26 - cmdstanpy - INFO - Chain [1] start processing\n",
            "INFO:cmdstanpy:Chain [1] start processing\n",
            "20:15:26 - cmdstanpy - INFO - Chain [1] done processing\n",
            "INFO:cmdstanpy:Chain [1] done processing\n"
          ]
        },
        {
          "output_type": "stream",
          "name": "stdout",
          "text": [
            "Model Number: 959 with model ConstantNaive in generation 7 of 10\n",
            "Template Eval Error: Exception('Transformer Cointegration failed on fit') in model 959: ConstantNaive\n",
            "Model Number: 960 with model Theta in generation 7 of 10\n",
            "Model Number: 961 with model ARIMA in generation 7 of 10\n",
            "Model Number: 962 with model UnobservedComponents in generation 7 of 10\n",
            "Model Number: 963 with model UnobservedComponents in generation 7 of 10\n",
            "Model Number: 964 with model GLS in generation 7 of 10\n",
            "Model Number: 965 with model LastValueNaive in generation 7 of 10\n",
            "No anomalies detected.\n",
            "Model Number: 966 with model DatepartRegression in generation 7 of 10\n"
          ]
        },
        {
          "output_type": "stream",
          "name": "stderr",
          "text": [
            "/usr/local/lib/python3.8/dist-packages/sklearn/linear_model/_ridge.py:196: UserWarning:\n",
            "\n",
            "Singular matrix in solving dual problem. Using least-squares solution instead.\n",
            "\n",
            "[Parallel(n_jobs=-2)]: Using backend SequentialBackend with 1 concurrent workers.\n",
            "[Parallel(n_jobs=-2)]: Done 100 out of 100 | elapsed:    0.1s finished\n",
            "[Parallel(n_jobs=1)]: Using backend SequentialBackend with 1 concurrent workers.\n",
            "[Parallel(n_jobs=1)]: Done 100 out of 100 | elapsed:    0.0s finished\n"
          ]
        },
        {
          "output_type": "stream",
          "name": "stdout",
          "text": [
            "Model Number: 967 with model LastValueNaive in generation 7 of 10\n",
            "Model Number: 968 with model Theta in generation 7 of 10\n",
            "Model Number: 969 with model ConstantNaive in generation 7 of 10\n",
            "Model Number: 970 with model MultivariateRegression in generation 7 of 10\n",
            "Model Number: 971 with model UnobservedComponents in generation 7 of 10\n",
            "Model Number: 972 with model MultivariateMotif in generation 7 of 10\n",
            "Template Eval Error: Exception('Transformer LocalLinearTrend failed on fit') in model 972: MultivariateMotif\n",
            "Model Number: 973 with model SeasonalNaive in generation 7 of 10\n",
            "Model Number: 974 with model NVAR in generation 7 of 10\n",
            "Model Number: 975 with model Theta in generation 7 of 10\n",
            "No anomalies detected.\n",
            "Model Number: 976 with model NVAR in generation 7 of 10\n",
            "Model Number: 977 with model GLM in generation 7 of 10\n",
            "No anomalies detected.\n",
            "Model Number: 978 with model ARIMA in generation 7 of 10\n",
            "Model Number: 979 with model WindowRegression in generation 7 of 10\n",
            "Model Number: 980 with model FBProphet in generation 7 of 10\n",
            "Template Eval Error: ValueError(\"regression_type='User' but no future_regressor passed\") in model 980: FBProphet\n",
            "Model Number: 981 with model ETS in generation 7 of 10\n",
            "Model Number: 982 with model SeasonalNaive in generation 7 of 10\n",
            "Model Number: 983 with model NVAR in generation 7 of 10\n"
          ]
        },
        {
          "output_type": "stream",
          "name": "stderr",
          "text": [
            "/usr/local/lib/python3.8/dist-packages/autots/tools/probabilistic.py:67: RuntimeWarning:\n",
            "\n",
            "invalid value encountered in true_divide\n",
            "\n",
            "/usr/local/lib/python3.8/dist-packages/autots/tools/probabilistic.py:68: RuntimeWarning:\n",
            "\n",
            "divide by zero encountered in true_divide\n",
            "\n"
          ]
        },
        {
          "output_type": "stream",
          "name": "stdout",
          "text": [
            "Model Number: 984 with model ARIMA in generation 7 of 10\n",
            "Template Eval Error: ValueError(\"regression_type='User' but future_regressor not supplied\") in model 984: ARIMA\n",
            "Model Number: 985 with model MultivariateRegression in generation 7 of 10\n",
            "Model Number: 986 with model MultivariateMotif in generation 7 of 10\n",
            "Model Number: 987 with model GLM in generation 7 of 10\n",
            "Model Number: 988 with model UnobservedComponents in generation 7 of 10\n",
            "New Generation: 8 of 10\n"
          ]
        },
        {
          "output_type": "stream",
          "name": "stderr",
          "text": [
            "/usr/local/lib/python3.8/dist-packages/statsmodels/genmod/families/links.py:188: RuntimeWarning:\n",
            "\n",
            "overflow encountered in exp\n",
            "\n"
          ]
        },
        {
          "output_type": "stream",
          "name": "stdout",
          "text": [
            "Model Number: 989 with model ConstantNaive in generation 8 of 10\n",
            "Model Number: 990 with model MultivariateRegression in generation 8 of 10\n",
            "Model Number: 991 with model MultivariateRegression in generation 8 of 10\n",
            "Template Eval Error: ValueError(\"regression_type='User' but not future_regressor supplied.\") in model 991: MultivariateRegression\n",
            "Model Number: 992 with model SeasonalNaive in generation 8 of 10\n",
            "Model Number: 993 with model NVAR in generation 8 of 10\n",
            "Model Number: 994 with model MultivariateRegression in generation 8 of 10\n",
            "Model Number: 995 with model LastValueNaive in generation 8 of 10\n",
            "Model Number: 996 with model GLM in generation 8 of 10\n",
            "Model Number: 997 with model MultivariateRegression in generation 8 of 10\n",
            "Model Number: 998 with model ETS in generation 8 of 10\n",
            "Model Number: 999 with model ARIMA in generation 8 of 10\n",
            "Template Eval Error: ValueError(\"Model returned NaN due to a preprocessing transformer {'fillna': 'akima', 'transformations': {'0': 'SeasonalDifference', '1': 'AlignLastValue'}, 'transformation_params': {'0': {'lag_1': 364, 'method': 'Mean'}, '1': {'rows': 7, 'lag': 1, 'method': 'multiplicative', 'strength': 1.0, 'first_value_only': False}}}. fail_on_forecast_nan=True\") in model 999: ARIMA\n",
            "Model Number: 1000 with model UnobservedComponents in generation 8 of 10\n",
            "Template Eval Error: ValueError(\"regression_type='User' but no future_regressor supplied\") in model 1000: UnobservedComponents\n",
            "Model Number: 1001 with model ConstantNaive in generation 8 of 10\n",
            "Model Number: 1002 with model Theta in generation 8 of 10\n",
            "Model Number: 1003 with model FBProphet in generation 8 of 10\n"
          ]
        },
        {
          "output_type": "stream",
          "name": "stderr",
          "text": [
            "INFO:prophet:Disabling yearly seasonality. Run prophet with yearly_seasonality=True to override this.\n",
            "INFO:prophet:Disabling weekly seasonality. Run prophet with weekly_seasonality=True to override this.\n",
            "INFO:prophet:Disabling daily seasonality. Run prophet with daily_seasonality=True to override this.\n",
            "INFO:prophet:n_changepoints greater than number of observations. Using 10.\n",
            "DEBUG:cmdstanpy:input tempfile: /tmp/tmpl9abl34v/6qq4fldh.json\n",
            "DEBUG:cmdstanpy:input tempfile: /tmp/tmpl9abl34v/87af2iqy.json\n",
            "DEBUG:cmdstanpy:idx 0\n",
            "DEBUG:cmdstanpy:running CmdStan, num_threads: None\n",
            "DEBUG:cmdstanpy:CmdStan args: ['/usr/local/lib/python3.8/dist-packages/prophet/stan_model/prophet_model.bin', 'random', 'seed=3423', 'data', 'file=/tmp/tmpl9abl34v/6qq4fldh.json', 'init=/tmp/tmpl9abl34v/87af2iqy.json', 'output', 'file=/tmp/tmpl9abl34v/prophet_model4thkj2i2/prophet_model-20230112201535.csv', 'method=optimize', 'algorithm=newton', 'iter=10000']\n",
            "20:15:35 - cmdstanpy - INFO - Chain [1] start processing\n",
            "INFO:cmdstanpy:Chain [1] start processing\n",
            "20:15:35 - cmdstanpy - INFO - Chain [1] done processing\n",
            "INFO:cmdstanpy:Chain [1] done processing\n"
          ]
        },
        {
          "output_type": "stream",
          "name": "stdout",
          "text": [
            "Model Number: 1004 with model Theta in generation 8 of 10\n",
            "Model Number: 1005 with model ETS in generation 8 of 10\n",
            "Model Number: 1006 with model AverageValueNaive in generation 8 of 10\n",
            "Model Number: 1007 with model MultivariateRegression in generation 8 of 10\n",
            "Model Number: 1008 with model DatepartRegression in generation 8 of 10\n",
            "Model Number: 1009 with model UnobservedComponents in generation 8 of 10\n",
            "Model Number: 1010 with model WindowRegression in generation 8 of 10\n",
            "Model Number: 1011 with model ConstantNaive in generation 8 of 10\n"
          ]
        },
        {
          "output_type": "stream",
          "name": "stderr",
          "text": [
            "/usr/local/lib/python3.8/dist-packages/sklearn/linear_model/_ridge.py:196: UserWarning:\n",
            "\n",
            "Singular matrix in solving dual problem. Using least-squares solution instead.\n",
            "\n"
          ]
        },
        {
          "output_type": "stream",
          "name": "stdout",
          "text": [
            "Model Number: 1012 with model DatepartRegression in generation 8 of 10\n",
            "Model Number: 1013 with model FBProphet in generation 8 of 10\n",
            "No anomalies detected.\n"
          ]
        },
        {
          "output_type": "stream",
          "name": "stderr",
          "text": [
            "[Parallel(n_jobs=-2)]: Using backend SequentialBackend with 1 concurrent workers.\n",
            "[Parallel(n_jobs=-2)]: Done 100 out of 100 | elapsed:    0.1s finished\n",
            "[Parallel(n_jobs=1)]: Using backend SequentialBackend with 1 concurrent workers.\n",
            "[Parallel(n_jobs=1)]: Done 100 out of 100 | elapsed:    0.0s finished\n",
            "INFO:prophet:Disabling yearly seasonality. Run prophet with yearly_seasonality=True to override this.\n",
            "INFO:prophet:Disabling weekly seasonality. Run prophet with weekly_seasonality=True to override this.\n",
            "INFO:prophet:Disabling daily seasonality. Run prophet with daily_seasonality=True to override this.\n",
            "INFO:prophet:n_changepoints greater than number of observations. Using 10.\n",
            "DEBUG:cmdstanpy:input tempfile: /tmp/tmpl9abl34v/_3vvyl3g.json\n",
            "DEBUG:cmdstanpy:input tempfile: /tmp/tmpl9abl34v/lrfjqym2.json\n",
            "DEBUG:cmdstanpy:idx 0\n",
            "DEBUG:cmdstanpy:running CmdStan, num_threads: None\n",
            "DEBUG:cmdstanpy:CmdStan args: ['/usr/local/lib/python3.8/dist-packages/prophet/stan_model/prophet_model.bin', 'random', 'seed=42585', 'data', 'file=/tmp/tmpl9abl34v/_3vvyl3g.json', 'init=/tmp/tmpl9abl34v/lrfjqym2.json', 'output', 'file=/tmp/tmpl9abl34v/prophet_modelnujky_d9/prophet_model-20230112201537.csv', 'method=optimize', 'algorithm=newton', 'iter=10000']\n",
            "20:15:37 - cmdstanpy - INFO - Chain [1] start processing\n",
            "INFO:cmdstanpy:Chain [1] start processing\n",
            "20:15:37 - cmdstanpy - INFO - Chain [1] done processing\n",
            "INFO:cmdstanpy:Chain [1] done processing\n"
          ]
        },
        {
          "output_type": "stream",
          "name": "stdout",
          "text": [
            "Model Number: 1014 with model LastValueNaive in generation 8 of 10\n",
            "Model Number: 1015 with model Theta in generation 8 of 10\n"
          ]
        },
        {
          "output_type": "stream",
          "name": "stderr",
          "text": [
            "INFO:prophet:Disabling yearly seasonality. Run prophet with yearly_seasonality=True to override this.\n",
            "INFO:prophet:Disabling weekly seasonality. Run prophet with weekly_seasonality=True to override this.\n",
            "INFO:prophet:Disabling daily seasonality. Run prophet with daily_seasonality=True to override this.\n"
          ]
        },
        {
          "output_type": "stream",
          "name": "stdout",
          "text": [
            "Model Number: 1016 with model ARIMA in generation 8 of 10\n",
            "Template Eval Error: ValueError(\"regression_type='User' but future_regressor not supplied\") in model 1016: ARIMA\n",
            "Model Number: 1017 with model FBProphet in generation 8 of 10\n"
          ]
        },
        {
          "output_type": "stream",
          "name": "stderr",
          "text": [
            "INFO:prophet:n_changepoints greater than number of observations. Using 10.\n"
          ]
        },
        {
          "output_type": "stream",
          "name": "stdout",
          "text": [
            "Model Number: 1018 with model Theta in generation 8 of 10\n",
            "Model Number: 1019 with model WindowRegression in generation 8 of 10\n",
            "Template Eval Error: Exception('Transformer Cointegration failed on fit') in model 1019: WindowRegression\n",
            "Model Number: 1020 with model UnobservedComponents in generation 8 of 10\n",
            "Model Number: 1021 with model Theta in generation 8 of 10\n",
            "Template Eval Error: Exception('Transformer BTCD failed on fit') in model 1021: Theta\n",
            "Model Number: 1022 with model Theta in generation 8 of 10\n",
            "Model Number: 1023 with model GLM in generation 8 of 10\n",
            "Template Eval Error: ValueError('NaN, inf or invalid value detected in weights, estimation infeasible.') in model 1023: GLM\n",
            "Model Number: 1024 with model UnobservedComponents in generation 8 of 10\n",
            "Model Number: 1025 with model MultivariateRegression in generation 8 of 10\n",
            "Model Number: 1026 with model WindowRegression in generation 8 of 10\n",
            "Template Eval Error: Exception('Transformer Detrend failed on fit') in model 1026: WindowRegression\n",
            "Model Number: 1027 with model ARIMA in generation 8 of 10\n",
            "Template Eval Error: Exception('Transformer LocalLinearTrend failed on fit') in model 1027: ARIMA\n",
            "Model Number: 1028 with model UnobservedComponents in generation 8 of 10\n",
            "Template Eval Error: ValueError(\"regression_type='User' but no future_regressor supplied\") in model 1028: UnobservedComponents\n",
            "Model Number: 1029 with model ETS in generation 8 of 10\n",
            "ETS failed on Close with ValueError('could not broadcast input array from shape (14,) into shape (28,)')\n"
          ]
        },
        {
          "output_type": "stream",
          "name": "stderr",
          "text": [
            "/usr/local/lib/python3.8/dist-packages/statsmodels/genmod/families/family.py:428: RuntimeWarning:\n",
            "\n",
            "divide by zero encountered in true_divide\n",
            "\n",
            "/usr/local/lib/python3.8/dist-packages/statsmodels/genmod/families/family.py:134: RuntimeWarning:\n",
            "\n",
            "divide by zero encountered in true_divide\n",
            "\n",
            "/usr/local/lib/python3.8/dist-packages/sklearn/preprocessing/_data.py:3253: RuntimeWarning:\n",
            "\n",
            "divide by zero encountered in log\n",
            "\n",
            "/usr/local/lib/python3.8/dist-packages/sklearn/preprocessing/_data.py:3196: RuntimeWarning:\n",
            "\n",
            "divide by zero encountered in power\n",
            "\n",
            "/usr/local/lib/python3.8/dist-packages/sklearn/preprocessing/_data.py:3196: RuntimeWarning:\n",
            "\n",
            "divide by zero encountered in power\n",
            "\n",
            "/usr/local/lib/python3.8/dist-packages/sklearn/preprocessing/_data.py:3196: RuntimeWarning:\n",
            "\n",
            "divide by zero encountered in power\n",
            "\n",
            "/usr/local/lib/python3.8/dist-packages/autots/tools/probabilistic.py:67: RuntimeWarning:\n",
            "\n",
            "invalid value encountered in true_divide\n",
            "\n",
            "/usr/local/lib/python3.8/dist-packages/autots/tools/probabilistic.py:68: RuntimeWarning:\n",
            "\n",
            "divide by zero encountered in true_divide\n",
            "\n"
          ]
        },
        {
          "output_type": "stream",
          "name": "stdout",
          "text": [
            "Model Number: 1030 with model SeasonalNaive in generation 8 of 10\n",
            "Model Number: 1031 with model AverageValueNaive in generation 8 of 10\n",
            "Model Number: 1032 with model ARIMA in generation 8 of 10\n",
            "Model Number: 1033 with model DatepartRegression in generation 8 of 10\n",
            "Model Number: 1034 with model ARIMA in generation 8 of 10\n",
            "Model Number: 1035 with model SeasonalNaive in generation 8 of 10\n",
            "Model Number: 1036 with model ARIMA in generation 8 of 10\n"
          ]
        },
        {
          "output_type": "stream",
          "name": "stderr",
          "text": [
            "INFO:prophet:Disabling yearly seasonality. Run prophet with yearly_seasonality=True to override this.\n",
            "INFO:prophet:Disabling weekly seasonality. Run prophet with weekly_seasonality=True to override this.\n",
            "INFO:prophet:Disabling daily seasonality. Run prophet with daily_seasonality=True to override this.\n",
            "INFO:prophet:n_changepoints greater than number of observations. Using 10.\n"
          ]
        },
        {
          "output_type": "stream",
          "name": "stdout",
          "text": [
            "Model Number: 1037 with model FBProphet in generation 8 of 10\n",
            "Model Number: 1038 with model MultivariateRegression in generation 8 of 10\n",
            "Template Eval Error: ValueError(\"regression_type='User' but not future_regressor supplied.\") in model 1038: MultivariateRegression\n",
            "Model Number: 1039 with model LastValueNaive in generation 8 of 10\n"
          ]
        },
        {
          "output_type": "stream",
          "name": "stderr",
          "text": [
            "INFO:prophet:Disabling yearly seasonality. Run prophet with yearly_seasonality=True to override this.\n",
            "INFO:prophet:Disabling weekly seasonality. Run prophet with weekly_seasonality=True to override this.\n",
            "INFO:prophet:Disabling daily seasonality. Run prophet with daily_seasonality=True to override this.\n",
            "INFO:prophet:n_changepoints greater than number of observations. Using 11.\n",
            "DEBUG:cmdstanpy:input tempfile: /tmp/tmpl9abl34v/881zc2zi.json\n",
            "DEBUG:cmdstanpy:input tempfile: /tmp/tmpl9abl34v/two9uo_3.json\n",
            "DEBUG:cmdstanpy:idx 0\n",
            "DEBUG:cmdstanpy:running CmdStan, num_threads: None\n",
            "DEBUG:cmdstanpy:CmdStan args: ['/usr/local/lib/python3.8/dist-packages/prophet/stan_model/prophet_model.bin', 'random', 'seed=74413', 'data', 'file=/tmp/tmpl9abl34v/881zc2zi.json', 'init=/tmp/tmpl9abl34v/two9uo_3.json', 'output', 'file=/tmp/tmpl9abl34v/prophet_modelb3r_vqyq/prophet_model-20230112201542.csv', 'method=optimize', 'algorithm=newton', 'iter=10000']\n",
            "20:15:42 - cmdstanpy - INFO - Chain [1] start processing\n",
            "INFO:cmdstanpy:Chain [1] start processing\n"
          ]
        },
        {
          "output_type": "stream",
          "name": "stdout",
          "text": [
            "Model Number: 1040 with model FBProphet in generation 8 of 10\n"
          ]
        },
        {
          "output_type": "stream",
          "name": "stderr",
          "text": [
            "20:15:42 - cmdstanpy - INFO - Chain [1] done processing\n",
            "INFO:cmdstanpy:Chain [1] done processing\n"
          ]
        },
        {
          "output_type": "stream",
          "name": "stdout",
          "text": [
            "Model Number: 1041 with model SeasonalNaive in generation 8 of 10\n",
            "Model Number: 1042 with model NVAR in generation 8 of 10\n",
            "Model Number: 1043 with model Theta in generation 8 of 10\n",
            "Model Number: 1044 with model UnobservedComponents in generation 8 of 10\n",
            "Model Number: 1045 with model FBProphet in generation 8 of 10\n"
          ]
        },
        {
          "output_type": "stream",
          "name": "stderr",
          "text": [
            "/usr/local/lib/python3.8/dist-packages/sklearn/preprocessing/_data.py:3253: RuntimeWarning:\n",
            "\n",
            "divide by zero encountered in log\n",
            "\n",
            "/usr/local/lib/python3.8/dist-packages/sklearn/preprocessing/_data.py:3253: RuntimeWarning:\n",
            "\n",
            "divide by zero encountered in log\n",
            "\n",
            "INFO:prophet:Disabling yearly seasonality. Run prophet with yearly_seasonality=True to override this.\n",
            "INFO:prophet:Disabling weekly seasonality. Run prophet with weekly_seasonality=True to override this.\n",
            "INFO:prophet:Disabling daily seasonality. Run prophet with daily_seasonality=True to override this.\n",
            "INFO:prophet:n_changepoints greater than number of observations. Using 10.\n",
            "/usr/local/lib/python3.8/dist-packages/sklearn/preprocessing/_data.py:3196: RuntimeWarning:\n",
            "\n",
            "divide by zero encountered in power\n",
            "\n",
            "INFO:prophet:Disabling yearly seasonality. Run prophet with yearly_seasonality=True to override this.\n",
            "INFO:prophet:Disabling weekly seasonality. Run prophet with weekly_seasonality=True to override this.\n",
            "INFO:prophet:Disabling daily seasonality. Run prophet with daily_seasonality=True to override this.\n",
            "INFO:prophet:n_changepoints greater than number of observations. Using 5.\n",
            "DEBUG:cmdstanpy:input tempfile: /tmp/tmpl9abl34v/ded8zatm.json\n",
            "DEBUG:cmdstanpy:input tempfile: /tmp/tmpl9abl34v/t3oi0p5j.json\n",
            "DEBUG:cmdstanpy:idx 0\n",
            "DEBUG:cmdstanpy:running CmdStan, num_threads: None\n",
            "DEBUG:cmdstanpy:CmdStan args: ['/usr/local/lib/python3.8/dist-packages/prophet/stan_model/prophet_model.bin', 'random', 'seed=73280', 'data', 'file=/tmp/tmpl9abl34v/ded8zatm.json', 'init=/tmp/tmpl9abl34v/t3oi0p5j.json', 'output', 'file=/tmp/tmpl9abl34v/prophet_model2eav2_so/prophet_model-20230112201544.csv', 'method=optimize', 'algorithm=newton', 'iter=10000']\n",
            "20:15:44 - cmdstanpy - INFO - Chain [1] start processing\n",
            "INFO:cmdstanpy:Chain [1] start processing\n",
            "20:15:44 - cmdstanpy - INFO - Chain [1] done processing\n",
            "INFO:cmdstanpy:Chain [1] done processing\n"
          ]
        },
        {
          "output_type": "stream",
          "name": "stdout",
          "text": [
            "Model Number: 1046 with model SeasonalNaive in generation 8 of 10\n",
            "Template Eval Error: Exception('Transformer LocalLinearTrend failed on fit') in model 1046: SeasonalNaive\n",
            "Model Number: 1047 with model FBProphet in generation 8 of 10\n",
            "Model Number: 1048 with model NVAR in generation 8 of 10\n",
            "Model Number: 1049 with model NVAR in generation 8 of 10\n",
            "Model Number: 1050 with model GLM in generation 8 of 10\n",
            "Template Eval Error: PerfectSeparationError('Perfect separation detected, results not available') in model 1050: GLM\n",
            "Model Number: 1051 with model UnobservedComponents in generation 8 of 10\n",
            "Model Number: 1052 with model GLS in generation 8 of 10\n",
            "Template Eval Error: Exception('Transformer ScipyFilter failed on fit') in model 1052: GLS\n",
            "Model Number: 1053 with model ARIMA in generation 8 of 10\n",
            "Template Eval Error: Exception('Transformer Detrend failed on fit') in model 1053: ARIMA\n",
            "Model Number: 1054 with model SeasonalNaive in generation 8 of 10\n",
            "Model Number: 1055 with model AverageValueNaive in generation 8 of 10\n",
            "Model Number: 1056 with model AverageValueNaive in generation 8 of 10\n",
            "Model Number: 1057 with model ETS in generation 8 of 10\n",
            "Model Number: 1058 with model GLM in generation 8 of 10\n",
            "Template Eval Error: PerfectSeparationError('Perfect separation detected, results not available') in model 1058: GLM\n",
            "Model Number: 1059 with model NVAR in generation 8 of 10\n",
            "Model Number: 1060 with model WindowRegression in generation 8 of 10\n"
          ]
        },
        {
          "output_type": "stream",
          "name": "stderr",
          "text": [
            "INFO:prophet:Disabling yearly seasonality. Run prophet with yearly_seasonality=True to override this.\n",
            "INFO:prophet:Disabling weekly seasonality. Run prophet with weekly_seasonality=True to override this.\n",
            "INFO:prophet:Disabling daily seasonality. Run prophet with daily_seasonality=True to override this.\n"
          ]
        },
        {
          "output_type": "stream",
          "name": "stdout",
          "text": [
            "Model Number: 1061 with model FBProphet in generation 8 of 10\n"
          ]
        },
        {
          "output_type": "stream",
          "name": "stderr",
          "text": [
            "INFO:prophet:n_changepoints greater than number of observations. Using 11.\n"
          ]
        },
        {
          "output_type": "stream",
          "name": "stdout",
          "text": [
            "Model Number: 1062 with model DatepartRegression in generation 8 of 10\n",
            "Template Eval Error: ValueError(\"regression_type='User' but no future_regressor passed\") in model 1062: DatepartRegression\n",
            "Model Number: 1063 with model AverageValueNaive in generation 8 of 10\n",
            "Model Number: 1064 with model ConstantNaive in generation 8 of 10\n",
            "Model Number: 1065 with model AverageValueNaive in generation 8 of 10\n",
            "Template Eval Error: Exception('Transformer FastICA failed on fit') in model 1065: AverageValueNaive\n",
            "Model Number: 1066 with model NVAR in generation 8 of 10\n",
            "Model Number: 1067 with model ETS in generation 8 of 10\n",
            "Model Number: 1068 with model ConstantNaive in generation 8 of 10\n"
          ]
        },
        {
          "output_type": "stream",
          "name": "stderr",
          "text": [
            "/usr/local/lib/python3.8/dist-packages/sklearn/decomposition/_fastica.py:532: RuntimeWarning:\n",
            "\n",
            "divide by zero encountered in true_divide\n",
            "\n"
          ]
        },
        {
          "output_type": "stream",
          "name": "stdout",
          "text": [
            "Model Number: 1069 with model NVAR in generation 8 of 10\n",
            "Model Number: 1070 with model Theta in generation 8 of 10\n",
            "Model Number: 1071 with model UnobservedComponents in generation 8 of 10\n",
            "Model Number: 1072 with model ConstantNaive in generation 8 of 10\n",
            "Model Number: 1073 with model GLS in generation 8 of 10\n",
            "Template Eval Error: Exception('Transformer Detrend failed on fit') in model 1073: GLS\n",
            "Model Number: 1074 with model AverageValueNaive in generation 8 of 10\n",
            "Model Number: 1075 with model Theta in generation 8 of 10\n",
            "Model Number: 1076 with model MultivariateRegression in generation 8 of 10\n",
            "Model Number: 1077 with model AverageValueNaive in generation 8 of 10\n",
            "Model Number: 1078 with model MultivariateRegression in generation 8 of 10\n",
            "Model Number: 1079 with model UnobservedComponents in generation 8 of 10\n",
            "Template Eval Error: ValueError(\"regression_type='User' but no future_regressor supplied\") in model 1079: UnobservedComponents\n",
            "Model Number: 1080 with model AverageValueNaive in generation 8 of 10\n",
            "Model Number: 1081 with model DatepartRegression in generation 8 of 10\n"
          ]
        },
        {
          "output_type": "stream",
          "name": "stderr",
          "text": [
            "/usr/local/lib/python3.8/dist-packages/sklearn/svm/_base.py:1206: ConvergenceWarning:\n",
            "\n",
            "Liblinear failed to converge, increase the number of iterations.\n",
            "\n",
            "/usr/local/lib/python3.8/dist-packages/sklearn/linear_model/_ridge.py:196: UserWarning:\n",
            "\n",
            "Singular matrix in solving dual problem. Using least-squares solution instead.\n",
            "\n",
            "[Parallel(n_jobs=-2)]: Using backend SequentialBackend with 1 concurrent workers.\n"
          ]
        },
        {
          "output_type": "stream",
          "name": "stdout",
          "text": [
            "Model Number: 1082 with model UnobservedComponents in generation 8 of 10\n"
          ]
        },
        {
          "output_type": "stream",
          "name": "stderr",
          "text": [
            "[Parallel(n_jobs=-2)]: Done 100 out of 100 | elapsed:    0.1s finished\n",
            "[Parallel(n_jobs=1)]: Using backend SequentialBackend with 1 concurrent workers.\n",
            "[Parallel(n_jobs=1)]: Done 100 out of 100 | elapsed:    0.0s finished\n"
          ]
        },
        {
          "output_type": "stream",
          "name": "stdout",
          "text": [
            "Model Number: 1083 with model ARIMA in generation 8 of 10\n",
            "Model Number: 1084 with model ARIMA in generation 8 of 10\n",
            "Model Number: 1085 with model GLM in generation 8 of 10\n",
            "Model Number: 1086 with model WindowRegression in generation 8 of 10\n",
            "Model Number: 1087 with model SeasonalNaive in generation 8 of 10\n",
            "Model Number: 1088 with model MultivariateRegression in generation 8 of 10\n"
          ]
        },
        {
          "output_type": "stream",
          "name": "stderr",
          "text": [
            "/usr/local/lib/python3.8/dist-packages/statsmodels/genmod/generalized_linear_model.py:293: DomainWarning:\n",
            "\n",
            "The inverse_power link function does not respect the domain of the Gamma family.\n",
            "\n",
            "/usr/local/lib/python3.8/dist-packages/statsmodels/genmod/generalized_linear_model.py:798: RuntimeWarning:\n",
            "\n",
            "divide by zero encountered in double_scalars\n",
            "\n"
          ]
        },
        {
          "output_type": "stream",
          "name": "stdout",
          "text": [
            "New Generation: 9 of 10\n"
          ]
        },
        {
          "output_type": "stream",
          "name": "stderr",
          "text": [
            "INFO:prophet:Disabling yearly seasonality. Run prophet with yearly_seasonality=True to override this.\n",
            "INFO:prophet:Disabling weekly seasonality. Run prophet with weekly_seasonality=True to override this.\n",
            "INFO:prophet:Disabling daily seasonality. Run prophet with daily_seasonality=True to override this.\n",
            "INFO:prophet:n_changepoints greater than number of observations. Using 11.\n",
            "DEBUG:cmdstanpy:input tempfile: /tmp/tmpl9abl34v/gwxqka0x.json\n",
            "DEBUG:cmdstanpy:input tempfile: /tmp/tmpl9abl34v/p6dp4qyv.json\n",
            "DEBUG:cmdstanpy:idx 0\n",
            "DEBUG:cmdstanpy:running CmdStan, num_threads: None\n",
            "DEBUG:cmdstanpy:CmdStan args: ['/usr/local/lib/python3.8/dist-packages/prophet/stan_model/prophet_model.bin', 'random', 'seed=65222', 'data', 'file=/tmp/tmpl9abl34v/gwxqka0x.json', 'init=/tmp/tmpl9abl34v/p6dp4qyv.json', 'output', 'file=/tmp/tmpl9abl34v/prophet_model14sovny5/prophet_model-20230112201549.csv', 'method=optimize', 'algorithm=newton', 'iter=10000']\n",
            "20:15:49 - cmdstanpy - INFO - Chain [1] start processing\n",
            "INFO:cmdstanpy:Chain [1] start processing\n"
          ]
        },
        {
          "output_type": "stream",
          "name": "stdout",
          "text": [
            "Model Number: 1089 with model WindowRegression in generation 9 of 10\n",
            "Template Eval Error: Exception('Transformer Detrend failed on fit') in model 1089: WindowRegression\n",
            "Model Number: 1090 with model FBProphet in generation 9 of 10\n"
          ]
        },
        {
          "output_type": "stream",
          "name": "stderr",
          "text": [
            "20:15:49 - cmdstanpy - INFO - Chain [1] done processing\n",
            "INFO:cmdstanpy:Chain [1] done processing\n"
          ]
        },
        {
          "output_type": "stream",
          "name": "stdout",
          "text": [
            "Model Number: 1091 with model ConstantNaive in generation 9 of 10\n"
          ]
        },
        {
          "output_type": "stream",
          "name": "stderr",
          "text": [
            "INFO:prophet:Disabling yearly seasonality. Run prophet with yearly_seasonality=True to override this.\n",
            "INFO:prophet:Disabling weekly seasonality. Run prophet with weekly_seasonality=True to override this.\n",
            "INFO:prophet:Disabling daily seasonality. Run prophet with daily_seasonality=True to override this.\n",
            "INFO:prophet:n_changepoints greater than number of observations. Using 10.\n",
            "DEBUG:cmdstanpy:input tempfile: /tmp/tmpl9abl34v/rk6dzv53.json\n",
            "DEBUG:cmdstanpy:input tempfile: /tmp/tmpl9abl34v/z4wmgqjc.json\n",
            "DEBUG:cmdstanpy:idx 0\n",
            "DEBUG:cmdstanpy:running CmdStan, num_threads: None\n",
            "DEBUG:cmdstanpy:CmdStan args: ['/usr/local/lib/python3.8/dist-packages/prophet/stan_model/prophet_model.bin', 'random', 'seed=25140', 'data', 'file=/tmp/tmpl9abl34v/rk6dzv53.json', 'init=/tmp/tmpl9abl34v/z4wmgqjc.json', 'output', 'file=/tmp/tmpl9abl34v/prophet_model_dae9bwz/prophet_model-20230112201550.csv', 'method=optimize', 'algorithm=newton', 'iter=10000']\n",
            "20:15:50 - cmdstanpy - INFO - Chain [1] start processing\n",
            "INFO:cmdstanpy:Chain [1] start processing\n",
            "20:15:50 - cmdstanpy - INFO - Chain [1] done processing\n",
            "INFO:cmdstanpy:Chain [1] done processing\n"
          ]
        },
        {
          "output_type": "stream",
          "name": "stdout",
          "text": [
            "Model Number: 1092 with model AverageValueNaive in generation 9 of 10\n",
            "Template Eval Error: Exception('Transformer Cointegration failed on fit') in model 1092: AverageValueNaive\n",
            "Model Number: 1093 with model FBProphet in generation 9 of 10\n",
            "Model Number: 1094 with model ARIMA in generation 9 of 10\n",
            "Model Number: 1095 with model LastValueNaive in generation 9 of 10\n",
            "Model Number: 1096 with model ETS in generation 9 of 10\n",
            "Model Number: 1097 with model UnivariateMotif in generation 9 of 10\n",
            "Model Number: 1098 with model WindowRegression in generation 9 of 10\n",
            "Model Number: 1099 with model AverageValueNaive in generation 9 of 10\n",
            "Model Number: 1100 with model GLM in generation 9 of 10\n",
            "Template Eval Error: ValueError('regression_type=user and no future_regressor passed') in model 1100: GLM\n",
            "Model Number: 1101 with model UnobservedComponents in generation 9 of 10\n",
            "Model Number: 1102 with model UnobservedComponents in generation 9 of 10\n",
            "Model Number: 1103 with model WindowRegression in generation 9 of 10\n",
            "Model Number: 1104 with model ConstantNaive in generation 9 of 10\n",
            "Model Number: 1105 with model SeasonalNaive in generation 9 of 10\n"
          ]
        },
        {
          "output_type": "stream",
          "name": "stderr",
          "text": [
            "/usr/local/lib/python3.8/dist-packages/sklearn/decomposition/_pca.py:501: RuntimeWarning:\n",
            "\n",
            "invalid value encountered in true_divide\n",
            "\n",
            "INFO:prophet:Disabling yearly seasonality. Run prophet with yearly_seasonality=True to override this.\n",
            "INFO:prophet:Disabling weekly seasonality. Run prophet with weekly_seasonality=True to override this.\n",
            "INFO:prophet:Disabling daily seasonality. Run prophet with daily_seasonality=True to override this.\n"
          ]
        },
        {
          "output_type": "stream",
          "name": "stdout",
          "text": [
            "Model Number: 1106 with model FBProphet in generation 9 of 10\n"
          ]
        },
        {
          "output_type": "stream",
          "name": "stderr",
          "text": [
            "INFO:prophet:n_changepoints greater than number of observations. Using 10.\n",
            "DEBUG:cmdstanpy:input tempfile: /tmp/tmpl9abl34v/c0e6wo8i.json\n",
            "DEBUG:cmdstanpy:input tempfile: /tmp/tmpl9abl34v/ftfgygae.json\n",
            "DEBUG:cmdstanpy:idx 0\n",
            "DEBUG:cmdstanpy:running CmdStan, num_threads: None\n",
            "DEBUG:cmdstanpy:CmdStan args: ['/usr/local/lib/python3.8/dist-packages/prophet/stan_model/prophet_model.bin', 'random', 'seed=48516', 'data', 'file=/tmp/tmpl9abl34v/c0e6wo8i.json', 'init=/tmp/tmpl9abl34v/ftfgygae.json', 'output', 'file=/tmp/tmpl9abl34v/prophet_modelxnbs0vjk/prophet_model-20230112201553.csv', 'method=optimize', 'algorithm=newton', 'iter=10000']\n",
            "20:15:53 - cmdstanpy - INFO - Chain [1] start processing\n",
            "INFO:cmdstanpy:Chain [1] start processing\n",
            "20:15:53 - cmdstanpy - INFO - Chain [1] done processing\n",
            "INFO:cmdstanpy:Chain [1] done processing\n"
          ]
        },
        {
          "output_type": "stream",
          "name": "stdout",
          "text": [
            "Model Number: 1107 with model NVAR in generation 9 of 10\n",
            "Model Number: 1108 with model MultivariateRegression in generation 9 of 10\n",
            "Model Number: 1109 with model WindowRegression in generation 9 of 10\n",
            "Model Number: 1110 with model NVAR in generation 9 of 10\n",
            "Template Eval Error: Exception('Transformer Cointegration failed on fit') in model 1110: NVAR\n",
            "Model Number: 1111 with model FBProphet in generation 9 of 10\n"
          ]
        },
        {
          "output_type": "stream",
          "name": "stderr",
          "text": [
            "/usr/local/lib/python3.8/dist-packages/sklearn/svm/_base.py:1206: ConvergenceWarning:\n",
            "\n",
            "Liblinear failed to converge, increase the number of iterations.\n",
            "\n",
            "INFO:prophet:Disabling yearly seasonality. Run prophet with yearly_seasonality=True to override this.\n",
            "INFO:prophet:Disabling weekly seasonality. Run prophet with weekly_seasonality=True to override this.\n",
            "INFO:prophet:Disabling daily seasonality. Run prophet with daily_seasonality=True to override this.\n",
            "INFO:prophet:n_changepoints greater than number of observations. Using 12.\n",
            "DEBUG:cmdstanpy:input tempfile: /tmp/tmpl9abl34v/acmmm1u2.json\n",
            "DEBUG:cmdstanpy:input tempfile: /tmp/tmpl9abl34v/svmpi3zn.json\n",
            "DEBUG:cmdstanpy:idx 0\n",
            "DEBUG:cmdstanpy:running CmdStan, num_threads: None\n",
            "DEBUG:cmdstanpy:CmdStan args: ['/usr/local/lib/python3.8/dist-packages/prophet/stan_model/prophet_model.bin', 'random', 'seed=30658', 'data', 'file=/tmp/tmpl9abl34v/acmmm1u2.json', 'init=/tmp/tmpl9abl34v/svmpi3zn.json', 'output', 'file=/tmp/tmpl9abl34v/prophet_modelw9od4seg/prophet_model-20230112201554.csv', 'method=optimize', 'algorithm=newton', 'iter=10000']\n",
            "20:15:54 - cmdstanpy - INFO - Chain [1] start processing\n",
            "INFO:cmdstanpy:Chain [1] start processing\n",
            "20:15:54 - cmdstanpy - INFO - Chain [1] done processing\n",
            "INFO:cmdstanpy:Chain [1] done processing\n"
          ]
        },
        {
          "output_type": "stream",
          "name": "stdout",
          "text": [
            "Model Number: 1112 with model Theta in generation 9 of 10\n",
            "Model Number: 1113 with model SeasonalNaive in generation 9 of 10\n",
            "Model Number: 1114 with model FBProphet in generation 9 of 10\n",
            "Template Eval Error: ValueError(\"regression_type='User' but no future_regressor passed\") in model 1114: FBProphet\n",
            "Model Number: 1115 with model GLS in generation 9 of 10\n",
            "Model Number: 1116 with model LastValueNaive in generation 9 of 10\n",
            "No anomalies detected.\n",
            "Template Eval Error: Exception('Transformer HolidayTransformer failed on fit') in model 1116: LastValueNaive\n",
            "Model Number: 1117 with model Theta in generation 9 of 10\n",
            "Model Number: 1118 with model NVAR in generation 9 of 10\n"
          ]
        },
        {
          "output_type": "stream",
          "name": "stderr",
          "text": [
            "/usr/local/lib/python3.8/dist-packages/sklearn/preprocessing/_data.py:3253: RuntimeWarning:\n",
            "\n",
            "divide by zero encountered in log\n",
            "\n",
            "/usr/local/lib/python3.8/dist-packages/sklearn/linear_model/_ridge.py:196: UserWarning:\n",
            "\n",
            "Singular matrix in solving dual problem. Using least-squares solution instead.\n",
            "\n"
          ]
        },
        {
          "output_type": "stream",
          "name": "stdout",
          "text": [
            "Model Number: 1119 with model ARIMA in generation 9 of 10\n",
            "Model Number: 1120 with model MultivariateRegression in generation 9 of 10\n",
            "Model Number: 1121 with model DatepartRegression in generation 9 of 10\n",
            "Model Number: 1122 with model UnobservedComponents in generation 9 of 10\n",
            "Model Number: 1123 with model UnobservedComponents in generation 9 of 10\n",
            "Template Eval Error: ValueError(\"Model returned NaN due to a preprocessing transformer {'fillna': 'fake_date', 'transformations': {'0': 'PowerTransformer', '1': 'DifferencedTransformer', '2': 'ClipOutliers', '3': 'PctChangeTransformer'}, 'transformation_params': {'0': {}, '1': {}, '2': {'method': 'remove', 'std_threshold': 2, 'fillna': 'ffill'}, '3': {}}}. fail_on_forecast_nan=True\") in model 1123: UnobservedComponents\n",
            "Model Number: 1124 with model ConstantNaive in generation 9 of 10\n",
            "Model Number: 1125 with model AverageValueNaive in generation 9 of 10\n",
            "Model Number: 1126 with model Theta in generation 9 of 10\n"
          ]
        },
        {
          "output_type": "stream",
          "name": "stderr",
          "text": [
            "/usr/local/lib/python3.8/dist-packages/sklearn/preprocessing/_data.py:3253: RuntimeWarning:\n",
            "\n",
            "divide by zero encountered in log\n",
            "\n"
          ]
        },
        {
          "output_type": "stream",
          "name": "stdout",
          "text": [
            "Model Number: 1127 with model WindowRegression in generation 9 of 10\n",
            "Model Number: 1128 with model GLS in generation 9 of 10\n",
            "Template Eval Error: Exception('Transformer AnomalyRemoval failed on fit') in model 1128: GLS\n",
            "Model Number: 1129 with model DatepartRegression in generation 9 of 10\n",
            "Template Eval Error: ValueError(\"regression_type='User' but no future_regressor passed\") in model 1129: DatepartRegression\n",
            "Model Number: 1130 with model GLM in generation 9 of 10\n",
            "Template Eval Error: ValueError('NaN, inf or invalid value detected in weights, estimation infeasible.') in model 1130: GLM\n",
            "Model Number: 1131 with model NVAR in generation 9 of 10\n",
            "Template Eval Error: Exception('Transformer Cointegration failed on fit') in model 1131: NVAR\n",
            "Model Number: 1132 with model WindowRegression in generation 9 of 10\n",
            "Template Eval Error: Exception('Transformer BTCD failed on fit') in model 1132: WindowRegression\n",
            "Model Number: 1133 with model Theta in generation 9 of 10\n",
            "Model Number: 1134 with model UnivariateMotif in generation 9 of 10\n"
          ]
        },
        {
          "output_type": "stream",
          "name": "stderr",
          "text": [
            "/usr/local/lib/python3.8/dist-packages/sklearn/covariance/_robust_covariance.py:738: UserWarning:\n",
            "\n",
            "The covariance matrix associated to your dataset is not full rank\n",
            "\n",
            "/usr/local/lib/python3.8/dist-packages/statsmodels/genmod/families/family.py:428: RuntimeWarning:\n",
            "\n",
            "divide by zero encountered in true_divide\n",
            "\n",
            "/usr/local/lib/python3.8/dist-packages/statsmodels/genmod/families/family.py:134: RuntimeWarning:\n",
            "\n",
            "divide by zero encountered in true_divide\n",
            "\n"
          ]
        },
        {
          "output_type": "stream",
          "name": "stdout",
          "text": [
            "Model Number: 1135 with model SeasonalNaive in generation 9 of 10\n",
            "Model Number: 1136 with model LastValueNaive in generation 9 of 10\n",
            "Model Number: 1137 with model NVAR in generation 9 of 10\n",
            "Model Number: 1138 with model WindowRegression in generation 9 of 10\n",
            "Template Eval Error: ValueError('Found array with 0 sample(s) (shape=(0, 0)) while a minimum of 2 is required.') in model 1138: WindowRegression\n",
            "Model Number: 1139 with model ETS in generation 9 of 10\n",
            "Model Number: 1140 with model MultivariateRegression in generation 9 of 10\n",
            "Model Number: 1141 with model UnobservedComponents in generation 9 of 10\n",
            "Model Number: 1142 with model MultivariateRegression in generation 9 of 10\n",
            "Model Number: 1143 with model ConstantNaive in generation 9 of 10\n",
            "Model Number: 1144 with model NVAR in generation 9 of 10\n",
            "Model Number: 1145 with model GLM in generation 9 of 10\n"
          ]
        },
        {
          "output_type": "stream",
          "name": "stderr",
          "text": [
            "/usr/local/lib/python3.8/dist-packages/autots/tools/probabilistic.py:67: RuntimeWarning:\n",
            "\n",
            "invalid value encountered in true_divide\n",
            "\n",
            "/usr/local/lib/python3.8/dist-packages/autots/tools/probabilistic.py:68: RuntimeWarning:\n",
            "\n",
            "divide by zero encountered in true_divide\n",
            "\n"
          ]
        },
        {
          "output_type": "stream",
          "name": "stdout",
          "text": [
            "Template Eval Error: Exception('Transformer DatepartRegression failed on fit') in model 1145: GLM\n",
            "Model Number: 1146 with model ARIMA in generation 9 of 10\n",
            "Model Number: 1147 with model LastValueNaive in generation 9 of 10\n",
            "Model Number: 1148 with model MultivariateRegression in generation 9 of 10\n",
            "Model Number: 1149 with model MultivariateRegression in generation 9 of 10\n",
            "Model Number: 1150 with model Theta in generation 9 of 10\n",
            "Template Eval Error: Exception('Transformer LocalLinearTrend failed on fit') in model 1150: Theta\n",
            "Model Number: 1151 with model ARIMA in generation 9 of 10\n"
          ]
        },
        {
          "output_type": "stream",
          "name": "stderr",
          "text": [
            "/usr/local/lib/python3.8/dist-packages/sklearn/svm/_base.py:1206: ConvergenceWarning:\n",
            "\n",
            "Liblinear failed to converge, increase the number of iterations.\n",
            "\n"
          ]
        },
        {
          "output_type": "stream",
          "name": "stdout",
          "text": [
            "Model Number: 1152 with model UnobservedComponents in generation 9 of 10\n",
            "Model Number: 1153 with model NVAR in generation 9 of 10\n",
            "Model Number: 1154 with model LastValueNaive in generation 9 of 10\n",
            "Model Number: 1155 with model Theta in generation 9 of 10\n",
            "Model Number: 1156 with model GLS in generation 9 of 10\n",
            "Model Number: 1157 with model GLM in generation 9 of 10\n",
            "Model Number: 1158 with model UnobservedComponents in generation 9 of 10\n",
            "Model Number: 1159 with model GLM in generation 9 of 10\n",
            "Model Number: 1160 with model AverageValueNaive in generation 9 of 10\n"
          ]
        },
        {
          "output_type": "stream",
          "name": "stderr",
          "text": [
            "/usr/local/lib/python3.8/dist-packages/statsmodels/genmod/families/links.py:188: RuntimeWarning:\n",
            "\n",
            "overflow encountered in exp\n",
            "\n",
            "/usr/local/lib/python3.8/dist-packages/statsmodels/genmod/generalized_linear_model.py:798: RuntimeWarning:\n",
            "\n",
            "divide by zero encountered in double_scalars\n",
            "\n"
          ]
        },
        {
          "output_type": "stream",
          "name": "stdout",
          "text": [
            "Model Number: 1161 with model ARIMA in generation 9 of 10\n",
            "Model Number: 1162 with model AverageValueNaive in generation 9 of 10\n"
          ]
        },
        {
          "output_type": "stream",
          "name": "stderr",
          "text": [
            "INFO:prophet:Disabling yearly seasonality. Run prophet with yearly_seasonality=True to override this.\n",
            "INFO:prophet:Disabling weekly seasonality. Run prophet with weekly_seasonality=True to override this.\n",
            "INFO:prophet:Disabling daily seasonality. Run prophet with daily_seasonality=True to override this.\n",
            "INFO:prophet:n_changepoints greater than number of observations. Using 11.\n",
            "DEBUG:cmdstanpy:input tempfile: /tmp/tmpl9abl34v/ethvmepz.json\n",
            "DEBUG:cmdstanpy:input tempfile: /tmp/tmpl9abl34v/80zqiy3f.json\n",
            "DEBUG:cmdstanpy:idx 0\n",
            "DEBUG:cmdstanpy:running CmdStan, num_threads: None\n",
            "DEBUG:cmdstanpy:CmdStan args: ['/usr/local/lib/python3.8/dist-packages/prophet/stan_model/prophet_model.bin', 'random', 'seed=75746', 'data', 'file=/tmp/tmpl9abl34v/ethvmepz.json', 'init=/tmp/tmpl9abl34v/80zqiy3f.json', 'output', 'file=/tmp/tmpl9abl34v/prophet_models9xsesyi/prophet_model-20230112201601.csv', 'method=optimize', 'algorithm=newton', 'iter=10000']\n",
            "20:16:01 - cmdstanpy - INFO - Chain [1] start processing\n",
            "INFO:cmdstanpy:Chain [1] start processing\n"
          ]
        },
        {
          "output_type": "stream",
          "name": "stdout",
          "text": [
            "Model Number: 1163 with model FBProphet in generation 9 of 10\n"
          ]
        },
        {
          "output_type": "stream",
          "name": "stderr",
          "text": [
            "20:16:01 - cmdstanpy - INFO - Chain [1] done processing\n",
            "INFO:cmdstanpy:Chain [1] done processing\n"
          ]
        },
        {
          "output_type": "stream",
          "name": "stdout",
          "text": [
            "Model Number: 1164 with model GLS in generation 9 of 10\n",
            "Model Number: 1165 with model UnobservedComponents in generation 9 of 10\n",
            "Model Number: 1166 with model MultivariateRegression in generation 9 of 10\n",
            "Model Number: 1167 with model Theta in generation 9 of 10\n",
            "Model Number: 1168 with model UnobservedComponents in generation 9 of 10\n",
            "Model Number: 1169 with model ARIMA in generation 9 of 10\n",
            "Template Eval Error: ValueError(\"regression_type='User' but future_regressor not supplied\") in model 1169: ARIMA\n",
            "Model Number: 1170 with model AverageValueNaive in generation 9 of 10\n",
            "Model Number: 1171 with model NVAR in generation 9 of 10\n",
            "Model Number: 1172 with model UnivariateMotif in generation 9 of 10\n",
            "Model Number: 1173 with model GLS in generation 9 of 10\n",
            "Model Number: 1174 with model ARIMA in generation 9 of 10\n"
          ]
        },
        {
          "output_type": "stream",
          "name": "stderr",
          "text": [
            "/usr/local/lib/python3.8/dist-packages/sklearn/preprocessing/_data.py:3253: RuntimeWarning:\n",
            "\n",
            "divide by zero encountered in log\n",
            "\n"
          ]
        },
        {
          "output_type": "stream",
          "name": "stdout",
          "text": [
            "Model Number: 1175 with model DatepartRegression in generation 9 of 10\n",
            "Model Number: 1176 with model UnobservedComponents in generation 9 of 10\n",
            "Model Number: 1177 with model MultivariateRegression in generation 9 of 10\n",
            "Template Eval Error: LinAlgError('Matrix is not positive definite') in model 1177: MultivariateRegression\n",
            "Model Number: 1178 with model ARIMA in generation 9 of 10\n",
            "Model Number: 1179 with model MultivariateRegression in generation 9 of 10\n",
            "Model Number: 1180 with model ARIMA in generation 9 of 10\n",
            "Model Number: 1181 with model NVAR in generation 9 of 10\n",
            "Model Number: 1182 with model AverageValueNaive in generation 9 of 10\n",
            "Model Number: 1183 with model GLM in generation 9 of 10\n"
          ]
        },
        {
          "output_type": "stream",
          "name": "stderr",
          "text": [
            "/usr/local/lib/python3.8/dist-packages/statsmodels/genmod/families/links.py:188: RuntimeWarning:\n",
            "\n",
            "overflow encountered in exp\n",
            "\n",
            "INFO:prophet:Disabling yearly seasonality. Run prophet with yearly_seasonality=True to override this.\n",
            "INFO:prophet:Disabling weekly seasonality. Run prophet with weekly_seasonality=True to override this.\n",
            "INFO:prophet:Disabling daily seasonality. Run prophet with daily_seasonality=True to override this.\n",
            "INFO:prophet:n_changepoints greater than number of observations. Using 10.\n",
            "DEBUG:cmdstanpy:input tempfile: /tmp/tmpl9abl34v/mt_kgzqn.json\n",
            "DEBUG:cmdstanpy:input tempfile: /tmp/tmpl9abl34v/fmzqkyau.json\n",
            "DEBUG:cmdstanpy:idx 0\n",
            "DEBUG:cmdstanpy:running CmdStan, num_threads: None\n",
            "DEBUG:cmdstanpy:CmdStan args: ['/usr/local/lib/python3.8/dist-packages/prophet/stan_model/prophet_model.bin', 'random', 'seed=65755', 'data', 'file=/tmp/tmpl9abl34v/mt_kgzqn.json', 'init=/tmp/tmpl9abl34v/fmzqkyau.json', 'output', 'file=/tmp/tmpl9abl34v/prophet_modelkl7id797/prophet_model-20230112201606.csv', 'method=optimize', 'algorithm=newton', 'iter=10000']\n",
            "20:16:06 - cmdstanpy - INFO - Chain [1] start processing\n",
            "INFO:cmdstanpy:Chain [1] start processing\n"
          ]
        },
        {
          "output_type": "stream",
          "name": "stdout",
          "text": [
            "Model Number: 1184 with model FBProphet in generation 9 of 10\n"
          ]
        },
        {
          "output_type": "stream",
          "name": "stderr",
          "text": [
            "20:16:06 - cmdstanpy - INFO - Chain [1] done processing\n",
            "INFO:cmdstanpy:Chain [1] done processing\n"
          ]
        },
        {
          "output_type": "stream",
          "name": "stdout",
          "text": [
            "Model Number: 1185 with model MultivariateRegression in generation 9 of 10\n",
            "Model Number: 1186 with model UnivariateMotif in generation 9 of 10\n",
            "Model Number: 1187 with model NVAR in generation 9 of 10\n",
            "Model Number: 1188 with model ConstantNaive in generation 9 of 10\n",
            "New Generation: 10 of 10\n",
            "Model Number: 1189 with model NVAR in generation 10 of 10\n",
            "Model Number: 1190 with model Theta in generation 10 of 10\n",
            "Model Number: 1191 with model UnobservedComponents in generation 10 of 10\n",
            "Model Number: 1192 with model UnobservedComponents in generation 10 of 10\n",
            "Template Eval Error: ValueError(\"regression_type='User' but no future_regressor supplied\") in model 1192: UnobservedComponents\n",
            "Model Number: 1193 with model AverageValueNaive in generation 10 of 10\n",
            "Model Number: 1194 with model NVAR in generation 10 of 10\n",
            "Model Number: 1195 with model ARIMA in generation 10 of 10\n",
            "Model Number: 1196 with model ETS in generation 10 of 10\n",
            "Model Number: 1197 with model DatepartRegression in generation 10 of 10\n",
            "Model Number: 1198 with model LastValueNaive in generation 10 of 10\n",
            "Model Number: 1199 with model ETS in generation 10 of 10\n",
            "Model Number: 1200 with model NVAR in generation 10 of 10\n",
            "Model Number: 1201 with model Theta in generation 10 of 10\n",
            "Template Eval Error: Exception('Transformer AlignLastValue failed on fit') in model 1201: Theta\n",
            "Model Number: 1202 with model AverageValueNaive in generation 10 of 10\n",
            "Model Number: 1203 with model NVAR in generation 10 of 10\n",
            "Model Number: 1204 with model DatepartRegression in generation 10 of 10\n",
            "Model Number: 1205 with model WindowRegression in generation 10 of 10\n",
            "Model Number: 1206 with model WindowRegression in generation 10 of 10\n",
            "Model Number: 1207 with model UnobservedComponents in generation 10 of 10\n",
            "Model Number: 1208 with model GLM in generation 10 of 10\n",
            "Model Number: 1209 with model MultivariateRegression in generation 10 of 10\n",
            "Template Eval Error: ValueError(\"regression_type='User' but not future_regressor supplied.\") in model 1209: MultivariateRegression\n",
            "Model Number: 1210 with model Theta in generation 10 of 10\n",
            "Template Eval Error: Exception('Transformer AlignLastValue failed on fit') in model 1210: Theta\n",
            "Model Number: 1211 with model NVAR in generation 10 of 10\n",
            "Model Number: 1212 with model Theta in generation 10 of 10\n"
          ]
        },
        {
          "output_type": "stream",
          "name": "stderr",
          "text": [
            "/usr/local/lib/python3.8/dist-packages/statsmodels/genmod/generalized_linear_model.py:293: DomainWarning:\n",
            "\n",
            "The inverse_power link function does not respect the domain of the Gamma family.\n",
            "\n",
            "/usr/local/lib/python3.8/dist-packages/statsmodels/genmod/generalized_linear_model.py:798: RuntimeWarning:\n",
            "\n",
            "divide by zero encountered in double_scalars\n",
            "\n",
            "/usr/local/lib/python3.8/dist-packages/sklearn/preprocessing/_data.py:3253: RuntimeWarning:\n",
            "\n",
            "divide by zero encountered in log\n",
            "\n",
            "/usr/local/lib/python3.8/dist-packages/sklearn/preprocessing/_data.py:3196: RuntimeWarning:\n",
            "\n",
            "divide by zero encountered in power\n",
            "\n",
            "/usr/local/lib/python3.8/dist-packages/sklearn/preprocessing/_data.py:3196: RuntimeWarning:\n",
            "\n",
            "divide by zero encountered in power\n",
            "\n",
            "/usr/local/lib/python3.8/dist-packages/sklearn/preprocessing/_data.py:3196: RuntimeWarning:\n",
            "\n",
            "divide by zero encountered in power\n",
            "\n",
            "/usr/local/lib/python3.8/dist-packages/sklearn/preprocessing/_data.py:3253: RuntimeWarning:\n",
            "\n",
            "divide by zero encountered in log\n",
            "\n"
          ]
        },
        {
          "output_type": "stream",
          "name": "stdout",
          "text": [
            "Template Eval Error: ValueError(\"Model returned NaN due to a preprocessing transformer {'fillna': 'ffill_mean_biased', 'transformations': {'0': 'AlignLastValue', '1': 'PowerTransformer', '2': 'Slice', '3': 'DifferencedTransformer'}, 'transformation_params': {'0': {'rows': 1, 'lag': 7, 'method': 'additive', 'strength': 1.0, 'first_value_only': False}, '1': {}, '2': {'method': 0.8}, '3': {}}}. fail_on_forecast_nan=True\") in model 1212: Theta\n",
            "Model Number: 1213 with model AverageValueNaive in generation 10 of 10\n",
            "Model Number: 1214 with model DatepartRegression in generation 10 of 10\n",
            "Model Number: 1215 with model MultivariateRegression in generation 10 of 10\n",
            "Template Eval Error: ValueError(\"regression_type='User' but not future_regressor supplied.\") in model 1215: MultivariateRegression\n",
            "Model Number: 1216 with model FBProphet in generation 10 of 10\n"
          ]
        },
        {
          "output_type": "stream",
          "name": "stderr",
          "text": [
            "[Parallel(n_jobs=-2)]: Using backend SequentialBackend with 1 concurrent workers.\n",
            "[Parallel(n_jobs=-2)]: Done 100 out of 100 | elapsed:    0.1s finished\n",
            "[Parallel(n_jobs=1)]: Using backend SequentialBackend with 1 concurrent workers.\n",
            "[Parallel(n_jobs=1)]: Done 100 out of 100 | elapsed:    0.0s finished\n",
            "/usr/local/lib/python3.8/dist-packages/autots/tools/probabilistic.py:67: RuntimeWarning:\n",
            "\n",
            "invalid value encountered in true_divide\n",
            "\n",
            "/usr/local/lib/python3.8/dist-packages/autots/tools/probabilistic.py:68: RuntimeWarning:\n",
            "\n",
            "divide by zero encountered in true_divide\n",
            "\n",
            "INFO:prophet:Disabling yearly seasonality. Run prophet with yearly_seasonality=True to override this.\n",
            "INFO:prophet:Disabling weekly seasonality. Run prophet with weekly_seasonality=True to override this.\n",
            "INFO:prophet:Disabling daily seasonality. Run prophet with daily_seasonality=True to override this.\n",
            "INFO:prophet:n_changepoints greater than number of observations. Using 11.\n",
            "DEBUG:cmdstanpy:input tempfile: /tmp/tmpl9abl34v/_5rdpwps.json\n",
            "DEBUG:cmdstanpy:input tempfile: /tmp/tmpl9abl34v/dej5_e18.json\n",
            "DEBUG:cmdstanpy:idx 0\n",
            "DEBUG:cmdstanpy:running CmdStan, num_threads: None\n",
            "DEBUG:cmdstanpy:CmdStan args: ['/usr/local/lib/python3.8/dist-packages/prophet/stan_model/prophet_model.bin', 'random', 'seed=41323', 'data', 'file=/tmp/tmpl9abl34v/_5rdpwps.json', 'init=/tmp/tmpl9abl34v/dej5_e18.json', 'output', 'file=/tmp/tmpl9abl34v/prophet_model7gvgbr6v/prophet_model-20230112201610.csv', 'method=optimize', 'algorithm=newton', 'iter=10000']\n",
            "20:16:10 - cmdstanpy - INFO - Chain [1] start processing\n",
            "INFO:cmdstanpy:Chain [1] start processing\n",
            "20:16:11 - cmdstanpy - INFO - Chain [1] done processing\n",
            "INFO:cmdstanpy:Chain [1] done processing\n"
          ]
        },
        {
          "output_type": "stream",
          "name": "stdout",
          "text": [
            "Model Number: 1217 with model Theta in generation 10 of 10\n",
            "Model Number: 1218 with model LastValueNaive in generation 10 of 10\n",
            "Model Number: 1219 with model ARIMA in generation 10 of 10\n",
            "Template Eval Error: Exception('Transformer ScipyFilter failed on fit') in model 1219: ARIMA\n",
            "Model Number: 1220 with model ARIMA in generation 10 of 10\n",
            "Model Number: 1221 with model UnobservedComponents in generation 10 of 10\n",
            "Model Number: 1222 with model GLM in generation 10 of 10\n",
            "Template Eval Error: Exception('Transformer AlignLastValue failed on fit') in model 1222: GLM\n",
            "Model Number: 1223 with model ARIMA in generation 10 of 10\n",
            "Model Number: 1224 with model ARIMA in generation 10 of 10\n",
            "Model Number: 1225 with model GLM in generation 10 of 10\n",
            "Model Number: 1226 with model NVAR in generation 10 of 10\n",
            "Model Number: 1227 with model MultivariateRegression in generation 10 of 10\n",
            "Template Eval Error: ValueError(\"regression_type='User' but not future_regressor supplied.\") in model 1227: MultivariateRegression\n",
            "Model Number: 1228 with model AverageValueNaive in generation 10 of 10\n",
            "Model Number: 1229 with model UnobservedComponents in generation 10 of 10\n",
            "Model Number: 1230 with model NVAR in generation 10 of 10\n"
          ]
        },
        {
          "output_type": "stream",
          "name": "stderr",
          "text": [
            "/usr/local/lib/python3.8/dist-packages/statsmodels/genmod/families/links.py:188: RuntimeWarning:\n",
            "\n",
            "overflow encountered in exp\n",
            "\n"
          ]
        },
        {
          "output_type": "stream",
          "name": "stdout",
          "text": [
            "Model Number: 1231 with model ConstantNaive in generation 10 of 10\n",
            "Template Eval Error: Exception('Transformer BTCD failed on fit') in model 1231: ConstantNaive\n",
            "Model Number: 1232 with model FBProphet in generation 10 of 10\n",
            "Template Eval Error: Exception('Transformer BTCD failed on fit') in model 1232: FBProphet\n",
            "Model Number: 1233 with model WindowRegression in generation 10 of 10\n",
            "Template Eval Error: ValueError('Found array with 0 sample(s) (shape=(0, 0)) while a minimum of 1 is required.') in model 1233: WindowRegression\n",
            "Model Number: 1234 with model WindowRegression in generation 10 of 10\n",
            "Template Eval Error: ValueError('Found array with 0 sample(s) (shape=(0, 0)) while a minimum of 1 is required.') in model 1234: WindowRegression\n",
            "Model Number: 1235 with model SeasonalNaive in generation 10 of 10\n",
            "No anomalies detected.\n"
          ]
        },
        {
          "output_type": "stream",
          "name": "stderr",
          "text": [
            "/usr/local/lib/python3.8/dist-packages/sklearn/linear_model/_ridge.py:196: UserWarning:\n",
            "\n",
            "Singular matrix in solving dual problem. Using least-squares solution instead.\n",
            "\n",
            "INFO:prophet:Disabling yearly seasonality. Run prophet with yearly_seasonality=True to override this.\n",
            "INFO:prophet:Disabling weekly seasonality. Run prophet with weekly_seasonality=True to override this.\n",
            "INFO:prophet:Disabling daily seasonality. Run prophet with daily_seasonality=True to override this.\n",
            "INFO:prophet:n_changepoints greater than number of observations. Using 10.\n"
          ]
        },
        {
          "output_type": "stream",
          "name": "stdout",
          "text": [
            "Model Number: 1236 with model FBProphet in generation 10 of 10\n"
          ]
        },
        {
          "output_type": "stream",
          "name": "stderr",
          "text": [
            "DEBUG:cmdstanpy:input tempfile: /tmp/tmpl9abl34v/8xsbv18u.json\n",
            "DEBUG:cmdstanpy:input tempfile: /tmp/tmpl9abl34v/zv14fw40.json\n",
            "DEBUG:cmdstanpy:idx 0\n",
            "DEBUG:cmdstanpy:running CmdStan, num_threads: None\n",
            "DEBUG:cmdstanpy:CmdStan args: ['/usr/local/lib/python3.8/dist-packages/prophet/stan_model/prophet_model.bin', 'random', 'seed=92087', 'data', 'file=/tmp/tmpl9abl34v/8xsbv18u.json', 'init=/tmp/tmpl9abl34v/zv14fw40.json', 'output', 'file=/tmp/tmpl9abl34v/prophet_modele7jcayy4/prophet_model-20230112201614.csv', 'method=optimize', 'algorithm=newton', 'iter=10000']\n",
            "20:16:14 - cmdstanpy - INFO - Chain [1] start processing\n",
            "INFO:cmdstanpy:Chain [1] start processing\n",
            "20:16:14 - cmdstanpy - INFO - Chain [1] done processing\n",
            "INFO:cmdstanpy:Chain [1] done processing\n"
          ]
        },
        {
          "output_type": "stream",
          "name": "stdout",
          "text": [
            "Model Number: 1237 with model MultivariateRegression in generation 10 of 10\n",
            "Model Number: 1238 with model MultivariateRegression in generation 10 of 10\n",
            "Model Number: 1239 with model LastValueNaive in generation 10 of 10\n",
            "Model Number: 1240 with model UnobservedComponents in generation 10 of 10\n",
            "Model Number: 1241 with model UnobservedComponents in generation 10 of 10\n",
            "Template Eval Error: Exception('Transformer Cointegration failed on fit') in model 1241: UnobservedComponents\n",
            "Model Number: 1242 with model LastValueNaive in generation 10 of 10\n",
            "Model Number: 1243 with model UnobservedComponents in generation 10 of 10\n",
            "Model Number: 1244 with model NVAR in generation 10 of 10\n",
            "Model Number: 1245 with model Theta in generation 10 of 10\n",
            "Model Number: 1246 with model SeasonalNaive in generation 10 of 10\n",
            "Model Number: 1247 with model SeasonalNaive in generation 10 of 10\n",
            "Model Number: 1248 with model Theta in generation 10 of 10\n",
            "Model Number: 1249 with model GLM in generation 10 of 10\n",
            "Model Number: 1250 with model ARIMA in generation 10 of 10\n",
            "Model Number: 1251 with model DatepartRegression in generation 10 of 10\n",
            "Template Eval Error: Exception('Transformer LocalLinearTrend failed on fit') in model 1251: DatepartRegression\n",
            "Model Number: 1252 with model WindowRegression in generation 10 of 10\n",
            "Template Eval Error: ValueError('Found array with 0 sample(s) (shape=(0, 0)) while a minimum of 1 is required.') in model 1252: WindowRegression\n",
            "Model Number: 1253 with model Theta in generation 10 of 10\n",
            "Model Number: 1254 with model NVAR in generation 10 of 10\n"
          ]
        },
        {
          "output_type": "stream",
          "name": "stderr",
          "text": [
            "INFO:prophet:Disabling yearly seasonality. Run prophet with yearly_seasonality=True to override this.\n",
            "INFO:prophet:Disabling weekly seasonality. Run prophet with weekly_seasonality=True to override this.\n",
            "INFO:prophet:Disabling daily seasonality. Run prophet with daily_seasonality=True to override this.\n",
            "INFO:prophet:n_changepoints greater than number of observations. Using 10.\n",
            "DEBUG:cmdstanpy:input tempfile: /tmp/tmpl9abl34v/vrd7dx7d.json\n",
            "DEBUG:cmdstanpy:input tempfile: /tmp/tmpl9abl34v/ca8dx9qr.json\n",
            "DEBUG:cmdstanpy:idx 0\n",
            "DEBUG:cmdstanpy:running CmdStan, num_threads: None\n",
            "DEBUG:cmdstanpy:CmdStan args: ['/usr/local/lib/python3.8/dist-packages/prophet/stan_model/prophet_model.bin', 'random', 'seed=58965', 'data', 'file=/tmp/tmpl9abl34v/vrd7dx7d.json', 'init=/tmp/tmpl9abl34v/ca8dx9qr.json', 'output', 'file=/tmp/tmpl9abl34v/prophet_model3htbtc4m/prophet_model-20230112201616.csv', 'method=optimize', 'algorithm=newton', 'iter=10000']\n",
            "20:16:16 - cmdstanpy - INFO - Chain [1] start processing\n",
            "INFO:cmdstanpy:Chain [1] start processing\n"
          ]
        },
        {
          "output_type": "stream",
          "name": "stdout",
          "text": [
            "Model Number: 1255 with model FBProphet in generation 10 of 10\n"
          ]
        },
        {
          "output_type": "stream",
          "name": "stderr",
          "text": [
            "20:16:16 - cmdstanpy - INFO - Chain [1] done processing\n",
            "INFO:cmdstanpy:Chain [1] done processing\n"
          ]
        },
        {
          "output_type": "stream",
          "name": "stdout",
          "text": [
            "Model Number: 1256 with model ConstantNaive in generation 10 of 10\n",
            "Model Number: 1257 with model MultivariateRegression in generation 10 of 10\n",
            "Model Number: 1258 with model ETS in generation 10 of 10\n",
            "Model Number: 1259 with model UnobservedComponents in generation 10 of 10\n",
            "Model Number: 1260 with model WindowRegression in generation 10 of 10\n",
            "Model Number: 1261 with model FBProphet in generation 10 of 10\n"
          ]
        },
        {
          "output_type": "stream",
          "name": "stderr",
          "text": [
            "INFO:prophet:Disabling yearly seasonality. Run prophet with yearly_seasonality=True to override this.\n",
            "INFO:prophet:Disabling weekly seasonality. Run prophet with weekly_seasonality=True to override this.\n",
            "INFO:prophet:Disabling daily seasonality. Run prophet with daily_seasonality=True to override this.\n",
            "INFO:prophet:n_changepoints greater than number of observations. Using 11.\n",
            "DEBUG:cmdstanpy:input tempfile: /tmp/tmpl9abl34v/9oflszad.json\n",
            "DEBUG:cmdstanpy:input tempfile: /tmp/tmpl9abl34v/j23sxtdf.json\n",
            "DEBUG:cmdstanpy:idx 0\n",
            "DEBUG:cmdstanpy:running CmdStan, num_threads: None\n",
            "DEBUG:cmdstanpy:CmdStan args: ['/usr/local/lib/python3.8/dist-packages/prophet/stan_model/prophet_model.bin', 'random', 'seed=47737', 'data', 'file=/tmp/tmpl9abl34v/9oflszad.json', 'init=/tmp/tmpl9abl34v/j23sxtdf.json', 'output', 'file=/tmp/tmpl9abl34v/prophet_modelno2zq1yb/prophet_model-20230112201617.csv', 'method=optimize', 'algorithm=newton', 'iter=10000']\n",
            "20:16:17 - cmdstanpy - INFO - Chain [1] start processing\n",
            "INFO:cmdstanpy:Chain [1] start processing\n",
            "20:16:17 - cmdstanpy - INFO - Chain [1] done processing\n",
            "INFO:cmdstanpy:Chain [1] done processing\n"
          ]
        },
        {
          "output_type": "stream",
          "name": "stdout",
          "text": [
            "Model Number: 1262 with model MultivariateRegression in generation 10 of 10\n",
            "Model Number: 1263 with model GLM in generation 10 of 10\n",
            "No anomalies detected.\n",
            "Model Number: 1264 with model Ensemble in generation 11 of Ensembles\n",
            "Model Number: 1265 with model Ensemble in generation 11 of Ensembles\n",
            "Model Number: 1266 with model Ensemble in generation 11 of Ensembles\n",
            "Model Number: 1267 with model Ensemble in generation 11 of Ensembles\n",
            "Model Number: 1268 with model Ensemble in generation 11 of Ensembles\n"
          ]
        },
        {
          "output_type": "stream",
          "name": "stderr",
          "text": [
            "/usr/local/lib/python3.8/dist-packages/sklearn/preprocessing/_data.py:3253: RuntimeWarning:\n",
            "\n",
            "divide by zero encountered in log\n",
            "\n",
            "/usr/local/lib/python3.8/dist-packages/sklearn/preprocessing/_data.py:3196: RuntimeWarning:\n",
            "\n",
            "divide by zero encountered in power\n",
            "\n",
            "/usr/local/lib/python3.8/dist-packages/sklearn/preprocessing/_data.py:3196: RuntimeWarning:\n",
            "\n",
            "divide by zero encountered in power\n",
            "\n",
            "/usr/local/lib/python3.8/dist-packages/sklearn/preprocessing/_data.py:3196: RuntimeWarning:\n",
            "\n",
            "divide by zero encountered in power\n",
            "\n",
            "/usr/local/lib/python3.8/dist-packages/sklearn/preprocessing/_data.py:3253: RuntimeWarning:\n",
            "\n",
            "divide by zero encountered in log\n",
            "\n",
            "/usr/local/lib/python3.8/dist-packages/sklearn/preprocessing/_data.py:3196: RuntimeWarning:\n",
            "\n",
            "divide by zero encountered in power\n",
            "\n",
            "/usr/local/lib/python3.8/dist-packages/sklearn/preprocessing/_data.py:3196: RuntimeWarning:\n",
            "\n",
            "divide by zero encountered in power\n",
            "\n",
            "/usr/local/lib/python3.8/dist-packages/sklearn/preprocessing/_data.py:3196: RuntimeWarning:\n",
            "\n",
            "divide by zero encountered in power\n",
            "\n"
          ]
        },
        {
          "output_type": "stream",
          "name": "stdout",
          "text": [
            "Model Number: 1269 with model Ensemble in generation 11 of Ensembles\n",
            "Model Number: 1270 with model Ensemble in generation 11 of Ensembles\n"
          ]
        },
        {
          "output_type": "stream",
          "name": "stderr",
          "text": [
            "/usr/local/lib/python3.8/dist-packages/autots/tools/probabilistic.py:67: RuntimeWarning:\n",
            "\n",
            "invalid value encountered in true_divide\n",
            "\n",
            "/usr/local/lib/python3.8/dist-packages/autots/tools/probabilistic.py:68: RuntimeWarning:\n",
            "\n",
            "divide by zero encountered in true_divide\n",
            "\n"
          ]
        },
        {
          "output_type": "stream",
          "name": "stdout",
          "text": [
            "Model Number: 1271 with model Ensemble in generation 11 of Ensembles\n",
            "Validation Round: 1\n",
            "Model Number: 1 of 156 with model Ensemble for Validation 1\n",
            "📈 1 - Ensemble with avg smape 1.32: \n",
            "Model Number: 2 of 156 with model Ensemble for Validation 1\n",
            "📈 2 - Ensemble with avg smape 0.57: \n",
            "Model Number: 3 of 156 with model NVAR for Validation 1\n",
            "3 - NVAR with avg smape 0.57: \n",
            "Model Number: 4 of 156 with model Ensemble for Validation 1\n"
          ]
        },
        {
          "output_type": "stream",
          "name": "stderr",
          "text": [
            "/usr/local/lib/python3.8/dist-packages/sklearn/preprocessing/_data.py:3253: RuntimeWarning:\n",
            "\n",
            "divide by zero encountered in log\n",
            "\n",
            "/usr/local/lib/python3.8/dist-packages/sklearn/preprocessing/_data.py:3196: RuntimeWarning:\n",
            "\n",
            "divide by zero encountered in power\n",
            "\n",
            "/usr/local/lib/python3.8/dist-packages/sklearn/preprocessing/_data.py:3196: RuntimeWarning:\n",
            "\n",
            "divide by zero encountered in power\n",
            "\n",
            "/usr/local/lib/python3.8/dist-packages/sklearn/preprocessing/_data.py:3196: RuntimeWarning:\n",
            "\n",
            "divide by zero encountered in power\n",
            "\n"
          ]
        },
        {
          "output_type": "stream",
          "name": "stdout",
          "text": [
            "📈 4 - Ensemble with avg smape 0.56: \n",
            "Model Number: 5 of 156 with model NVAR for Validation 1\n",
            "5 - NVAR with avg smape 0.56: \n",
            "Model Number: 6 of 156 with model NVAR for Validation 1\n",
            "6 - NVAR with avg smape 0.56: \n",
            "Model Number: 7 of 156 with model NVAR for Validation 1\n",
            "7 - NVAR with avg smape 0.56: \n",
            "Model Number: 8 of 156 with model NVAR for Validation 1\n",
            "8 - NVAR with avg smape 0.56: \n",
            "Model Number: 9 of 156 with model Ensemble for Validation 1\n",
            "9 - Ensemble with avg smape 2.05: \n",
            "Model Number: 10 of 156 with model Ensemble for Validation 1\n",
            "10 - Ensemble with avg smape 2.05: \n",
            "Model Number: 11 of 156 with model Ensemble for Validation 1\n",
            "11 - Ensemble with avg smape 2.05: \n",
            "Model Number: 12 of 156 with model UnobservedComponents for Validation 1\n",
            "12 - UnobservedComponents with avg smape 2.84: \n",
            "Model Number: 13 of 156 with model NVAR for Validation 1\n",
            "13 - NVAR with avg smape 0.56: \n",
            "Model Number: 14 of 156 with model NVAR for Validation 1\n",
            "14 - NVAR with avg smape 0.56: \n",
            "Model Number: 15 of 156 with model NVAR for Validation 1\n",
            "15 - NVAR with avg smape 0.56: \n",
            "Model Number: 16 of 156 with model NVAR for Validation 1\n",
            "16 - NVAR with avg smape 0.56: \n",
            "Model Number: 17 of 156 with model Ensemble for Validation 1\n",
            "17 - Ensemble with avg smape 1.66: \n",
            "Model Number: 18 of 156 with model LastValueNaive for Validation 1\n"
          ]
        },
        {
          "output_type": "stream",
          "name": "stderr",
          "text": [
            "/usr/local/lib/python3.8/dist-packages/autots/tools/probabilistic.py:67: RuntimeWarning:\n",
            "\n",
            "invalid value encountered in true_divide\n",
            "\n",
            "/usr/local/lib/python3.8/dist-packages/autots/tools/probabilistic.py:68: RuntimeWarning:\n",
            "\n",
            "divide by zero encountered in true_divide\n",
            "\n"
          ]
        },
        {
          "output_type": "stream",
          "name": "stdout",
          "text": [
            "18 - LastValueNaive with avg smape 2.76: \n",
            "Model Number: 19 of 156 with model UnobservedComponents for Validation 1\n",
            "19 - UnobservedComponents with avg smape 2.76: \n",
            "Model Number: 20 of 156 with model MultivariateRegression for Validation 1\n",
            "📈 20 - MultivariateRegression with avg smape 0.21: \n",
            "Model Number: 21 of 156 with model SeasonalNaive for Validation 1\n"
          ]
        },
        {
          "output_type": "stream",
          "name": "stderr",
          "text": [
            "/usr/local/lib/python3.8/dist-packages/autots/tools/probabilistic.py:67: RuntimeWarning:\n",
            "\n",
            "invalid value encountered in true_divide\n",
            "\n",
            "/usr/local/lib/python3.8/dist-packages/autots/tools/probabilistic.py:68: RuntimeWarning:\n",
            "\n",
            "divide by zero encountered in true_divide\n",
            "\n"
          ]
        },
        {
          "output_type": "stream",
          "name": "stdout",
          "text": [
            "21 - SeasonalNaive with avg smape 1.25: \n",
            "Model Number: 22 of 156 with model Theta for Validation 1\n",
            "22 - Theta with avg smape 0.9: \n",
            "Model Number: 23 of 156 with model Theta for Validation 1\n",
            "23 - Theta with avg smape 0.9: \n",
            "Model Number: 24 of 156 with model MultivariateRegression for Validation 1\n",
            "24 - MultivariateRegression with avg smape 1.68: \n",
            "Model Number: 25 of 156 with model Theta for Validation 1\n"
          ]
        },
        {
          "output_type": "stream",
          "name": "stderr",
          "text": [
            "/usr/local/lib/python3.8/dist-packages/sklearn/svm/_base.py:1206: ConvergenceWarning:\n",
            "\n",
            "Liblinear failed to converge, increase the number of iterations.\n",
            "\n"
          ]
        },
        {
          "output_type": "stream",
          "name": "stdout",
          "text": [
            "📈 25 - Theta with avg smape 0.11: \n",
            "Model Number: 26 of 156 with model Theta for Validation 1\n",
            "26 - Theta with avg smape 0.11: \n",
            "Model Number: 27 of 156 with model Theta for Validation 1\n",
            "27 - Theta with avg smape 0.11: \n",
            "Model Number: 28 of 156 with model MultivariateRegression for Validation 1\n",
            "28 - MultivariateRegression with avg smape 2.67: \n",
            "Model Number: 29 of 156 with model MultivariateRegression for Validation 1\n",
            "29 - MultivariateRegression with avg smape 0.77: \n",
            "Model Number: 30 of 156 with model ARIMA for Validation 1\n",
            "30 - ARIMA with avg smape 0.81: \n",
            "Model Number: 31 of 156 with model ARIMA for Validation 1\n",
            "31 - ARIMA with avg smape 0.81: \n",
            "Model Number: 32 of 156 with model ARIMA for Validation 1\n",
            "32 - ARIMA with avg smape 0.81: \n",
            "Model Number: 33 of 156 with model UnobservedComponents for Validation 1\n",
            "33 - UnobservedComponents with avg smape 1.96: \n",
            "Model Number: 34 of 156 with model UnobservedComponents for Validation 1\n",
            "34 - UnobservedComponents with avg smape 1.02: \n",
            "Model Number: 35 of 156 with model LastValueNaive for Validation 1\n",
            "No anomalies detected.\n",
            "35 - LastValueNaive with avg smape 1.0: \n",
            "Model Number: 36 of 156 with model LastValueNaive for Validation 1\n",
            "36 - LastValueNaive with avg smape 1.0: \n",
            "Model Number: 37 of 156 with model ARIMA for Validation 1\n"
          ]
        },
        {
          "output_type": "stream",
          "name": "stderr",
          "text": [
            "/usr/local/lib/python3.8/dist-packages/sklearn/linear_model/_ridge.py:196: UserWarning:\n",
            "\n",
            "Singular matrix in solving dual problem. Using least-squares solution instead.\n",
            "\n"
          ]
        },
        {
          "output_type": "stream",
          "name": "stdout",
          "text": [
            "37 - ARIMA with avg smape 0.79: \n",
            "Model Number: 38 of 156 with model ARIMA for Validation 1\n",
            "38 - ARIMA with avg smape 0.79: \n",
            "Model Number: 39 of 156 with model ETS for Validation 1\n",
            "ETS failed on Close with ValueError('operands could not be broadcast together with shapes (6,) (7,) ')\n",
            "39 - ETS with avg smape 0.83: \n",
            "Model Number: 40 of 156 with model UnobservedComponents for Validation 1\n",
            "40 - UnobservedComponents with avg smape 1.01: \n",
            "Model Number: 41 of 156 with model LastValueNaive for Validation 1\n",
            "41 - LastValueNaive with avg smape 1.01: \n",
            "Model Number: 42 of 156 with model UnobservedComponents for Validation 1\n",
            "42 - UnobservedComponents with avg smape 1.01: \n",
            "Model Number: 43 of 156 with model UnobservedComponents for Validation 1\n",
            "43 - UnobservedComponents with avg smape 1.01: \n",
            "Model Number: 44 of 156 with model UnobservedComponents for Validation 1\n",
            "44 - UnobservedComponents with avg smape 1.01: \n",
            "Model Number: 45 of 156 with model Theta for Validation 1\n",
            "45 - Theta with avg smape 1.01: \n",
            "Model Number: 46 of 156 with model GLM for Validation 1\n",
            "46 - GLM with avg smape 1.01: \n",
            "Model Number: 47 of 156 with model MultivariateRegression for Validation 1\n",
            "47 - MultivariateRegression with avg smape 1.01: \n",
            "Model Number: 48 of 156 with model DatepartRegression for Validation 1\n",
            "48 - DatepartRegression with avg smape 2.07: \n",
            "Model Number: 49 of 156 with model Theta for Validation 1\n"
          ]
        },
        {
          "output_type": "stream",
          "name": "stderr",
          "text": [
            "/usr/local/lib/python3.8/dist-packages/statsmodels/genmod/families/links.py:188: RuntimeWarning:\n",
            "\n",
            "overflow encountered in exp\n",
            "\n"
          ]
        },
        {
          "output_type": "stream",
          "name": "stdout",
          "text": [
            "49 - Theta with avg smape 1.68: \n",
            "Model Number: 50 of 156 with model Theta for Validation 1\n",
            "50 - Theta with avg smape 1.68: \n",
            "Model Number: 51 of 156 with model Theta for Validation 1\n",
            "51 - Theta with avg smape 1.68: \n",
            "Model Number: 52 of 156 with model WindowRegression for Validation 1\n"
          ]
        },
        {
          "output_type": "stream",
          "name": "stderr",
          "text": [
            "INFO:prophet:Disabling yearly seasonality. Run prophet with yearly_seasonality=True to override this.\n",
            "INFO:prophet:Disabling weekly seasonality. Run prophet with weekly_seasonality=True to override this.\n",
            "INFO:prophet:Disabling daily seasonality. Run prophet with daily_seasonality=True to override this.\n",
            "INFO:prophet:n_changepoints greater than number of observations. Using 10.\n",
            "DEBUG:cmdstanpy:input tempfile: /tmp/tmpl9abl34v/_ir11eyq.json\n"
          ]
        },
        {
          "output_type": "stream",
          "name": "stdout",
          "text": [
            "52 - WindowRegression with avg smape 1.36: \n",
            "Model Number: 53 of 156 with model FBProphet for Validation 1\n"
          ]
        },
        {
          "output_type": "stream",
          "name": "stderr",
          "text": [
            "DEBUG:cmdstanpy:input tempfile: /tmp/tmpl9abl34v/aww4a9yg.json\n",
            "DEBUG:cmdstanpy:idx 0\n",
            "DEBUG:cmdstanpy:running CmdStan, num_threads: None\n",
            "DEBUG:cmdstanpy:CmdStan args: ['/usr/local/lib/python3.8/dist-packages/prophet/stan_model/prophet_model.bin', 'random', 'seed=46851', 'data', 'file=/tmp/tmpl9abl34v/_ir11eyq.json', 'init=/tmp/tmpl9abl34v/aww4a9yg.json', 'output', 'file=/tmp/tmpl9abl34v/prophet_modelkg474ts3/prophet_model-20230112201637.csv', 'method=optimize', 'algorithm=newton', 'iter=10000']\n",
            "20:16:37 - cmdstanpy - INFO - Chain [1] start processing\n",
            "INFO:cmdstanpy:Chain [1] start processing\n",
            "20:16:37 - cmdstanpy - INFO - Chain [1] done processing\n",
            "INFO:cmdstanpy:Chain [1] done processing\n"
          ]
        },
        {
          "output_type": "stream",
          "name": "stdout",
          "text": [
            "53 - FBProphet with avg smape 0.44: \n",
            "Model Number: 54 of 156 with model MultivariateRegression for Validation 1\n",
            "54 - MultivariateRegression with avg smape 1.14: \n",
            "Model Number: 55 of 156 with model ARIMA for Validation 1\n"
          ]
        },
        {
          "output_type": "stream",
          "name": "stderr",
          "text": [
            "INFO:prophet:Disabling yearly seasonality. Run prophet with yearly_seasonality=True to override this.\n",
            "INFO:prophet:Disabling weekly seasonality. Run prophet with weekly_seasonality=True to override this.\n",
            "INFO:prophet:Disabling daily seasonality. Run prophet with daily_seasonality=True to override this.\n",
            "INFO:prophet:n_changepoints greater than number of observations. Using 9.\n",
            "DEBUG:cmdstanpy:input tempfile: /tmp/tmpl9abl34v/dlbzkrd3.json\n",
            "DEBUG:cmdstanpy:input tempfile: /tmp/tmpl9abl34v/s5uinw2n.json\n",
            "DEBUG:cmdstanpy:idx 0\n",
            "DEBUG:cmdstanpy:running CmdStan, num_threads: None\n",
            "DEBUG:cmdstanpy:CmdStan args: ['/usr/local/lib/python3.8/dist-packages/prophet/stan_model/prophet_model.bin', 'random', 'seed=91752', 'data', 'file=/tmp/tmpl9abl34v/dlbzkrd3.json', 'init=/tmp/tmpl9abl34v/s5uinw2n.json', 'output', 'file=/tmp/tmpl9abl34v/prophet_modelkj7tts3k/prophet_model-20230112201638.csv', 'method=optimize', 'algorithm=newton', 'iter=10000']\n",
            "20:16:38 - cmdstanpy - INFO - Chain [1] start processing\n",
            "INFO:cmdstanpy:Chain [1] start processing\n",
            "20:16:38 - cmdstanpy - INFO - Chain [1] done processing\n",
            "INFO:cmdstanpy:Chain [1] done processing\n"
          ]
        },
        {
          "output_type": "stream",
          "name": "stdout",
          "text": [
            "📈 55 - ARIMA with avg smape 0.07: \n",
            "Model Number: 56 of 156 with model FBProphet for Validation 1\n",
            "56 - FBProphet with avg smape 1.84: \n",
            "Model Number: 57 of 156 with model LastValueNaive for Validation 1\n"
          ]
        },
        {
          "output_type": "stream",
          "name": "stderr",
          "text": [
            "INFO:prophet:Disabling yearly seasonality. Run prophet with yearly_seasonality=True to override this.\n",
            "INFO:prophet:Disabling weekly seasonality. Run prophet with weekly_seasonality=True to override this.\n",
            "INFO:prophet:Disabling daily seasonality. Run prophet with daily_seasonality=True to override this.\n",
            "INFO:prophet:n_changepoints greater than number of observations. Using 11.\n",
            "DEBUG:cmdstanpy:input tempfile: /tmp/tmpl9abl34v/4eypn3dl.json\n",
            "DEBUG:cmdstanpy:input tempfile: /tmp/tmpl9abl34v/3resx1p1.json\n",
            "DEBUG:cmdstanpy:idx 0\n",
            "DEBUG:cmdstanpy:running CmdStan, num_threads: None\n",
            "DEBUG:cmdstanpy:CmdStan args: ['/usr/local/lib/python3.8/dist-packages/prophet/stan_model/prophet_model.bin', 'random', 'seed=39197', 'data', 'file=/tmp/tmpl9abl34v/4eypn3dl.json', 'init=/tmp/tmpl9abl34v/3resx1p1.json', 'output', 'file=/tmp/tmpl9abl34v/prophet_modelaru30h7u/prophet_model-20230112201639.csv', 'method=optimize', 'algorithm=newton', 'iter=10000']\n",
            "20:16:39 - cmdstanpy - INFO - Chain [1] start processing\n",
            "INFO:cmdstanpy:Chain [1] start processing\n"
          ]
        },
        {
          "output_type": "stream",
          "name": "stdout",
          "text": [
            "57 - LastValueNaive with avg smape 0.73: \n",
            "Model Number: 58 of 156 with model FBProphet for Validation 1\n"
          ]
        },
        {
          "output_type": "stream",
          "name": "stderr",
          "text": [
            "20:16:39 - cmdstanpy - INFO - Chain [1] done processing\n",
            "INFO:cmdstanpy:Chain [1] done processing\n"
          ]
        },
        {
          "output_type": "stream",
          "name": "stdout",
          "text": [
            "58 - FBProphet with avg smape 1.76: \n",
            "Model Number: 59 of 156 with model UnobservedComponents for Validation 1\n",
            "59 - UnobservedComponents with avg smape 1.86: \n",
            "Model Number: 60 of 156 with model DatepartRegression for Validation 1\n",
            "60 - DatepartRegression with avg smape 0.95: \n",
            "Model Number: 61 of 156 with model AverageValueNaive for Validation 1\n",
            "61 - AverageValueNaive with avg smape 1.79: \n",
            "Model Number: 62 of 156 with model AverageValueNaive for Validation 1\n",
            "62 - AverageValueNaive with avg smape 1.83: \n",
            "Model Number: 63 of 156 with model AverageValueNaive for Validation 1\n",
            "63 - AverageValueNaive with avg smape 1.83: \n",
            "Model Number: 64 of 156 with model AverageValueNaive for Validation 1\n"
          ]
        },
        {
          "output_type": "stream",
          "name": "stderr",
          "text": [
            "INFO:prophet:Disabling yearly seasonality. Run prophet with yearly_seasonality=True to override this.\n",
            "INFO:prophet:Disabling weekly seasonality. Run prophet with weekly_seasonality=True to override this.\n",
            "INFO:prophet:Disabling daily seasonality. Run prophet with daily_seasonality=True to override this.\n"
          ]
        },
        {
          "output_type": "stream",
          "name": "stdout",
          "text": [
            "64 - AverageValueNaive with avg smape 1.83: \n",
            "Model Number: 65 of 156 with model FBProphet for Validation 1\n"
          ]
        },
        {
          "output_type": "stream",
          "name": "stderr",
          "text": [
            "INFO:prophet:n_changepoints greater than number of observations. Using 9.\n",
            "DEBUG:cmdstanpy:input tempfile: /tmp/tmpl9abl34v/auqyu_eh.json\n",
            "DEBUG:cmdstanpy:input tempfile: /tmp/tmpl9abl34v/n68m3tg3.json\n",
            "DEBUG:cmdstanpy:idx 0\n",
            "DEBUG:cmdstanpy:running CmdStan, num_threads: None\n",
            "DEBUG:cmdstanpy:CmdStan args: ['/usr/local/lib/python3.8/dist-packages/prophet/stan_model/prophet_model.bin', 'random', 'seed=18913', 'data', 'file=/tmp/tmpl9abl34v/auqyu_eh.json', 'init=/tmp/tmpl9abl34v/n68m3tg3.json', 'output', 'file=/tmp/tmpl9abl34v/prophet_model12dtl93l/prophet_model-20230112201640.csv', 'method=optimize', 'algorithm=newton', 'iter=10000']\n",
            "20:16:40 - cmdstanpy - INFO - Chain [1] start processing\n",
            "INFO:cmdstanpy:Chain [1] start processing\n",
            "20:16:40 - cmdstanpy - INFO - Chain [1] done processing\n",
            "INFO:cmdstanpy:Chain [1] done processing\n"
          ]
        },
        {
          "output_type": "stream",
          "name": "stdout",
          "text": [
            "65 - FBProphet with avg smape 0.76: \n",
            "Model Number: 66 of 156 with model AverageValueNaive for Validation 1\n",
            "66 - AverageValueNaive with avg smape 1.81: \n",
            "Model Number: 67 of 156 with model AverageValueNaive for Validation 1\n",
            "67 - AverageValueNaive with avg smape 1.81: \n",
            "Model Number: 68 of 156 with model AverageValueNaive for Validation 1\n",
            "68 - AverageValueNaive with avg smape 1.81: \n",
            "Model Number: 69 of 156 with model WindowRegression for Validation 1\n",
            "69 - WindowRegression with avg smape 1.78: \n",
            "Model Number: 70 of 156 with model ARIMA for Validation 1\n",
            "70 - ARIMA with avg smape 1.8: \n",
            "Model Number: 71 of 156 with model MultivariateRegression for Validation 1\n",
            "71 - MultivariateRegression with avg smape 1.0: \n",
            "Model Number: 72 of 156 with model GLM for Validation 1\n",
            "72 - GLM with avg smape 0.8: \n",
            "Model Number: 73 of 156 with model GLM for Validation 1\n",
            "73 - GLM with avg smape 1.8: \n",
            "Model Number: 74 of 156 with model AverageValueNaive for Validation 1\n",
            "74 - AverageValueNaive with avg smape 1.8: \n",
            "Model Number: 75 of 156 with model SeasonalNaive for Validation 1\n",
            "75 - SeasonalNaive with avg smape 1.8: \n",
            "Model Number: 76 of 156 with model ConstantNaive for Validation 1\n"
          ]
        },
        {
          "output_type": "stream",
          "name": "stderr",
          "text": [
            "/usr/local/lib/python3.8/dist-packages/statsmodels/genmod/families/links.py:188: RuntimeWarning:\n",
            "\n",
            "overflow encountered in exp\n",
            "\n",
            "/usr/local/lib/python3.8/dist-packages/statsmodels/genmod/families/links.py:188: RuntimeWarning:\n",
            "\n",
            "overflow encountered in exp\n",
            "\n"
          ]
        },
        {
          "output_type": "stream",
          "name": "stdout",
          "text": [
            "76 - ConstantNaive with avg smape 1.79: \n",
            "Model Number: 77 of 156 with model ConstantNaive for Validation 1\n",
            "77 - ConstantNaive with avg smape 1.79: \n",
            "Model Number: 78 of 156 with model ARIMA for Validation 1\n",
            "📈 78 - ARIMA with avg smape 0.01: \n",
            "Model Number: 79 of 156 with model ConstantNaive for Validation 1\n",
            "79 - ConstantNaive with avg smape 1.8: \n",
            "Model Number: 80 of 156 with model MultivariateRegression for Validation 1\n",
            "80 - MultivariateRegression with avg smape 0.73: \n",
            "Model Number: 81 of 156 with model ARIMA for Validation 1\n"
          ]
        },
        {
          "output_type": "stream",
          "name": "stderr",
          "text": [
            "INFO:prophet:Disabling yearly seasonality. Run prophet with yearly_seasonality=True to override this.\n",
            "INFO:prophet:Disabling weekly seasonality. Run prophet with weekly_seasonality=True to override this.\n",
            "INFO:prophet:Disabling daily seasonality. Run prophet with daily_seasonality=True to override this.\n"
          ]
        },
        {
          "output_type": "stream",
          "name": "stdout",
          "text": [
            "81 - ARIMA with avg smape 0.46: \n",
            "Model Number: 82 of 156 with model FBProphet for Validation 1\n"
          ]
        },
        {
          "output_type": "stream",
          "name": "stderr",
          "text": [
            "INFO:prophet:n_changepoints greater than number of observations. Using 10.\n",
            "DEBUG:cmdstanpy:input tempfile: /tmp/tmpl9abl34v/kqjk_jg2.json\n",
            "DEBUG:cmdstanpy:input tempfile: /tmp/tmpl9abl34v/yr64knt_.json\n",
            "DEBUG:cmdstanpy:idx 0\n",
            "DEBUG:cmdstanpy:running CmdStan, num_threads: None\n",
            "DEBUG:cmdstanpy:CmdStan args: ['/usr/local/lib/python3.8/dist-packages/prophet/stan_model/prophet_model.bin', 'random', 'seed=75382', 'data', 'file=/tmp/tmpl9abl34v/kqjk_jg2.json', 'init=/tmp/tmpl9abl34v/yr64knt_.json', 'output', 'file=/tmp/tmpl9abl34v/prophet_modelgkvo7jco/prophet_model-20230112201653.csv', 'method=optimize', 'algorithm=newton', 'iter=10000']\n",
            "20:16:53 - cmdstanpy - INFO - Chain [1] start processing\n",
            "INFO:cmdstanpy:Chain [1] start processing\n",
            "20:16:54 - cmdstanpy - INFO - Chain [1] done processing\n",
            "INFO:cmdstanpy:Chain [1] done processing\n"
          ]
        },
        {
          "output_type": "stream",
          "name": "stdout",
          "text": [
            "82 - FBProphet with avg smape 0.39: \n",
            "Model Number: 83 of 156 with model WindowRegression for Validation 1\n",
            "83 - WindowRegression with avg smape 1.37: \n",
            "Model Number: 84 of 156 with model MultivariateRegression for Validation 1\n",
            "84 - MultivariateRegression with avg smape 0.57: \n",
            "Model Number: 85 of 156 with model WindowRegression for Validation 1\n",
            "85 - WindowRegression with avg smape 1.42: \n",
            "Model Number: 86 of 156 with model GLM for Validation 1\n",
            "86 - GLM with avg smape 0.8: \n"
          ]
        },
        {
          "output_type": "stream",
          "name": "stderr",
          "text": [
            "/usr/local/lib/python3.8/dist-packages/statsmodels/genmod/generalized_linear_model.py:798: RuntimeWarning:\n",
            "\n",
            "divide by zero encountered in double_scalars\n",
            "\n",
            "INFO:prophet:Disabling yearly seasonality. Run prophet with yearly_seasonality=True to override this.\n",
            "INFO:prophet:Disabling weekly seasonality. Run prophet with weekly_seasonality=True to override this.\n",
            "INFO:prophet:Disabling daily seasonality. Run prophet with daily_seasonality=True to override this.\n"
          ]
        },
        {
          "output_type": "stream",
          "name": "stdout",
          "text": [
            "Model Number: 87 of 156 with model FBProphet for Validation 1\n"
          ]
        },
        {
          "output_type": "stream",
          "name": "stderr",
          "text": [
            "INFO:prophet:n_changepoints greater than number of observations. Using 9.\n",
            "DEBUG:cmdstanpy:input tempfile: /tmp/tmpl9abl34v/qy90abwc.json\n",
            "DEBUG:cmdstanpy:input tempfile: /tmp/tmpl9abl34v/50oqdcfg.json\n",
            "DEBUG:cmdstanpy:idx 0\n",
            "DEBUG:cmdstanpy:running CmdStan, num_threads: None\n",
            "DEBUG:cmdstanpy:CmdStan args: ['/usr/local/lib/python3.8/dist-packages/prophet/stan_model/prophet_model.bin', 'random', 'seed=15753', 'data', 'file=/tmp/tmpl9abl34v/qy90abwc.json', 'init=/tmp/tmpl9abl34v/50oqdcfg.json', 'output', 'file=/tmp/tmpl9abl34v/prophet_modelzwtkio91/prophet_model-20230112201654.csv', 'method=optimize', 'algorithm=newton', 'iter=10000']\n",
            "20:16:54 - cmdstanpy - INFO - Chain [1] start processing\n",
            "INFO:cmdstanpy:Chain [1] start processing\n",
            "20:16:54 - cmdstanpy - INFO - Chain [1] done processing\n",
            "INFO:cmdstanpy:Chain [1] done processing\n"
          ]
        },
        {
          "output_type": "stream",
          "name": "stdout",
          "text": [
            "87 - FBProphet with avg smape 0.83: \n",
            "Model Number: 88 of 156 with model LastValueNaive for Validation 1\n",
            "88 - LastValueNaive with avg smape 0.83: \n",
            "Model Number: 89 of 156 with model LastValueNaive for Validation 1\n"
          ]
        },
        {
          "output_type": "stream",
          "name": "stderr",
          "text": [
            "INFO:prophet:Disabling yearly seasonality. Run prophet with yearly_seasonality=True to override this.\n",
            "INFO:prophet:Disabling weekly seasonality. Run prophet with weekly_seasonality=True to override this.\n",
            "INFO:prophet:Disabling daily seasonality. Run prophet with daily_seasonality=True to override this.\n",
            "INFO:prophet:n_changepoints greater than number of observations. Using 4.\n",
            "DEBUG:cmdstanpy:input tempfile: /tmp/tmpl9abl34v/evctbghc.json\n",
            "DEBUG:cmdstanpy:input tempfile: /tmp/tmpl9abl34v/qqn6de9s.json\n",
            "DEBUG:cmdstanpy:idx 0\n",
            "DEBUG:cmdstanpy:running CmdStan, num_threads: None\n",
            "DEBUG:cmdstanpy:CmdStan args: ['/usr/local/lib/python3.8/dist-packages/prophet/stan_model/prophet_model.bin', 'random', 'seed=16764', 'data', 'file=/tmp/tmpl9abl34v/evctbghc.json', 'init=/tmp/tmpl9abl34v/qqn6de9s.json', 'output', 'file=/tmp/tmpl9abl34v/prophet_modelh8pmdedm/prophet_model-20230112201655.csv', 'method=optimize', 'algorithm=newton', 'iter=10000']\n",
            "20:16:55 - cmdstanpy - INFO - Chain [1] start processing\n",
            "INFO:cmdstanpy:Chain [1] start processing\n"
          ]
        },
        {
          "output_type": "stream",
          "name": "stdout",
          "text": [
            "89 - LastValueNaive with avg smape 0.83: \n",
            "Model Number: 90 of 156 with model FBProphet for Validation 1\n"
          ]
        },
        {
          "output_type": "stream",
          "name": "stderr",
          "text": [
            "20:16:55 - cmdstanpy - INFO - Chain [1] done processing\n",
            "INFO:cmdstanpy:Chain [1] done processing\n",
            "INFO:prophet:Disabling yearly seasonality. Run prophet with yearly_seasonality=True to override this.\n",
            "INFO:prophet:Disabling weekly seasonality. Run prophet with weekly_seasonality=True to override this.\n",
            "INFO:prophet:Disabling daily seasonality. Run prophet with daily_seasonality=True to override this.\n",
            "INFO:prophet:n_changepoints greater than number of observations. Using 4.\n",
            "DEBUG:cmdstanpy:input tempfile: /tmp/tmpl9abl34v/blprehq4.json\n",
            "DEBUG:cmdstanpy:input tempfile: /tmp/tmpl9abl34v/1o0y3und.json\n",
            "DEBUG:cmdstanpy:idx 0\n",
            "DEBUG:cmdstanpy:running CmdStan, num_threads: None\n",
            "DEBUG:cmdstanpy:CmdStan args: ['/usr/local/lib/python3.8/dist-packages/prophet/stan_model/prophet_model.bin', 'random', 'seed=51065', 'data', 'file=/tmp/tmpl9abl34v/blprehq4.json', 'init=/tmp/tmpl9abl34v/1o0y3und.json', 'output', 'file=/tmp/tmpl9abl34v/prophet_modelv9lx2k0f/prophet_model-20230112201656.csv', 'method=optimize', 'algorithm=newton', 'iter=10000']\n",
            "20:16:56 - cmdstanpy - INFO - Chain [1] start processing\n",
            "INFO:cmdstanpy:Chain [1] start processing\n"
          ]
        },
        {
          "output_type": "stream",
          "name": "stdout",
          "text": [
            "90 - FBProphet with avg smape 0.83: \n",
            "Model Number: 91 of 156 with model FBProphet for Validation 1\n"
          ]
        },
        {
          "output_type": "stream",
          "name": "stderr",
          "text": [
            "20:16:59 - cmdstanpy - INFO - Chain [1] done processing\n",
            "INFO:cmdstanpy:Chain [1] done processing\n"
          ]
        },
        {
          "output_type": "stream",
          "name": "stdout",
          "text": [
            "91 - FBProphet with avg smape 0.83: \n",
            "Model Number: 92 of 156 with model LastValueNaive for Validation 1\n",
            "92 - LastValueNaive with avg smape 0.83: \n",
            "Model Number: 93 of 156 with model LastValueNaive for Validation 1\n",
            "No anomalies detected.\n",
            "93 - LastValueNaive with avg smape 0.83: \n",
            "Model Number: 94 of 156 with model GLM for Validation 1\n",
            "No anomalies detected.\n",
            "Template Eval Error: PerfectSeparationError('Perfect separation detected, results not available') in model 94: GLM\n",
            "Model Number: 95 of 156 with model ConstantNaive for Validation 1\n",
            "95 - ConstantNaive with avg smape 0.83: \n"
          ]
        },
        {
          "output_type": "stream",
          "name": "stderr",
          "text": [
            "/usr/local/lib/python3.8/dist-packages/sklearn/linear_model/_ridge.py:196: UserWarning:\n",
            "\n",
            "Singular matrix in solving dual problem. Using least-squares solution instead.\n",
            "\n",
            "/usr/local/lib/python3.8/dist-packages/statsmodels/genmod/generalized_linear_model.py:798: RuntimeWarning:\n",
            "\n",
            "divide by zero encountered in double_scalars\n",
            "\n"
          ]
        },
        {
          "output_type": "stream",
          "name": "stdout",
          "text": [
            "Model Number: 96 of 156 with model SeasonalNaive for Validation 1\n",
            "96 - SeasonalNaive with avg smape 0.82: \n",
            "Model Number: 97 of 156 with model ConstantNaive for Validation 1\n",
            "97 - ConstantNaive with avg smape 0.83: \n",
            "Model Number: 98 of 156 with model SeasonalNaive for Validation 1\n",
            "98 - SeasonalNaive with avg smape 0.82: \n",
            "Model Number: 99 of 156 with model GLM for Validation 1\n",
            "No anomalies detected.\n",
            "99 - GLM with avg smape 0.83: \n",
            "Model Number: 100 of 156 with model AverageValueNaive for Validation 1\n",
            "100 - AverageValueNaive with avg smape 0.83: \n",
            "Model Number: 101 of 156 with model GLM for Validation 1\n",
            "101 - GLM with avg smape 0.83: \n",
            "Model Number: 102 of 156 with model GLM for Validation 1\n",
            "102 - GLM with avg smape 0.83: \n",
            "Model Number: 103 of 156 with model SeasonalNaive for Validation 1\n",
            "103 - SeasonalNaive with avg smape 0.67: \n",
            "Model Number: 104 of 156 with model GLS for Validation 1\n",
            "104 - GLS with avg smape 0.86: \n",
            "Model Number: 105 of 156 with model ConstantNaive for Validation 1\n",
            "105 - ConstantNaive with avg smape 0.55: \n",
            "Model Number: 106 of 156 with model ETS for Validation 1\n",
            "106 - ETS with avg smape 1.51: \n",
            "Model Number: 107 of 156 with model GLM for Validation 1\n",
            "107 - GLM with avg smape 0.8: \n",
            "Model Number: 108 of 156 with model ETS for Validation 1\n",
            "ETS failed on Close with ValueError('operands could not be broadcast together with shapes (6,) (7,) ')\n",
            "108 - ETS with avg smape 5.29: \n",
            "Model Number: 109 of 156 with model WindowRegression for Validation 1\n"
          ]
        },
        {
          "output_type": "stream",
          "name": "stderr",
          "text": [
            "/usr/local/lib/python3.8/dist-packages/statsmodels/genmod/families/family.py:1227: RuntimeWarning:\n",
            "\n",
            "divide by zero encountered in true_divide\n",
            "\n"
          ]
        },
        {
          "output_type": "stream",
          "name": "stdout",
          "text": [
            "109 - WindowRegression with avg smape 0.85: \n",
            "Model Number: 110 of 156 with model SeasonalNaive for Validation 1\n",
            "110 - SeasonalNaive with avg smape 0.63: \n",
            "Model Number: 111 of 156 with model UnivariateMotif for Validation 1\n",
            "111 - UnivariateMotif with avg smape 0.96: \n",
            "Model Number: 112 of 156 with model DatepartRegression for Validation 1\n",
            "112 - DatepartRegression with avg smape 0.89: \n",
            "Model Number: 113 of 156 with model DatepartRegression for Validation 1\n",
            "113 - DatepartRegression with avg smape 0.88: \n",
            "Model Number: 114 of 156 with model ConstantNaive for Validation 1\n",
            "114 - ConstantNaive with avg smape 0.97: \n",
            "Model Number: 115 of 156 with model ConstantNaive for Validation 1\n"
          ]
        },
        {
          "output_type": "stream",
          "name": "stderr",
          "text": [
            "[Parallel(n_jobs=-2)]: Using backend SequentialBackend with 1 concurrent workers.\n",
            "[Parallel(n_jobs=-2)]: Done 100 out of 100 | elapsed:    0.1s finished\n",
            "[Parallel(n_jobs=1)]: Using backend SequentialBackend with 1 concurrent workers.\n",
            "[Parallel(n_jobs=1)]: Done 100 out of 100 | elapsed:    0.0s finished\n"
          ]
        },
        {
          "output_type": "stream",
          "name": "stdout",
          "text": [
            "115 - ConstantNaive with avg smape 0.97: \n",
            "Model Number: 116 of 156 with model ETS for Validation 1\n"
          ]
        },
        {
          "output_type": "stream",
          "name": "stderr",
          "text": [
            "INFO:prophet:Disabling yearly seasonality. Run prophet with yearly_seasonality=True to override this.\n",
            "INFO:prophet:Disabling weekly seasonality. Run prophet with weekly_seasonality=True to override this.\n",
            "INFO:prophet:Disabling daily seasonality. Run prophet with daily_seasonality=True to override this.\n",
            "INFO:prophet:n_changepoints greater than number of observations. Using 10.\n",
            "DEBUG:cmdstanpy:input tempfile: /tmp/tmpl9abl34v/hp54r2cd.json\n"
          ]
        },
        {
          "output_type": "stream",
          "name": "stdout",
          "text": [
            "116 - ETS with avg smape 0.21: \n",
            "Model Number: 117 of 156 with model FBProphet for Validation 1\n"
          ]
        },
        {
          "output_type": "stream",
          "name": "stderr",
          "text": [
            "DEBUG:cmdstanpy:input tempfile: /tmp/tmpl9abl34v/v5gm3mrj.json\n",
            "DEBUG:cmdstanpy:idx 0\n",
            "DEBUG:cmdstanpy:running CmdStan, num_threads: None\n",
            "DEBUG:cmdstanpy:CmdStan args: ['/usr/local/lib/python3.8/dist-packages/prophet/stan_model/prophet_model.bin', 'random', 'seed=47521', 'data', 'file=/tmp/tmpl9abl34v/hp54r2cd.json', 'init=/tmp/tmpl9abl34v/v5gm3mrj.json', 'output', 'file=/tmp/tmpl9abl34v/prophet_modelud9oiab_/prophet_model-20230112201701.csv', 'method=optimize', 'algorithm=newton', 'iter=10000']\n",
            "20:17:02 - cmdstanpy - INFO - Chain [1] start processing\n",
            "INFO:cmdstanpy:Chain [1] start processing\n",
            "20:17:02 - cmdstanpy - INFO - Chain [1] done processing\n",
            "INFO:cmdstanpy:Chain [1] done processing\n"
          ]
        },
        {
          "output_type": "stream",
          "name": "stdout",
          "text": [
            "117 - FBProphet with avg smape 0.8: \n",
            "Model Number: 118 of 156 with model WindowRegression for Validation 1\n",
            "118 - WindowRegression with avg smape 0.89: \n",
            "Model Number: 119 of 156 with model DatepartRegression for Validation 1\n",
            "119 - DatepartRegression with avg smape 0.91: \n",
            "Model Number: 120 of 156 with model DatepartRegression for Validation 1\n",
            "120 - DatepartRegression with avg smape 0.84: \n",
            "Model Number: 121 of 156 with model WindowRegression for Validation 1\n"
          ]
        },
        {
          "output_type": "stream",
          "name": "stderr",
          "text": [
            "[Parallel(n_jobs=-2)]: Using backend SequentialBackend with 1 concurrent workers.\n",
            "[Parallel(n_jobs=-2)]: Done 100 out of 100 | elapsed:    0.1s finished\n",
            "[Parallel(n_jobs=1)]: Using backend SequentialBackend with 1 concurrent workers.\n",
            "[Parallel(n_jobs=1)]: Done 100 out of 100 | elapsed:    0.0s finished\n"
          ]
        },
        {
          "output_type": "stream",
          "name": "stdout",
          "text": [
            "121 - WindowRegression with avg smape 2.13: \n",
            "Model Number: 122 of 156 with model WindowRegression for Validation 1\n",
            "122 - WindowRegression with avg smape 2.13: \n",
            "Model Number: 123 of 156 with model WindowRegression for Validation 1\n",
            "123 - WindowRegression with avg smape 2.13: \n",
            "Model Number: 124 of 156 with model GLS for Validation 1\n",
            "124 - GLS with avg smape 1.02: \n",
            "Model Number: 125 of 156 with model GLS for Validation 1\n",
            "125 - GLS with avg smape 1.02: \n",
            "Model Number: 126 of 156 with model DatepartRegression for Validation 1\n",
            "126 - DatepartRegression with avg smape 1.02: \n",
            "Model Number: 127 of 156 with model GLS for Validation 1\n",
            "127 - GLS with avg smape 1.11: \n",
            "Model Number: 128 of 156 with model GLS for Validation 1\n"
          ]
        },
        {
          "output_type": "stream",
          "name": "stderr",
          "text": [
            "[Parallel(n_jobs=-2)]: Using backend SequentialBackend with 1 concurrent workers.\n",
            "[Parallel(n_jobs=-2)]: Done 100 out of 100 | elapsed:    0.1s finished\n",
            "[Parallel(n_jobs=1)]: Using backend SequentialBackend with 1 concurrent workers.\n",
            "[Parallel(n_jobs=1)]: Done 100 out of 100 | elapsed:    0.0s finished\n",
            "/usr/local/lib/python3.8/dist-packages/autots/tools/probabilistic.py:67: RuntimeWarning:\n",
            "\n",
            "invalid value encountered in true_divide\n",
            "\n",
            "/usr/local/lib/python3.8/dist-packages/autots/tools/probabilistic.py:68: RuntimeWarning:\n",
            "\n",
            "divide by zero encountered in true_divide\n",
            "\n"
          ]
        },
        {
          "output_type": "stream",
          "name": "stdout",
          "text": [
            "128 - GLS with avg smape 1.05: \n",
            "Model Number: 129 of 156 with model GLS for Validation 1\n",
            "129 - GLS with avg smape 1.05: \n",
            "Model Number: 130 of 156 with model ConstantNaive for Validation 1\n",
            "130 - ConstantNaive with avg smape 2.26: \n",
            "Model Number: 131 of 156 with model SeasonalNaive for Validation 1\n",
            "131 - SeasonalNaive with avg smape 0.81: \n",
            "Model Number: 132 of 156 with model ETS for Validation 1\n",
            "132 - ETS with avg smape 1.1: \n",
            "Model Number: 133 of 156 with model SeasonalNaive for Validation 1\n",
            "133 - SeasonalNaive with avg smape 0.92: \n",
            "Model Number: 134 of 156 with model ETS for Validation 1\n",
            "134 - ETS with avg smape 2.02: \n",
            "Model Number: 135 of 156 with model ETS for Validation 1\n",
            "135 - ETS with avg smape 2.02: \n",
            "Model Number: 136 of 156 with model ETS for Validation 1\n",
            "136 - ETS with avg smape 2.01: \n",
            "Model Number: 137 of 156 with model ETS for Validation 1\n",
            "137 - ETS with avg smape 2.01: \n",
            "Model Number: 138 of 156 with model UnivariateMotif for Validation 1\n",
            "138 - UnivariateMotif with avg smape 0.6: \n",
            "Model Number: 139 of 156 with model DatepartRegression for Validation 1\n",
            "139 - DatepartRegression with avg smape 1.44: \n",
            "Model Number: 140 of 156 with model DatepartRegression for Validation 1\n",
            "140 - DatepartRegression with avg smape 1.75: \n",
            "Model Number: 141 of 156 with model UnivariateMotif for Validation 1\n",
            "141 - UnivariateMotif with avg smape 1.44: \n",
            "Model Number: 142 of 156 with model UnivariateMotif for Validation 1\n"
          ]
        },
        {
          "output_type": "stream",
          "name": "stderr",
          "text": [
            "[Parallel(n_jobs=-2)]: Using backend SequentialBackend with 1 concurrent workers.\n",
            "[Parallel(n_jobs=-2)]: Done 100 out of 100 | elapsed:    0.1s finished\n",
            "[Parallel(n_jobs=1)]: Using backend SequentialBackend with 1 concurrent workers.\n",
            "[Parallel(n_jobs=1)]: Done 100 out of 100 | elapsed:    0.0s finished\n"
          ]
        },
        {
          "output_type": "stream",
          "name": "stdout",
          "text": [
            "142 - UnivariateMotif with avg smape 1.44: \n",
            "Model Number: 143 of 156 with model SeasonalNaive for Validation 1\n",
            "143 - SeasonalNaive with avg smape 1.44: \n",
            "Model Number: 144 of 156 with model GLS for Validation 1\n",
            "144 - GLS with avg smape 1.44: \n",
            "Model Number: 145 of 156 with model UnivariateMotif for Validation 1\n",
            "145 - UnivariateMotif with avg smape 1.44: \n",
            "Model Number: 146 of 156 with model UnivariateMotif for Validation 1\n",
            "146 - UnivariateMotif with avg smape 1.44: \n",
            "Model Number: 147 of 156 with model GLS for Validation 1\n",
            "147 - GLS with avg smape 1.44: \n",
            "Model Number: 148 of 156 with model GLS for Validation 1\n",
            "148 - GLS with avg smape 1.44: \n",
            "Model Number: 149 of 156 with model UnivariateMotif for Validation 1\n",
            "Template Eval Error: ValueError('kth(=3) out of bounds (3)') in model 149: UnivariateMotif\n",
            "Model Number: 150 of 156 with model UnivariateMotif for Validation 1\n",
            "Template Eval Error: ValueError('kth(=3) out of bounds (3)') in model 150: UnivariateMotif\n",
            "Model Number: 151 of 156 with model UnivariateMotif for Validation 1\n",
            "151 - UnivariateMotif with avg smape 1.83: \n",
            "Model Number: 152 of 156 with model MultivariateMotif for Validation 1\n",
            "Template Eval Error: ValueError('kth(=3) out of bounds (3)') in model 152: MultivariateMotif\n",
            "Model Number: 153 of 156 with model MultivariateMotif for Validation 1\n",
            "Template Eval Error: ValueError('kth(=3) out of bounds (3)') in model 153: MultivariateMotif\n",
            "Model Number: 154 of 156 with model MultivariateMotif for Validation 1\n",
            "Template Eval Error: ValueError('kth(=3) out of bounds (3)') in model 154: MultivariateMotif\n",
            "Model Number: 155 of 156 with model MultivariateMotif for Validation 1\n",
            "Template Eval Error: ValueError('kth(=3) out of bounds (3)') in model 155: MultivariateMotif\n",
            "Model Number: 156 of 156 with model Ensemble for Validation 1\n",
            "156 - Ensemble with avg smape nan: \n",
            "Validation Round: 2\n",
            "Model Number: 1 of 156 with model Ensemble for Validation 2\n"
          ]
        },
        {
          "output_type": "stream",
          "name": "stderr",
          "text": [
            "/usr/local/lib/python3.8/dist-packages/sklearn/preprocessing/_data.py:3253: RuntimeWarning:\n",
            "\n",
            "divide by zero encountered in log\n",
            "\n",
            "/usr/local/lib/python3.8/dist-packages/sklearn/preprocessing/_data.py:3196: RuntimeWarning:\n",
            "\n",
            "divide by zero encountered in power\n",
            "\n",
            "/usr/local/lib/python3.8/dist-packages/sklearn/preprocessing/_data.py:3196: RuntimeWarning:\n",
            "\n",
            "divide by zero encountered in power\n",
            "\n",
            "/usr/local/lib/python3.8/dist-packages/sklearn/preprocessing/_data.py:3196: RuntimeWarning:\n",
            "\n",
            "divide by zero encountered in power\n",
            "\n"
          ]
        },
        {
          "output_type": "stream",
          "name": "stdout",
          "text": [
            "📈 1 - Ensemble with avg smape 0.86: \n",
            "Model Number: 2 of 156 with model Ensemble for Validation 2\n",
            "2 - Ensemble with avg smape 0.95: \n",
            "Model Number: 3 of 156 with model NVAR for Validation 2\n",
            "📈 3 - NVAR with avg smape 0.05: \n",
            "Model Number: 4 of 156 with model Ensemble for Validation 2\n"
          ]
        },
        {
          "output_type": "stream",
          "name": "stderr",
          "text": [
            "/usr/local/lib/python3.8/dist-packages/sklearn/preprocessing/_data.py:3253: RuntimeWarning:\n",
            "\n",
            "divide by zero encountered in log\n",
            "\n",
            "/usr/local/lib/python3.8/dist-packages/sklearn/preprocessing/_data.py:3196: RuntimeWarning:\n",
            "\n",
            "divide by zero encountered in power\n",
            "\n",
            "/usr/local/lib/python3.8/dist-packages/sklearn/preprocessing/_data.py:3196: RuntimeWarning:\n",
            "\n",
            "divide by zero encountered in power\n",
            "\n",
            "/usr/local/lib/python3.8/dist-packages/sklearn/preprocessing/_data.py:3196: RuntimeWarning:\n",
            "\n",
            "divide by zero encountered in power\n",
            "\n"
          ]
        },
        {
          "output_type": "stream",
          "name": "stdout",
          "text": [
            "4 - Ensemble with avg smape 0.05: \n",
            "Model Number: 5 of 156 with model NVAR for Validation 2\n",
            "5 - NVAR with avg smape 0.05: \n",
            "Model Number: 6 of 156 with model NVAR for Validation 2\n",
            "6 - NVAR with avg smape 0.05: \n",
            "Model Number: 7 of 156 with model NVAR for Validation 2\n",
            "7 - NVAR with avg smape 0.05: \n",
            "Model Number: 8 of 156 with model NVAR for Validation 2\n",
            "8 - NVAR with avg smape 0.05: \n",
            "Model Number: 9 of 156 with model Ensemble for Validation 2\n",
            "9 - Ensemble with avg smape 1.62: \n",
            "Model Number: 10 of 156 with model Ensemble for Validation 2\n",
            "10 - Ensemble with avg smape 1.62: \n",
            "Model Number: 11 of 156 with model Ensemble for Validation 2\n",
            "11 - Ensemble with avg smape 1.62: \n",
            "Model Number: 12 of 156 with model UnobservedComponents for Validation 2\n",
            "12 - UnobservedComponents with avg smape 2.46: \n",
            "Model Number: 13 of 156 with model NVAR for Validation 2\n",
            "13 - NVAR with avg smape 0.05: \n",
            "Model Number: 14 of 156 with model NVAR for Validation 2\n",
            "14 - NVAR with avg smape 0.05: \n",
            "Model Number: 15 of 156 with model NVAR for Validation 2\n",
            "15 - NVAR with avg smape 0.06: \n",
            "Model Number: 16 of 156 with model NVAR for Validation 2\n",
            "16 - NVAR with avg smape 0.06: \n",
            "Model Number: 17 of 156 with model Ensemble for Validation 2\n",
            "17 - Ensemble with avg smape 1.2: \n",
            "Model Number: 18 of 156 with model LastValueNaive for Validation 2\n"
          ]
        },
        {
          "output_type": "stream",
          "name": "stderr",
          "text": [
            "/usr/local/lib/python3.8/dist-packages/autots/tools/probabilistic.py:67: RuntimeWarning:\n",
            "\n",
            "invalid value encountered in true_divide\n",
            "\n",
            "/usr/local/lib/python3.8/dist-packages/autots/tools/probabilistic.py:68: RuntimeWarning:\n",
            "\n",
            "divide by zero encountered in true_divide\n",
            "\n"
          ]
        },
        {
          "output_type": "stream",
          "name": "stdout",
          "text": [
            "18 - LastValueNaive with avg smape 2.33: \n",
            "Model Number: 19 of 156 with model UnobservedComponents for Validation 2\n",
            "19 - UnobservedComponents with avg smape 2.33: \n",
            "Model Number: 20 of 156 with model MultivariateRegression for Validation 2\n",
            "20 - MultivariateRegression with avg smape 0.58: \n",
            "Model Number: 21 of 156 with model SeasonalNaive for Validation 2\n",
            "21 - SeasonalNaive with avg smape 0.44: \n",
            "Model Number: 22 of 156 with model Theta for Validation 2\n"
          ]
        },
        {
          "output_type": "stream",
          "name": "stderr",
          "text": [
            "/usr/local/lib/python3.8/dist-packages/autots/tools/probabilistic.py:67: RuntimeWarning:\n",
            "\n",
            "invalid value encountered in true_divide\n",
            "\n",
            "/usr/local/lib/python3.8/dist-packages/autots/tools/probabilistic.py:68: RuntimeWarning:\n",
            "\n",
            "divide by zero encountered in true_divide\n",
            "\n"
          ]
        },
        {
          "output_type": "stream",
          "name": "stdout",
          "text": [
            "22 - Theta with avg smape 1.66: \n",
            "Model Number: 23 of 156 with model Theta for Validation 2\n",
            "23 - Theta with avg smape 1.66: \n",
            "Model Number: 24 of 156 with model MultivariateRegression for Validation 2\n",
            "24 - MultivariateRegression with avg smape 1.25: \n",
            "Model Number: 25 of 156 with model Theta for Validation 2\n"
          ]
        },
        {
          "output_type": "stream",
          "name": "stderr",
          "text": [
            "/usr/local/lib/python3.8/dist-packages/sklearn/svm/_base.py:1206: ConvergenceWarning:\n",
            "\n",
            "Liblinear failed to converge, increase the number of iterations.\n",
            "\n"
          ]
        },
        {
          "output_type": "stream",
          "name": "stdout",
          "text": [
            "25 - Theta with avg smape 1.15: \n",
            "Model Number: 26 of 156 with model Theta for Validation 2\n",
            "26 - Theta with avg smape 1.15: \n",
            "Model Number: 27 of 156 with model Theta for Validation 2\n",
            "27 - Theta with avg smape 1.15: \n",
            "Model Number: 28 of 156 with model MultivariateRegression for Validation 2\n",
            "28 - MultivariateRegression with avg smape 3.1: \n",
            "Model Number: 29 of 156 with model MultivariateRegression for Validation 2\n",
            "29 - MultivariateRegression with avg smape 1.1: \n",
            "Model Number: 30 of 156 with model ARIMA for Validation 2\n",
            "30 - ARIMA with avg smape 0.86: \n",
            "Model Number: 31 of 156 with model ARIMA for Validation 2\n",
            "31 - ARIMA with avg smape 0.86: \n",
            "Model Number: 32 of 156 with model ARIMA for Validation 2\n",
            "32 - ARIMA with avg smape 0.86: \n",
            "Model Number: 33 of 156 with model UnobservedComponents for Validation 2\n",
            "33 - UnobservedComponents with avg smape 2.35: \n",
            "Model Number: 34 of 156 with model UnobservedComponents for Validation 2\n",
            "34 - UnobservedComponents with avg smape 1.02: \n",
            "Model Number: 35 of 156 with model LastValueNaive for Validation 2\n",
            "No anomalies detected.\n",
            "35 - LastValueNaive with avg smape 1.04: \n",
            "Model Number: 36 of 156 with model LastValueNaive for Validation 2\n",
            "36 - LastValueNaive with avg smape 1.04: \n",
            "Model Number: 37 of 156 with model ARIMA for Validation 2\n"
          ]
        },
        {
          "output_type": "stream",
          "name": "stderr",
          "text": [
            "/usr/local/lib/python3.8/dist-packages/sklearn/linear_model/_ridge.py:196: UserWarning:\n",
            "\n",
            "Singular matrix in solving dual problem. Using least-squares solution instead.\n",
            "\n"
          ]
        },
        {
          "output_type": "stream",
          "name": "stdout",
          "text": [
            "37 - ARIMA with avg smape 0.68: \n",
            "Model Number: 38 of 156 with model ARIMA for Validation 2\n",
            "38 - ARIMA with avg smape 0.68: \n",
            "Model Number: 39 of 156 with model ETS for Validation 2\n",
            "ETS failed on Close with ValueError('operands could not be broadcast together with shapes (5,) (7,) ')\n",
            "39 - ETS with avg smape 0.18: \n",
            "Model Number: 40 of 156 with model UnobservedComponents for Validation 2\n",
            "40 - UnobservedComponents with avg smape 0.95: \n",
            "Model Number: 41 of 156 with model LastValueNaive for Validation 2\n",
            "41 - LastValueNaive with avg smape 0.95: \n",
            "Model Number: 42 of 156 with model UnobservedComponents for Validation 2\n",
            "42 - UnobservedComponents with avg smape 0.95: \n",
            "Model Number: 43 of 156 with model UnobservedComponents for Validation 2\n",
            "43 - UnobservedComponents with avg smape 0.95: \n",
            "Model Number: 44 of 156 with model UnobservedComponents for Validation 2\n",
            "44 - UnobservedComponents with avg smape 0.95: \n",
            "Model Number: 45 of 156 with model Theta for Validation 2\n",
            "45 - Theta with avg smape 0.95: \n",
            "Model Number: 46 of 156 with model GLM for Validation 2\n",
            "46 - GLM with avg smape 0.95: \n",
            "Model Number: 47 of 156 with model MultivariateRegression for Validation 2\n",
            "47 - MultivariateRegression with avg smape 0.95: \n",
            "Model Number: 48 of 156 with model DatepartRegression for Validation 2\n",
            "48 - DatepartRegression with avg smape 0.62: \n",
            "Model Number: 49 of 156 with model Theta for Validation 2\n"
          ]
        },
        {
          "output_type": "stream",
          "name": "stderr",
          "text": [
            "/usr/local/lib/python3.8/dist-packages/statsmodels/genmod/families/links.py:188: RuntimeWarning:\n",
            "\n",
            "overflow encountered in exp\n",
            "\n"
          ]
        },
        {
          "output_type": "stream",
          "name": "stdout",
          "text": [
            "49 - Theta with avg smape 1.82: \n",
            "Model Number: 50 of 156 with model Theta for Validation 2\n",
            "50 - Theta with avg smape 1.82: \n",
            "Model Number: 51 of 156 with model Theta for Validation 2\n",
            "51 - Theta with avg smape 1.82: \n",
            "Model Number: 52 of 156 with model WindowRegression for Validation 2\n"
          ]
        },
        {
          "output_type": "stream",
          "name": "stderr",
          "text": [
            "INFO:prophet:Disabling yearly seasonality. Run prophet with yearly_seasonality=True to override this.\n",
            "INFO:prophet:Disabling weekly seasonality. Run prophet with weekly_seasonality=True to override this.\n",
            "INFO:prophet:Disabling daily seasonality. Run prophet with daily_seasonality=True to override this.\n"
          ]
        },
        {
          "output_type": "stream",
          "name": "stdout",
          "text": [
            "📈 52 - WindowRegression with avg smape 0.04: \n",
            "Model Number: 53 of 156 with model FBProphet for Validation 2\n"
          ]
        },
        {
          "output_type": "stream",
          "name": "stderr",
          "text": [
            "INFO:prophet:n_changepoints greater than number of observations. Using 9.\n",
            "DEBUG:cmdstanpy:input tempfile: /tmp/tmpl9abl34v/g3ykewco.json\n",
            "DEBUG:cmdstanpy:input tempfile: /tmp/tmpl9abl34v/wfgueac4.json\n",
            "DEBUG:cmdstanpy:idx 0\n",
            "DEBUG:cmdstanpy:running CmdStan, num_threads: None\n",
            "DEBUG:cmdstanpy:CmdStan args: ['/usr/local/lib/python3.8/dist-packages/prophet/stan_model/prophet_model.bin', 'random', 'seed=66006', 'data', 'file=/tmp/tmpl9abl34v/g3ykewco.json', 'init=/tmp/tmpl9abl34v/wfgueac4.json', 'output', 'file=/tmp/tmpl9abl34v/prophet_modelrl71hjyt/prophet_model-20230112201722.csv', 'method=optimize', 'algorithm=newton', 'iter=10000']\n",
            "20:17:22 - cmdstanpy - INFO - Chain [1] start processing\n",
            "INFO:cmdstanpy:Chain [1] start processing\n",
            "20:17:22 - cmdstanpy - INFO - Chain [1] done processing\n",
            "INFO:cmdstanpy:Chain [1] done processing\n"
          ]
        },
        {
          "output_type": "stream",
          "name": "stdout",
          "text": [
            "53 - FBProphet with avg smape 0.53: \n",
            "Model Number: 54 of 156 with model MultivariateRegression for Validation 2\n",
            "54 - MultivariateRegression with avg smape 0.13: \n",
            "Model Number: 55 of 156 with model ARIMA for Validation 2\n"
          ]
        },
        {
          "output_type": "stream",
          "name": "stderr",
          "text": [
            "INFO:prophet:Disabling yearly seasonality. Run prophet with yearly_seasonality=True to override this.\n",
            "INFO:prophet:Disabling weekly seasonality. Run prophet with weekly_seasonality=True to override this.\n",
            "INFO:prophet:Disabling daily seasonality. Run prophet with daily_seasonality=True to override this.\n",
            "INFO:prophet:n_changepoints greater than number of observations. Using 8.\n",
            "DEBUG:cmdstanpy:input tempfile: /tmp/tmpl9abl34v/uyuvugl3.json\n",
            "DEBUG:cmdstanpy:input tempfile: /tmp/tmpl9abl34v/x9a4qkio.json\n",
            "DEBUG:cmdstanpy:idx 0\n",
            "DEBUG:cmdstanpy:running CmdStan, num_threads: None\n",
            "DEBUG:cmdstanpy:CmdStan args: ['/usr/local/lib/python3.8/dist-packages/prophet/stan_model/prophet_model.bin', 'random', 'seed=93101', 'data', 'file=/tmp/tmpl9abl34v/uyuvugl3.json', 'init=/tmp/tmpl9abl34v/x9a4qkio.json', 'output', 'file=/tmp/tmpl9abl34v/prophet_modeln4ymw6rc/prophet_model-20230112201723.csv', 'method=optimize', 'algorithm=newton', 'iter=10000']\n",
            "20:17:23 - cmdstanpy - INFO - Chain [1] start processing\n",
            "INFO:cmdstanpy:Chain [1] start processing\n"
          ]
        },
        {
          "output_type": "stream",
          "name": "stdout",
          "text": [
            "55 - ARIMA with avg smape 0.17: \n",
            "Model Number: 56 of 156 with model FBProphet for Validation 2\n"
          ]
        },
        {
          "output_type": "stream",
          "name": "stderr",
          "text": [
            "20:17:23 - cmdstanpy - INFO - Chain [1] done processing\n",
            "INFO:cmdstanpy:Chain [1] done processing\n"
          ]
        },
        {
          "output_type": "stream",
          "name": "stdout",
          "text": [
            "56 - FBProphet with avg smape 1.26: \n",
            "Model Number: 57 of 156 with model LastValueNaive for Validation 2\n"
          ]
        },
        {
          "output_type": "stream",
          "name": "stderr",
          "text": [
            "INFO:prophet:Disabling yearly seasonality. Run prophet with yearly_seasonality=True to override this.\n",
            "INFO:prophet:Disabling weekly seasonality. Run prophet with weekly_seasonality=True to override this.\n",
            "INFO:prophet:Disabling daily seasonality. Run prophet with daily_seasonality=True to override this.\n"
          ]
        },
        {
          "output_type": "stream",
          "name": "stdout",
          "text": [
            "57 - LastValueNaive with avg smape 0.37: \n",
            "Model Number: 58 of 156 with model FBProphet for Validation 2\n"
          ]
        },
        {
          "output_type": "stream",
          "name": "stderr",
          "text": [
            "INFO:prophet:n_changepoints greater than number of observations. Using 10.\n",
            "DEBUG:cmdstanpy:input tempfile: /tmp/tmpl9abl34v/z8qmdvja.json\n",
            "DEBUG:cmdstanpy:input tempfile: /tmp/tmpl9abl34v/dkit3v80.json\n",
            "DEBUG:cmdstanpy:idx 0\n",
            "DEBUG:cmdstanpy:running CmdStan, num_threads: None\n",
            "DEBUG:cmdstanpy:CmdStan args: ['/usr/local/lib/python3.8/dist-packages/prophet/stan_model/prophet_model.bin', 'random', 'seed=24659', 'data', 'file=/tmp/tmpl9abl34v/z8qmdvja.json', 'init=/tmp/tmpl9abl34v/dkit3v80.json', 'output', 'file=/tmp/tmpl9abl34v/prophet_modelixd0nft3/prophet_model-20230112201724.csv', 'method=optimize', 'algorithm=newton', 'iter=10000']\n",
            "20:17:24 - cmdstanpy - INFO - Chain [1] start processing\n",
            "INFO:cmdstanpy:Chain [1] start processing\n",
            "20:17:24 - cmdstanpy - INFO - Chain [1] done processing\n",
            "INFO:cmdstanpy:Chain [1] done processing\n"
          ]
        },
        {
          "output_type": "stream",
          "name": "stdout",
          "text": [
            "58 - FBProphet with avg smape 1.15: \n",
            "Model Number: 59 of 156 with model UnobservedComponents for Validation 2\n",
            "59 - UnobservedComponents with avg smape 1.21: \n",
            "Model Number: 60 of 156 with model DatepartRegression for Validation 2\n",
            "60 - DatepartRegression with avg smape 0.73: \n",
            "Model Number: 61 of 156 with model AverageValueNaive for Validation 2\n",
            "61 - AverageValueNaive with avg smape 1.18: \n",
            "Model Number: 62 of 156 with model AverageValueNaive for Validation 2\n",
            "62 - AverageValueNaive with avg smape 1.06: \n",
            "Model Number: 63 of 156 with model AverageValueNaive for Validation 2\n",
            "63 - AverageValueNaive with avg smape 1.06: \n",
            "Model Number: 64 of 156 with model AverageValueNaive for Validation 2\n"
          ]
        },
        {
          "output_type": "stream",
          "name": "stderr",
          "text": [
            "INFO:prophet:Disabling yearly seasonality. Run prophet with yearly_seasonality=True to override this.\n"
          ]
        },
        {
          "output_type": "stream",
          "name": "stdout",
          "text": [
            "64 - AverageValueNaive with avg smape 1.06: \n",
            "Model Number: 65 of 156 with model FBProphet for Validation 2\n"
          ]
        },
        {
          "output_type": "stream",
          "name": "stderr",
          "text": [
            "INFO:prophet:Disabling weekly seasonality. Run prophet with weekly_seasonality=True to override this.\n",
            "INFO:prophet:Disabling daily seasonality. Run prophet with daily_seasonality=True to override this.\n",
            "INFO:prophet:n_changepoints greater than number of observations. Using 8.\n",
            "DEBUG:cmdstanpy:input tempfile: /tmp/tmpl9abl34v/ug9d36qa.json\n",
            "DEBUG:cmdstanpy:input tempfile: /tmp/tmpl9abl34v/y6v4827y.json\n",
            "DEBUG:cmdstanpy:idx 0\n",
            "DEBUG:cmdstanpy:running CmdStan, num_threads: None\n",
            "DEBUG:cmdstanpy:CmdStan args: ['/usr/local/lib/python3.8/dist-packages/prophet/stan_model/prophet_model.bin', 'random', 'seed=1598', 'data', 'file=/tmp/tmpl9abl34v/ug9d36qa.json', 'init=/tmp/tmpl9abl34v/y6v4827y.json', 'output', 'file=/tmp/tmpl9abl34v/prophet_model8lw5r6x3/prophet_model-20230112201725.csv', 'method=optimize', 'algorithm=newton', 'iter=10000']\n",
            "20:17:25 - cmdstanpy - INFO - Chain [1] start processing\n",
            "INFO:cmdstanpy:Chain [1] start processing\n",
            "20:17:25 - cmdstanpy - INFO - Chain [1] done processing\n",
            "INFO:cmdstanpy:Chain [1] done processing\n"
          ]
        },
        {
          "output_type": "stream",
          "name": "stdout",
          "text": [
            "65 - FBProphet with avg smape 0.25: \n",
            "Model Number: 66 of 156 with model AverageValueNaive for Validation 2\n",
            "66 - AverageValueNaive with avg smape 0.99: \n",
            "Model Number: 67 of 156 with model AverageValueNaive for Validation 2\n",
            "67 - AverageValueNaive with avg smape 0.99: \n",
            "Model Number: 68 of 156 with model AverageValueNaive for Validation 2\n",
            "68 - AverageValueNaive with avg smape 0.99: \n",
            "Model Number: 69 of 156 with model WindowRegression for Validation 2\n",
            "69 - WindowRegression with avg smape 0.96: \n",
            "Model Number: 70 of 156 with model ARIMA for Validation 2\n",
            "70 - ARIMA with avg smape 0.93: \n",
            "Model Number: 71 of 156 with model MultivariateRegression for Validation 2\n",
            "71 - MultivariateRegression with avg smape 0.1: \n",
            "Model Number: 72 of 156 with model GLM for Validation 2\n",
            "📈 72 - GLM with avg smape 0.02: \n",
            "Model Number: 73 of 156 with model GLM for Validation 2\n",
            "73 - GLM with avg smape 0.93: \n",
            "Model Number: 74 of 156 with model AverageValueNaive for Validation 2\n",
            "74 - AverageValueNaive with avg smape 0.93: \n",
            "Model Number: 75 of 156 with model SeasonalNaive for Validation 2\n",
            "75 - SeasonalNaive with avg smape 0.93: \n",
            "Model Number: 76 of 156 with model ConstantNaive for Validation 2\n",
            "76 - ConstantNaive with avg smape 0.93: \n",
            "Model Number: 77 of 156 with model ConstantNaive for Validation 2\n"
          ]
        },
        {
          "output_type": "stream",
          "name": "stderr",
          "text": [
            "/usr/local/lib/python3.8/dist-packages/statsmodels/genmod/families/links.py:188: RuntimeWarning:\n",
            "\n",
            "overflow encountered in exp\n",
            "\n",
            "/usr/local/lib/python3.8/dist-packages/statsmodels/genmod/families/links.py:188: RuntimeWarning:\n",
            "\n",
            "overflow encountered in exp\n",
            "\n"
          ]
        },
        {
          "output_type": "stream",
          "name": "stdout",
          "text": [
            "77 - ConstantNaive with avg smape 0.93: \n",
            "Model Number: 78 of 156 with model ARIMA for Validation 2\n",
            "78 - ARIMA with avg smape 0.18: \n",
            "Model Number: 79 of 156 with model ConstantNaive for Validation 2\n",
            "79 - ConstantNaive with avg smape 0.93: \n",
            "Model Number: 80 of 156 with model MultivariateRegression for Validation 2\n",
            "80 - MultivariateRegression with avg smape 0.55: \n",
            "Model Number: 81 of 156 with model ARIMA for Validation 2\n"
          ]
        },
        {
          "output_type": "stream",
          "name": "stderr",
          "text": [
            "INFO:prophet:Disabling yearly seasonality. Run prophet with yearly_seasonality=True to override this.\n",
            "INFO:prophet:Disabling weekly seasonality. Run prophet with weekly_seasonality=True to override this.\n",
            "INFO:prophet:Disabling daily seasonality. Run prophet with daily_seasonality=True to override this.\n"
          ]
        },
        {
          "output_type": "stream",
          "name": "stdout",
          "text": [
            "81 - ARIMA with avg smape 0.19: \n",
            "Model Number: 82 of 156 with model FBProphet for Validation 2\n"
          ]
        },
        {
          "output_type": "stream",
          "name": "stderr",
          "text": [
            "INFO:prophet:n_changepoints greater than number of observations. Using 9.\n",
            "DEBUG:cmdstanpy:input tempfile: /tmp/tmpl9abl34v/27xb43r2.json\n",
            "DEBUG:cmdstanpy:input tempfile: /tmp/tmpl9abl34v/25yqwbj4.json\n",
            "DEBUG:cmdstanpy:idx 0\n",
            "DEBUG:cmdstanpy:running CmdStan, num_threads: None\n",
            "DEBUG:cmdstanpy:CmdStan args: ['/usr/local/lib/python3.8/dist-packages/prophet/stan_model/prophet_model.bin', 'random', 'seed=62411', 'data', 'file=/tmp/tmpl9abl34v/27xb43r2.json', 'init=/tmp/tmpl9abl34v/25yqwbj4.json', 'output', 'file=/tmp/tmpl9abl34v/prophet_modeltazwurer/prophet_model-20230112201733.csv', 'method=optimize', 'algorithm=newton', 'iter=10000']\n",
            "20:17:33 - cmdstanpy - INFO - Chain [1] start processing\n",
            "INFO:cmdstanpy:Chain [1] start processing\n",
            "20:17:33 - cmdstanpy - INFO - Chain [1] done processing\n",
            "INFO:cmdstanpy:Chain [1] done processing\n"
          ]
        },
        {
          "output_type": "stream",
          "name": "stdout",
          "text": [
            "82 - FBProphet with avg smape 0.02: \n",
            "Model Number: 83 of 156 with model WindowRegression for Validation 2\n",
            "83 - WindowRegression with avg smape 0.07: \n",
            "Model Number: 84 of 156 with model MultivariateRegression for Validation 2\n",
            "84 - MultivariateRegression with avg smape 0.76: \n",
            "Model Number: 85 of 156 with model WindowRegression for Validation 2\n",
            "85 - WindowRegression with avg smape 0.13: \n",
            "Model Number: 86 of 156 with model GLM for Validation 2\n"
          ]
        },
        {
          "output_type": "stream",
          "name": "stderr",
          "text": [
            "/usr/local/lib/python3.8/dist-packages/statsmodels/genmod/generalized_linear_model.py:798: RuntimeWarning:\n",
            "\n",
            "divide by zero encountered in double_scalars\n",
            "\n",
            "INFO:prophet:Disabling yearly seasonality. Run prophet with yearly_seasonality=True to override this.\n",
            "INFO:prophet:Disabling weekly seasonality. Run prophet with weekly_seasonality=True to override this.\n",
            "INFO:prophet:Disabling daily seasonality. Run prophet with daily_seasonality=True to override this.\n"
          ]
        },
        {
          "output_type": "stream",
          "name": "stdout",
          "text": [
            "86 - GLM with avg smape 0.2: \n",
            "Model Number: 87 of 156 with model FBProphet for Validation 2\n"
          ]
        },
        {
          "output_type": "stream",
          "name": "stderr",
          "text": [
            "INFO:prophet:n_changepoints greater than number of observations. Using 8.\n",
            "DEBUG:cmdstanpy:input tempfile: /tmp/tmpl9abl34v/etkfq45q.json\n",
            "DEBUG:cmdstanpy:input tempfile: /tmp/tmpl9abl34v/ptf3pbmm.json\n",
            "DEBUG:cmdstanpy:idx 0\n",
            "DEBUG:cmdstanpy:running CmdStan, num_threads: None\n",
            "DEBUG:cmdstanpy:CmdStan args: ['/usr/local/lib/python3.8/dist-packages/prophet/stan_model/prophet_model.bin', 'random', 'seed=38645', 'data', 'file=/tmp/tmpl9abl34v/etkfq45q.json', 'init=/tmp/tmpl9abl34v/ptf3pbmm.json', 'output', 'file=/tmp/tmpl9abl34v/prophet_modelch75vq75/prophet_model-20230112201734.csv', 'method=optimize', 'algorithm=newton', 'iter=10000']\n",
            "20:17:34 - cmdstanpy - INFO - Chain [1] start processing\n",
            "INFO:cmdstanpy:Chain [1] start processing\n",
            "20:17:34 - cmdstanpy - INFO - Chain [1] done processing\n",
            "INFO:cmdstanpy:Chain [1] done processing\n"
          ]
        },
        {
          "output_type": "stream",
          "name": "stdout",
          "text": [
            "87 - FBProphet with avg smape 0.18: \n",
            "Model Number: 88 of 156 with model LastValueNaive for Validation 2\n",
            "88 - LastValueNaive with avg smape 0.18: \n",
            "Model Number: 89 of 156 with model LastValueNaive for Validation 2\n"
          ]
        },
        {
          "output_type": "stream",
          "name": "stderr",
          "text": [
            "INFO:prophet:Disabling yearly seasonality. Run prophet with yearly_seasonality=True to override this.\n",
            "INFO:prophet:Disabling weekly seasonality. Run prophet with weekly_seasonality=True to override this.\n",
            "INFO:prophet:Disabling daily seasonality. Run prophet with daily_seasonality=True to override this.\n",
            "INFO:prophet:n_changepoints greater than number of observations. Using 4.\n",
            "DEBUG:cmdstanpy:input tempfile: /tmp/tmpl9abl34v/bjzartlh.json\n",
            "DEBUG:cmdstanpy:input tempfile: /tmp/tmpl9abl34v/02x4an8o.json\n",
            "DEBUG:cmdstanpy:idx 0\n",
            "DEBUG:cmdstanpy:running CmdStan, num_threads: None\n",
            "DEBUG:cmdstanpy:CmdStan args: ['/usr/local/lib/python3.8/dist-packages/prophet/stan_model/prophet_model.bin', 'random', 'seed=20290', 'data', 'file=/tmp/tmpl9abl34v/bjzartlh.json', 'init=/tmp/tmpl9abl34v/02x4an8o.json', 'output', 'file=/tmp/tmpl9abl34v/prophet_modeldkbue92r/prophet_model-20230112201735.csv', 'method=optimize', 'algorithm=newton', 'iter=10000']\n",
            "20:17:35 - cmdstanpy - INFO - Chain [1] start processing\n",
            "INFO:cmdstanpy:Chain [1] start processing\n"
          ]
        },
        {
          "output_type": "stream",
          "name": "stdout",
          "text": [
            "89 - LastValueNaive with avg smape 0.18: \n",
            "Model Number: 90 of 156 with model FBProphet for Validation 2\n"
          ]
        },
        {
          "output_type": "stream",
          "name": "stderr",
          "text": [
            "20:17:38 - cmdstanpy - INFO - Chain [1] done processing\n",
            "INFO:cmdstanpy:Chain [1] done processing\n",
            "INFO:prophet:Disabling yearly seasonality. Run prophet with yearly_seasonality=True to override this.\n",
            "INFO:prophet:Disabling weekly seasonality. Run prophet with weekly_seasonality=True to override this.\n",
            "INFO:prophet:Disabling daily seasonality. Run prophet with daily_seasonality=True to override this.\n",
            "INFO:prophet:n_changepoints greater than number of observations. Using 4.\n",
            "DEBUG:cmdstanpy:input tempfile: /tmp/tmpl9abl34v/cv_gtnp8.json\n",
            "DEBUG:cmdstanpy:input tempfile: /tmp/tmpl9abl34v/4djg62ql.json\n",
            "DEBUG:cmdstanpy:idx 0\n",
            "DEBUG:cmdstanpy:running CmdStan, num_threads: None\n",
            "DEBUG:cmdstanpy:CmdStan args: ['/usr/local/lib/python3.8/dist-packages/prophet/stan_model/prophet_model.bin', 'random', 'seed=62354', 'data', 'file=/tmp/tmpl9abl34v/cv_gtnp8.json', 'init=/tmp/tmpl9abl34v/4djg62ql.json', 'output', 'file=/tmp/tmpl9abl34v/prophet_modelj09e5a4_/prophet_model-20230112201739.csv', 'method=optimize', 'algorithm=newton', 'iter=10000']\n",
            "20:17:39 - cmdstanpy - INFO - Chain [1] start processing\n",
            "INFO:cmdstanpy:Chain [1] start processing\n"
          ]
        },
        {
          "output_type": "stream",
          "name": "stdout",
          "text": [
            "90 - FBProphet with avg smape 0.18: \n",
            "Model Number: 91 of 156 with model FBProphet for Validation 2\n"
          ]
        },
        {
          "output_type": "stream",
          "name": "stderr",
          "text": [
            "20:17:41 - cmdstanpy - INFO - Chain [1] done processing\n",
            "INFO:cmdstanpy:Chain [1] done processing\n"
          ]
        },
        {
          "output_type": "stream",
          "name": "stdout",
          "text": [
            "91 - FBProphet with avg smape 0.18: \n",
            "Model Number: 92 of 156 with model LastValueNaive for Validation 2\n",
            "92 - LastValueNaive with avg smape 0.18: \n",
            "Model Number: 93 of 156 with model LastValueNaive for Validation 2\n",
            "No anomalies detected.\n",
            "93 - LastValueNaive with avg smape 0.18: \n",
            "Model Number: 94 of 156 with model GLM for Validation 2\n",
            "No anomalies detected.\n",
            "Template Eval Error: PerfectSeparationError('Perfect separation detected, results not available') in model 94: GLM\n",
            "Model Number: 95 of 156 with model ConstantNaive for Validation 2\n"
          ]
        },
        {
          "output_type": "stream",
          "name": "stderr",
          "text": [
            "/usr/local/lib/python3.8/dist-packages/sklearn/linear_model/_ridge.py:196: UserWarning:\n",
            "\n",
            "Singular matrix in solving dual problem. Using least-squares solution instead.\n",
            "\n",
            "/usr/local/lib/python3.8/dist-packages/statsmodels/genmod/generalized_linear_model.py:798: RuntimeWarning:\n",
            "\n",
            "divide by zero encountered in double_scalars\n",
            "\n"
          ]
        },
        {
          "output_type": "stream",
          "name": "stdout",
          "text": [
            "95 - ConstantNaive with avg smape 0.18: \n",
            "Model Number: 96 of 156 with model SeasonalNaive for Validation 2\n",
            "96 - SeasonalNaive with avg smape 0.24: \n",
            "Model Number: 97 of 156 with model ConstantNaive for Validation 2\n",
            "97 - ConstantNaive with avg smape 0.18: \n",
            "Model Number: 98 of 156 with model SeasonalNaive for Validation 2\n",
            "98 - SeasonalNaive with avg smape 0.24: \n",
            "Model Number: 99 of 156 with model GLM for Validation 2\n",
            "No anomalies detected.\n",
            "99 - GLM with avg smape 0.18: \n",
            "Model Number: 100 of 156 with model AverageValueNaive for Validation 2\n",
            "100 - AverageValueNaive with avg smape 0.18: \n",
            "Model Number: 101 of 156 with model GLM for Validation 2\n",
            "101 - GLM with avg smape 0.18: \n",
            "Model Number: 102 of 156 with model GLM for Validation 2\n",
            "102 - GLM with avg smape 0.18: \n",
            "Model Number: 103 of 156 with model SeasonalNaive for Validation 2\n",
            "103 - SeasonalNaive with avg smape 0.2: \n",
            "Model Number: 104 of 156 with model GLS for Validation 2\n",
            "104 - GLS with avg smape 0.13: \n",
            "Model Number: 105 of 156 with model ConstantNaive for Validation 2\n",
            "105 - ConstantNaive with avg smape 0.2: \n",
            "Model Number: 106 of 156 with model ETS for Validation 2\n",
            "106 - ETS with avg smape 0.25: \n",
            "Model Number: 107 of 156 with model GLM for Validation 2\n",
            "107 - GLM with avg smape 0.09: \n",
            "Model Number: 108 of 156 with model ETS for Validation 2\n",
            "ETS failed on Close with ValueError('operands could not be broadcast together with shapes (5,) (7,) ')\n",
            "108 - ETS with avg smape 3.85: \n",
            "Model Number: 109 of 156 with model WindowRegression for Validation 2\n"
          ]
        },
        {
          "output_type": "stream",
          "name": "stderr",
          "text": [
            "/usr/local/lib/python3.8/dist-packages/statsmodels/genmod/families/family.py:1227: RuntimeWarning:\n",
            "\n",
            "divide by zero encountered in true_divide\n",
            "\n"
          ]
        },
        {
          "output_type": "stream",
          "name": "stdout",
          "text": [
            "109 - WindowRegression with avg smape 0.24: \n",
            "Model Number: 110 of 156 with model SeasonalNaive for Validation 2\n",
            "110 - SeasonalNaive with avg smape 0.07: \n",
            "Model Number: 111 of 156 with model UnivariateMotif for Validation 2\n",
            "111 - UnivariateMotif with avg smape 0.47: \n",
            "Model Number: 112 of 156 with model DatepartRegression for Validation 2\n",
            "112 - DatepartRegression with avg smape 0.24: \n",
            "Model Number: 113 of 156 with model DatepartRegression for Validation 2\n",
            "113 - DatepartRegression with avg smape 0.1: \n",
            "Model Number: 114 of 156 with model ConstantNaive for Validation 2\n",
            "114 - ConstantNaive with avg smape 0.12: \n",
            "Model Number: 115 of 156 with model ConstantNaive for Validation 2\n"
          ]
        },
        {
          "output_type": "stream",
          "name": "stderr",
          "text": [
            "[Parallel(n_jobs=-2)]: Using backend SequentialBackend with 1 concurrent workers.\n",
            "[Parallel(n_jobs=-2)]: Done 100 out of 100 | elapsed:    0.1s finished\n",
            "[Parallel(n_jobs=1)]: Using backend SequentialBackend with 1 concurrent workers.\n",
            "[Parallel(n_jobs=1)]: Done 100 out of 100 | elapsed:    0.0s finished\n"
          ]
        },
        {
          "output_type": "stream",
          "name": "stdout",
          "text": [
            "115 - ConstantNaive with avg smape 0.12: \n",
            "Model Number: 116 of 156 with model ETS for Validation 2\n"
          ]
        },
        {
          "output_type": "stream",
          "name": "stderr",
          "text": [
            "INFO:prophet:Disabling yearly seasonality. Run prophet with yearly_seasonality=True to override this.\n",
            "INFO:prophet:Disabling weekly seasonality. Run prophet with weekly_seasonality=True to override this.\n",
            "INFO:prophet:Disabling daily seasonality. Run prophet with daily_seasonality=True to override this.\n",
            "INFO:prophet:n_changepoints greater than number of observations. Using 9.\n",
            "DEBUG:cmdstanpy:input tempfile: /tmp/tmpl9abl34v/uvu005_l.json\n",
            "DEBUG:cmdstanpy:input tempfile: /tmp/tmpl9abl34v/he1gl5rj.json\n"
          ]
        },
        {
          "output_type": "stream",
          "name": "stdout",
          "text": [
            "116 - ETS with avg smape 0.65: \n",
            "Model Number: 117 of 156 with model FBProphet for Validation 2\n"
          ]
        },
        {
          "output_type": "stream",
          "name": "stderr",
          "text": [
            "DEBUG:cmdstanpy:idx 0\n",
            "DEBUG:cmdstanpy:running CmdStan, num_threads: None\n",
            "DEBUG:cmdstanpy:CmdStan args: ['/usr/local/lib/python3.8/dist-packages/prophet/stan_model/prophet_model.bin', 'random', 'seed=37158', 'data', 'file=/tmp/tmpl9abl34v/uvu005_l.json', 'init=/tmp/tmpl9abl34v/he1gl5rj.json', 'output', 'file=/tmp/tmpl9abl34v/prophet_model6wnp3bk3/prophet_model-20230112201744.csv', 'method=optimize', 'algorithm=newton', 'iter=10000']\n",
            "20:17:44 - cmdstanpy - INFO - Chain [1] start processing\n",
            "INFO:cmdstanpy:Chain [1] start processing\n",
            "20:17:44 - cmdstanpy - INFO - Chain [1] done processing\n",
            "INFO:cmdstanpy:Chain [1] done processing\n"
          ]
        },
        {
          "output_type": "stream",
          "name": "stdout",
          "text": [
            "117 - FBProphet with avg smape 0.26: \n",
            "Model Number: 118 of 156 with model WindowRegression for Validation 2\n",
            "118 - WindowRegression with avg smape 0.91: \n",
            "Model Number: 119 of 156 with model DatepartRegression for Validation 2\n",
            "119 - DatepartRegression with avg smape 0.17: \n",
            "Model Number: 120 of 156 with model DatepartRegression for Validation 2\n",
            "📈 120 - DatepartRegression with avg smape 0.01: \n"
          ]
        },
        {
          "output_type": "stream",
          "name": "stderr",
          "text": [
            "[Parallel(n_jobs=-2)]: Using backend SequentialBackend with 1 concurrent workers.\n",
            "[Parallel(n_jobs=-2)]: Done 100 out of 100 | elapsed:    0.1s finished\n",
            "[Parallel(n_jobs=1)]: Using backend SequentialBackend with 1 concurrent workers.\n",
            "[Parallel(n_jobs=1)]: Done 100 out of 100 | elapsed:    0.0s finished\n"
          ]
        },
        {
          "output_type": "stream",
          "name": "stdout",
          "text": [
            "Model Number: 121 of 156 with model WindowRegression for Validation 2\n",
            "121 - WindowRegression with avg smape 0.9: \n",
            "Model Number: 122 of 156 with model WindowRegression for Validation 2\n",
            "122 - WindowRegression with avg smape 0.9: \n",
            "Model Number: 123 of 156 with model WindowRegression for Validation 2\n",
            "123 - WindowRegression with avg smape 0.9: \n",
            "Model Number: 124 of 156 with model GLS for Validation 2\n",
            "124 - GLS with avg smape 0.23: \n",
            "Model Number: 125 of 156 with model GLS for Validation 2\n",
            "125 - GLS with avg smape 0.23: \n",
            "Model Number: 126 of 156 with model DatepartRegression for Validation 2\n",
            "126 - DatepartRegression with avg smape 0.23: \n",
            "Model Number: 127 of 156 with model GLS for Validation 2\n",
            "127 - GLS with avg smape 0.81: \n",
            "Model Number: 128 of 156 with model GLS for Validation 2\n"
          ]
        },
        {
          "output_type": "stream",
          "name": "stderr",
          "text": [
            "[Parallel(n_jobs=-2)]: Using backend SequentialBackend with 1 concurrent workers.\n",
            "[Parallel(n_jobs=-2)]: Done 100 out of 100 | elapsed:    0.1s finished\n",
            "[Parallel(n_jobs=1)]: Using backend SequentialBackend with 1 concurrent workers.\n",
            "[Parallel(n_jobs=1)]: Done 100 out of 100 | elapsed:    0.0s finished\n",
            "/usr/local/lib/python3.8/dist-packages/autots/tools/probabilistic.py:67: RuntimeWarning:\n",
            "\n",
            "invalid value encountered in true_divide\n",
            "\n",
            "/usr/local/lib/python3.8/dist-packages/autots/tools/probabilistic.py:68: RuntimeWarning:\n",
            "\n",
            "divide by zero encountered in true_divide\n",
            "\n"
          ]
        },
        {
          "output_type": "stream",
          "name": "stdout",
          "text": [
            "128 - GLS with avg smape 0.27: \n",
            "Model Number: 129 of 156 with model GLS for Validation 2\n",
            "129 - GLS with avg smape 0.27: \n",
            "Model Number: 130 of 156 with model ConstantNaive for Validation 2\n",
            "130 - ConstantNaive with avg smape 2.52: \n",
            "Model Number: 131 of 156 with model SeasonalNaive for Validation 2\n",
            "131 - SeasonalNaive with avg smape 0.6: \n",
            "Model Number: 132 of 156 with model ETS for Validation 2\n",
            "132 - ETS with avg smape 0.34: \n",
            "Model Number: 133 of 156 with model SeasonalNaive for Validation 2\n",
            "133 - SeasonalNaive with avg smape 0.31: \n",
            "Model Number: 134 of 156 with model ETS for Validation 2\n",
            "134 - ETS with avg smape 0.69: \n",
            "Model Number: 135 of 156 with model ETS for Validation 2\n",
            "135 - ETS with avg smape 0.69: \n",
            "Model Number: 136 of 156 with model ETS for Validation 2\n",
            "136 - ETS with avg smape 0.69: \n",
            "Model Number: 137 of 156 with model ETS for Validation 2\n",
            "137 - ETS with avg smape 0.69: \n",
            "Model Number: 138 of 156 with model UnivariateMotif for Validation 2\n",
            "138 - UnivariateMotif with avg smape 0.3: \n",
            "Model Number: 139 of 156 with model DatepartRegression for Validation 2\n",
            "139 - DatepartRegression with avg smape 0.61: \n",
            "Model Number: 140 of 156 with model DatepartRegression for Validation 2\n",
            "140 - DatepartRegression with avg smape 1.73: \n",
            "Model Number: 141 of 156 with model UnivariateMotif for Validation 2\n",
            "141 - UnivariateMotif with avg smape 0.61: \n",
            "Model Number: 142 of 156 with model UnivariateMotif for Validation 2\n"
          ]
        },
        {
          "output_type": "stream",
          "name": "stderr",
          "text": [
            "[Parallel(n_jobs=-2)]: Using backend SequentialBackend with 1 concurrent workers.\n",
            "[Parallel(n_jobs=-2)]: Done 100 out of 100 | elapsed:    0.1s finished\n",
            "[Parallel(n_jobs=1)]: Using backend SequentialBackend with 1 concurrent workers.\n",
            "[Parallel(n_jobs=1)]: Done 100 out of 100 | elapsed:    0.0s finished\n"
          ]
        },
        {
          "output_type": "stream",
          "name": "stdout",
          "text": [
            "142 - UnivariateMotif with avg smape 0.61: \n",
            "Model Number: 143 of 156 with model SeasonalNaive for Validation 2\n",
            "143 - SeasonalNaive with avg smape 0.61: \n",
            "Model Number: 144 of 156 with model GLS for Validation 2\n",
            "144 - GLS with avg smape 0.61: \n",
            "Model Number: 145 of 156 with model UnivariateMotif for Validation 2\n",
            "145 - UnivariateMotif with avg smape 0.61: \n",
            "Model Number: 146 of 156 with model UnivariateMotif for Validation 2\n",
            "146 - UnivariateMotif with avg smape 0.61: \n",
            "Model Number: 147 of 156 with model GLS for Validation 2\n",
            "147 - GLS with avg smape 0.61: \n",
            "Model Number: 148 of 156 with model GLS for Validation 2\n",
            "148 - GLS with avg smape 0.61: \n",
            "Model Number: 149 of 156 with model UnivariateMotif for Validation 2\n",
            "Template Eval Error: ValueError('kth(=3) out of bounds (2)') in model 149: UnivariateMotif\n",
            "Model Number: 150 of 156 with model UnivariateMotif for Validation 2\n",
            "Template Eval Error: ValueError('kth(=3) out of bounds (2)') in model 150: UnivariateMotif\n",
            "Model Number: 151 of 156 with model UnivariateMotif for Validation 2\n",
            "151 - UnivariateMotif with avg smape 1.01: \n",
            "Model Number: 152 of 156 with model MultivariateMotif for Validation 2\n",
            "Template Eval Error: ValueError('kth(=3) out of bounds (2)') in model 152: MultivariateMotif\n",
            "Model Number: 153 of 156 with model MultivariateMotif for Validation 2\n",
            "Template Eval Error: ValueError('kth(=3) out of bounds (2)') in model 153: MultivariateMotif\n",
            "Model Number: 154 of 156 with model MultivariateMotif for Validation 2\n",
            "Template Eval Error: ValueError('kth(=3) out of bounds (2)') in model 154: MultivariateMotif\n",
            "Model Number: 155 of 156 with model MultivariateMotif for Validation 2\n",
            "Template Eval Error: ValueError('kth(=3) out of bounds (2)') in model 155: MultivariateMotif\n",
            "Model Number: 156 of 156 with model Ensemble for Validation 2\n",
            "156 - Ensemble with avg smape nan: \n",
            "Validation Round: 3\n",
            "Model Number: 1 of 156 with model Ensemble for Validation 3\n"
          ]
        },
        {
          "output_type": "stream",
          "name": "stderr",
          "text": [
            "/usr/local/lib/python3.8/dist-packages/sklearn/preprocessing/_data.py:3253: RuntimeWarning:\n",
            "\n",
            "divide by zero encountered in log\n",
            "\n",
            "/usr/local/lib/python3.8/dist-packages/sklearn/preprocessing/_data.py:3196: RuntimeWarning:\n",
            "\n",
            "divide by zero encountered in power\n",
            "\n",
            "/usr/local/lib/python3.8/dist-packages/sklearn/preprocessing/_data.py:3196: RuntimeWarning:\n",
            "\n",
            "divide by zero encountered in power\n",
            "\n",
            "/usr/local/lib/python3.8/dist-packages/sklearn/preprocessing/_data.py:3196: RuntimeWarning:\n",
            "\n",
            "divide by zero encountered in power\n",
            "\n"
          ]
        },
        {
          "output_type": "stream",
          "name": "stdout",
          "text": [
            "📈 1 - Ensemble with avg smape 1.74: \n",
            "Model Number: 2 of 156 with model Ensemble for Validation 3\n",
            "📈 2 - Ensemble with avg smape 0.73: \n",
            "Model Number: 3 of 156 with model NVAR for Validation 3\n",
            "3 - NVAR with avg smape 0.73: \n",
            "Model Number: 4 of 156 with model Ensemble for Validation 3\n"
          ]
        },
        {
          "output_type": "stream",
          "name": "stderr",
          "text": [
            "/usr/local/lib/python3.8/dist-packages/sklearn/preprocessing/_data.py:3253: RuntimeWarning:\n",
            "\n",
            "divide by zero encountered in log\n",
            "\n",
            "/usr/local/lib/python3.8/dist-packages/sklearn/preprocessing/_data.py:3196: RuntimeWarning:\n",
            "\n",
            "divide by zero encountered in power\n",
            "\n",
            "/usr/local/lib/python3.8/dist-packages/sklearn/preprocessing/_data.py:3196: RuntimeWarning:\n",
            "\n",
            "divide by zero encountered in power\n",
            "\n",
            "/usr/local/lib/python3.8/dist-packages/sklearn/preprocessing/_data.py:3196: RuntimeWarning:\n",
            "\n",
            "divide by zero encountered in power\n",
            "\n"
          ]
        },
        {
          "output_type": "stream",
          "name": "stdout",
          "text": [
            "4 - Ensemble with avg smape 0.73: \n",
            "Model Number: 5 of 156 with model NVAR for Validation 3\n",
            "5 - NVAR with avg smape 0.73: \n",
            "Model Number: 6 of 156 with model NVAR for Validation 3\n",
            "6 - NVAR with avg smape 0.73: \n",
            "Model Number: 7 of 156 with model NVAR for Validation 3\n",
            "7 - NVAR with avg smape 0.73: \n",
            "Model Number: 8 of 156 with model NVAR for Validation 3\n",
            "8 - NVAR with avg smape 0.73: \n",
            "Model Number: 9 of 156 with model Ensemble for Validation 3\n",
            "9 - Ensemble with avg smape 2.73: \n",
            "Model Number: 10 of 156 with model Ensemble for Validation 3\n",
            "10 - Ensemble with avg smape 2.72: \n",
            "Model Number: 11 of 156 with model Ensemble for Validation 3\n",
            "11 - Ensemble with avg smape 2.72: \n",
            "Model Number: 12 of 156 with model UnobservedComponents for Validation 3\n",
            "12 - UnobservedComponents with avg smape 3.81: \n",
            "Model Number: 13 of 156 with model NVAR for Validation 3\n",
            "13 - NVAR with avg smape 0.73: \n",
            "Model Number: 14 of 156 with model NVAR for Validation 3\n",
            "14 - NVAR with avg smape 0.73: \n",
            "Model Number: 15 of 156 with model NVAR for Validation 3\n",
            "15 - NVAR with avg smape 0.73: \n",
            "Model Number: 16 of 156 with model NVAR for Validation 3\n",
            "16 - NVAR with avg smape 0.73: \n",
            "Model Number: 17 of 156 with model Ensemble for Validation 3\n",
            "17 - Ensemble with avg smape 1.81: \n",
            "Model Number: 18 of 156 with model LastValueNaive for Validation 3\n"
          ]
        },
        {
          "output_type": "stream",
          "name": "stderr",
          "text": [
            "/usr/local/lib/python3.8/dist-packages/autots/tools/probabilistic.py:67: RuntimeWarning:\n",
            "\n",
            "invalid value encountered in true_divide\n",
            "\n",
            "/usr/local/lib/python3.8/dist-packages/autots/tools/probabilistic.py:68: RuntimeWarning:\n",
            "\n",
            "divide by zero encountered in true_divide\n",
            "\n"
          ]
        },
        {
          "output_type": "stream",
          "name": "stdout",
          "text": [
            "18 - LastValueNaive with avg smape 3.66: \n",
            "Model Number: 19 of 156 with model UnobservedComponents for Validation 3\n",
            "19 - UnobservedComponents with avg smape 3.66: \n",
            "Model Number: 20 of 156 with model MultivariateRegression for Validation 3\n",
            "20 - MultivariateRegression with avg smape 1.06: \n",
            "Model Number: 21 of 156 with model SeasonalNaive for Validation 3\n"
          ]
        },
        {
          "output_type": "stream",
          "name": "stderr",
          "text": [
            "/usr/local/lib/python3.8/dist-packages/autots/tools/probabilistic.py:67: RuntimeWarning:\n",
            "\n",
            "invalid value encountered in true_divide\n",
            "\n",
            "/usr/local/lib/python3.8/dist-packages/autots/tools/probabilistic.py:68: RuntimeWarning:\n",
            "\n",
            "divide by zero encountered in true_divide\n",
            "\n"
          ]
        },
        {
          "output_type": "stream",
          "name": "stdout",
          "text": [
            "📈 21 - SeasonalNaive with avg smape 0.0: \n",
            "Model Number: 22 of 156 with model Theta for Validation 3\n",
            "22 - Theta with avg smape 0.94: \n",
            "Model Number: 23 of 156 with model Theta for Validation 3\n",
            "23 - Theta with avg smape 0.94: \n",
            "Model Number: 24 of 156 with model MultivariateRegression for Validation 3\n",
            "24 - MultivariateRegression with avg smape 1.92: \n",
            "Model Number: 25 of 156 with model Theta for Validation 3\n"
          ]
        },
        {
          "output_type": "stream",
          "name": "stderr",
          "text": [
            "/usr/local/lib/python3.8/dist-packages/sklearn/svm/_base.py:1206: ConvergenceWarning:\n",
            "\n",
            "Liblinear failed to converge, increase the number of iterations.\n",
            "\n"
          ]
        },
        {
          "output_type": "stream",
          "name": "stdout",
          "text": [
            "25 - Theta with avg smape 0.77: \n",
            "Model Number: 26 of 156 with model Theta for Validation 3\n",
            "26 - Theta with avg smape 0.77: \n",
            "Model Number: 27 of 156 with model Theta for Validation 3\n",
            "27 - Theta with avg smape 0.77: \n",
            "Model Number: 28 of 156 with model MultivariateRegression for Validation 3\n",
            "28 - MultivariateRegression with avg smape 1.62: \n",
            "Model Number: 29 of 156 with model MultivariateRegression for Validation 3\n",
            "29 - MultivariateRegression with avg smape 10.09: \n",
            "Model Number: 30 of 156 with model ARIMA for Validation 3\n",
            "30 - ARIMA with avg smape 1.15: \n",
            "Model Number: 31 of 156 with model ARIMA for Validation 3\n",
            "31 - ARIMA with avg smape 1.15: \n",
            "Model Number: 32 of 156 with model ARIMA for Validation 3\n",
            "32 - ARIMA with avg smape 1.15: \n",
            "Model Number: 33 of 156 with model UnobservedComponents for Validation 3\n",
            "33 - UnobservedComponents with avg smape 2.96: \n",
            "Model Number: 34 of 156 with model UnobservedComponents for Validation 3\n",
            "34 - UnobservedComponents with avg smape 1.51: \n",
            "Model Number: 35 of 156 with model LastValueNaive for Validation 3\n",
            "No anomalies detected.\n",
            "35 - LastValueNaive with avg smape 1.13: \n",
            "Model Number: 36 of 156 with model LastValueNaive for Validation 3\n",
            "36 - LastValueNaive with avg smape 1.13: \n",
            "Model Number: 37 of 156 with model ARIMA for Validation 3\n"
          ]
        },
        {
          "output_type": "stream",
          "name": "stderr",
          "text": [
            "/usr/local/lib/python3.8/dist-packages/sklearn/linear_model/_ridge.py:194: LinAlgWarning:\n",
            "\n",
            "Ill-conditioned matrix (rcond=1.97949e-18): result may not be accurate.\n",
            "\n"
          ]
        },
        {
          "output_type": "stream",
          "name": "stdout",
          "text": [
            "37 - ARIMA with avg smape 1.03: \n",
            "Model Number: 38 of 156 with model ARIMA for Validation 3\n",
            "38 - ARIMA with avg smape 1.03: \n",
            "Model Number: 39 of 156 with model ETS for Validation 3\n",
            "ETS failed on Close with ValueError('operands could not be broadcast together with shapes (4,) (7,) ')\n",
            "39 - ETS with avg smape 0.78: \n",
            "Model Number: 40 of 156 with model UnobservedComponents for Validation 3\n",
            "40 - UnobservedComponents with avg smape 1.44: \n",
            "Model Number: 41 of 156 with model LastValueNaive for Validation 3\n",
            "41 - LastValueNaive with avg smape 1.44: \n",
            "Model Number: 42 of 156 with model UnobservedComponents for Validation 3\n",
            "42 - UnobservedComponents with avg smape 1.44: \n",
            "Model Number: 43 of 156 with model UnobservedComponents for Validation 3\n",
            "43 - UnobservedComponents with avg smape 1.44: \n",
            "Model Number: 44 of 156 with model UnobservedComponents for Validation 3\n",
            "44 - UnobservedComponents with avg smape 1.44: \n",
            "Model Number: 45 of 156 with model Theta for Validation 3\n",
            "45 - Theta with avg smape 1.44: \n",
            "Model Number: 46 of 156 with model GLM for Validation 3\n",
            "46 - GLM with avg smape 1.44: \n",
            "Model Number: 47 of 156 with model MultivariateRegression for Validation 3\n",
            "47 - MultivariateRegression with avg smape 1.44: \n",
            "Model Number: 48 of 156 with model DatepartRegression for Validation 3\n",
            "48 - DatepartRegression with avg smape 3.28: \n",
            "Model Number: 49 of 156 with model Theta for Validation 3\n"
          ]
        },
        {
          "output_type": "stream",
          "name": "stderr",
          "text": [
            "/usr/local/lib/python3.8/dist-packages/statsmodels/genmod/families/links.py:188: RuntimeWarning:\n",
            "\n",
            "overflow encountered in exp\n",
            "\n"
          ]
        },
        {
          "output_type": "stream",
          "name": "stdout",
          "text": [
            "49 - Theta with avg smape 1.68: \n",
            "Model Number: 50 of 156 with model Theta for Validation 3\n",
            "50 - Theta with avg smape 1.68: \n",
            "Model Number: 51 of 156 with model Theta for Validation 3\n",
            "51 - Theta with avg smape 1.68: \n",
            "Model Number: 52 of 156 with model WindowRegression for Validation 3\n"
          ]
        },
        {
          "output_type": "stream",
          "name": "stderr",
          "text": [
            "INFO:prophet:Disabling yearly seasonality. Run prophet with yearly_seasonality=True to override this.\n",
            "INFO:prophet:Disabling weekly seasonality. Run prophet with weekly_seasonality=True to override this.\n",
            "INFO:prophet:Disabling daily seasonality. Run prophet with daily_seasonality=True to override this.\n"
          ]
        },
        {
          "output_type": "stream",
          "name": "stdout",
          "text": [
            "52 - WindowRegression with avg smape 0.29: \n",
            "Model Number: 53 of 156 with model FBProphet for Validation 3\n"
          ]
        },
        {
          "output_type": "stream",
          "name": "stderr",
          "text": [
            "INFO:prophet:n_changepoints greater than number of observations. Using 8.\n",
            "DEBUG:cmdstanpy:input tempfile: /tmp/tmpl9abl34v/j_5g_sj4.json\n",
            "DEBUG:cmdstanpy:input tempfile: /tmp/tmpl9abl34v/o9wfews6.json\n",
            "DEBUG:cmdstanpy:idx 0\n",
            "DEBUG:cmdstanpy:running CmdStan, num_threads: None\n",
            "DEBUG:cmdstanpy:CmdStan args: ['/usr/local/lib/python3.8/dist-packages/prophet/stan_model/prophet_model.bin', 'random', 'seed=87820', 'data', 'file=/tmp/tmpl9abl34v/j_5g_sj4.json', 'init=/tmp/tmpl9abl34v/o9wfews6.json', 'output', 'file=/tmp/tmpl9abl34v/prophet_modeljk2kfp5s/prophet_model-20230112201808.csv', 'method=optimize', 'algorithm=newton', 'iter=10000']\n",
            "20:18:08 - cmdstanpy - INFO - Chain [1] start processing\n",
            "INFO:cmdstanpy:Chain [1] start processing\n",
            "20:18:08 - cmdstanpy - INFO - Chain [1] done processing\n",
            "INFO:cmdstanpy:Chain [1] done processing\n"
          ]
        },
        {
          "output_type": "stream",
          "name": "stdout",
          "text": [
            "53 - FBProphet with avg smape 0.68: \n",
            "Model Number: 54 of 156 with model MultivariateRegression for Validation 3\n",
            "54 - MultivariateRegression with avg smape 2.36: \n",
            "Model Number: 55 of 156 with model ARIMA for Validation 3\n"
          ]
        },
        {
          "output_type": "stream",
          "name": "stderr",
          "text": [
            "INFO:prophet:Disabling yearly seasonality. Run prophet with yearly_seasonality=True to override this.\n",
            "INFO:prophet:Disabling weekly seasonality. Run prophet with weekly_seasonality=True to override this.\n",
            "INFO:prophet:Disabling daily seasonality. Run prophet with daily_seasonality=True to override this.\n",
            "INFO:prophet:n_changepoints greater than number of observations. Using 7.\n",
            "DEBUG:cmdstanpy:input tempfile: /tmp/tmpl9abl34v/1k19jobs.json\n",
            "DEBUG:cmdstanpy:input tempfile: /tmp/tmpl9abl34v/t0hh5vdc.json\n",
            "DEBUG:cmdstanpy:idx 0\n",
            "DEBUG:cmdstanpy:running CmdStan, num_threads: None\n",
            "DEBUG:cmdstanpy:CmdStan args: ['/usr/local/lib/python3.8/dist-packages/prophet/stan_model/prophet_model.bin', 'random', 'seed=26461', 'data', 'file=/tmp/tmpl9abl34v/1k19jobs.json', 'init=/tmp/tmpl9abl34v/t0hh5vdc.json', 'output', 'file=/tmp/tmpl9abl34v/prophet_modelv046amz_/prophet_model-20230112201809.csv', 'method=optimize', 'algorithm=newton', 'iter=10000']\n",
            "20:18:09 - cmdstanpy - INFO - Chain [1] start processing\n",
            "INFO:cmdstanpy:Chain [1] start processing\n",
            "20:18:10 - cmdstanpy - INFO - Chain [1] done processing\n",
            "INFO:cmdstanpy:Chain [1] done processing\n"
          ]
        },
        {
          "output_type": "stream",
          "name": "stdout",
          "text": [
            "55 - ARIMA with avg smape 0.77: \n",
            "Model Number: 56 of 156 with model FBProphet for Validation 3\n",
            "56 - FBProphet with avg smape 2.36: \n",
            "Model Number: 57 of 156 with model LastValueNaive for Validation 3\n"
          ]
        },
        {
          "output_type": "stream",
          "name": "stderr",
          "text": [
            "INFO:prophet:Disabling yearly seasonality. Run prophet with yearly_seasonality=True to override this.\n",
            "INFO:prophet:Disabling weekly seasonality. Run prophet with weekly_seasonality=True to override this.\n",
            "INFO:prophet:Disabling daily seasonality. Run prophet with daily_seasonality=True to override this.\n",
            "INFO:prophet:n_changepoints greater than number of observations. Using 9.\n",
            "DEBUG:cmdstanpy:input tempfile: /tmp/tmpl9abl34v/lj9x5q5g.json\n",
            "DEBUG:cmdstanpy:input tempfile: /tmp/tmpl9abl34v/q_gnc0sa.json\n",
            "DEBUG:cmdstanpy:idx 0\n",
            "DEBUG:cmdstanpy:running CmdStan, num_threads: None\n",
            "DEBUG:cmdstanpy:CmdStan args: ['/usr/local/lib/python3.8/dist-packages/prophet/stan_model/prophet_model.bin', 'random', 'seed=55167', 'data', 'file=/tmp/tmpl9abl34v/lj9x5q5g.json', 'init=/tmp/tmpl9abl34v/q_gnc0sa.json', 'output', 'file=/tmp/tmpl9abl34v/prophet_model9ajmch4h/prophet_model-20230112201810.csv', 'method=optimize', 'algorithm=newton', 'iter=10000']\n",
            "20:18:10 - cmdstanpy - INFO - Chain [1] start processing\n",
            "INFO:cmdstanpy:Chain [1] start processing\n"
          ]
        },
        {
          "output_type": "stream",
          "name": "stdout",
          "text": [
            "57 - LastValueNaive with avg smape 0.78: \n",
            "Model Number: 58 of 156 with model FBProphet for Validation 3\n"
          ]
        },
        {
          "output_type": "stream",
          "name": "stderr",
          "text": [
            "20:18:10 - cmdstanpy - INFO - Chain [1] done processing\n",
            "INFO:cmdstanpy:Chain [1] done processing\n"
          ]
        },
        {
          "output_type": "stream",
          "name": "stdout",
          "text": [
            "58 - FBProphet with avg smape 2.15: \n",
            "Model Number: 59 of 156 with model UnobservedComponents for Validation 3\n",
            "59 - UnobservedComponents with avg smape 2.38: \n",
            "Model Number: 60 of 156 with model DatepartRegression for Validation 3\n",
            "60 - DatepartRegression with avg smape 1.08: \n",
            "Model Number: 61 of 156 with model AverageValueNaive for Validation 3\n",
            "61 - AverageValueNaive with avg smape 2.24: \n",
            "Model Number: 62 of 156 with model AverageValueNaive for Validation 3\n",
            "62 - AverageValueNaive with avg smape 2.26: \n",
            "Model Number: 63 of 156 with model AverageValueNaive for Validation 3\n",
            "63 - AverageValueNaive with avg smape 2.26: \n",
            "Model Number: 64 of 156 with model AverageValueNaive for Validation 3\n",
            "64 - AverageValueNaive with avg smape 2.26: \n",
            "Model Number: 65 of 156 with model FBProphet for Validation 3\n"
          ]
        },
        {
          "output_type": "stream",
          "name": "stderr",
          "text": [
            "INFO:prophet:Disabling yearly seasonality. Run prophet with yearly_seasonality=True to override this.\n",
            "INFO:prophet:Disabling weekly seasonality. Run prophet with weekly_seasonality=True to override this.\n",
            "INFO:prophet:Disabling daily seasonality. Run prophet with daily_seasonality=True to override this.\n",
            "INFO:prophet:n_changepoints greater than number of observations. Using 7.\n",
            "DEBUG:cmdstanpy:input tempfile: /tmp/tmpl9abl34v/8ekb7qgh.json\n",
            "DEBUG:cmdstanpy:input tempfile: /tmp/tmpl9abl34v/1_zau73c.json\n",
            "DEBUG:cmdstanpy:idx 0\n",
            "DEBUG:cmdstanpy:running CmdStan, num_threads: None\n",
            "DEBUG:cmdstanpy:CmdStan args: ['/usr/local/lib/python3.8/dist-packages/prophet/stan_model/prophet_model.bin', 'random', 'seed=77530', 'data', 'file=/tmp/tmpl9abl34v/8ekb7qgh.json', 'init=/tmp/tmpl9abl34v/1_zau73c.json', 'output', 'file=/tmp/tmpl9abl34v/prophet_modelxvsqcl3t/prophet_model-20230112201811.csv', 'method=optimize', 'algorithm=newton', 'iter=10000']\n",
            "20:18:11 - cmdstanpy - INFO - Chain [1] start processing\n",
            "INFO:cmdstanpy:Chain [1] start processing\n",
            "20:18:11 - cmdstanpy - INFO - Chain [1] done processing\n",
            "INFO:cmdstanpy:Chain [1] done processing\n"
          ]
        },
        {
          "output_type": "stream",
          "name": "stdout",
          "text": [
            "65 - FBProphet with avg smape 0.96: \n",
            "Model Number: 66 of 156 with model AverageValueNaive for Validation 3\n",
            "66 - AverageValueNaive with avg smape 2.19: \n",
            "Model Number: 67 of 156 with model AverageValueNaive for Validation 3\n",
            "67 - AverageValueNaive with avg smape 2.19: \n",
            "Model Number: 68 of 156 with model AverageValueNaive for Validation 3\n",
            "68 - AverageValueNaive with avg smape 2.19: \n",
            "Model Number: 69 of 156 with model WindowRegression for Validation 3\n",
            "69 - WindowRegression with avg smape 2.1: \n",
            "Model Number: 70 of 156 with model ARIMA for Validation 3\n",
            "70 - ARIMA with avg smape 2.47: \n",
            "Model Number: 71 of 156 with model MultivariateRegression for Validation 3\n",
            "71 - MultivariateRegression with avg smape 1.48: \n",
            "Model Number: 72 of 156 with model GLM for Validation 3\n",
            "72 - GLM with avg smape 0.39: \n",
            "Model Number: 73 of 156 with model GLM for Validation 3\n",
            "73 - GLM with avg smape 2.12: \n",
            "Model Number: 74 of 156 with model AverageValueNaive for Validation 3\n",
            "74 - AverageValueNaive with avg smape 2.13: \n",
            "Model Number: 75 of 156 with model SeasonalNaive for Validation 3\n",
            "75 - SeasonalNaive with avg smape 2.13: \n",
            "Model Number: 76 of 156 with model ConstantNaive for Validation 3\n",
            "76 - ConstantNaive with avg smape 2.12: \n",
            "Model Number: 77 of 156 with model ConstantNaive for Validation 3\n"
          ]
        },
        {
          "output_type": "stream",
          "name": "stderr",
          "text": [
            "/usr/local/lib/python3.8/dist-packages/statsmodels/genmod/families/links.py:188: RuntimeWarning:\n",
            "\n",
            "overflow encountered in exp\n",
            "\n",
            "/usr/local/lib/python3.8/dist-packages/statsmodels/genmod/families/links.py:188: RuntimeWarning:\n",
            "\n",
            "overflow encountered in exp\n",
            "\n"
          ]
        },
        {
          "output_type": "stream",
          "name": "stdout",
          "text": [
            "77 - ConstantNaive with avg smape 2.12: \n",
            "Model Number: 78 of 156 with model ARIMA for Validation 3\n",
            "78 - ARIMA with avg smape 0.38: \n",
            "Model Number: 79 of 156 with model ConstantNaive for Validation 3\n",
            "79 - ConstantNaive with avg smape 2.13: \n",
            "Model Number: 80 of 156 with model MultivariateRegression for Validation 3\n",
            "80 - MultivariateRegression with avg smape 2.63: \n",
            "Model Number: 81 of 156 with model ARIMA for Validation 3\n"
          ]
        },
        {
          "output_type": "stream",
          "name": "stderr",
          "text": [
            "INFO:prophet:Disabling yearly seasonality. Run prophet with yearly_seasonality=True to override this.\n",
            "INFO:prophet:Disabling weekly seasonality. Run prophet with weekly_seasonality=True to override this.\n",
            "INFO:prophet:Disabling daily seasonality. Run prophet with daily_seasonality=True to override this.\n"
          ]
        },
        {
          "output_type": "stream",
          "name": "stdout",
          "text": [
            "81 - ARIMA with avg smape 0.77: \n",
            "Model Number: 82 of 156 with model FBProphet for Validation 3\n"
          ]
        },
        {
          "output_type": "stream",
          "name": "stderr",
          "text": [
            "INFO:prophet:n_changepoints greater than number of observations. Using 8.\n",
            "DEBUG:cmdstanpy:input tempfile: /tmp/tmpl9abl34v/nzwxwo5x.json\n",
            "DEBUG:cmdstanpy:input tempfile: /tmp/tmpl9abl34v/kafbi83r.json\n",
            "DEBUG:cmdstanpy:idx 0\n",
            "DEBUG:cmdstanpy:running CmdStan, num_threads: None\n",
            "DEBUG:cmdstanpy:CmdStan args: ['/usr/local/lib/python3.8/dist-packages/prophet/stan_model/prophet_model.bin', 'random', 'seed=50260', 'data', 'file=/tmp/tmpl9abl34v/nzwxwo5x.json', 'init=/tmp/tmpl9abl34v/kafbi83r.json', 'output', 'file=/tmp/tmpl9abl34v/prophet_modelzq3inenp/prophet_model-20230112201820.csv', 'method=optimize', 'algorithm=newton', 'iter=10000']\n",
            "20:18:20 - cmdstanpy - INFO - Chain [1] start processing\n",
            "INFO:cmdstanpy:Chain [1] start processing\n",
            "20:18:20 - cmdstanpy - INFO - Chain [1] done processing\n",
            "INFO:cmdstanpy:Chain [1] done processing\n"
          ]
        },
        {
          "output_type": "stream",
          "name": "stdout",
          "text": [
            "82 - FBProphet with avg smape 0.47: \n",
            "Model Number: 83 of 156 with model WindowRegression for Validation 3\n",
            "83 - WindowRegression with avg smape 0.17: \n",
            "Model Number: 84 of 156 with model MultivariateRegression for Validation 3\n",
            "84 - MultivariateRegression with avg smape 3.33: \n",
            "Model Number: 85 of 156 with model WindowRegression for Validation 3\n",
            "85 - WindowRegression with avg smape 0.24: \n",
            "Model Number: 86 of 156 with model GLM for Validation 3\n"
          ]
        },
        {
          "output_type": "stream",
          "name": "stderr",
          "text": [
            "/usr/local/lib/python3.8/dist-packages/statsmodels/genmod/generalized_linear_model.py:798: RuntimeWarning:\n",
            "\n",
            "divide by zero encountered in double_scalars\n",
            "\n",
            "INFO:prophet:Disabling yearly seasonality. Run prophet with yearly_seasonality=True to override this.\n",
            "INFO:prophet:Disabling weekly seasonality. Run prophet with weekly_seasonality=True to override this.\n",
            "INFO:prophet:Disabling daily seasonality. Run prophet with daily_seasonality=True to override this.\n"
          ]
        },
        {
          "output_type": "stream",
          "name": "stdout",
          "text": [
            "86 - GLM with avg smape 0.78: \n",
            "Model Number: 87 of 156 with model FBProphet for Validation 3\n"
          ]
        },
        {
          "output_type": "stream",
          "name": "stderr",
          "text": [
            "INFO:prophet:n_changepoints greater than number of observations. Using 7.\n",
            "DEBUG:cmdstanpy:input tempfile: /tmp/tmpl9abl34v/81q0wzwb.json\n",
            "DEBUG:cmdstanpy:input tempfile: /tmp/tmpl9abl34v/13ylzzvx.json\n",
            "DEBUG:cmdstanpy:idx 0\n",
            "DEBUG:cmdstanpy:running CmdStan, num_threads: None\n",
            "DEBUG:cmdstanpy:CmdStan args: ['/usr/local/lib/python3.8/dist-packages/prophet/stan_model/prophet_model.bin', 'random', 'seed=35782', 'data', 'file=/tmp/tmpl9abl34v/81q0wzwb.json', 'init=/tmp/tmpl9abl34v/13ylzzvx.json', 'output', 'file=/tmp/tmpl9abl34v/prophet_modelofsy4f2o/prophet_model-20230112201820.csv', 'method=optimize', 'algorithm=newton', 'iter=10000']\n",
            "20:18:20 - cmdstanpy - INFO - Chain [1] start processing\n",
            "INFO:cmdstanpy:Chain [1] start processing\n",
            "20:18:21 - cmdstanpy - INFO - Chain [1] done processing\n",
            "INFO:cmdstanpy:Chain [1] done processing\n"
          ]
        },
        {
          "output_type": "stream",
          "name": "stdout",
          "text": [
            "87 - FBProphet with avg smape 0.78: \n",
            "Model Number: 88 of 156 with model LastValueNaive for Validation 3\n",
            "88 - LastValueNaive with avg smape 0.78: \n",
            "Model Number: 89 of 156 with model LastValueNaive for Validation 3\n"
          ]
        },
        {
          "output_type": "stream",
          "name": "stderr",
          "text": [
            "INFO:prophet:Disabling yearly seasonality. Run prophet with yearly_seasonality=True to override this.\n",
            "INFO:prophet:Disabling weekly seasonality. Run prophet with weekly_seasonality=True to override this.\n",
            "INFO:prophet:Disabling daily seasonality. Run prophet with daily_seasonality=True to override this.\n",
            "INFO:prophet:n_changepoints greater than number of observations. Using 3.\n",
            "DEBUG:cmdstanpy:input tempfile: /tmp/tmpl9abl34v/voj0goj3.json\n",
            "DEBUG:cmdstanpy:input tempfile: /tmp/tmpl9abl34v/zkxqqo9z.json\n",
            "DEBUG:cmdstanpy:idx 0\n",
            "DEBUG:cmdstanpy:running CmdStan, num_threads: None\n",
            "DEBUG:cmdstanpy:CmdStan args: ['/usr/local/lib/python3.8/dist-packages/prophet/stan_model/prophet_model.bin', 'random', 'seed=160', 'data', 'file=/tmp/tmpl9abl34v/voj0goj3.json', 'init=/tmp/tmpl9abl34v/zkxqqo9z.json', 'output', 'file=/tmp/tmpl9abl34v/prophet_modeliw53o4se/prophet_model-20230112201821.csv', 'method=optimize', 'algorithm=newton', 'iter=10000']\n",
            "20:18:21 - cmdstanpy - INFO - Chain [1] start processing\n",
            "INFO:cmdstanpy:Chain [1] start processing\n"
          ]
        },
        {
          "output_type": "stream",
          "name": "stdout",
          "text": [
            "89 - LastValueNaive with avg smape 0.78: \n",
            "Model Number: 90 of 156 with model FBProphet for Validation 3\n"
          ]
        },
        {
          "output_type": "stream",
          "name": "stderr",
          "text": [
            "20:18:24 - cmdstanpy - INFO - Chain [1] done processing\n",
            "INFO:cmdstanpy:Chain [1] done processing\n",
            "INFO:prophet:Disabling yearly seasonality. Run prophet with yearly_seasonality=True to override this.\n",
            "INFO:prophet:Disabling weekly seasonality. Run prophet with weekly_seasonality=True to override this.\n",
            "INFO:prophet:Disabling daily seasonality. Run prophet with daily_seasonality=True to override this.\n",
            "INFO:prophet:n_changepoints greater than number of observations. Using 3.\n",
            "DEBUG:cmdstanpy:input tempfile: /tmp/tmpl9abl34v/k6iukd2f.json\n",
            "DEBUG:cmdstanpy:input tempfile: /tmp/tmpl9abl34v/mb72uqo8.json\n",
            "DEBUG:cmdstanpy:idx 0\n",
            "DEBUG:cmdstanpy:running CmdStan, num_threads: None\n",
            "DEBUG:cmdstanpy:CmdStan args: ['/usr/local/lib/python3.8/dist-packages/prophet/stan_model/prophet_model.bin', 'random', 'seed=75344', 'data', 'file=/tmp/tmpl9abl34v/k6iukd2f.json', 'init=/tmp/tmpl9abl34v/mb72uqo8.json', 'output', 'file=/tmp/tmpl9abl34v/prophet_modelkfif7x2h/prophet_model-20230112201825.csv', 'method=optimize', 'algorithm=newton', 'iter=10000']\n",
            "20:18:25 - cmdstanpy - INFO - Chain [1] start processing\n",
            "INFO:cmdstanpy:Chain [1] start processing\n"
          ]
        },
        {
          "output_type": "stream",
          "name": "stdout",
          "text": [
            "90 - FBProphet with avg smape 0.78: \n",
            "Model Number: 91 of 156 with model FBProphet for Validation 3\n"
          ]
        },
        {
          "output_type": "stream",
          "name": "stderr",
          "text": [
            "20:18:27 - cmdstanpy - INFO - Chain [1] done processing\n",
            "INFO:cmdstanpy:Chain [1] done processing\n"
          ]
        },
        {
          "output_type": "stream",
          "name": "stdout",
          "text": [
            "91 - FBProphet with avg smape 0.78: \n",
            "Model Number: 92 of 156 with model LastValueNaive for Validation 3\n",
            "92 - LastValueNaive with avg smape 0.78: \n",
            "Model Number: 93 of 156 with model LastValueNaive for Validation 3\n",
            "No anomalies detected.\n",
            "93 - LastValueNaive with avg smape 0.78: \n",
            "Model Number: 94 of 156 with model GLM for Validation 3\n",
            "No anomalies detected.\n"
          ]
        },
        {
          "output_type": "stream",
          "name": "stderr",
          "text": [
            "/usr/local/lib/python3.8/dist-packages/sklearn/linear_model/_ridge.py:194: LinAlgWarning:\n",
            "\n",
            "Ill-conditioned matrix (rcond=1.97949e-18): result may not be accurate.\n",
            "\n",
            "/usr/local/lib/python3.8/dist-packages/statsmodels/genmod/generalized_linear_model.py:798: RuntimeWarning:\n",
            "\n",
            "divide by zero encountered in double_scalars\n",
            "\n"
          ]
        },
        {
          "output_type": "stream",
          "name": "stdout",
          "text": [
            "94 - GLM with avg smape 0.78: \n",
            "Model Number: 95 of 156 with model ConstantNaive for Validation 3\n",
            "95 - ConstantNaive with avg smape 0.78: \n",
            "Model Number: 96 of 156 with model SeasonalNaive for Validation 3\n",
            "96 - SeasonalNaive with avg smape 0.8: \n",
            "Model Number: 97 of 156 with model ConstantNaive for Validation 3\n",
            "97 - ConstantNaive with avg smape 0.78: \n",
            "Model Number: 98 of 156 with model SeasonalNaive for Validation 3\n",
            "98 - SeasonalNaive with avg smape 0.8: \n",
            "Model Number: 99 of 156 with model GLM for Validation 3\n",
            "No anomalies detected.\n",
            "99 - GLM with avg smape 0.78: \n",
            "Model Number: 100 of 156 with model AverageValueNaive for Validation 3\n",
            "100 - AverageValueNaive with avg smape 0.78: \n",
            "Model Number: 101 of 156 with model GLM for Validation 3\n",
            "101 - GLM with avg smape 0.78: \n",
            "Model Number: 102 of 156 with model GLM for Validation 3\n",
            "102 - GLM with avg smape 0.78: \n",
            "Model Number: 103 of 156 with model SeasonalNaive for Validation 3\n",
            "103 - SeasonalNaive with avg smape 0.49: \n",
            "Model Number: 104 of 156 with model GLS for Validation 3\n",
            "104 - GLS with avg smape 0.76: \n",
            "Model Number: 105 of 156 with model ConstantNaive for Validation 3\n",
            "105 - ConstantNaive with avg smape 0.22: \n",
            "Model Number: 106 of 156 with model ETS for Validation 3\n",
            "106 - ETS with avg smape 0.33: \n",
            "Model Number: 107 of 156 with model GLM for Validation 3\n",
            "Template Eval Error: ValueError('The first guess on the deviance function returned a nan.  This could be a boundary  problem and should be reported.') in model 107: GLM\n",
            "Model Number: 108 of 156 with model ETS for Validation 3\n",
            "ETS failed on Close with ValueError('operands could not be broadcast together with shapes (4,) (7,) ')\n",
            "108 - ETS with avg smape 3.23: \n",
            "Model Number: 109 of 156 with model WindowRegression for Validation 3\n",
            "109 - WindowRegression with avg smape 1.44: \n",
            "Model Number: 110 of 156 with model SeasonalNaive for Validation 3\n",
            "110 - SeasonalNaive with avg smape 0.26: \n",
            "Model Number: 111 of 156 with model UnivariateMotif for Validation 3\n"
          ]
        },
        {
          "output_type": "stream",
          "name": "stderr",
          "text": [
            "/usr/local/lib/python3.8/dist-packages/statsmodels/genmod/families/family.py:1231: RuntimeWarning:\n",
            "\n",
            "invalid value encountered in log\n",
            "\n"
          ]
        },
        {
          "output_type": "stream",
          "name": "stdout",
          "text": [
            "111 - UnivariateMotif with avg smape 0.67: \n",
            "Model Number: 112 of 156 with model DatepartRegression for Validation 3\n",
            "112 - DatepartRegression with avg smape 0.49: \n",
            "Model Number: 113 of 156 with model DatepartRegression for Validation 3\n",
            "113 - DatepartRegression with avg smape 0.64: \n",
            "Model Number: 114 of 156 with model ConstantNaive for Validation 3\n",
            "114 - ConstantNaive with avg smape 0.62: \n",
            "Model Number: 115 of 156 with model ConstantNaive for Validation 3\n"
          ]
        },
        {
          "output_type": "stream",
          "name": "stderr",
          "text": [
            "[Parallel(n_jobs=-2)]: Using backend SequentialBackend with 1 concurrent workers.\n",
            "[Parallel(n_jobs=-2)]: Done 100 out of 100 | elapsed:    0.1s finished\n",
            "[Parallel(n_jobs=1)]: Using backend SequentialBackend with 1 concurrent workers.\n",
            "[Parallel(n_jobs=1)]: Done 100 out of 100 | elapsed:    0.0s finished\n"
          ]
        },
        {
          "output_type": "stream",
          "name": "stdout",
          "text": [
            "115 - ConstantNaive with avg smape 0.62: \n",
            "Model Number: 116 of 156 with model ETS for Validation 3\n"
          ]
        },
        {
          "output_type": "stream",
          "name": "stderr",
          "text": [
            "INFO:prophet:Disabling yearly seasonality. Run prophet with yearly_seasonality=True to override this.\n",
            "INFO:prophet:Disabling weekly seasonality. Run prophet with weekly_seasonality=True to override this.\n",
            "INFO:prophet:Disabling daily seasonality. Run prophet with daily_seasonality=True to override this.\n",
            "INFO:prophet:n_changepoints greater than number of observations. Using 8.\n"
          ]
        },
        {
          "output_type": "stream",
          "name": "stdout",
          "text": [
            "116 - ETS with avg smape 0.35: \n",
            "Model Number: 117 of 156 with model FBProphet for Validation 3\n"
          ]
        },
        {
          "output_type": "stream",
          "name": "stderr",
          "text": [
            "DEBUG:cmdstanpy:input tempfile: /tmp/tmpl9abl34v/_886o74j.json\n",
            "DEBUG:cmdstanpy:input tempfile: /tmp/tmpl9abl34v/hehkhz1q.json\n",
            "DEBUG:cmdstanpy:idx 0\n",
            "DEBUG:cmdstanpy:running CmdStan, num_threads: None\n",
            "DEBUG:cmdstanpy:CmdStan args: ['/usr/local/lib/python3.8/dist-packages/prophet/stan_model/prophet_model.bin', 'random', 'seed=60677', 'data', 'file=/tmp/tmpl9abl34v/_886o74j.json', 'init=/tmp/tmpl9abl34v/hehkhz1q.json', 'output', 'file=/tmp/tmpl9abl34v/prophet_modelq7hukyjw/prophet_model-20230112201829.csv', 'method=optimize', 'algorithm=newton', 'iter=10000']\n",
            "20:18:29 - cmdstanpy - INFO - Chain [1] start processing\n",
            "INFO:cmdstanpy:Chain [1] start processing\n",
            "20:18:30 - cmdstanpy - INFO - Chain [1] done processing\n",
            "INFO:cmdstanpy:Chain [1] done processing\n"
          ]
        },
        {
          "output_type": "stream",
          "name": "stdout",
          "text": [
            "117 - FBProphet with avg smape 0.51: \n",
            "Model Number: 118 of 156 with model WindowRegression for Validation 3\n",
            "118 - WindowRegression with avg smape 2.44: \n",
            "Model Number: 119 of 156 with model DatepartRegression for Validation 3\n",
            "119 - DatepartRegression with avg smape 0.6: \n",
            "Model Number: 120 of 156 with model DatepartRegression for Validation 3\n",
            "120 - DatepartRegression with avg smape 0.59: \n",
            "Model Number: 121 of 156 with model WindowRegression for Validation 3\n"
          ]
        },
        {
          "output_type": "stream",
          "name": "stderr",
          "text": [
            "[Parallel(n_jobs=-2)]: Using backend SequentialBackend with 1 concurrent workers.\n",
            "[Parallel(n_jobs=-2)]: Done 100 out of 100 | elapsed:    0.1s finished\n",
            "[Parallel(n_jobs=1)]: Using backend SequentialBackend with 1 concurrent workers.\n",
            "[Parallel(n_jobs=1)]: Done 100 out of 100 | elapsed:    0.0s finished\n"
          ]
        },
        {
          "output_type": "stream",
          "name": "stdout",
          "text": [
            "121 - WindowRegression with avg smape 3.66: \n",
            "Model Number: 122 of 156 with model WindowRegression for Validation 3\n",
            "122 - WindowRegression with avg smape 3.66: \n",
            "Model Number: 123 of 156 with model WindowRegression for Validation 3\n",
            "123 - WindowRegression with avg smape 3.66: \n",
            "Model Number: 124 of 156 with model GLS for Validation 3\n",
            "124 - GLS with avg smape 0.46: \n",
            "Model Number: 125 of 156 with model GLS for Validation 3\n",
            "125 - GLS with avg smape 0.46: \n",
            "Model Number: 126 of 156 with model DatepartRegression for Validation 3\n",
            "126 - DatepartRegression with avg smape 0.46: \n",
            "Model Number: 127 of 156 with model GLS for Validation 3\n",
            "127 - GLS with avg smape 0.9: \n",
            "Model Number: 128 of 156 with model GLS for Validation 3\n"
          ]
        },
        {
          "output_type": "stream",
          "name": "stderr",
          "text": [
            "[Parallel(n_jobs=-2)]: Using backend SequentialBackend with 1 concurrent workers.\n",
            "[Parallel(n_jobs=-2)]: Done 100 out of 100 | elapsed:    0.1s finished\n",
            "[Parallel(n_jobs=1)]: Using backend SequentialBackend with 1 concurrent workers.\n",
            "[Parallel(n_jobs=1)]: Done 100 out of 100 | elapsed:    0.0s finished\n",
            "/usr/local/lib/python3.8/dist-packages/autots/tools/probabilistic.py:67: RuntimeWarning:\n",
            "\n",
            "invalid value encountered in true_divide\n",
            "\n",
            "/usr/local/lib/python3.8/dist-packages/autots/tools/probabilistic.py:68: RuntimeWarning:\n",
            "\n",
            "divide by zero encountered in true_divide\n",
            "\n"
          ]
        },
        {
          "output_type": "stream",
          "name": "stdout",
          "text": [
            "128 - GLS with avg smape 0.57: \n",
            "Model Number: 129 of 156 with model GLS for Validation 3\n",
            "129 - GLS with avg smape 0.57: \n",
            "Model Number: 130 of 156 with model ConstantNaive for Validation 3\n",
            "130 - ConstantNaive with avg smape 1.58: \n",
            "Model Number: 131 of 156 with model SeasonalNaive for Validation 3\n",
            "131 - SeasonalNaive with avg smape 0.32: \n",
            "Model Number: 132 of 156 with model ETS for Validation 3\n",
            "132 - ETS with avg smape 0.57: \n",
            "Model Number: 133 of 156 with model SeasonalNaive for Validation 3\n",
            "133 - SeasonalNaive with avg smape 0.3: \n",
            "Model Number: 134 of 156 with model ETS for Validation 3\n",
            "134 - ETS with avg smape 0.72: \n",
            "Model Number: 135 of 156 with model ETS for Validation 3\n",
            "135 - ETS with avg smape 0.72: \n",
            "Model Number: 136 of 156 with model ETS for Validation 3\n",
            "136 - ETS with avg smape 0.72: \n",
            "Model Number: 137 of 156 with model ETS for Validation 3\n",
            "137 - ETS with avg smape 0.72: \n",
            "Model Number: 138 of 156 with model UnivariateMotif for Validation 3\n",
            "138 - UnivariateMotif with avg smape 0.27: \n",
            "Model Number: 139 of 156 with model DatepartRegression for Validation 3\n",
            "139 - DatepartRegression with avg smape 0.8: \n",
            "Model Number: 140 of 156 with model DatepartRegression for Validation 3\n",
            "140 - DatepartRegression with avg smape 0.81: \n",
            "Model Number: 141 of 156 with model UnivariateMotif for Validation 3\n",
            "141 - UnivariateMotif with avg smape 0.8: \n",
            "Model Number: 142 of 156 with model UnivariateMotif for Validation 3\n"
          ]
        },
        {
          "output_type": "stream",
          "name": "stderr",
          "text": [
            "[Parallel(n_jobs=-2)]: Using backend SequentialBackend with 1 concurrent workers.\n",
            "[Parallel(n_jobs=-2)]: Done 100 out of 100 | elapsed:    0.1s finished\n",
            "[Parallel(n_jobs=1)]: Using backend SequentialBackend with 1 concurrent workers.\n",
            "[Parallel(n_jobs=1)]: Done 100 out of 100 | elapsed:    0.0s finished\n"
          ]
        },
        {
          "output_type": "stream",
          "name": "stdout",
          "text": [
            "142 - UnivariateMotif with avg smape 0.8: \n",
            "Model Number: 143 of 156 with model SeasonalNaive for Validation 3\n",
            "143 - SeasonalNaive with avg smape 0.8: \n",
            "Model Number: 144 of 156 with model GLS for Validation 3\n",
            "144 - GLS with avg smape 0.8: \n",
            "Model Number: 145 of 156 with model UnivariateMotif for Validation 3\n",
            "145 - UnivariateMotif with avg smape 0.8: \n",
            "Model Number: 146 of 156 with model UnivariateMotif for Validation 3\n",
            "146 - UnivariateMotif with avg smape 0.8: \n",
            "Model Number: 147 of 156 with model GLS for Validation 3\n",
            "147 - GLS with avg smape 0.8: \n",
            "Model Number: 148 of 156 with model GLS for Validation 3\n",
            "148 - GLS with avg smape 0.8: \n",
            "Model Number: 149 of 156 with model UnivariateMotif for Validation 3\n",
            "Template Eval Error: ValueError('kth(=3) out of bounds (1)') in model 149: UnivariateMotif\n",
            "Model Number: 150 of 156 with model UnivariateMotif for Validation 3\n",
            "Template Eval Error: ValueError('kth(=3) out of bounds (1)') in model 150: UnivariateMotif\n",
            "Model Number: 151 of 156 with model UnivariateMotif for Validation 3\n",
            "151 - UnivariateMotif with avg smape 0.81: \n",
            "Model Number: 152 of 156 with model MultivariateMotif for Validation 3\n",
            "Template Eval Error: ValueError('kth(=3) out of bounds (1)') in model 152: MultivariateMotif\n",
            "Model Number: 153 of 156 with model MultivariateMotif for Validation 3\n",
            "Template Eval Error: ValueError('kth(=3) out of bounds (1)') in model 153: MultivariateMotif\n",
            "Model Number: 154 of 156 with model MultivariateMotif for Validation 3\n",
            "Template Eval Error: ValueError('kth(=3) out of bounds (1)') in model 154: MultivariateMotif\n",
            "Model Number: 155 of 156 with model MultivariateMotif for Validation 3\n",
            "Template Eval Error: ValueError('kth(=3) out of bounds (1)') in model 155: MultivariateMotif\n",
            "Model Number: 156 of 156 with model Ensemble for Validation 3\n",
            "156 - Ensemble with avg smape nan: \n",
            "                   Close\n",
            "2023-01-12  19270.690808\n"
          ]
        },
        {
          "output_type": "stream",
          "name": "stderr",
          "text": [
            "/usr/local/lib/python3.8/dist-packages/sklearn/preprocessing/_data.py:3253: RuntimeWarning:\n",
            "\n",
            "divide by zero encountered in log\n",
            "\n",
            "/usr/local/lib/python3.8/dist-packages/sklearn/preprocessing/_data.py:3196: RuntimeWarning:\n",
            "\n",
            "divide by zero encountered in power\n",
            "\n",
            "/usr/local/lib/python3.8/dist-packages/sklearn/preprocessing/_data.py:3196: RuntimeWarning:\n",
            "\n",
            "divide by zero encountered in power\n",
            "\n",
            "/usr/local/lib/python3.8/dist-packages/sklearn/preprocessing/_data.py:3196: RuntimeWarning:\n",
            "\n",
            "divide by zero encountered in power\n",
            "\n"
          ]
        }
      ]
    },
    {
      "cell_type": "code",
      "source": [
        "print(forecast)"
      ],
      "metadata": {
        "colab": {
          "base_uri": "https://localhost:8080/"
        },
        "id": "WPm9Lk13WRFB",
        "outputId": "1c99e2c9-9f18-4a96-ac93-9b5574b2b5a2"
      },
      "execution_count": null,
      "outputs": [
        {
          "output_type": "stream",
          "name": "stdout",
          "text": [
            "                   Close\n",
            "2023-01-12  19270.690808\n"
          ]
        }
      ]
    },
    {
      "cell_type": "code",
      "source": [],
      "metadata": {
        "id": "kwRei1NtWRHo"
      },
      "execution_count": null,
      "outputs": []
    }
  ]
}